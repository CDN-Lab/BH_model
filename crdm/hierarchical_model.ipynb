{
 "cells": [
  {
   "cell_type": "markdown",
   "metadata": {},
   "source": [
    "# Bayesian parameter estimation \n",
    "\n",
    "Written for CRDM task as part of the IDM dataset collected online with Mturk"
   ]
  },
  {
   "cell_type": "code",
   "execution_count": 17,
   "metadata": {},
   "outputs": [],
   "source": [
    "# Built-in/Generic Imports\n",
    "import os,sys\n",
    "import glob\n",
    "import time\n",
    "\n",
    "# Libs\n",
    "import numpy as np\n",
    "import pandas as pd\n",
    "import pymc as pm\n",
    "import arviz as az\n",
    "import matplotlib.pyplot as plt\n",
    "import pickle\n",
    "\n",
    "import logging\n",
    "logger = logging.getLogger(\"pymc\")\n",
    "logger.setLevel(logging.ERROR)\n"
   ]
  },
  {
   "cell_type": "code",
   "execution_count": 18,
   "metadata": {},
   "outputs": [],
   "source": [
    "# getting the name of the directory\n",
    "# where the this file is present.\n",
    "# current = os.path.dirname(os.path.realpath(__file__))\n",
    "current = os.path.dirname(os.getcwd())\n",
    " \n",
    "# Getting the parent directory name\n",
    "# where the current directory is present.\n",
    "# parent = os.path.dirname(os.path.dirname(current))\n",
    "# parent = current\n",
    "parent = '/Users/pizarror/IDM'\n",
    "# print(parent)\n",
    "#/Users/pizarror/IDM\n",
    "\n",
    "# adding the parent directory to\n",
    "# the sys.path.\n",
    "sys.path.append(parent)\n",
    "\n",
    "from IDM_model.src import model_functions as mf\n"
   ]
  },
  {
   "cell_type": "code",
   "execution_count": 19,
   "metadata": {},
   "outputs": [],
   "source": [
    "def read_load_data(subject='23_IDM_0144',fn='/tmp',domain='gain',cols=[]):\n",
    "    crdm_df = pd.read_csv(fn)\n",
    "    task='crdm'\n",
    "    if ('loss' in domain) or ('combined' in domain):\n",
    "        if 'loss' not in crdm_df['crdm_domain'].dropna().unique():\n",
    "            return []\n",
    "\n",
    "    crdm_df = mf.get_by_domain(crdm_df,domain=domain,task=task,verbose=False)\n",
    "    crdm_df = mf.drop_pract(crdm_df,task=task)\n",
    "    crdm_df,response_rate = mf.drop_non_responses(crdm_df,task=task,verbose=False) \n",
    "    data = mf.get_data(crdm_df,cols,task='crdm')[0]\n",
    "    data['subject'] = subject\n",
    "    return data \n",
    "\n",
    "def diganostic_plots(trace,experiment='experiment',utility_dir='/tmp/',subject='23_IDM_0001',task='crdm',coords={},var_names=['alpha','beta','gamma'],figsize=(10,10)):\n",
    "\n",
    "    bh_dir = os.path.join(utility_dir,subject,task,'bh')\n",
    "    if not os.path.exists(bh_dir):\n",
    "        os.makedirs(bh_dir)\n",
    "    print('Saving diagnostic plots to bh_dir : {}'.format(bh_dir))\n",
    "\n",
    "    title_dict = {'fontsize':15}\n",
    "\n",
    "    # 2by2 : rows 2 varialbes, cols 2 for distribution and sampled values\n",
    "    axes = az.plot_trace(trace, var_names=var_names,coords=coords,compact=False)\n",
    "    for r in range(axes.shape[0]):\n",
    "        for c in range(axes.shape[1]):\n",
    "            axes[r,c].set_title('{}: {}'.format(subject,var_names[r]))\n",
    "    plt.tight_layout()\n",
    "    fig_fn = os.path.join(bh_dir,'{}_{}_trace_plot.{}.eps'.format(subject,task,experiment))\n",
    "    plt.savefig(fig_fn,format='eps')\n",
    "    plt.close()\n",
    "    \n",
    "    axes = az.plot_pair(trace,kind='kde', coords=coords,var_names=var_names,marginals=True)\n",
    "    axes[0,0].set_title(subject,fontdict=title_dict)\n",
    "    axes[1,0].set_ylabel(var_names[1])\n",
    "    axes[1,0].set_xlabel(var_names[0])\n",
    "    plt.tight_layout()\n",
    "    fig_fn = os.path.join(bh_dir,'{}_{}_bivariate_densities.{}.eps'.format(subject,task,experiment))\n",
    "    plt.savefig(fig_fn,format='eps')\n",
    "    plt.close()\n",
    "    \n",
    "    axes = az.plot_posterior(trace,var_names=var_names,coords=coords)\n",
    "    # print(axes.shape)\n",
    "    for c in range(axes.shape[0]):\n",
    "        axes[c].set_title('{}: {}'.format(subject,var_names[c]),fontdict=title_dict)\n",
    "    fig_fn = os.path.join(bh_dir,'{}_{}_posterior.{}.eps'.format(subject,task,experiment))\n",
    "    plt.savefig(fig_fn,format='eps')\n",
    "    plt.close()\n",
    "\n",
    "    fig, axes = plt.subplots(1,len(var_names), figsize=figsize)\n",
    "    az.plot_rank(trace,var_names=var_names,coords=coords,ax=axes)\n",
    "    for c in range(axes.shape[0]):\n",
    "        axes[c].set_title('{}: {}'.format(subject,var_names[c]),fontdict=title_dict)\n",
    "    fig.tight_layout()\n",
    "    fig_fn = os.path.join(bh_dir,'{}_{}_rank_plot_bars.{}.eps'.format(subject,task,experiment))\n",
    "    plt.savefig(fig_fn,format='eps')\n",
    "    plt.close()\n",
    "\n",
    "    fig, axes = plt.subplots(1,len(var_names), figsize=figsize)\n",
    "    axes = az.plot_rank(trace,var_names=var_names, coords=coords,kind=\"vlines\",vlines_kwargs={'lw':0}, marker_vlines_kwargs={'lw':3},ax=axes)\n",
    "    for c in range(axes.shape[0]):\n",
    "        axes[c].set_title('{}: {}'.format(subject,var_names[c]),fontdict=title_dict)\n",
    "    fig.tight_layout()\n",
    "    fig_fn = os.path.join(bh_dir,'{}_{}_rank_plot_lines.{}.eps'.format(subject,task,experiment))\n",
    "    plt.savefig(fig_fn,format='eps')\n",
    "    plt.close()\n",
    "\n",
    "\n"
   ]
  },
  {
   "attachments": {},
   "cell_type": "markdown",
   "metadata": {},
   "source": [
    "## Bayesian Hierarchical Model (BHM)\n",
    "\n",
    "We pooled all data together and ran simple BH model in complete_pool_as_prior.\n",
    "\n",
    "We are using complete pooling to generate priors for when we implement a higherarchical bayesian model."
   ]
  },
  {
   "attachments": {},
   "cell_type": "markdown",
   "metadata": {},
   "source": [
    "### Load data\n",
    "\n",
    "We will load the data from all participants so we can run the modeling schema"
   ]
  },
  {
   "cell_type": "code",
   "execution_count": 20,
   "metadata": {},
   "outputs": [],
   "source": [
    "def dirs_and_data(root_dir='/tmp',dataset='IDM',domain='gain'):\n",
    "\n",
    "    dataset_dir = os.path.join(root_dir,dataset)\n",
    "    split_dir = os.path.join(dataset_dir,'split')\n",
    "    utility_dir = os.path.join(dataset_dir,'utility')\n",
    "    save_dir = os.path.join(utility_dir,'BHM/crdm/')\n",
    "    if not os.path.exists(save_dir):\n",
    "        os.makedirs(save_dir)\n",
    "\n",
    "    # Takes about 10 seconds for 149 subjects form Mturk data\n",
    "    task = 'crdm'\n",
    "    subjs = sorted(glob.glob(os.path.join(split_dir,'*')))\n",
    "    cols = ['crdm_choice','crdm_sure_p','crdm_lott_p','crdm_sure_amt','crdm_lott_amt','crdm_amb_lev']\n",
    "    data = pd.DataFrame(columns=['subject']+cols)\n",
    "    subj_id = 0\n",
    "    for s in subjs:\n",
    "        subject = os.path.basename(s)\n",
    "        fn  = os.path.join(s,task,'{}_{}.csv'.format(os.path.basename(s),task))\n",
    "        if os.path.exists(fn):\n",
    "            subj_data = read_load_data(subject=subject,fn=fn,domain=domain,cols=cols)\n",
    "            if subj_data.empty:\n",
    "                continue\n",
    "            for c in cols:\n",
    "                subj_data[c] = subj_data[c].astype(float)        \n",
    "            subj_data['subject_id'] = int(subj_id)\n",
    "            subj_id = subj_id+1\n",
    "            data = pd.concat([data,subj_data],ignore_index=True)\n",
    "\n",
    "    return utility_dir,save_dir,data\n"
   ]
  },
  {
   "cell_type": "code",
   "execution_count": 21,
   "metadata": {},
   "outputs": [],
   "source": [
    "def extract_cols(data):\n",
    "    subjects = data['subject'].unique()\n",
    "    # nb_subj = subjects.shape[0]\n",
    "    # nb_trials = data.shape[0]//nb_subj\n",
    "    subj_id_list = data['subject_id'].to_list()\n",
    "    subj_id = [int(s) for s in subj_id_list]\n",
    "    # old_id = np.array([ [s]*nb_trials for s in range(nb_subj) ]).flatten()\n",
    "\n",
    "    sure_p = data['crdm_sure_p'].values\n",
    "    lott_p = data['crdm_lott_p'].values\n",
    "    sure_amt = data['crdm_sure_amt'].values\n",
    "    lott_amt = data['crdm_lott_amt'].values\n",
    "    ambig = data['crdm_amb_lev'].values\n",
    "    choices = data['crdm_choice'].values\n",
    "    \n",
    "    return subjects,subj_id,sure_p,lott_p,sure_amt,lott_amt,ambig,choices\n"
   ]
  },
  {
   "cell_type": "markdown",
   "metadata": {},
   "source": [
    "### Bayesian Hierarchical Model\n",
    "\n",
    "Developed under parameter receovery\n"
   ]
  },
  {
   "cell_type": "code",
   "execution_count": 22,
   "metadata": {},
   "outputs": [],
   "source": [
    "def run_BHM(save_dir,experiment,domain,data):\n",
    "    \n",
    "    subjects,subj_id,sure_p,lott_p,sure_amt,lott_amt,ambig,choices = extract_cols(data)\n",
    "\n",
    "    tStep1 = time.time()\n",
    "\n",
    "    # We will fit a model for each subject\n",
    "    with pm.Model() as model_simple:\n",
    "\n",
    "        # Hyperparameters for alpha, beta\n",
    "        mu_alpha_hyper = pm.Normal('mu_alpha_hyper',mu=-0.635,sigma=0.05)\n",
    "        sd_alpha_hyper = pm.Normal('sd_alpha_hyper',mu=0.418,sigma=0.01)\n",
    "\n",
    "        mu_beta_hyper = pm.Normal('mu_beta_hyper',mu=0.254,sigma=0.05)\n",
    "        sd_beta_hyper = pm.Normal('sd_beta_hyper',mu=0.575,sigma=0.01)\n",
    "        \n",
    "        # mu_gamma_hyper = pm.Normal('mu_gamma_hyper',mu=3.011,sigma=0.05)\n",
    "        sd_gamma_hyper = pm.Normal('sd_gamma_hyper',mu=2.046,sigma=0.01)\n",
    "\n",
    "        alpha = pm.LogNormal('alpha',mu=mu_alpha_hyper, sigma=sd_alpha_hyper,shape=np.size(np.unique(subj_id)))\n",
    "        beta = pm.Normal('beta',mu=mu_beta_hyper,sigma=sd_beta_hyper,shape=np.size(np.unique(subj_id)))\n",
    "        gamma = pm.HalfNormal('gamma',sigma=sd_gamma_hyper,shape=np.size(np.unique(subj_id)))\n",
    "        \n",
    "        prob = pm.Deterministic('prob', 1 / (1 + pm.math.exp(-gamma[subj_id] * \n",
    "                                                                ((lott_amt**alpha[subj_id])*(lott_p-beta[subj_id]*ambig/2)\n",
    "                                                                - (sure_amt**alpha[subj_id])*sure_p)))) \n",
    "        \n",
    "        y_1 = pm.Bernoulli('y_1',p=prob,observed=choices)\n",
    "\n",
    "        trace_prior = pm.sample(100, tune=20, cores=2,target_accept=0.95,progressbar=True)\n",
    "        # trace_prior = pm.sample(10000, tune=1000, cores=5,target_accept=0.99,progressbar=True)\n",
    "\n",
    "\n",
    "    summary= az.summary(trace_prior,round_to=10)\n",
    "    fn = os.path.join(save_dir,'BHM_model_summary_{}_{}.csv'.format(experiment,domain))\n",
    "    print('Saving to : {}'.format(fn))\n",
    "    summary.to_csv(fn)\n",
    "\n",
    "    fn = os.path.join(save_dir,'BHM_model_trace_{}_{}.pkl'.format(experiment,domain))\n",
    "    print('Saving to : {}'.format(fn))\n",
    "    with open(fn,'wb') as buff:\n",
    "        pickle.dump({'trace':trace_prior},buff)\n",
    "\n",
    "    print('Time to complete {} aggregate BHM : {} minutes'.format(len(subjects),(time.time() - tStep1)/60.0))\n",
    "    return trace_prior,subjects,subj_id\n"
   ]
  },
  {
   "cell_type": "code",
   "execution_count": 23,
   "metadata": {},
   "outputs": [],
   "source": [
    "def extract_mean(fn,var_names=['alpha','beta','gamma'],subjects=[],domain='gain'):\n",
    "    nb_subjects = len(subjects)\n",
    "    df = pd.read_csv(fn,index_col=0)\n",
    "    df_bhm = pd.DataFrame([],columns=var_names)\n",
    "    df_bhm['subject'] = subjects\n",
    "    df_bhm['domain'] = domain\n",
    "    for var in var_names:\n",
    "        ind_list = ['{}[{}]'.format(var,sub_id) for sub_id in range(nb_subjects)]\n",
    "        df_bhm[var] = df.loc[df.index.isin(ind_list)]['mean'].reset_index(drop=True)\n",
    "    return df_bhm"
   ]
  },
  {
   "cell_type": "code",
   "execution_count": 24,
   "metadata": {},
   "outputs": [
    {
     "data": {
      "text/html": [
       "\n",
       "<style>\n",
       "    /* Turns off some styling */\n",
       "    progress {\n",
       "        /* gets rid of default border in Firefox and Opera. */\n",
       "        border: none;\n",
       "        /* Needs to be in here for Safari polyfill so background images work as expected. */\n",
       "        background-size: auto;\n",
       "    }\n",
       "    progress:not([value]), progress:not([value])::-webkit-progress-bar {\n",
       "        background: repeating-linear-gradient(45deg, #7e7e7e, #7e7e7e 10px, #5c5c5c 10px, #5c5c5c 20px);\n",
       "    }\n",
       "    .progress-bar-interrupted, .progress-bar-interrupted::-webkit-progress-bar {\n",
       "        background: #F44336;\n",
       "    }\n",
       "</style>\n"
      ],
      "text/plain": [
       "<IPython.core.display.HTML object>"
      ]
     },
     "metadata": {},
     "output_type": "display_data"
    },
    {
     "data": {
      "text/html": [
       "\n",
       "    <div>\n",
       "      <progress value='240' class='' max='240' style='width:300px; height:20px; vertical-align: middle;'></progress>\n",
       "      100.00% [240/240 00:06&lt;00:00 Sampling 2 chains, 0 divergences]\n",
       "    </div>\n",
       "    "
      ],
      "text/plain": [
       "<IPython.core.display.HTML object>"
      ]
     },
     "metadata": {},
     "output_type": "display_data"
    },
    {
     "name": "stderr",
     "output_type": "stream",
     "text": [
      "/Users/pizarror/opt/miniconda/envs/idm_jupy/lib/python3.9/site-packages/arviz/stats/diagnostics.py:592: RuntimeWarning: invalid value encountered in scalar divide\n",
      "  (between_chain_variance / within_chain_variance + num_samples - 1) / (num_samples)\n",
      "/Users/pizarror/opt/miniconda/envs/idm_jupy/lib/python3.9/site-packages/arviz/stats/diagnostics.py:592: RuntimeWarning: invalid value encountered in scalar divide\n",
      "  (between_chain_variance / within_chain_variance + num_samples - 1) / (num_samples)\n"
     ]
    },
    {
     "name": "stdout",
     "output_type": "stream",
     "text": [
      "Saving to : /Volumes/UCDN/datasets/SDM/utility/BHM/crdm/BHM_model_summary_v002_gain.csv\n",
      "Saving to : /Volumes/UCDN/datasets/SDM/utility/BHM/crdm/BHM_model_trace_v002_gain.pkl\n",
      "Time to complete 8 aggregate BHM : 0.20255260070165 minutes\n"
     ]
    },
    {
     "data": {
      "text/html": [
       "<div>\n",
       "<style scoped>\n",
       "    .dataframe tbody tr th:only-of-type {\n",
       "        vertical-align: middle;\n",
       "    }\n",
       "\n",
       "    .dataframe tbody tr th {\n",
       "        vertical-align: top;\n",
       "    }\n",
       "\n",
       "    .dataframe thead th {\n",
       "        text-align: right;\n",
       "    }\n",
       "</style>\n",
       "<table border=\"1\" class=\"dataframe\">\n",
       "  <thead>\n",
       "    <tr style=\"text-align: right;\">\n",
       "      <th></th>\n",
       "      <th>alpha</th>\n",
       "      <th>beta</th>\n",
       "      <th>gamma</th>\n",
       "      <th>subject</th>\n",
       "      <th>domain</th>\n",
       "    </tr>\n",
       "  </thead>\n",
       "  <tbody>\n",
       "    <tr>\n",
       "      <th>0</th>\n",
       "      <td>1.245351</td>\n",
       "      <td>0.461417</td>\n",
       "      <td>0.817485</td>\n",
       "      <td>23_SDM_0001_E</td>\n",
       "      <td>gain</td>\n",
       "    </tr>\n",
       "    <tr>\n",
       "      <th>1</th>\n",
       "      <td>0.990878</td>\n",
       "      <td>0.215019</td>\n",
       "      <td>2.986701</td>\n",
       "      <td>23_SDM_0001_N</td>\n",
       "      <td>gain</td>\n",
       "    </tr>\n",
       "    <tr>\n",
       "      <th>2</th>\n",
       "      <td>0.863644</td>\n",
       "      <td>-0.451637</td>\n",
       "      <td>0.317821</td>\n",
       "      <td>23_SDM_0002_E</td>\n",
       "      <td>gain</td>\n",
       "    </tr>\n",
       "    <tr>\n",
       "      <th>3</th>\n",
       "      <td>1.280369</td>\n",
       "      <td>0.752949</td>\n",
       "      <td>0.203359</td>\n",
       "      <td>23_SDM_0002_N</td>\n",
       "      <td>gain</td>\n",
       "    </tr>\n",
       "    <tr>\n",
       "      <th>4</th>\n",
       "      <td>0.531868</td>\n",
       "      <td>0.305211</td>\n",
       "      <td>1.784862</td>\n",
       "      <td>23_SDM_0004_E</td>\n",
       "      <td>gain</td>\n",
       "    </tr>\n",
       "    <tr>\n",
       "      <th>5</th>\n",
       "      <td>0.612486</td>\n",
       "      <td>-0.201415</td>\n",
       "      <td>2.787221</td>\n",
       "      <td>23_SDM_0004_N</td>\n",
       "      <td>gain</td>\n",
       "    </tr>\n",
       "    <tr>\n",
       "      <th>6</th>\n",
       "      <td>0.866979</td>\n",
       "      <td>0.144741</td>\n",
       "      <td>0.867043</td>\n",
       "      <td>23_SDM_0005_E</td>\n",
       "      <td>gain</td>\n",
       "    </tr>\n",
       "    <tr>\n",
       "      <th>7</th>\n",
       "      <td>0.768506</td>\n",
       "      <td>0.459516</td>\n",
       "      <td>1.692823</td>\n",
       "      <td>23_SDM_0005_N</td>\n",
       "      <td>gain</td>\n",
       "    </tr>\n",
       "  </tbody>\n",
       "</table>\n",
       "</div>"
      ],
      "text/plain": [
       "      alpha      beta     gamma        subject domain\n",
       "0  1.245351  0.461417  0.817485  23_SDM_0001_E   gain\n",
       "1  0.990878  0.215019  2.986701  23_SDM_0001_N   gain\n",
       "2  0.863644 -0.451637  0.317821  23_SDM_0002_E   gain\n",
       "3  1.280369  0.752949  0.203359  23_SDM_0002_N   gain\n",
       "4  0.531868  0.305211  1.784862  23_SDM_0004_E   gain\n",
       "5  0.612486 -0.201415  2.787221  23_SDM_0004_N   gain\n",
       "6  0.866979  0.144741  0.867043  23_SDM_0005_E   gain\n",
       "7  0.768506  0.459516  1.692823  23_SDM_0005_N   gain"
      ]
     },
     "metadata": {},
     "output_type": "display_data"
    },
    {
     "name": "stdout",
     "output_type": "stream",
     "text": [
      "Saving diagnostic plots to bh_dir : /Volumes/UCDN/datasets/SDM/utility/23_SDM_0001_E/crdm/bh\n"
     ]
    },
    {
     "name": "stderr",
     "output_type": "stream",
     "text": [
      "The PostScript backend does not support transparency; partially transparent artists will be rendered opaque.\n",
      "The PostScript backend does not support transparency; partially transparent artists will be rendered opaque.\n"
     ]
    },
    {
     "name": "stdout",
     "output_type": "stream",
     "text": [
      "Saving diagnostic plots to bh_dir : /Volumes/UCDN/datasets/SDM/utility/23_SDM_0001_N/crdm/bh\n"
     ]
    },
    {
     "name": "stderr",
     "output_type": "stream",
     "text": [
      "The PostScript backend does not support transparency; partially transparent artists will be rendered opaque.\n"
     ]
    },
    {
     "name": "stdout",
     "output_type": "stream",
     "text": [
      "Saving diagnostic plots to bh_dir : /Volumes/UCDN/datasets/SDM/utility/23_SDM_0002_E/crdm/bh\n"
     ]
    },
    {
     "name": "stderr",
     "output_type": "stream",
     "text": [
      "The PostScript backend does not support transparency; partially transparent artists will be rendered opaque.\n"
     ]
    },
    {
     "name": "stdout",
     "output_type": "stream",
     "text": [
      "Saving diagnostic plots to bh_dir : /Volumes/UCDN/datasets/SDM/utility/23_SDM_0002_N/crdm/bh\n"
     ]
    },
    {
     "name": "stderr",
     "output_type": "stream",
     "text": [
      "The PostScript backend does not support transparency; partially transparent artists will be rendered opaque.\n"
     ]
    },
    {
     "name": "stdout",
     "output_type": "stream",
     "text": [
      "Saving diagnostic plots to bh_dir : /Volumes/UCDN/datasets/SDM/utility/23_SDM_0004_E/crdm/bh\n"
     ]
    },
    {
     "name": "stderr",
     "output_type": "stream",
     "text": [
      "The PostScript backend does not support transparency; partially transparent artists will be rendered opaque.\n"
     ]
    },
    {
     "name": "stdout",
     "output_type": "stream",
     "text": [
      "Saving diagnostic plots to bh_dir : /Volumes/UCDN/datasets/SDM/utility/23_SDM_0004_N/crdm/bh\n"
     ]
    },
    {
     "name": "stderr",
     "output_type": "stream",
     "text": [
      "The PostScript backend does not support transparency; partially transparent artists will be rendered opaque.\n"
     ]
    },
    {
     "name": "stdout",
     "output_type": "stream",
     "text": [
      "Saving diagnostic plots to bh_dir : /Volumes/UCDN/datasets/SDM/utility/23_SDM_0005_E/crdm/bh\n"
     ]
    },
    {
     "name": "stderr",
     "output_type": "stream",
     "text": [
      "The PostScript backend does not support transparency; partially transparent artists will be rendered opaque.\n"
     ]
    },
    {
     "name": "stdout",
     "output_type": "stream",
     "text": [
      "Saving diagnostic plots to bh_dir : /Volumes/UCDN/datasets/SDM/utility/23_SDM_0005_N/crdm/bh\n"
     ]
    },
    {
     "ename": "SamplingError",
     "evalue": "Initial evaluation of model at starting point failed!\nStarting values:\n{'mu_alpha_hyper': array(-0.21475003), 'sd_alpha_hyper': array(0.3898094), 'mu_beta_hyper': array(0.48430499), 'sd_beta_hyper': array(-0.16484854), 'sd_gamma_hyper': array(1.48517252), 'alpha_log__': array([-0.20727491, -0.13893454, -0.13019305, -0.91006327, -1.05251517,\n       -0.39864746,  0.02218607,  0.38167261]), 'beta': array([ 1.36385371, -0.43195761,  0.57587853, -0.51324539,  0.14100867,\n        0.47410843,  1.21583708,  0.77456829]), 'gamma_log__': array([-0.04716583, -0.43982126,  0.37729334, -0.46017365, -0.27700044,\n        0.98182766,  1.24880373,  1.03254536])}\n\nLogp initial evaluation results:\n{'mu_alpha_hyper': -33.25, 'sd_alpha_hyper': -0.29, 'mu_beta_hyper': -8.53, 'sd_beta_hyper': -2733.19, 'sd_gamma_hyper': -1568.95, 'alpha': -5.22, 'beta': -inf, 'gamma': -9.72, 'y_1': -inf}\nYou can call `model.debug()` for more details.",
     "output_type": "error",
     "traceback": [
      "\u001b[0;31m---------------------------------------------------------------------------\u001b[0m",
      "\u001b[0;31mSamplingError\u001b[0m                             Traceback (most recent call last)",
      "\u001b[1;32m/Users/pizarror/IDM/BH_model/crdm/hierarchical_model.ipynb Cell 12\u001b[0m line \u001b[0;36m1\n\u001b[1;32m     <a href='vscode-notebook-cell:/Users/pizarror/IDM/BH_model/crdm/hierarchical_model.ipynb#W6sZmlsZQ%3D%3D?line=12'>13</a>\u001b[0m \u001b[39mif\u001b[39;00m data\u001b[39m.\u001b[39mempty:\n\u001b[1;32m     <a href='vscode-notebook-cell:/Users/pizarror/IDM/BH_model/crdm/hierarchical_model.ipynb#W6sZmlsZQ%3D%3D?line=13'>14</a>\u001b[0m     \u001b[39m# catch for when CRDM data by domain is not present\u001b[39;00m\n\u001b[1;32m     <a href='vscode-notebook-cell:/Users/pizarror/IDM/BH_model/crdm/hierarchical_model.ipynb#W6sZmlsZQ%3D%3D?line=14'>15</a>\u001b[0m     \u001b[39mcontinue\u001b[39;00m\n\u001b[0;32m---> <a href='vscode-notebook-cell:/Users/pizarror/IDM/BH_model/crdm/hierarchical_model.ipynb#W6sZmlsZQ%3D%3D?line=15'>16</a>\u001b[0m trace_prior,subjects,subj_id \u001b[39m=\u001b[39m run_BHM(save_dir,experiment,domain,data)\n\u001b[1;32m     <a href='vscode-notebook-cell:/Users/pizarror/IDM/BH_model/crdm/hierarchical_model.ipynb#W6sZmlsZQ%3D%3D?line=17'>18</a>\u001b[0m bhm_fn \u001b[39m=\u001b[39m os\u001b[39m.\u001b[39mpath\u001b[39m.\u001b[39mjoin(save_dir,\u001b[39m'\u001b[39m\u001b[39mBHM_model_summary_\u001b[39m\u001b[39m{}\u001b[39;00m\u001b[39m_\u001b[39m\u001b[39m{}\u001b[39;00m\u001b[39m.csv\u001b[39m\u001b[39m'\u001b[39m\u001b[39m.\u001b[39mformat(experiment,domain))\n\u001b[1;32m     <a href='vscode-notebook-cell:/Users/pizarror/IDM/BH_model/crdm/hierarchical_model.ipynb#W6sZmlsZQ%3D%3D?line=18'>19</a>\u001b[0m df_bhm \u001b[39m=\u001b[39m extract_mean(bhm_fn,var_names\u001b[39m=\u001b[39m[\u001b[39m'\u001b[39m\u001b[39malpha\u001b[39m\u001b[39m'\u001b[39m,\u001b[39m'\u001b[39m\u001b[39mbeta\u001b[39m\u001b[39m'\u001b[39m,\u001b[39m'\u001b[39m\u001b[39mgamma\u001b[39m\u001b[39m'\u001b[39m],subjects\u001b[39m=\u001b[39msubjects,domain\u001b[39m=\u001b[39mdomain)    \n",
      "\u001b[1;32m/Users/pizarror/IDM/BH_model/crdm/hierarchical_model.ipynb Cell 12\u001b[0m line \u001b[0;36m3\n\u001b[1;32m     <a href='vscode-notebook-cell:/Users/pizarror/IDM/BH_model/crdm/hierarchical_model.ipynb#W6sZmlsZQ%3D%3D?line=23'>24</a>\u001b[0m     prob \u001b[39m=\u001b[39m pm\u001b[39m.\u001b[39mDeterministic(\u001b[39m'\u001b[39m\u001b[39mprob\u001b[39m\u001b[39m'\u001b[39m, \u001b[39m1\u001b[39m \u001b[39m/\u001b[39m (\u001b[39m1\u001b[39m \u001b[39m+\u001b[39m pm\u001b[39m.\u001b[39mmath\u001b[39m.\u001b[39mexp(\u001b[39m-\u001b[39mgamma[subj_id] \u001b[39m*\u001b[39m \n\u001b[1;32m     <a href='vscode-notebook-cell:/Users/pizarror/IDM/BH_model/crdm/hierarchical_model.ipynb#W6sZmlsZQ%3D%3D?line=24'>25</a>\u001b[0m                                                             ((lott_amt\u001b[39m*\u001b[39m\u001b[39m*\u001b[39malpha[subj_id])\u001b[39m*\u001b[39m(lott_p\u001b[39m-\u001b[39mbeta[subj_id]\u001b[39m*\u001b[39mambig\u001b[39m/\u001b[39m\u001b[39m2\u001b[39m)\n\u001b[1;32m     <a href='vscode-notebook-cell:/Users/pizarror/IDM/BH_model/crdm/hierarchical_model.ipynb#W6sZmlsZQ%3D%3D?line=25'>26</a>\u001b[0m                                                             \u001b[39m-\u001b[39m (sure_amt\u001b[39m*\u001b[39m\u001b[39m*\u001b[39malpha[subj_id])\u001b[39m*\u001b[39msure_p)))) \n\u001b[1;32m     <a href='vscode-notebook-cell:/Users/pizarror/IDM/BH_model/crdm/hierarchical_model.ipynb#W6sZmlsZQ%3D%3D?line=27'>28</a>\u001b[0m     y_1 \u001b[39m=\u001b[39m pm\u001b[39m.\u001b[39mBernoulli(\u001b[39m'\u001b[39m\u001b[39my_1\u001b[39m\u001b[39m'\u001b[39m,p\u001b[39m=\u001b[39mprob,observed\u001b[39m=\u001b[39mchoices)\n\u001b[0;32m---> <a href='vscode-notebook-cell:/Users/pizarror/IDM/BH_model/crdm/hierarchical_model.ipynb#W6sZmlsZQ%3D%3D?line=29'>30</a>\u001b[0m     trace_prior \u001b[39m=\u001b[39m pm\u001b[39m.\u001b[39;49msample(\u001b[39m100\u001b[39;49m, tune\u001b[39m=\u001b[39;49m\u001b[39m20\u001b[39;49m, cores\u001b[39m=\u001b[39;49m\u001b[39m2\u001b[39;49m,target_accept\u001b[39m=\u001b[39;49m\u001b[39m0.95\u001b[39;49m,progressbar\u001b[39m=\u001b[39;49m\u001b[39mTrue\u001b[39;49;00m)\n\u001b[1;32m     <a href='vscode-notebook-cell:/Users/pizarror/IDM/BH_model/crdm/hierarchical_model.ipynb#W6sZmlsZQ%3D%3D?line=30'>31</a>\u001b[0m     \u001b[39m# trace_prior = pm.sample(10000, tune=1000, cores=5,target_accept=0.99,progressbar=True)\u001b[39;00m\n\u001b[1;32m     <a href='vscode-notebook-cell:/Users/pizarror/IDM/BH_model/crdm/hierarchical_model.ipynb#W6sZmlsZQ%3D%3D?line=33'>34</a>\u001b[0m summary\u001b[39m=\u001b[39m az\u001b[39m.\u001b[39msummary(trace_prior,round_to\u001b[39m=\u001b[39m\u001b[39m10\u001b[39m)\n",
      "File \u001b[0;32m~/opt/miniconda/envs/idm_jupy/lib/python3.9/site-packages/pymc/sampling/mcmc.py:619\u001b[0m, in \u001b[0;36msample\u001b[0;34m(draws, tune, chains, cores, random_seed, progressbar, step, nuts_sampler, initvals, init, jitter_max_retries, n_init, trace, discard_tuned_samples, compute_convergence_checks, keep_warning_stat, return_inferencedata, idata_kwargs, nuts_sampler_kwargs, callback, mp_ctx, model, **kwargs)\u001b[0m\n\u001b[1;32m    617\u001b[0m ip: Dict[\u001b[39mstr\u001b[39m, np\u001b[39m.\u001b[39mndarray]\n\u001b[1;32m    618\u001b[0m \u001b[39mfor\u001b[39;00m ip \u001b[39min\u001b[39;00m initial_points:\n\u001b[0;32m--> 619\u001b[0m     model\u001b[39m.\u001b[39;49mcheck_start_vals(ip)\n\u001b[1;32m    620\u001b[0m     _check_start_shape(model, ip)\n\u001b[1;32m    622\u001b[0m \u001b[39m# Create trace backends for each chain\u001b[39;00m\n",
      "File \u001b[0;32m~/opt/miniconda/envs/idm_jupy/lib/python3.9/site-packages/pymc/model.py:1784\u001b[0m, in \u001b[0;36mModel.check_start_vals\u001b[0;34m(self, start)\u001b[0m\n\u001b[1;32m   1781\u001b[0m initial_eval \u001b[39m=\u001b[39m \u001b[39mself\u001b[39m\u001b[39m.\u001b[39mpoint_logps(point\u001b[39m=\u001b[39melem)\n\u001b[1;32m   1783\u001b[0m \u001b[39mif\u001b[39;00m \u001b[39mnot\u001b[39;00m \u001b[39mall\u001b[39m(np\u001b[39m.\u001b[39misfinite(v) \u001b[39mfor\u001b[39;00m v \u001b[39min\u001b[39;00m initial_eval\u001b[39m.\u001b[39mvalues()):\n\u001b[0;32m-> 1784\u001b[0m     \u001b[39mraise\u001b[39;00m SamplingError(\n\u001b[1;32m   1785\u001b[0m         \u001b[39m\"\u001b[39m\u001b[39mInitial evaluation of model at starting point failed!\u001b[39m\u001b[39m\\n\u001b[39;00m\u001b[39m\"\u001b[39m\n\u001b[1;32m   1786\u001b[0m         \u001b[39mf\u001b[39m\u001b[39m\"\u001b[39m\u001b[39mStarting values:\u001b[39m\u001b[39m\\n\u001b[39;00m\u001b[39m{\u001b[39;00melem\u001b[39m}\u001b[39;00m\u001b[39m\\n\u001b[39;00m\u001b[39m\\n\u001b[39;00m\u001b[39m\"\u001b[39m\n\u001b[1;32m   1787\u001b[0m         \u001b[39mf\u001b[39m\u001b[39m\"\u001b[39m\u001b[39mLogp initial evaluation results:\u001b[39m\u001b[39m\\n\u001b[39;00m\u001b[39m{\u001b[39;00minitial_eval\u001b[39m}\u001b[39;00m\u001b[39m\\n\u001b[39;00m\u001b[39m\"\u001b[39m\n\u001b[1;32m   1788\u001b[0m         \u001b[39m\"\u001b[39m\u001b[39mYou can call `model.debug()` for more details.\u001b[39m\u001b[39m\"\u001b[39m\n\u001b[1;32m   1789\u001b[0m     )\n",
      "\u001b[0;31mSamplingError\u001b[0m: Initial evaluation of model at starting point failed!\nStarting values:\n{'mu_alpha_hyper': array(-0.21475003), 'sd_alpha_hyper': array(0.3898094), 'mu_beta_hyper': array(0.48430499), 'sd_beta_hyper': array(-0.16484854), 'sd_gamma_hyper': array(1.48517252), 'alpha_log__': array([-0.20727491, -0.13893454, -0.13019305, -0.91006327, -1.05251517,\n       -0.39864746,  0.02218607,  0.38167261]), 'beta': array([ 1.36385371, -0.43195761,  0.57587853, -0.51324539,  0.14100867,\n        0.47410843,  1.21583708,  0.77456829]), 'gamma_log__': array([-0.04716583, -0.43982126,  0.37729334, -0.46017365, -0.27700044,\n        0.98182766,  1.24880373,  1.03254536])}\n\nLogp initial evaluation results:\n{'mu_alpha_hyper': -33.25, 'sd_alpha_hyper': -0.29, 'mu_beta_hyper': -8.53, 'sd_beta_hyper': -2733.19, 'sd_gamma_hyper': -1568.95, 'alpha': -5.22, 'beta': -inf, 'gamma': -9.72, 'y_1': -inf}\nYou can call `model.debug()` for more details."
     ]
    }
   ],
   "source": [
    "# Set the paths needed to find the data and load\n",
    "\n",
    "# The user of the script can edit root_dir and dataset variables to get it to work for their dataset.\n",
    "# This script will work given the data is stored in the appropriate BIDS format in the split directory\n",
    "root_dir = '/Volumes/UCDN/datasets/'\n",
    "dataset = 'SDM'\n",
    "\n",
    "# log the BHM experiment version, in case we cahnge it in the future\n",
    "experiment='v002'\n",
    "\n",
    "for domain in ['gain','loss','combined']:\n",
    "    utility_dir,save_dir,data = dirs_and_data(root_dir=root_dir,dataset=dataset,domain=domain)\n",
    "    if data.empty:\n",
    "        # catch for when CRDM data by domain is not present\n",
    "        continue\n",
    "    trace_prior,subjects,subj_id = run_BHM(save_dir,experiment,domain,data)\n",
    "    \n",
    "    bhm_fn = os.path.join(save_dir,'BHM_model_summary_{}_{}.csv'.format(experiment,domain))\n",
    "    df_bhm = extract_mean(bhm_fn,var_names=['alpha','beta','gamma'],subjects=subjects,domain=domain)    \n",
    "    split_CRDM_fn = os.path.join(save_dir,'split_CRDM_BHM_{}.csv'.format(domain))\n",
    "    df_bhm.to_csv(split_CRDM_fn)\n",
    "    display(df_bhm)\n",
    "    for s in set(subj_id):\n",
    "        coords={'alpha_dim_0': [s],'beta_dim_0': [s],'gamma_dim_0':[s]}\n",
    "        diganostic_plots(trace_prior,experiment=experiment,utility_dir=utility_dir,subject=subjects[s],coords=coords,var_names=['alpha','beta','gamma'],figsize=(10,10))\n",
    "\n",
    "    "
   ]
  },
  {
   "cell_type": "markdown",
   "metadata": {},
   "source": [
    "### Extract parameter estimates and save\n",
    "\n",
    "We can incorporate this into the script above"
   ]
  },
  {
   "cell_type": "markdown",
   "metadata": {},
   "source": [
    "### Diagnostic plots\n",
    "\n",
    "Too many subjects to run `diagnistic_plots()`  but can run them individually\n",
    "Trace, posterior, rank plots\n",
    "\n",
    "... need to figure out for each subject how to plot_pair() which plots the bivariate distirbutions\n"
   ]
  },
  {
   "cell_type": "code",
   "execution_count": null,
   "metadata": {},
   "outputs": [],
   "source": []
  }
 ],
 "metadata": {
  "kernelspec": {
   "display_name": "Python 3.9.12 ('base')",
   "language": "python",
   "name": "python3"
  },
  "language_info": {
   "codemirror_mode": {
    "name": "ipython",
    "version": 3
   },
   "file_extension": ".py",
   "mimetype": "text/x-python",
   "name": "python",
   "nbconvert_exporter": "python",
   "pygments_lexer": "ipython3",
   "version": "3.9.16"
  },
  "orig_nbformat": 4,
  "vscode": {
   "interpreter": {
    "hash": "09d5eda77765311109b2c027e144dcf58f89dd96008cdf29c2e6b03e99df71a0"
   }
  }
 },
 "nbformat": 4,
 "nbformat_minor": 2
}
