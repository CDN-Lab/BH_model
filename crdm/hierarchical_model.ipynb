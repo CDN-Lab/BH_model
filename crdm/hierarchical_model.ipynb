{
 "cells": [
  {
   "cell_type": "markdown",
   "metadata": {},
   "source": [
    "# Bayesian Hierarchical Model (BHM) \n",
    "\n",
    "Parameter estimation written for CRDM task as part of the IDM dataset collected online with Mturk\n",
    "\n",
    "Extended to work for all datasets"
   ]
  },
  {
   "cell_type": "markdown",
   "metadata": {},
   "source": [
    "### Import modules, libraries, etc"
   ]
  },
  {
   "cell_type": "code",
   "execution_count": 1,
   "metadata": {},
   "outputs": [],
   "source": [
    "# Built-in/Generic Imports\n",
    "import os,sys\n",
    "import glob,time\n",
    "\n",
    "# Libs :: all are part of idm_env, except for arviz and pymc\n",
    "import numpy as np\n",
    "import pandas as pd\n",
    "import matplotlib.pyplot as plt\n",
    "import pickle\n",
    "import pymc as pm\n",
    "import arviz as az\n",
    "\n",
    "# This reduces the amount of pymc output, can comment or change level to see more information\n",
    "import logging\n",
    "logger = logging.getLogger(\"pymc\")\n",
    "logger.setLevel(logging.ERROR)\n",
    "\n",
    "# explicitly use a path to let the script know where the IDM_model is located to import model_functions\n",
    "parent = '/Users/pizarror/IDM'\n",
    "# adding the parent directory to the sys.path.\n",
    "sys.path.append(parent)\n",
    "from IDM_model.src import model_functions as mf\n"
   ]
  },
  {
   "cell_type": "markdown",
   "metadata": {},
   "source": [
    "### Diagnostic plots\n",
    "\n",
    "Run `diagnistic_plots()` individually by subject :: trace, posterior, bivariate densities, rank plots"
   ]
  },
  {
   "cell_type": "code",
   "execution_count": 2,
   "metadata": {},
   "outputs": [],
   "source": [
    "def diganostic_plots(trace,experiment='experiment',utility_dir='/tmp/',subject='23_IDM_0001',task='crdm',coords={},var_names=['alpha','beta','gamma'],figsize=(10,10)):\n",
    "\n",
    "    bh_dir = os.path.join(utility_dir,subject,task,'bh')\n",
    "    if not os.path.exists(bh_dir):\n",
    "        os.makedirs(bh_dir)\n",
    "    print('Saving diagnostic plots to bh_dir : {}'.format(bh_dir))\n",
    "\n",
    "    title_dict = {'fontsize':15}\n",
    "\n",
    "    # 2by2 : rows 2 varialbes, cols 2 for distribution and sampled values\n",
    "    axes = az.plot_trace(trace, var_names=var_names,coords=coords,compact=False)\n",
    "    for r in range(axes.shape[0]):\n",
    "        for c in range(axes.shape[1]):\n",
    "            axes[r,c].set_title('{}: {}'.format(subject,var_names[r]))\n",
    "    plt.tight_layout()\n",
    "    fig_fn = os.path.join(bh_dir,'{}_{}_trace_plot.{}.eps'.format(subject,task,experiment))\n",
    "    plt.savefig(fig_fn,format='eps')\n",
    "    plt.close()\n",
    "    \n",
    "    axes = az.plot_pair(trace,kind='kde', coords=coords,var_names=var_names,marginals=True)\n",
    "    axes[0,0].set_title(subject,fontdict=title_dict)\n",
    "    axes[1,0].set_ylabel(var_names[1])\n",
    "    axes[1,0].set_xlabel(var_names[0])\n",
    "    plt.tight_layout()\n",
    "    fig_fn = os.path.join(bh_dir,'{}_{}_bivariate_densities.{}.eps'.format(subject,task,experiment))\n",
    "    plt.savefig(fig_fn,format='eps')\n",
    "    plt.close()\n",
    "    \n",
    "    axes = az.plot_posterior(trace,var_names=var_names,coords=coords)\n",
    "    # print(axes.shape)\n",
    "    for c in range(axes.shape[0]):\n",
    "        axes[c].set_title('{}: {}'.format(subject,var_names[c]),fontdict=title_dict)\n",
    "    fig_fn = os.path.join(bh_dir,'{}_{}_posterior.{}.eps'.format(subject,task,experiment))\n",
    "    plt.savefig(fig_fn,format='eps')\n",
    "    plt.close()\n",
    "\n",
    "    fig, axes = plt.subplots(1,len(var_names), figsize=figsize)\n",
    "    az.plot_rank(trace,var_names=var_names,coords=coords,ax=axes)\n",
    "    for c in range(axes.shape[0]):\n",
    "        axes[c].set_title('{}: {}'.format(subject,var_names[c]),fontdict=title_dict)\n",
    "    fig.tight_layout()\n",
    "    fig_fn = os.path.join(bh_dir,'{}_{}_rank_plot_bars.{}.eps'.format(subject,task,experiment))\n",
    "    plt.savefig(fig_fn,format='eps')\n",
    "    plt.close()\n",
    "\n",
    "    fig, axes = plt.subplots(1,len(var_names), figsize=figsize)\n",
    "    axes = az.plot_rank(trace,var_names=var_names, coords=coords,kind=\"vlines\",vlines_kwargs={'lw':0}, marker_vlines_kwargs={'lw':3},ax=axes)\n",
    "    for c in range(axes.shape[0]):\n",
    "        axes[c].set_title('{}: {}'.format(subject,var_names[c]),fontdict=title_dict)\n",
    "    fig.tight_layout()\n",
    "    fig_fn = os.path.join(bh_dir,'{}_{}_rank_plot_lines.{}.eps'.format(subject,task,experiment))\n",
    "    plt.savefig(fig_fn,format='eps')\n",
    "    plt.close()\n",
    "\n",
    "\n"
   ]
  },
  {
   "attachments": {},
   "cell_type": "markdown",
   "metadata": {},
   "source": [
    "### Load data\n",
    "\n",
    "We will load the data from all participants so we can run the modeling schema"
   ]
  },
  {
   "cell_type": "code",
   "execution_count": 3,
   "metadata": {},
   "outputs": [],
   "source": [
    "def read_load_data(subject='23_IDM_0144',fn='/tmp',domain='gain',cols=[]):\n",
    "    crdm_df = pd.read_csv(fn)\n",
    "    task='crdm'\n",
    "    if ('loss' in domain) or ('combined' in domain):\n",
    "        if 'loss' not in crdm_df['crdm_domain'].dropna().unique():\n",
    "            return []\n",
    "\n",
    "    if ('loss' in domain) or ('gain' in domain):\n",
    "        # only select by domain when gain or loss\n",
    "        crdm_df = mf.get_by_domain(crdm_df,domain=domain,task=task,verbose=False)\n",
    "    crdm_df = mf.drop_pract(crdm_df,task=task)\n",
    "    crdm_df,response_rate = mf.drop_non_responses(crdm_df,task=task,verbose=False) \n",
    "    data = mf.get_data(crdm_df,cols,task='crdm')[0]\n",
    "    data['subject'] = subject\n",
    "    return data\n",
    "\n",
    "def dirs_and_data(root_dir='/tmp',dataset='IDM',domain='gain'):\n",
    "\n",
    "    dataset_dir = os.path.join(root_dir,dataset)\n",
    "    split_dir = os.path.join(dataset_dir,'split')\n",
    "    utility_dir = os.path.join(dataset_dir,'utility')\n",
    "    save_dir = os.path.join(utility_dir,'BHM/crdm')\n",
    "    if not os.path.exists(save_dir):\n",
    "        os.makedirs(save_dir)\n",
    "\n",
    "    # Takes about 10 seconds for 149 subjects form Mturk data\n",
    "    task = 'crdm'\n",
    "    subjs = sorted(glob.glob(os.path.join(split_dir,'*')))\n",
    "    cols = ['crdm_choice','crdm_sure_p','crdm_lott_p','crdm_sure_amt','crdm_lott_amt','crdm_amb_lev']\n",
    "    data = pd.DataFrame(columns=['subject']+cols)\n",
    "    subj_id = 0\n",
    "    for s in subjs:\n",
    "        subject = os.path.basename(s)\n",
    "        fn  = os.path.join(s,task,'{}_{}.csv'.format(os.path.basename(s),task))\n",
    "        if os.path.exists(fn):\n",
    "            subj_data = read_load_data(subject=subject,fn=fn,domain=domain,cols=cols)\n",
    "            if subj_data.empty:\n",
    "                continue\n",
    "            for c in cols:\n",
    "                subj_data[c] = subj_data[c].astype(float)        \n",
    "            subj_data['subject_id'] = int(subj_id)\n",
    "            subj_id = subj_id+1\n",
    "            data = pd.concat([data,subj_data],ignore_index=True)\n",
    "\n",
    "    return utility_dir,save_dir,data\n",
    "\n",
    "#  amplitude (+1, -1) parameter to handle gain and loss\n",
    "def get_amplitude(amt):\n",
    "    return np.divide(amt,np.abs(amt))\n",
    "\n",
    "def extract_cols(data):\n",
    "    subjects = data['subject'].unique()\n",
    "    # nb_subj = subjects.shape[0]\n",
    "    # nb_trials = data.shape[0]//nb_subj\n",
    "    subj_id_list = data['subject_id'].to_list()\n",
    "    subj_id = [int(s) for s in subj_id_list]\n",
    "    # old_id = np.array([ [s]*nb_trials for s in range(nb_subj) ]).flatten()\n",
    "\n",
    "    sure_p = data['crdm_sure_p'].values\n",
    "    lott_p = data['crdm_lott_p'].values\n",
    "    sure_amt = data['crdm_sure_amt'].values\n",
    "    lott_amt = data['crdm_lott_amt'].values\n",
    "    ambig = data['crdm_amb_lev'].values\n",
    "    choices = data['crdm_choice'].values\n",
    "\n",
    "    # amplitude parameter to handle gain and loss\n",
    "    sure_amp = get_amplitude(sure_amt)\n",
    "    lott_amp = get_amplitude(lott_amt)\n",
    "\n",
    "    return subjects,subj_id,sure_p,lott_p,sure_amt,sure_amp,lott_amt,lott_amp,ambig,choices\n"
   ]
  },
  {
   "cell_type": "markdown",
   "metadata": {},
   "source": [
    "### Bayesian Hierarchical Model\n",
    "\n",
    "Choice of prior distribution and parameters used to define were developed under `parameter_receovery.ipynb`\n",
    "\n"
   ]
  },
  {
   "cell_type": "code",
   "execution_count": 4,
   "metadata": {},
   "outputs": [],
   "source": [
    "\n",
    "# This is the meat of the script that is used to estimate the parameters of the BHM \n",
    "\n",
    "def run_BHM(save_dir,experiment,domain,data):\n",
    "    \n",
    "    subjects,subj_id,sure_p,lott_p,sure_amt,sure_amp,lott_amt,lott_amp,ambig,choices = extract_cols(data)\n",
    "\n",
    "    tStep1 = time.time()\n",
    "\n",
    "    # We will fit a model for each subject\n",
    "    with pm.Model() as model_simple:\n",
    "\n",
    "        # Hyperparameters for alpha, beta\n",
    "        mu_alpha_hyper = pm.Normal('mu_alpha_hyper',mu=-0.635,sigma=0.05)\n",
    "        sd_alpha_hyper = pm.Normal('sd_alpha_hyper',mu=0.418,sigma=0.01)\n",
    "\n",
    "        mu_beta_hyper = pm.Normal('mu_beta_hyper',mu=0.254,sigma=0.05)\n",
    "        sd_beta_hyper = pm.Normal('sd_beta_hyper',mu=0.575,sigma=0.01)\n",
    "        \n",
    "        # mu_gamma_hyper = pm.Normal('mu_gamma_hyper',mu=3.011,sigma=0.05)\n",
    "        sd_gamma_hyper = pm.Normal('sd_gamma_hyper',mu=2.046,sigma=0.01)\n",
    "\n",
    "        alpha = pm.LogNormal('alpha',mu=mu_alpha_hyper, sigma=sd_alpha_hyper,shape=np.size(np.unique(subj_id)))\n",
    "        beta = pm.Normal('beta',mu=mu_beta_hyper,sigma=sd_beta_hyper,shape=np.size(np.unique(subj_id)))\n",
    "        gamma = pm.HalfNormal('gamma',sigma=sd_gamma_hyper,shape=np.size(np.unique(subj_id)))\n",
    "        \n",
    "        prob = pm.Deterministic('prob', 1 / (1 + pm.math.exp(-gamma[subj_id] * \n",
    "                                                                (lott_amp*(np.abs(lott_amt)**alpha[subj_id])*(lott_p-beta[subj_id]*ambig/2)\n",
    "                                                                - sure_amp*(np.abs(sure_amt)**alpha[subj_id])*sure_p)))) \n",
    "        \n",
    "        y_1 = pm.Bernoulli('y_1',p=prob,observed=choices)\n",
    "\n",
    "        # trace_prior = pm.sample(100, tune=20, cores=2,target_accept=0.95,progressbar=True)\n",
    "        trace_prior = pm.sample(10000, tune=1000, cores=5,target_accept=0.99,progressbar=True)\n",
    "\n",
    "\n",
    "    summary= az.summary(trace_prior,round_to=10)\n",
    "    fn = os.path.join(save_dir,'BHM_model_summary_{}_{}.csv'.format(experiment,domain))\n",
    "    print('Saving to : {}'.format(fn))\n",
    "    summary.to_csv(fn)\n",
    "\n",
    "    fn = os.path.join(save_dir,'BHM_model_trace_{}_{}.pkl'.format(experiment,domain))\n",
    "    print('Saving to : {}'.format(fn))\n",
    "    with open(fn,'wb') as buff:\n",
    "        pickle.dump({'trace':trace_prior},buff)\n",
    "\n",
    "    print('Time to complete {} aggregate BHM : {} minutes'.format(len(subjects),(time.time() - tStep1)/60.0))\n",
    "    return trace_prior,subjects,subj_id\n",
    "\n",
    "\n",
    "# Extract parameter estimates and save\n",
    "def extract_mean(save_dir='',var_names=['alpha','beta','gamma'],subjects=[],experiment='v002',domain='gain'):\n",
    "    fn = os.path.join(save_dir,'BHM_model_summary_{}_{}.csv'.format(experiment,domain))\n",
    "    nb_subjects = len(subjects)\n",
    "    df = pd.read_csv(fn,index_col=0)\n",
    "    df_bhm = pd.DataFrame([],columns=var_names)\n",
    "    df_bhm['subject'] = subjects\n",
    "    df_bhm['domain'] = domain\n",
    "    for var in var_names:\n",
    "        ind_list = ['{}[{}]'.format(var,sub_id) for sub_id in range(nb_subjects)]\n",
    "        df_bhm[var] = df.loc[df.index.isin(ind_list)]['mean'].reset_index(drop=True)\n",
    "\n",
    "    # save dataframe to file    \n",
    "    split_CRDM_fn = os.path.join(os.path.dirname(save_dir),'split_CRDM_BHM_{}.csv'.format(domain))\n",
    "    print('Saving split BHM : {}'.format(split_CRDM_fn))\n",
    "    df_bhm.to_csv(split_CRDM_fn)    \n",
    "    display(df_bhm)\n",
    "    \n",
    "    return df_bhm"
   ]
  },
  {
   "cell_type": "code",
   "execution_count": 5,
   "metadata": {},
   "outputs": [
    {
     "data": {
      "text/html": [
       "\n",
       "<style>\n",
       "    /* Turns off some styling */\n",
       "    progress {\n",
       "        /* gets rid of default border in Firefox and Opera. */\n",
       "        border: none;\n",
       "        /* Needs to be in here for Safari polyfill so background images work as expected. */\n",
       "        background-size: auto;\n",
       "    }\n",
       "    progress:not([value]), progress:not([value])::-webkit-progress-bar {\n",
       "        background: repeating-linear-gradient(45deg, #7e7e7e, #7e7e7e 10px, #5c5c5c 10px, #5c5c5c 20px);\n",
       "    }\n",
       "    .progress-bar-interrupted, .progress-bar-interrupted::-webkit-progress-bar {\n",
       "        background: #F44336;\n",
       "    }\n",
       "</style>\n"
      ],
      "text/plain": [
       "<IPython.core.display.HTML object>"
      ]
     },
     "metadata": {},
     "output_type": "display_data"
    },
    {
     "data": {
      "text/html": [
       "\n",
       "    <div>\n",
       "      <progress value='55000' class='' max='55000' style='width:300px; height:20px; vertical-align: middle;'></progress>\n",
       "      100.00% [55000/55000 01:36&lt;00:00 Sampling 5 chains, 0 divergences]\n",
       "    </div>\n",
       "    "
      ],
      "text/plain": [
       "<IPython.core.display.HTML object>"
      ]
     },
     "metadata": {},
     "output_type": "display_data"
    },
    {
     "name": "stdout",
     "output_type": "stream",
     "text": [
      "Saving to : /Volumes/UCDN/datasets/SDM/utility/BHM/crdm/BHM_model_summary_v002_gain.csv\n",
      "Saving to : /Volumes/UCDN/datasets/SDM/utility/BHM/crdm/BHM_model_trace_v002_gain.pkl\n",
      "Time to complete 8 aggregate BHM : 2.2392629623413085 minutes\n",
      "Saving split BHM : /Volumes/UCDN/datasets/SDM/utility/BHM/split_CRDM_BHM_gain.csv\n"
     ]
    },
    {
     "data": {
      "text/html": [
       "<div>\n",
       "<style scoped>\n",
       "    .dataframe tbody tr th:only-of-type {\n",
       "        vertical-align: middle;\n",
       "    }\n",
       "\n",
       "    .dataframe tbody tr th {\n",
       "        vertical-align: top;\n",
       "    }\n",
       "\n",
       "    .dataframe thead th {\n",
       "        text-align: right;\n",
       "    }\n",
       "</style>\n",
       "<table border=\"1\" class=\"dataframe\">\n",
       "  <thead>\n",
       "    <tr style=\"text-align: right;\">\n",
       "      <th></th>\n",
       "      <th>alpha</th>\n",
       "      <th>beta</th>\n",
       "      <th>gamma</th>\n",
       "      <th>subject</th>\n",
       "      <th>domain</th>\n",
       "    </tr>\n",
       "  </thead>\n",
       "  <tbody>\n",
       "    <tr>\n",
       "      <th>0</th>\n",
       "      <td>1.237923</td>\n",
       "      <td>0.465710</td>\n",
       "      <td>0.819835</td>\n",
       "      <td>23_SDM_0001_E</td>\n",
       "      <td>gain</td>\n",
       "    </tr>\n",
       "    <tr>\n",
       "      <th>1</th>\n",
       "      <td>0.988815</td>\n",
       "      <td>0.227057</td>\n",
       "      <td>2.928940</td>\n",
       "      <td>23_SDM_0001_N</td>\n",
       "      <td>gain</td>\n",
       "    </tr>\n",
       "    <tr>\n",
       "      <th>2</th>\n",
       "      <td>0.868022</td>\n",
       "      <td>-0.481594</td>\n",
       "      <td>0.326046</td>\n",
       "      <td>23_SDM_0002_E</td>\n",
       "      <td>gain</td>\n",
       "    </tr>\n",
       "    <tr>\n",
       "      <th>3</th>\n",
       "      <td>1.292024</td>\n",
       "      <td>0.745260</td>\n",
       "      <td>0.198784</td>\n",
       "      <td>23_SDM_0002_N</td>\n",
       "      <td>gain</td>\n",
       "    </tr>\n",
       "    <tr>\n",
       "      <th>4</th>\n",
       "      <td>0.529526</td>\n",
       "      <td>0.296340</td>\n",
       "      <td>1.813691</td>\n",
       "      <td>23_SDM_0004_E</td>\n",
       "      <td>gain</td>\n",
       "    </tr>\n",
       "    <tr>\n",
       "      <th>5</th>\n",
       "      <td>0.612680</td>\n",
       "      <td>-0.185901</td>\n",
       "      <td>2.772126</td>\n",
       "      <td>23_SDM_0004_N</td>\n",
       "      <td>gain</td>\n",
       "    </tr>\n",
       "    <tr>\n",
       "      <th>6</th>\n",
       "      <td>0.858795</td>\n",
       "      <td>0.104224</td>\n",
       "      <td>0.912506</td>\n",
       "      <td>23_SDM_0005_E</td>\n",
       "      <td>gain</td>\n",
       "    </tr>\n",
       "    <tr>\n",
       "      <th>7</th>\n",
       "      <td>0.768986</td>\n",
       "      <td>0.459890</td>\n",
       "      <td>1.667379</td>\n",
       "      <td>23_SDM_0005_N</td>\n",
       "      <td>gain</td>\n",
       "    </tr>\n",
       "  </tbody>\n",
       "</table>\n",
       "</div>"
      ],
      "text/plain": [
       "      alpha      beta     gamma        subject domain\n",
       "0  1.237923  0.465710  0.819835  23_SDM_0001_E   gain\n",
       "1  0.988815  0.227057  2.928940  23_SDM_0001_N   gain\n",
       "2  0.868022 -0.481594  0.326046  23_SDM_0002_E   gain\n",
       "3  1.292024  0.745260  0.198784  23_SDM_0002_N   gain\n",
       "4  0.529526  0.296340  1.813691  23_SDM_0004_E   gain\n",
       "5  0.612680 -0.185901  2.772126  23_SDM_0004_N   gain\n",
       "6  0.858795  0.104224  0.912506  23_SDM_0005_E   gain\n",
       "7  0.768986  0.459890  1.667379  23_SDM_0005_N   gain"
      ]
     },
     "metadata": {},
     "output_type": "display_data"
    },
    {
     "name": "stdout",
     "output_type": "stream",
     "text": [
      "Saving diagnostic plots to bh_dir : /Volumes/UCDN/datasets/SDM/utility/23_SDM_0001_E/crdm/bh\n"
     ]
    },
    {
     "name": "stderr",
     "output_type": "stream",
     "text": [
      "The PostScript backend does not support transparency; partially transparent artists will be rendered opaque.\n",
      "The PostScript backend does not support transparency; partially transparent artists will be rendered opaque.\n"
     ]
    },
    {
     "name": "stdout",
     "output_type": "stream",
     "text": [
      "Saving diagnostic plots to bh_dir : /Volumes/UCDN/datasets/SDM/utility/23_SDM_0001_N/crdm/bh\n"
     ]
    },
    {
     "name": "stderr",
     "output_type": "stream",
     "text": [
      "The PostScript backend does not support transparency; partially transparent artists will be rendered opaque.\n"
     ]
    },
    {
     "name": "stdout",
     "output_type": "stream",
     "text": [
      "Saving diagnostic plots to bh_dir : /Volumes/UCDN/datasets/SDM/utility/23_SDM_0002_E/crdm/bh\n",
      "Saving diagnostic plots to bh_dir : /Volumes/UCDN/datasets/SDM/utility/23_SDM_0002_N/crdm/bh\n"
     ]
    },
    {
     "name": "stderr",
     "output_type": "stream",
     "text": [
      "The PostScript backend does not support transparency; partially transparent artists will be rendered opaque.\n",
      "The PostScript backend does not support transparency; partially transparent artists will be rendered opaque.\n"
     ]
    },
    {
     "name": "stdout",
     "output_type": "stream",
     "text": [
      "Saving diagnostic plots to bh_dir : /Volumes/UCDN/datasets/SDM/utility/23_SDM_0004_E/crdm/bh\n"
     ]
    },
    {
     "name": "stderr",
     "output_type": "stream",
     "text": [
      "The PostScript backend does not support transparency; partially transparent artists will be rendered opaque.\n"
     ]
    },
    {
     "name": "stdout",
     "output_type": "stream",
     "text": [
      "Saving diagnostic plots to bh_dir : /Volumes/UCDN/datasets/SDM/utility/23_SDM_0004_N/crdm/bh\n"
     ]
    },
    {
     "name": "stderr",
     "output_type": "stream",
     "text": [
      "The PostScript backend does not support transparency; partially transparent artists will be rendered opaque.\n"
     ]
    },
    {
     "name": "stdout",
     "output_type": "stream",
     "text": [
      "Saving diagnostic plots to bh_dir : /Volumes/UCDN/datasets/SDM/utility/23_SDM_0005_E/crdm/bh\n"
     ]
    },
    {
     "name": "stderr",
     "output_type": "stream",
     "text": [
      "The PostScript backend does not support transparency; partially transparent artists will be rendered opaque.\n"
     ]
    },
    {
     "name": "stdout",
     "output_type": "stream",
     "text": [
      "Saving diagnostic plots to bh_dir : /Volumes/UCDN/datasets/SDM/utility/23_SDM_0005_N/crdm/bh\n"
     ]
    },
    {
     "data": {
      "text/html": [
       "\n",
       "<style>\n",
       "    /* Turns off some styling */\n",
       "    progress {\n",
       "        /* gets rid of default border in Firefox and Opera. */\n",
       "        border: none;\n",
       "        /* Needs to be in here for Safari polyfill so background images work as expected. */\n",
       "        background-size: auto;\n",
       "    }\n",
       "    progress:not([value]), progress:not([value])::-webkit-progress-bar {\n",
       "        background: repeating-linear-gradient(45deg, #7e7e7e, #7e7e7e 10px, #5c5c5c 10px, #5c5c5c 20px);\n",
       "    }\n",
       "    .progress-bar-interrupted, .progress-bar-interrupted::-webkit-progress-bar {\n",
       "        background: #F44336;\n",
       "    }\n",
       "</style>\n"
      ],
      "text/plain": [
       "<IPython.core.display.HTML object>"
      ]
     },
     "metadata": {},
     "output_type": "display_data"
    },
    {
     "data": {
      "text/html": [
       "\n",
       "    <div>\n",
       "      <progress value='55000' class='' max='55000' style='width:300px; height:20px; vertical-align: middle;'></progress>\n",
       "      100.00% [55000/55000 01:04&lt;00:00 Sampling 5 chains, 0 divergences]\n",
       "    </div>\n",
       "    "
      ],
      "text/plain": [
       "<IPython.core.display.HTML object>"
      ]
     },
     "metadata": {},
     "output_type": "display_data"
    },
    {
     "name": "stdout",
     "output_type": "stream",
     "text": [
      "Saving to : /Volumes/UCDN/datasets/SDM/utility/BHM/crdm/BHM_model_summary_v002_loss.csv\n",
      "Saving to : /Volumes/UCDN/datasets/SDM/utility/BHM/crdm/BHM_model_trace_v002_loss.pkl\n",
      "Time to complete 8 aggregate BHM : 1.651399564743042 minutes\n",
      "Saving split BHM : /Volumes/UCDN/datasets/SDM/utility/BHM/split_CRDM_BHM_loss.csv\n"
     ]
    },
    {
     "data": {
      "text/html": [
       "<div>\n",
       "<style scoped>\n",
       "    .dataframe tbody tr th:only-of-type {\n",
       "        vertical-align: middle;\n",
       "    }\n",
       "\n",
       "    .dataframe tbody tr th {\n",
       "        vertical-align: top;\n",
       "    }\n",
       "\n",
       "    .dataframe thead th {\n",
       "        text-align: right;\n",
       "    }\n",
       "</style>\n",
       "<table border=\"1\" class=\"dataframe\">\n",
       "  <thead>\n",
       "    <tr style=\"text-align: right;\">\n",
       "      <th></th>\n",
       "      <th>alpha</th>\n",
       "      <th>beta</th>\n",
       "      <th>gamma</th>\n",
       "      <th>subject</th>\n",
       "      <th>domain</th>\n",
       "    </tr>\n",
       "  </thead>\n",
       "  <tbody>\n",
       "    <tr>\n",
       "      <th>0</th>\n",
       "      <td>1.222280</td>\n",
       "      <td>0.355086</td>\n",
       "      <td>1.054436</td>\n",
       "      <td>23_SDM_0001_E</td>\n",
       "      <td>loss</td>\n",
       "    </tr>\n",
       "    <tr>\n",
       "      <th>1</th>\n",
       "      <td>1.241565</td>\n",
       "      <td>0.462708</td>\n",
       "      <td>0.816595</td>\n",
       "      <td>23_SDM_0001_N</td>\n",
       "      <td>loss</td>\n",
       "    </tr>\n",
       "    <tr>\n",
       "      <th>2</th>\n",
       "      <td>0.836771</td>\n",
       "      <td>-0.372800</td>\n",
       "      <td>0.748842</td>\n",
       "      <td>23_SDM_0002_E</td>\n",
       "      <td>loss</td>\n",
       "    </tr>\n",
       "    <tr>\n",
       "      <th>3</th>\n",
       "      <td>1.030711</td>\n",
       "      <td>0.086045</td>\n",
       "      <td>0.355185</td>\n",
       "      <td>23_SDM_0002_N</td>\n",
       "      <td>loss</td>\n",
       "    </tr>\n",
       "    <tr>\n",
       "      <th>4</th>\n",
       "      <td>0.917731</td>\n",
       "      <td>-0.375023</td>\n",
       "      <td>0.442548</td>\n",
       "      <td>23_SDM_0004_E</td>\n",
       "      <td>loss</td>\n",
       "    </tr>\n",
       "    <tr>\n",
       "      <th>5</th>\n",
       "      <td>1.570043</td>\n",
       "      <td>-0.472302</td>\n",
       "      <td>0.686576</td>\n",
       "      <td>23_SDM_0004_N</td>\n",
       "      <td>loss</td>\n",
       "    </tr>\n",
       "    <tr>\n",
       "      <th>6</th>\n",
       "      <td>1.122183</td>\n",
       "      <td>-0.088142</td>\n",
       "      <td>0.824312</td>\n",
       "      <td>23_SDM_0005_E</td>\n",
       "      <td>loss</td>\n",
       "    </tr>\n",
       "    <tr>\n",
       "      <th>7</th>\n",
       "      <td>0.984939</td>\n",
       "      <td>0.259911</td>\n",
       "      <td>1.679059</td>\n",
       "      <td>23_SDM_0005_N</td>\n",
       "      <td>loss</td>\n",
       "    </tr>\n",
       "  </tbody>\n",
       "</table>\n",
       "</div>"
      ],
      "text/plain": [
       "      alpha      beta     gamma        subject domain\n",
       "0  1.222280  0.355086  1.054436  23_SDM_0001_E   loss\n",
       "1  1.241565  0.462708  0.816595  23_SDM_0001_N   loss\n",
       "2  0.836771 -0.372800  0.748842  23_SDM_0002_E   loss\n",
       "3  1.030711  0.086045  0.355185  23_SDM_0002_N   loss\n",
       "4  0.917731 -0.375023  0.442548  23_SDM_0004_E   loss\n",
       "5  1.570043 -0.472302  0.686576  23_SDM_0004_N   loss\n",
       "6  1.122183 -0.088142  0.824312  23_SDM_0005_E   loss\n",
       "7  0.984939  0.259911  1.679059  23_SDM_0005_N   loss"
      ]
     },
     "metadata": {},
     "output_type": "display_data"
    },
    {
     "name": "stderr",
     "output_type": "stream",
     "text": [
      "The PostScript backend does not support transparency; partially transparent artists will be rendered opaque.\n"
     ]
    },
    {
     "name": "stdout",
     "output_type": "stream",
     "text": [
      "Saving diagnostic plots to bh_dir : /Volumes/UCDN/datasets/SDM/utility/23_SDM_0001_E/crdm/bh\n"
     ]
    },
    {
     "name": "stderr",
     "output_type": "stream",
     "text": [
      "The PostScript backend does not support transparency; partially transparent artists will be rendered opaque.\n"
     ]
    },
    {
     "name": "stdout",
     "output_type": "stream",
     "text": [
      "Saving diagnostic plots to bh_dir : /Volumes/UCDN/datasets/SDM/utility/23_SDM_0001_N/crdm/bh\n"
     ]
    },
    {
     "name": "stderr",
     "output_type": "stream",
     "text": [
      "The PostScript backend does not support transparency; partially transparent artists will be rendered opaque.\n"
     ]
    },
    {
     "name": "stdout",
     "output_type": "stream",
     "text": [
      "Saving diagnostic plots to bh_dir : /Volumes/UCDN/datasets/SDM/utility/23_SDM_0002_E/crdm/bh\n"
     ]
    },
    {
     "name": "stderr",
     "output_type": "stream",
     "text": [
      "The PostScript backend does not support transparency; partially transparent artists will be rendered opaque.\n"
     ]
    },
    {
     "name": "stdout",
     "output_type": "stream",
     "text": [
      "Saving diagnostic plots to bh_dir : /Volumes/UCDN/datasets/SDM/utility/23_SDM_0002_N/crdm/bh\n"
     ]
    },
    {
     "name": "stderr",
     "output_type": "stream",
     "text": [
      "The PostScript backend does not support transparency; partially transparent artists will be rendered opaque.\n"
     ]
    },
    {
     "name": "stdout",
     "output_type": "stream",
     "text": [
      "Saving diagnostic plots to bh_dir : /Volumes/UCDN/datasets/SDM/utility/23_SDM_0004_E/crdm/bh\n"
     ]
    },
    {
     "name": "stderr",
     "output_type": "stream",
     "text": [
      "The PostScript backend does not support transparency; partially transparent artists will be rendered opaque.\n"
     ]
    },
    {
     "name": "stdout",
     "output_type": "stream",
     "text": [
      "Saving diagnostic plots to bh_dir : /Volumes/UCDN/datasets/SDM/utility/23_SDM_0004_N/crdm/bh\n"
     ]
    },
    {
     "name": "stderr",
     "output_type": "stream",
     "text": [
      "The PostScript backend does not support transparency; partially transparent artists will be rendered opaque.\n"
     ]
    },
    {
     "name": "stdout",
     "output_type": "stream",
     "text": [
      "Saving diagnostic plots to bh_dir : /Volumes/UCDN/datasets/SDM/utility/23_SDM_0005_E/crdm/bh\n"
     ]
    },
    {
     "name": "stderr",
     "output_type": "stream",
     "text": [
      "The PostScript backend does not support transparency; partially transparent artists will be rendered opaque.\n"
     ]
    },
    {
     "name": "stdout",
     "output_type": "stream",
     "text": [
      "Saving diagnostic plots to bh_dir : /Volumes/UCDN/datasets/SDM/utility/23_SDM_0005_N/crdm/bh\n"
     ]
    },
    {
     "data": {
      "text/html": [
       "\n",
       "<style>\n",
       "    /* Turns off some styling */\n",
       "    progress {\n",
       "        /* gets rid of default border in Firefox and Opera. */\n",
       "        border: none;\n",
       "        /* Needs to be in here for Safari polyfill so background images work as expected. */\n",
       "        background-size: auto;\n",
       "    }\n",
       "    progress:not([value]), progress:not([value])::-webkit-progress-bar {\n",
       "        background: repeating-linear-gradient(45deg, #7e7e7e, #7e7e7e 10px, #5c5c5c 10px, #5c5c5c 20px);\n",
       "    }\n",
       "    .progress-bar-interrupted, .progress-bar-interrupted::-webkit-progress-bar {\n",
       "        background: #F44336;\n",
       "    }\n",
       "</style>\n"
      ],
      "text/plain": [
       "<IPython.core.display.HTML object>"
      ]
     },
     "metadata": {},
     "output_type": "display_data"
    },
    {
     "data": {
      "text/html": [
       "\n",
       "    <div>\n",
       "      <progress value='55000' class='' max='55000' style='width:300px; height:20px; vertical-align: middle;'></progress>\n",
       "      100.00% [55000/55000 01:55&lt;00:00 Sampling 5 chains, 0 divergences]\n",
       "    </div>\n",
       "    "
      ],
      "text/plain": [
       "<IPython.core.display.HTML object>"
      ]
     },
     "metadata": {},
     "output_type": "display_data"
    },
    {
     "name": "stdout",
     "output_type": "stream",
     "text": [
      "Saving to : /Volumes/UCDN/datasets/SDM/utility/BHM/crdm/BHM_model_summary_v002_combined.csv\n",
      "Saving to : /Volumes/UCDN/datasets/SDM/utility/BHM/crdm/BHM_model_trace_v002_combined.pkl\n",
      "Time to complete 8 aggregate BHM : 2.7966082175572713 minutes\n",
      "Saving split BHM : /Volumes/UCDN/datasets/SDM/utility/BHM/split_CRDM_BHM_combined.csv\n"
     ]
    },
    {
     "data": {
      "text/html": [
       "<div>\n",
       "<style scoped>\n",
       "    .dataframe tbody tr th:only-of-type {\n",
       "        vertical-align: middle;\n",
       "    }\n",
       "\n",
       "    .dataframe tbody tr th {\n",
       "        vertical-align: top;\n",
       "    }\n",
       "\n",
       "    .dataframe thead th {\n",
       "        text-align: right;\n",
       "    }\n",
       "</style>\n",
       "<table border=\"1\" class=\"dataframe\">\n",
       "  <thead>\n",
       "    <tr style=\"text-align: right;\">\n",
       "      <th></th>\n",
       "      <th>alpha</th>\n",
       "      <th>beta</th>\n",
       "      <th>gamma</th>\n",
       "      <th>subject</th>\n",
       "      <th>domain</th>\n",
       "    </tr>\n",
       "  </thead>\n",
       "  <tbody>\n",
       "    <tr>\n",
       "      <th>0</th>\n",
       "      <td>1.266544</td>\n",
       "      <td>0.501169</td>\n",
       "      <td>0.822129</td>\n",
       "      <td>23_SDM_0001_E</td>\n",
       "      <td>combined</td>\n",
       "    </tr>\n",
       "    <tr>\n",
       "      <th>1</th>\n",
       "      <td>1.073826</td>\n",
       "      <td>0.374887</td>\n",
       "      <td>1.302629</td>\n",
       "      <td>23_SDM_0001_N</td>\n",
       "      <td>combined</td>\n",
       "    </tr>\n",
       "    <tr>\n",
       "      <th>2</th>\n",
       "      <td>0.860356</td>\n",
       "      <td>-0.653462</td>\n",
       "      <td>0.438345</td>\n",
       "      <td>23_SDM_0002_E</td>\n",
       "      <td>combined</td>\n",
       "    </tr>\n",
       "    <tr>\n",
       "      <th>3</th>\n",
       "      <td>1.177495</td>\n",
       "      <td>0.474481</td>\n",
       "      <td>0.222550</td>\n",
       "      <td>23_SDM_0002_N</td>\n",
       "      <td>combined</td>\n",
       "    </tr>\n",
       "    <tr>\n",
       "      <th>4</th>\n",
       "      <td>0.680906</td>\n",
       "      <td>0.134655</td>\n",
       "      <td>0.792408</td>\n",
       "      <td>23_SDM_0004_E</td>\n",
       "      <td>combined</td>\n",
       "    </tr>\n",
       "    <tr>\n",
       "      <th>5</th>\n",
       "      <td>0.829382</td>\n",
       "      <td>-0.310988</td>\n",
       "      <td>0.899648</td>\n",
       "      <td>23_SDM_0004_N</td>\n",
       "      <td>combined</td>\n",
       "    </tr>\n",
       "    <tr>\n",
       "      <th>6</th>\n",
       "      <td>0.965652</td>\n",
       "      <td>0.062476</td>\n",
       "      <td>0.779391</td>\n",
       "      <td>23_SDM_0005_E</td>\n",
       "      <td>combined</td>\n",
       "    </tr>\n",
       "    <tr>\n",
       "      <th>7</th>\n",
       "      <td>0.860176</td>\n",
       "      <td>0.452567</td>\n",
       "      <td>1.437128</td>\n",
       "      <td>23_SDM_0005_N</td>\n",
       "      <td>combined</td>\n",
       "    </tr>\n",
       "  </tbody>\n",
       "</table>\n",
       "</div>"
      ],
      "text/plain": [
       "      alpha      beta     gamma        subject    domain\n",
       "0  1.266544  0.501169  0.822129  23_SDM_0001_E  combined\n",
       "1  1.073826  0.374887  1.302629  23_SDM_0001_N  combined\n",
       "2  0.860356 -0.653462  0.438345  23_SDM_0002_E  combined\n",
       "3  1.177495  0.474481  0.222550  23_SDM_0002_N  combined\n",
       "4  0.680906  0.134655  0.792408  23_SDM_0004_E  combined\n",
       "5  0.829382 -0.310988  0.899648  23_SDM_0004_N  combined\n",
       "6  0.965652  0.062476  0.779391  23_SDM_0005_E  combined\n",
       "7  0.860176  0.452567  1.437128  23_SDM_0005_N  combined"
      ]
     },
     "metadata": {},
     "output_type": "display_data"
    },
    {
     "name": "stdout",
     "output_type": "stream",
     "text": [
      "Saving diagnostic plots to bh_dir : /Volumes/UCDN/datasets/SDM/utility/23_SDM_0001_E/crdm/bh\n"
     ]
    },
    {
     "name": "stderr",
     "output_type": "stream",
     "text": [
      "The PostScript backend does not support transparency; partially transparent artists will be rendered opaque.\n",
      "The PostScript backend does not support transparency; partially transparent artists will be rendered opaque.\n"
     ]
    },
    {
     "name": "stdout",
     "output_type": "stream",
     "text": [
      "Saving diagnostic plots to bh_dir : /Volumes/UCDN/datasets/SDM/utility/23_SDM_0001_N/crdm/bh\n"
     ]
    },
    {
     "name": "stderr",
     "output_type": "stream",
     "text": [
      "The PostScript backend does not support transparency; partially transparent artists will be rendered opaque.\n"
     ]
    },
    {
     "name": "stdout",
     "output_type": "stream",
     "text": [
      "Saving diagnostic plots to bh_dir : /Volumes/UCDN/datasets/SDM/utility/23_SDM_0002_E/crdm/bh\n"
     ]
    },
    {
     "name": "stderr",
     "output_type": "stream",
     "text": [
      "The PostScript backend does not support transparency; partially transparent artists will be rendered opaque.\n"
     ]
    },
    {
     "name": "stdout",
     "output_type": "stream",
     "text": [
      "Saving diagnostic plots to bh_dir : /Volumes/UCDN/datasets/SDM/utility/23_SDM_0002_N/crdm/bh\n"
     ]
    },
    {
     "name": "stderr",
     "output_type": "stream",
     "text": [
      "The PostScript backend does not support transparency; partially transparent artists will be rendered opaque.\n"
     ]
    },
    {
     "name": "stdout",
     "output_type": "stream",
     "text": [
      "Saving diagnostic plots to bh_dir : /Volumes/UCDN/datasets/SDM/utility/23_SDM_0004_E/crdm/bh\n"
     ]
    },
    {
     "name": "stderr",
     "output_type": "stream",
     "text": [
      "The PostScript backend does not support transparency; partially transparent artists will be rendered opaque.\n"
     ]
    },
    {
     "name": "stdout",
     "output_type": "stream",
     "text": [
      "Saving diagnostic plots to bh_dir : /Volumes/UCDN/datasets/SDM/utility/23_SDM_0004_N/crdm/bh\n"
     ]
    },
    {
     "name": "stderr",
     "output_type": "stream",
     "text": [
      "The PostScript backend does not support transparency; partially transparent artists will be rendered opaque.\n"
     ]
    },
    {
     "name": "stdout",
     "output_type": "stream",
     "text": [
      "Saving diagnostic plots to bh_dir : /Volumes/UCDN/datasets/SDM/utility/23_SDM_0005_E/crdm/bh\n"
     ]
    },
    {
     "name": "stderr",
     "output_type": "stream",
     "text": [
      "The PostScript backend does not support transparency; partially transparent artists will be rendered opaque.\n"
     ]
    },
    {
     "name": "stdout",
     "output_type": "stream",
     "text": [
      "Saving diagnostic plots to bh_dir : /Volumes/UCDN/datasets/SDM/utility/23_SDM_0005_N/crdm/bh\n"
     ]
    }
   ],
   "source": [
    "# Set the paths needed to find the data and load\n",
    "\n",
    "# The user of the script can edit root_dir and dataset variables to get it to work for their dataset.\n",
    "# This script will work given the data is stored in the appropriate BIDS format in the split directory\n",
    "root_dir = '/Volumes/UCDN/datasets/'\n",
    "dataset = 'SDM'\n",
    "\n",
    "# log the BHM experiment version, in case we cahnge it in the future\n",
    "experiment='v002'\n",
    "\n",
    "for domain in ['gain','loss','combined']:\n",
    "    utility_dir,save_dir,data = dirs_and_data(root_dir=root_dir,dataset=dataset,domain=domain)\n",
    "    if data.empty:\n",
    "        # catch for when CRDM data by domain is not present\n",
    "        continue\n",
    "    trace_prior,subjects,subj_id = run_BHM(save_dir,experiment,domain,data)\n",
    "    df_bhm = extract_mean(save_dir=save_dir,var_names=['alpha','beta','gamma'],\n",
    "                          subjects=subjects,experiment=experiment,domain=domain)    \n",
    "    for s in set(subj_id):\n",
    "        coords={'alpha_dim_0': [s],'beta_dim_0': [s],'gamma_dim_0':[s]}\n",
    "        diganostic_plots(trace_prior,experiment=experiment,utility_dir=utility_dir,subject=subjects[s],\n",
    "                         coords=coords,var_names=['alpha','beta','gamma'],figsize=(10,10))\n",
    "\n",
    "    "
   ]
  }
 ],
 "metadata": {
  "kernelspec": {
   "display_name": "Python 3.9.12 ('base')",
   "language": "python",
   "name": "python3"
  },
  "language_info": {
   "codemirror_mode": {
    "name": "ipython",
    "version": 3
   },
   "file_extension": ".py",
   "mimetype": "text/x-python",
   "name": "python",
   "nbconvert_exporter": "python",
   "pygments_lexer": "ipython3",
   "version": "3.9.16"
  },
  "orig_nbformat": 4,
  "vscode": {
   "interpreter": {
    "hash": "09d5eda77765311109b2c027e144dcf58f89dd96008cdf29c2e6b03e99df71a0"
   }
  }
 },
 "nbformat": 4,
 "nbformat_minor": 2
}
