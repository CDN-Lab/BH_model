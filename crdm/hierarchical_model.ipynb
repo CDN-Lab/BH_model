{
 "cells": [
  {
   "cell_type": "markdown",
   "metadata": {},
   "source": [
    "# Bayesian parameter estimation \n",
    "\n",
    "Written for CRDM task as part of the IDM dataset collected online with Mturk"
   ]
  },
  {
   "cell_type": "code",
   "execution_count": 16,
   "metadata": {},
   "outputs": [],
   "source": [
    "# Built-in/Generic Imports\n",
    "import os,sys\n",
    "import glob\n",
    "import time\n",
    "\n",
    "# Libs\n",
    "import numpy as np\n",
    "import pandas as pd\n",
    "import pymc as pm\n",
    "import arviz as az\n",
    "import matplotlib.pyplot as plt\n",
    "import pickle\n",
    "\n",
    "import logging\n",
    "logger = logging.getLogger(\"pymc\")\n",
    "logger.setLevel(logging.ERROR)\n"
   ]
  },
  {
   "cell_type": "code",
   "execution_count": 17,
   "metadata": {},
   "outputs": [],
   "source": [
    "# getting the name of the directory\n",
    "# where the this file is present.\n",
    "# current = os.path.dirname(os.path.realpath(__file__))\n",
    "current = os.path.dirname(os.getcwd())\n",
    " \n",
    "# Getting the parent directory name\n",
    "# where the current directory is present.\n",
    "# parent = os.path.dirname(os.path.dirname(current))\n",
    "# parent = current\n",
    "parent = '/Users/pizarror/IDM'\n",
    "# print(parent)\n",
    "#/Users/pizarror/IDM\n",
    "\n",
    "# adding the parent directory to\n",
    "# the sys.path.\n",
    "sys.path.append(parent)\n",
    "\n",
    "from IDM_model.src import model_functions as mf\n"
   ]
  },
  {
   "cell_type": "code",
   "execution_count": 18,
   "metadata": {},
   "outputs": [],
   "source": [
    "def read_load_data(subject='23_IDM_0144',fn='/tmp',alpha0=1.0,cols=[]):\n",
    "    crdm_df = pd.read_csv(fn)\n",
    "    task='crdm'\n",
    "    crdm_df = mf.drop_pract(crdm_df,task=task)\n",
    "    crdm_df,response_rate = mf.drop_non_responses(crdm_df,task=task,verbose=False) \n",
    "    data = mf.get_data(crdm_df,cols,task='crdm')[0]\n",
    "    data['subject'] = subject\n",
    "    return data \n",
    "\n",
    "def diganostic_plots(trace,experiment='experiment',utility_dir='/tmp/',subject='23_IDM_0001',task='crdm',coords={},var_names=['alpha','beta','gamma'],figsize=(10,10)):\n",
    "\n",
    "    bh_dir = os.path.join(utility_dir,subject,task,'bh')\n",
    "    if not os.path.exists(bh_dir):\n",
    "        os.makedirs(bh_dir)\n",
    "    print('Saving diagnostic plots to bh_dir : {}'.format(bh_dir))\n",
    "\n",
    "    title_dict = {'fontsize':15}\n",
    "\n",
    "    # 2by2 : rows 2 varialbes, cols 2 for distribution and sampled values\n",
    "    axes = az.plot_trace(trace, var_names=var_names,coords=coords,compact=False)\n",
    "    for r in range(axes.shape[0]):\n",
    "        for c in range(axes.shape[1]):\n",
    "            axes[r,c].set_title('{}: {}'.format(subject,var_names[r]))\n",
    "    plt.tight_layout()\n",
    "    fig_fn = os.path.join(bh_dir,'{}_{}_trace_plot.{}.eps'.format(subject,task,experiment))\n",
    "    plt.savefig(fig_fn,format='eps')\n",
    "    plt.close()\n",
    "    \n",
    "    axes = az.plot_pair(trace,kind='kde', coords=coords,var_names=var_names,marginals=True)\n",
    "    axes[0,0].set_title(subject,fontdict=title_dict)\n",
    "    axes[1,0].set_ylabel(var_names[1])\n",
    "    axes[1,0].set_xlabel(var_names[0])\n",
    "    plt.tight_layout()\n",
    "    fig_fn = os.path.join(bh_dir,'{}_{}_bivariate_densities.{}.eps'.format(subject,task,experiment))\n",
    "    plt.savefig(fig_fn,format='eps')\n",
    "    plt.close()\n",
    "    \n",
    "    axes = az.plot_posterior(trace,var_names=var_names,coords=coords)\n",
    "    # print(axes.shape)\n",
    "    for c in range(axes.shape[0]):\n",
    "        axes[c].set_title('{}: {}'.format(subject,var_names[c]),fontdict=title_dict)\n",
    "    fig_fn = os.path.join(bh_dir,'{}_{}_posterior.{}.eps'.format(subject,task,experiment))\n",
    "    plt.savefig(fig_fn,format='eps')\n",
    "    plt.close()\n",
    "\n",
    "    fig, axes = plt.subplots(1,len(var_names), figsize=figsize)\n",
    "    az.plot_rank(trace,var_names=var_names,coords=coords,ax=axes)\n",
    "    for c in range(axes.shape[0]):\n",
    "        axes[c].set_title('{}: {}'.format(subject,var_names[c]),fontdict=title_dict)\n",
    "    fig.tight_layout()\n",
    "    fig_fn = os.path.join(bh_dir,'{}_{}_rank_plot_bars.{}.eps'.format(subject,task,experiment))\n",
    "    plt.savefig(fig_fn,format='eps')\n",
    "    plt.close()\n",
    "\n",
    "    fig, axes = plt.subplots(1,len(var_names), figsize=figsize)\n",
    "    axes = az.plot_rank(trace,var_names=var_names, coords=coords,kind=\"vlines\",vlines_kwargs={'lw':0}, marker_vlines_kwargs={'lw':3},ax=axes)\n",
    "    for c in range(axes.shape[0]):\n",
    "        axes[c].set_title('{}: {}'.format(subject,var_names[c]),fontdict=title_dict)\n",
    "    fig.tight_layout()\n",
    "    fig_fn = os.path.join(bh_dir,'{}_{}_rank_plot_lines.{}.eps'.format(subject,task,experiment))\n",
    "    plt.savefig(fig_fn,format='eps')\n",
    "    plt.close()\n",
    "\n",
    "\n"
   ]
  },
  {
   "attachments": {},
   "cell_type": "markdown",
   "metadata": {},
   "source": [
    "## Bayesian Hierarchical Model (BHM)\n",
    "\n",
    "We pooled all data together and ran simple BH model in complete_pool_as_prior.\n",
    "\n",
    "We are using complete pooling to generate priors for when we implement a higherarchical bayesian model."
   ]
  },
  {
   "attachments": {},
   "cell_type": "markdown",
   "metadata": {},
   "source": [
    "### Load data\n",
    "\n",
    "We will load the data from all participants so we can run the modeling schema"
   ]
  },
  {
   "cell_type": "code",
   "execution_count": 19,
   "metadata": {},
   "outputs": [
    {
     "data": {
      "text/html": [
       "<div>\n",
       "<style scoped>\n",
       "    .dataframe tbody tr th:only-of-type {\n",
       "        vertical-align: middle;\n",
       "    }\n",
       "\n",
       "    .dataframe tbody tr th {\n",
       "        vertical-align: top;\n",
       "    }\n",
       "\n",
       "    .dataframe thead th {\n",
       "        text-align: right;\n",
       "    }\n",
       "</style>\n",
       "<table border=\"1\" class=\"dataframe\">\n",
       "  <thead>\n",
       "    <tr style=\"text-align: right;\">\n",
       "      <th></th>\n",
       "      <th>subject</th>\n",
       "      <th>crdm_choice</th>\n",
       "      <th>crdm_sure_p</th>\n",
       "      <th>crdm_lott_p</th>\n",
       "      <th>crdm_sure_amt</th>\n",
       "      <th>crdm_lott_amt</th>\n",
       "      <th>crdm_amb_lev</th>\n",
       "      <th>subject_id</th>\n",
       "    </tr>\n",
       "  </thead>\n",
       "  <tbody>\n",
       "    <tr>\n",
       "      <th>0</th>\n",
       "      <td>23_IDM_0001</td>\n",
       "      <td>1.0</td>\n",
       "      <td>1.0</td>\n",
       "      <td>0.50</td>\n",
       "      <td>5.0</td>\n",
       "      <td>20.0</td>\n",
       "      <td>0.5</td>\n",
       "      <td>0.0</td>\n",
       "    </tr>\n",
       "    <tr>\n",
       "      <th>1</th>\n",
       "      <td>23_IDM_0001</td>\n",
       "      <td>1.0</td>\n",
       "      <td>1.0</td>\n",
       "      <td>0.25</td>\n",
       "      <td>5.0</td>\n",
       "      <td>50.0</td>\n",
       "      <td>0.0</td>\n",
       "      <td>0.0</td>\n",
       "    </tr>\n",
       "    <tr>\n",
       "      <th>2</th>\n",
       "      <td>23_IDM_0001</td>\n",
       "      <td>0.0</td>\n",
       "      <td>1.0</td>\n",
       "      <td>0.75</td>\n",
       "      <td>5.0</td>\n",
       "      <td>5.0</td>\n",
       "      <td>0.0</td>\n",
       "      <td>0.0</td>\n",
       "    </tr>\n",
       "    <tr>\n",
       "      <th>3</th>\n",
       "      <td>23_IDM_0001</td>\n",
       "      <td>0.0</td>\n",
       "      <td>1.0</td>\n",
       "      <td>0.25</td>\n",
       "      <td>5.0</td>\n",
       "      <td>5.0</td>\n",
       "      <td>0.0</td>\n",
       "      <td>0.0</td>\n",
       "    </tr>\n",
       "    <tr>\n",
       "      <th>4</th>\n",
       "      <td>23_IDM_0001</td>\n",
       "      <td>0.0</td>\n",
       "      <td>1.0</td>\n",
       "      <td>0.13</td>\n",
       "      <td>5.0</td>\n",
       "      <td>5.0</td>\n",
       "      <td>0.0</td>\n",
       "      <td>0.0</td>\n",
       "    </tr>\n",
       "    <tr>\n",
       "      <th>5</th>\n",
       "      <td>23_IDM_0001</td>\n",
       "      <td>1.0</td>\n",
       "      <td>1.0</td>\n",
       "      <td>0.50</td>\n",
       "      <td>5.0</td>\n",
       "      <td>20.0</td>\n",
       "      <td>0.0</td>\n",
       "      <td>0.0</td>\n",
       "    </tr>\n",
       "    <tr>\n",
       "      <th>6</th>\n",
       "      <td>23_IDM_0001</td>\n",
       "      <td>1.0</td>\n",
       "      <td>1.0</td>\n",
       "      <td>0.38</td>\n",
       "      <td>5.0</td>\n",
       "      <td>20.0</td>\n",
       "      <td>0.0</td>\n",
       "      <td>0.0</td>\n",
       "    </tr>\n",
       "    <tr>\n",
       "      <th>7</th>\n",
       "      <td>23_IDM_0001</td>\n",
       "      <td>1.0</td>\n",
       "      <td>1.0</td>\n",
       "      <td>0.38</td>\n",
       "      <td>5.0</td>\n",
       "      <td>50.0</td>\n",
       "      <td>0.0</td>\n",
       "      <td>0.0</td>\n",
       "    </tr>\n",
       "    <tr>\n",
       "      <th>8</th>\n",
       "      <td>23_IDM_0001</td>\n",
       "      <td>0.0</td>\n",
       "      <td>1.0</td>\n",
       "      <td>0.38</td>\n",
       "      <td>5.0</td>\n",
       "      <td>5.0</td>\n",
       "      <td>0.0</td>\n",
       "      <td>0.0</td>\n",
       "    </tr>\n",
       "    <tr>\n",
       "      <th>9</th>\n",
       "      <td>23_IDM_0001</td>\n",
       "      <td>1.0</td>\n",
       "      <td>1.0</td>\n",
       "      <td>0.25</td>\n",
       "      <td>5.0</td>\n",
       "      <td>40.0</td>\n",
       "      <td>0.0</td>\n",
       "      <td>0.0</td>\n",
       "    </tr>\n",
       "  </tbody>\n",
       "</table>\n",
       "</div>"
      ],
      "text/plain": [
       "       subject  crdm_choice  crdm_sure_p  crdm_lott_p  crdm_sure_amt   \n",
       "0  23_IDM_0001          1.0          1.0         0.50            5.0  \\\n",
       "1  23_IDM_0001          1.0          1.0         0.25            5.0   \n",
       "2  23_IDM_0001          0.0          1.0         0.75            5.0   \n",
       "3  23_IDM_0001          0.0          1.0         0.25            5.0   \n",
       "4  23_IDM_0001          0.0          1.0         0.13            5.0   \n",
       "5  23_IDM_0001          1.0          1.0         0.50            5.0   \n",
       "6  23_IDM_0001          1.0          1.0         0.38            5.0   \n",
       "7  23_IDM_0001          1.0          1.0         0.38            5.0   \n",
       "8  23_IDM_0001          0.0          1.0         0.38            5.0   \n",
       "9  23_IDM_0001          1.0          1.0         0.25            5.0   \n",
       "\n",
       "   crdm_lott_amt  crdm_amb_lev  subject_id  \n",
       "0           20.0           0.5         0.0  \n",
       "1           50.0           0.0         0.0  \n",
       "2            5.0           0.0         0.0  \n",
       "3            5.0           0.0         0.0  \n",
       "4            5.0           0.0         0.0  \n",
       "5           20.0           0.0         0.0  \n",
       "6           20.0           0.0         0.0  \n",
       "7           50.0           0.0         0.0  \n",
       "8            5.0           0.0         0.0  \n",
       "9           40.0           0.0         0.0  "
      ]
     },
     "execution_count": 19,
     "metadata": {},
     "output_type": "execute_result"
    }
   ],
   "source": [
    "# Takes about 10 seconds\n",
    "\n",
    "# we will change this when we change utility to 1st level analysis (or split)\n",
    "split_dir = '/Volumes/UCDN/datasets/IDM/split/'\n",
    "utility_dir = '/Volumes/UCDN/datasets/IDM/utility/'\n",
    "save_dir = '/Volumes/UCDN/datasets/IDM/utility/BHM/crdm'\n",
    "subjs = sorted(glob.glob(os.path.join(split_dir,'23_IDM_*')))\n",
    "task = 'crdm'\n",
    "cols = ['crdm_choice','crdm_sure_p','crdm_lott_p','crdm_sure_amt','crdm_lott_amt','crdm_amb_lev']\n",
    "data = pd.DataFrame(columns=['subject']+cols)\n",
    "\n",
    "for subj_id,s in enumerate(subjs):\n",
    "    subject = os.path.basename(s)\n",
    "    fn  = os.path.join(s,task,'{}_{}.csv'.format(os.path.basename(s),task))\n",
    "    if os.path.exists(fn):\n",
    "        subj_data = read_load_data(subject=subject,fn=fn,alpha0=1.0,cols=cols)\n",
    "        for c in cols:\n",
    "            subj_data[c] = subj_data[c].astype(float)        \n",
    "        subj_data['subject_id'] = int(subj_id)\n",
    "        data = pd.concat([data,subj_data],ignore_index=True)\n",
    "\n",
    "data.head(10)\n"
   ]
  },
  {
   "cell_type": "code",
   "execution_count": 20,
   "metadata": {},
   "outputs": [],
   "source": [
    "\n",
    "subjects = data['subject'].unique()\n",
    "# subjects = subjects[:10]\n",
    "# print(subjects)\n",
    "data = data.loc[data['subject'].isin(subjects)]\n"
   ]
  },
  {
   "cell_type": "code",
   "execution_count": 21,
   "metadata": {},
   "outputs": [],
   "source": [
    "\n",
    "subjects = data['subject'].unique()\n",
    "nb_subj = subjects.shape[0]\n",
    "nb_trials = data.shape[0]//nb_subj\n",
    "subj_id_list = data['subject_id'].to_list()\n",
    "subj_id = [int(s) for s in subj_id_list]\n",
    "\n",
    "# subj_id = data['subject'].to_list()\n",
    "\n",
    "old_id = np.array([ [s]*nb_trials for s in range(nb_subj) ]).flatten()\n",
    "\n",
    "sure_p = data['crdm_sure_p'].values\n",
    "lott_p = data['crdm_lott_p'].values\n",
    "sure_amt = data['crdm_sure_amt'].values\n",
    "lott_amt = data['crdm_lott_amt'].values\n",
    "ambig = data['crdm_amb_lev'].values\n",
    "choices = data['crdm_choice'].values\n"
   ]
  },
  {
   "cell_type": "markdown",
   "metadata": {},
   "source": [
    "### Bayesian Hierarchical Model\n",
    "\n",
    "Developed under parameter receovery\n"
   ]
  },
  {
   "cell_type": "code",
   "execution_count": 22,
   "metadata": {},
   "outputs": [
    {
     "name": "stderr",
     "output_type": "stream",
     "text": [
      "/Users/pizarror/opt/miniconda/envs/idm_jupy/lib/python3.9/site-packages/arviz/stats/diagnostics.py:592: RuntimeWarning: invalid value encountered in scalar divide\n",
      "  (between_chain_variance / within_chain_variance + num_samples - 1) / (num_samples)\n",
      "/Users/pizarror/opt/miniconda/envs/idm_jupy/lib/python3.9/site-packages/arviz/stats/diagnostics.py:592: RuntimeWarning: invalid value encountered in scalar divide\n",
      "  (between_chain_variance / within_chain_variance + num_samples - 1) / (num_samples)\n"
     ]
    },
    {
     "name": "stdout",
     "output_type": "stream",
     "text": [
      "Saving to : /Volumes/UCDN/datasets/IDM/utility/BHM/crdm/BHM_model_summary_v002.csv\n",
      "Saving to : /Volumes/UCDN/datasets/IDM/utility/BHM/crdm/BHM_model_trace_v002.pkl\n",
      "Time to complete 149 aggregate BHM : 24.833476114273072 minutes\n"
     ]
    }
   ],
   "source": [
    "tStep1 = time.time()\n",
    "\n",
    "# We will fit a model for each subject\n",
    "with pm.Model() as model_simple:\n",
    "\n",
    "    # Hyperparameters for alpha, beta\n",
    "    mu_alpha_hyper = pm.Normal('mu_alpha_hyper',mu=-0.635,sigma=0.05)\n",
    "    sd_alpha_hyper = pm.Normal('sd_alpha_hyper',mu=0.418,sigma=0.01)\n",
    "\n",
    "    mu_beta_hyper = pm.Normal('mu_beta_hyper',mu=0.254,sigma=0.05)\n",
    "    sd_beta_hyper = pm.Normal('sd_beta_hyper',mu=0.575,sigma=0.01)\n",
    "    \n",
    "    # mu_gamma_hyper = pm.Normal('mu_gamma_hyper',mu=3.011,sigma=0.05)\n",
    "    sd_gamma_hyper = pm.Normal('sd_gamma_hyper',mu=2.046,sigma=0.01)\n",
    "\n",
    "    alpha = pm.LogNormal('alpha',mu=mu_alpha_hyper, sigma=sd_alpha_hyper,shape=np.size(np.unique(subj_id)))\n",
    "    beta = pm.Normal('beta',mu=mu_beta_hyper,sigma=sd_beta_hyper,shape=np.size(np.unique(subj_id)))\n",
    "    gamma = pm.HalfNormal('gamma',sigma=sd_gamma_hyper,shape=np.size(np.unique(subj_id)))\n",
    "    \n",
    "    prob = pm.Deterministic('prob', 1 / (1 + pm.math.exp(-gamma[subj_id] * \n",
    "                                                            ((lott_amt**alpha[subj_id])*(lott_p-beta[subj_id]*ambig/2)\n",
    "                                                            - (sure_amt**alpha[subj_id])*sure_p)))) \n",
    "    \n",
    "    y_1 = pm.Bernoulli('y_1',p=prob,observed=choices)\n",
    "\n",
    "    # trace_prior = pm.sample(100, tune=20, cores=2,target_accept=0.95,progressbar=False)\n",
    "    trace_prior = pm.sample(10000, tune=1000, cores=5,target_accept=0.99,progressbar=False)\n",
    "\n",
    "\n",
    "\n",
    "# This is how you get a nice array. Note that this returns a pandas DataFrame, not a numpy array. Indexing is totally different.\n",
    "summary= az.summary(trace_prior,round_to=10)\n",
    "fn = os.path.join(save_dir,'BHM_model_summary_v002.csv')\n",
    "print('Saving to : {}'.format(fn))\n",
    "summary.to_csv(fn)\n",
    "\n",
    "fn = os.path.join(save_dir,'BHM_model_trace_v002.pkl')\n",
    "print('Saving to : {}'.format(fn))\n",
    "with open(fn,'wb') as buff:\n",
    "    pickle.dump({'trace':trace_prior},buff)\n",
    "    # pm.save_trace(trace_prior,fn)\n",
    "\n",
    "print('Time to complete {} aggregate BHM : {} minutes'.format(len(subjects),(time.time() - tStep1)/60.0))\n"
   ]
  },
  {
   "cell_type": "markdown",
   "metadata": {},
   "source": [
    "### Extract parameter estimates and save\n",
    "\n",
    "We can incorporate this into the script above"
   ]
  },
  {
   "cell_type": "code",
   "execution_count": 23,
   "metadata": {},
   "outputs": [
    {
     "data": {
      "text/html": [
       "<div>\n",
       "<style scoped>\n",
       "    .dataframe tbody tr th:only-of-type {\n",
       "        vertical-align: middle;\n",
       "    }\n",
       "\n",
       "    .dataframe tbody tr th {\n",
       "        vertical-align: top;\n",
       "    }\n",
       "\n",
       "    .dataframe thead th {\n",
       "        text-align: right;\n",
       "    }\n",
       "</style>\n",
       "<table border=\"1\" class=\"dataframe\">\n",
       "  <thead>\n",
       "    <tr style=\"text-align: right;\">\n",
       "      <th></th>\n",
       "      <th>alpha</th>\n",
       "      <th>beta</th>\n",
       "      <th>gamma</th>\n",
       "      <th>subjects</th>\n",
       "    </tr>\n",
       "  </thead>\n",
       "  <tbody>\n",
       "    <tr>\n",
       "      <th>0</th>\n",
       "      <td>1.236226</td>\n",
       "      <td>0.472010</td>\n",
       "      <td>0.825023</td>\n",
       "      <td>23_IDM_0001</td>\n",
       "    </tr>\n",
       "    <tr>\n",
       "      <th>1</th>\n",
       "      <td>0.147275</td>\n",
       "      <td>0.751427</td>\n",
       "      <td>5.490793</td>\n",
       "      <td>23_IDM_0002</td>\n",
       "    </tr>\n",
       "    <tr>\n",
       "      <th>2</th>\n",
       "      <td>0.708625</td>\n",
       "      <td>0.264056</td>\n",
       "      <td>1.869803</td>\n",
       "      <td>23_IDM_0003</td>\n",
       "    </tr>\n",
       "    <tr>\n",
       "      <th>3</th>\n",
       "      <td>0.464319</td>\n",
       "      <td>-0.366157</td>\n",
       "      <td>2.320312</td>\n",
       "      <td>23_IDM_0004</td>\n",
       "    </tr>\n",
       "    <tr>\n",
       "      <th>4</th>\n",
       "      <td>0.557125</td>\n",
       "      <td>0.467945</td>\n",
       "      <td>1.720650</td>\n",
       "      <td>23_IDM_0005</td>\n",
       "    </tr>\n",
       "    <tr>\n",
       "      <th>...</th>\n",
       "      <td>...</td>\n",
       "      <td>...</td>\n",
       "      <td>...</td>\n",
       "      <td>...</td>\n",
       "    </tr>\n",
       "    <tr>\n",
       "      <th>144</th>\n",
       "      <td>0.473570</td>\n",
       "      <td>0.507791</td>\n",
       "      <td>3.720521</td>\n",
       "      <td>23_IDM_0145</td>\n",
       "    </tr>\n",
       "    <tr>\n",
       "      <th>145</th>\n",
       "      <td>0.684302</td>\n",
       "      <td>0.006735</td>\n",
       "      <td>1.595158</td>\n",
       "      <td>23_IDM_0146</td>\n",
       "    </tr>\n",
       "    <tr>\n",
       "      <th>146</th>\n",
       "      <td>0.263881</td>\n",
       "      <td>0.890332</td>\n",
       "      <td>5.641400</td>\n",
       "      <td>23_IDM_0147</td>\n",
       "    </tr>\n",
       "    <tr>\n",
       "      <th>147</th>\n",
       "      <td>0.592807</td>\n",
       "      <td>0.706722</td>\n",
       "      <td>1.005348</td>\n",
       "      <td>23_IDM_0148</td>\n",
       "    </tr>\n",
       "    <tr>\n",
       "      <th>148</th>\n",
       "      <td>0.597158</td>\n",
       "      <td>0.305126</td>\n",
       "      <td>2.230458</td>\n",
       "      <td>23_IDM_0149</td>\n",
       "    </tr>\n",
       "  </tbody>\n",
       "</table>\n",
       "<p>149 rows × 4 columns</p>\n",
       "</div>"
      ],
      "text/plain": [
       "        alpha      beta     gamma     subjects\n",
       "0    1.236226  0.472010  0.825023  23_IDM_0001\n",
       "1    0.147275  0.751427  5.490793  23_IDM_0002\n",
       "2    0.708625  0.264056  1.869803  23_IDM_0003\n",
       "3    0.464319 -0.366157  2.320312  23_IDM_0004\n",
       "4    0.557125  0.467945  1.720650  23_IDM_0005\n",
       "..        ...       ...       ...          ...\n",
       "144  0.473570  0.507791  3.720521  23_IDM_0145\n",
       "145  0.684302  0.006735  1.595158  23_IDM_0146\n",
       "146  0.263881  0.890332  5.641400  23_IDM_0147\n",
       "147  0.592807  0.706722  1.005348  23_IDM_0148\n",
       "148  0.597158  0.305126  2.230458  23_IDM_0149\n",
       "\n",
       "[149 rows x 4 columns]"
      ]
     },
     "execution_count": 23,
     "metadata": {},
     "output_type": "execute_result"
    }
   ],
   "source": [
    "def extract_mean(fn,var_names=['alpha','beta','gamma'],subjects=[]):\n",
    "    nb_subjects = len(subjects)\n",
    "    df = pd.read_csv(fn,index_col=0)\n",
    "    df_bhm = pd.DataFrame([],columns=var_names)\n",
    "    df_bhm['subject'] = subjects\n",
    "    for var in var_names:\n",
    "        ind_list = ['{}[{}]'.format(var,sub_id) for sub_id in range(nb_subjects)]\n",
    "        df_bhm[var] = df.loc[df.index.isin(ind_list)]['mean'].reset_index(drop=True)\n",
    "    return df_bhm\n",
    "\n",
    "experiment='v002'\n",
    "bhm_dir = '/Volumes/UCDN/datasets/IDM/utility/BHM/'\n",
    "bhm_fn = os.path.join(bhm_dir,'crdm','BHM_model_summary_{}.csv'.format(experiment))\n",
    "df_bhm = extract_mean(bhm_fn,var_names=['alpha','beta','gamma'],subjects=subjects)\n",
    "split_CRDM_fn = os.path.join(bhm_dir,'split_CRDM_BHM.csv')\n",
    "df_bhm.to_csv(split_CRDM_fn)\n",
    "df_bhm"
   ]
  },
  {
   "cell_type": "markdown",
   "metadata": {},
   "source": [
    "### Diagnostic plots\n",
    "\n",
    "Too many subjects to run `diagnistic_plots()`  but can run them individually\n",
    "Trace, posterior, rank plots\n",
    "\n",
    "... need to figure out for each subject how to plot_pair() which plots the bivariate distirbutions\n"
   ]
  },
  {
   "cell_type": "code",
   "execution_count": 24,
   "metadata": {},
   "outputs": [
    {
     "name": "stdout",
     "output_type": "stream",
     "text": [
      "Saving diagnostic plots to bh_dir : /Volumes/UCDN/datasets/IDM/utility/23_IDM_0001/crdm/bh\n"
     ]
    },
    {
     "name": "stderr",
     "output_type": "stream",
     "text": [
      "The PostScript backend does not support transparency; partially transparent artists will be rendered opaque.\n"
     ]
    },
    {
     "name": "stdout",
     "output_type": "stream",
     "text": [
      "Saving diagnostic plots to bh_dir : /Volumes/UCDN/datasets/IDM/utility/23_IDM_0002/crdm/bh\n"
     ]
    },
    {
     "name": "stderr",
     "output_type": "stream",
     "text": [
      "The PostScript backend does not support transparency; partially transparent artists will be rendered opaque.\n"
     ]
    },
    {
     "name": "stdout",
     "output_type": "stream",
     "text": [
      "Saving diagnostic plots to bh_dir : /Volumes/UCDN/datasets/IDM/utility/23_IDM_0003/crdm/bh\n"
     ]
    },
    {
     "name": "stderr",
     "output_type": "stream",
     "text": [
      "The PostScript backend does not support transparency; partially transparent artists will be rendered opaque.\n",
      "The PostScript backend does not support transparency; partially transparent artists will be rendered opaque.\n"
     ]
    },
    {
     "name": "stdout",
     "output_type": "stream",
     "text": [
      "Saving diagnostic plots to bh_dir : /Volumes/UCDN/datasets/IDM/utility/23_IDM_0004/crdm/bh\n"
     ]
    },
    {
     "name": "stderr",
     "output_type": "stream",
     "text": [
      "The PostScript backend does not support transparency; partially transparent artists will be rendered opaque.\n"
     ]
    },
    {
     "name": "stdout",
     "output_type": "stream",
     "text": [
      "Saving diagnostic plots to bh_dir : /Volumes/UCDN/datasets/IDM/utility/23_IDM_0005/crdm/bh\n"
     ]
    },
    {
     "name": "stderr",
     "output_type": "stream",
     "text": [
      "The PostScript backend does not support transparency; partially transparent artists will be rendered opaque.\n"
     ]
    },
    {
     "name": "stdout",
     "output_type": "stream",
     "text": [
      "Saving diagnostic plots to bh_dir : /Volumes/UCDN/datasets/IDM/utility/23_IDM_0006/crdm/bh\n"
     ]
    },
    {
     "name": "stderr",
     "output_type": "stream",
     "text": [
      "The PostScript backend does not support transparency; partially transparent artists will be rendered opaque.\n"
     ]
    },
    {
     "name": "stdout",
     "output_type": "stream",
     "text": [
      "Saving diagnostic plots to bh_dir : /Volumes/UCDN/datasets/IDM/utility/23_IDM_0007/crdm/bh\n"
     ]
    },
    {
     "name": "stderr",
     "output_type": "stream",
     "text": [
      "The PostScript backend does not support transparency; partially transparent artists will be rendered opaque.\n"
     ]
    },
    {
     "name": "stdout",
     "output_type": "stream",
     "text": [
      "Saving diagnostic plots to bh_dir : /Volumes/UCDN/datasets/IDM/utility/23_IDM_0008/crdm/bh\n"
     ]
    },
    {
     "name": "stderr",
     "output_type": "stream",
     "text": [
      "The PostScript backend does not support transparency; partially transparent artists will be rendered opaque.\n"
     ]
    },
    {
     "name": "stdout",
     "output_type": "stream",
     "text": [
      "Saving diagnostic plots to bh_dir : /Volumes/UCDN/datasets/IDM/utility/23_IDM_0009/crdm/bh\n"
     ]
    },
    {
     "name": "stderr",
     "output_type": "stream",
     "text": [
      "The PostScript backend does not support transparency; partially transparent artists will be rendered opaque.\n"
     ]
    },
    {
     "name": "stdout",
     "output_type": "stream",
     "text": [
      "Saving diagnostic plots to bh_dir : /Volumes/UCDN/datasets/IDM/utility/23_IDM_0010/crdm/bh\n"
     ]
    },
    {
     "name": "stderr",
     "output_type": "stream",
     "text": [
      "The PostScript backend does not support transparency; partially transparent artists will be rendered opaque.\n"
     ]
    },
    {
     "name": "stdout",
     "output_type": "stream",
     "text": [
      "Saving diagnostic plots to bh_dir : /Volumes/UCDN/datasets/IDM/utility/23_IDM_0011/crdm/bh\n"
     ]
    },
    {
     "name": "stderr",
     "output_type": "stream",
     "text": [
      "The PostScript backend does not support transparency; partially transparent artists will be rendered opaque.\n"
     ]
    },
    {
     "name": "stdout",
     "output_type": "stream",
     "text": [
      "Saving diagnostic plots to bh_dir : /Volumes/UCDN/datasets/IDM/utility/23_IDM_0012/crdm/bh\n"
     ]
    },
    {
     "name": "stderr",
     "output_type": "stream",
     "text": [
      "The PostScript backend does not support transparency; partially transparent artists will be rendered opaque.\n"
     ]
    },
    {
     "name": "stdout",
     "output_type": "stream",
     "text": [
      "Saving diagnostic plots to bh_dir : /Volumes/UCDN/datasets/IDM/utility/23_IDM_0013/crdm/bh\n"
     ]
    },
    {
     "name": "stderr",
     "output_type": "stream",
     "text": [
      "The PostScript backend does not support transparency; partially transparent artists will be rendered opaque.\n"
     ]
    },
    {
     "name": "stdout",
     "output_type": "stream",
     "text": [
      "Saving diagnostic plots to bh_dir : /Volumes/UCDN/datasets/IDM/utility/23_IDM_0014/crdm/bh\n"
     ]
    },
    {
     "name": "stderr",
     "output_type": "stream",
     "text": [
      "The PostScript backend does not support transparency; partially transparent artists will be rendered opaque.\n"
     ]
    },
    {
     "name": "stdout",
     "output_type": "stream",
     "text": [
      "Saving diagnostic plots to bh_dir : /Volumes/UCDN/datasets/IDM/utility/23_IDM_0015/crdm/bh\n"
     ]
    },
    {
     "name": "stderr",
     "output_type": "stream",
     "text": [
      "The PostScript backend does not support transparency; partially transparent artists will be rendered opaque.\n"
     ]
    },
    {
     "name": "stdout",
     "output_type": "stream",
     "text": [
      "Saving diagnostic plots to bh_dir : /Volumes/UCDN/datasets/IDM/utility/23_IDM_0016/crdm/bh\n"
     ]
    },
    {
     "name": "stderr",
     "output_type": "stream",
     "text": [
      "The PostScript backend does not support transparency; partially transparent artists will be rendered opaque.\n"
     ]
    },
    {
     "name": "stdout",
     "output_type": "stream",
     "text": [
      "Saving diagnostic plots to bh_dir : /Volumes/UCDN/datasets/IDM/utility/23_IDM_0017/crdm/bh\n"
     ]
    },
    {
     "name": "stderr",
     "output_type": "stream",
     "text": [
      "The PostScript backend does not support transparency; partially transparent artists will be rendered opaque.\n"
     ]
    },
    {
     "name": "stdout",
     "output_type": "stream",
     "text": [
      "Saving diagnostic plots to bh_dir : /Volumes/UCDN/datasets/IDM/utility/23_IDM_0018/crdm/bh\n"
     ]
    },
    {
     "name": "stderr",
     "output_type": "stream",
     "text": [
      "The PostScript backend does not support transparency; partially transparent artists will be rendered opaque.\n"
     ]
    },
    {
     "name": "stdout",
     "output_type": "stream",
     "text": [
      "Saving diagnostic plots to bh_dir : /Volumes/UCDN/datasets/IDM/utility/23_IDM_0019/crdm/bh\n"
     ]
    },
    {
     "name": "stderr",
     "output_type": "stream",
     "text": [
      "The PostScript backend does not support transparency; partially transparent artists will be rendered opaque.\n"
     ]
    },
    {
     "name": "stdout",
     "output_type": "stream",
     "text": [
      "Saving diagnostic plots to bh_dir : /Volumes/UCDN/datasets/IDM/utility/23_IDM_0020/crdm/bh\n"
     ]
    },
    {
     "name": "stderr",
     "output_type": "stream",
     "text": [
      "The PostScript backend does not support transparency; partially transparent artists will be rendered opaque.\n"
     ]
    },
    {
     "name": "stdout",
     "output_type": "stream",
     "text": [
      "Saving diagnostic plots to bh_dir : /Volumes/UCDN/datasets/IDM/utility/23_IDM_0021/crdm/bh\n"
     ]
    },
    {
     "name": "stderr",
     "output_type": "stream",
     "text": [
      "The PostScript backend does not support transparency; partially transparent artists will be rendered opaque.\n"
     ]
    },
    {
     "name": "stdout",
     "output_type": "stream",
     "text": [
      "Saving diagnostic plots to bh_dir : /Volumes/UCDN/datasets/IDM/utility/23_IDM_0022/crdm/bh\n"
     ]
    },
    {
     "name": "stderr",
     "output_type": "stream",
     "text": [
      "The PostScript backend does not support transparency; partially transparent artists will be rendered opaque.\n"
     ]
    },
    {
     "name": "stdout",
     "output_type": "stream",
     "text": [
      "Saving diagnostic plots to bh_dir : /Volumes/UCDN/datasets/IDM/utility/23_IDM_0023/crdm/bh\n"
     ]
    },
    {
     "name": "stderr",
     "output_type": "stream",
     "text": [
      "The PostScript backend does not support transparency; partially transparent artists will be rendered opaque.\n"
     ]
    },
    {
     "name": "stdout",
     "output_type": "stream",
     "text": [
      "Saving diagnostic plots to bh_dir : /Volumes/UCDN/datasets/IDM/utility/23_IDM_0024/crdm/bh\n"
     ]
    },
    {
     "name": "stderr",
     "output_type": "stream",
     "text": [
      "The PostScript backend does not support transparency; partially transparent artists will be rendered opaque.\n"
     ]
    },
    {
     "name": "stdout",
     "output_type": "stream",
     "text": [
      "Saving diagnostic plots to bh_dir : /Volumes/UCDN/datasets/IDM/utility/23_IDM_0025/crdm/bh\n"
     ]
    },
    {
     "name": "stderr",
     "output_type": "stream",
     "text": [
      "The PostScript backend does not support transparency; partially transparent artists will be rendered opaque.\n"
     ]
    },
    {
     "name": "stdout",
     "output_type": "stream",
     "text": [
      "Saving diagnostic plots to bh_dir : /Volumes/UCDN/datasets/IDM/utility/23_IDM_0026/crdm/bh\n"
     ]
    },
    {
     "name": "stderr",
     "output_type": "stream",
     "text": [
      "The PostScript backend does not support transparency; partially transparent artists will be rendered opaque.\n"
     ]
    },
    {
     "name": "stdout",
     "output_type": "stream",
     "text": [
      "Saving diagnostic plots to bh_dir : /Volumes/UCDN/datasets/IDM/utility/23_IDM_0027/crdm/bh\n"
     ]
    },
    {
     "name": "stderr",
     "output_type": "stream",
     "text": [
      "The PostScript backend does not support transparency; partially transparent artists will be rendered opaque.\n"
     ]
    },
    {
     "name": "stdout",
     "output_type": "stream",
     "text": [
      "Saving diagnostic plots to bh_dir : /Volumes/UCDN/datasets/IDM/utility/23_IDM_0028/crdm/bh\n"
     ]
    },
    {
     "name": "stderr",
     "output_type": "stream",
     "text": [
      "The PostScript backend does not support transparency; partially transparent artists will be rendered opaque.\n"
     ]
    },
    {
     "name": "stdout",
     "output_type": "stream",
     "text": [
      "Saving diagnostic plots to bh_dir : /Volumes/UCDN/datasets/IDM/utility/23_IDM_0029/crdm/bh\n"
     ]
    },
    {
     "name": "stderr",
     "output_type": "stream",
     "text": [
      "The PostScript backend does not support transparency; partially transparent artists will be rendered opaque.\n"
     ]
    },
    {
     "name": "stdout",
     "output_type": "stream",
     "text": [
      "Saving diagnostic plots to bh_dir : /Volumes/UCDN/datasets/IDM/utility/23_IDM_0030/crdm/bh\n"
     ]
    },
    {
     "name": "stderr",
     "output_type": "stream",
     "text": [
      "The PostScript backend does not support transparency; partially transparent artists will be rendered opaque.\n"
     ]
    },
    {
     "name": "stdout",
     "output_type": "stream",
     "text": [
      "Saving diagnostic plots to bh_dir : /Volumes/UCDN/datasets/IDM/utility/23_IDM_0031/crdm/bh\n"
     ]
    },
    {
     "name": "stderr",
     "output_type": "stream",
     "text": [
      "The PostScript backend does not support transparency; partially transparent artists will be rendered opaque.\n"
     ]
    },
    {
     "name": "stdout",
     "output_type": "stream",
     "text": [
      "Saving diagnostic plots to bh_dir : /Volumes/UCDN/datasets/IDM/utility/23_IDM_0032/crdm/bh\n"
     ]
    },
    {
     "name": "stderr",
     "output_type": "stream",
     "text": [
      "The PostScript backend does not support transparency; partially transparent artists will be rendered opaque.\n"
     ]
    },
    {
     "name": "stdout",
     "output_type": "stream",
     "text": [
      "Saving diagnostic plots to bh_dir : /Volumes/UCDN/datasets/IDM/utility/23_IDM_0033/crdm/bh\n"
     ]
    },
    {
     "name": "stderr",
     "output_type": "stream",
     "text": [
      "The PostScript backend does not support transparency; partially transparent artists will be rendered opaque.\n"
     ]
    },
    {
     "name": "stdout",
     "output_type": "stream",
     "text": [
      "Saving diagnostic plots to bh_dir : /Volumes/UCDN/datasets/IDM/utility/23_IDM_0034/crdm/bh\n"
     ]
    },
    {
     "name": "stderr",
     "output_type": "stream",
     "text": [
      "The PostScript backend does not support transparency; partially transparent artists will be rendered opaque.\n"
     ]
    },
    {
     "name": "stdout",
     "output_type": "stream",
     "text": [
      "Saving diagnostic plots to bh_dir : /Volumes/UCDN/datasets/IDM/utility/23_IDM_0035/crdm/bh\n"
     ]
    },
    {
     "name": "stderr",
     "output_type": "stream",
     "text": [
      "The PostScript backend does not support transparency; partially transparent artists will be rendered opaque.\n"
     ]
    },
    {
     "name": "stdout",
     "output_type": "stream",
     "text": [
      "Saving diagnostic plots to bh_dir : /Volumes/UCDN/datasets/IDM/utility/23_IDM_0036/crdm/bh\n"
     ]
    },
    {
     "name": "stderr",
     "output_type": "stream",
     "text": [
      "The PostScript backend does not support transparency; partially transparent artists will be rendered opaque.\n"
     ]
    },
    {
     "name": "stdout",
     "output_type": "stream",
     "text": [
      "Saving diagnostic plots to bh_dir : /Volumes/UCDN/datasets/IDM/utility/23_IDM_0037/crdm/bh\n"
     ]
    },
    {
     "name": "stderr",
     "output_type": "stream",
     "text": [
      "The PostScript backend does not support transparency; partially transparent artists will be rendered opaque.\n"
     ]
    },
    {
     "name": "stdout",
     "output_type": "stream",
     "text": [
      "Saving diagnostic plots to bh_dir : /Volumes/UCDN/datasets/IDM/utility/23_IDM_0038/crdm/bh\n"
     ]
    },
    {
     "name": "stderr",
     "output_type": "stream",
     "text": [
      "The PostScript backend does not support transparency; partially transparent artists will be rendered opaque.\n"
     ]
    },
    {
     "name": "stdout",
     "output_type": "stream",
     "text": [
      "Saving diagnostic plots to bh_dir : /Volumes/UCDN/datasets/IDM/utility/23_IDM_0039/crdm/bh\n"
     ]
    },
    {
     "name": "stderr",
     "output_type": "stream",
     "text": [
      "The PostScript backend does not support transparency; partially transparent artists will be rendered opaque.\n"
     ]
    },
    {
     "name": "stdout",
     "output_type": "stream",
     "text": [
      "Saving diagnostic plots to bh_dir : /Volumes/UCDN/datasets/IDM/utility/23_IDM_0040/crdm/bh\n"
     ]
    },
    {
     "name": "stderr",
     "output_type": "stream",
     "text": [
      "The PostScript backend does not support transparency; partially transparent artists will be rendered opaque.\n"
     ]
    },
    {
     "name": "stdout",
     "output_type": "stream",
     "text": [
      "Saving diagnostic plots to bh_dir : /Volumes/UCDN/datasets/IDM/utility/23_IDM_0041/crdm/bh\n"
     ]
    },
    {
     "name": "stderr",
     "output_type": "stream",
     "text": [
      "The PostScript backend does not support transparency; partially transparent artists will be rendered opaque.\n"
     ]
    },
    {
     "name": "stdout",
     "output_type": "stream",
     "text": [
      "Saving diagnostic plots to bh_dir : /Volumes/UCDN/datasets/IDM/utility/23_IDM_0042/crdm/bh\n"
     ]
    },
    {
     "name": "stderr",
     "output_type": "stream",
     "text": [
      "The PostScript backend does not support transparency; partially transparent artists will be rendered opaque.\n"
     ]
    },
    {
     "name": "stdout",
     "output_type": "stream",
     "text": [
      "Saving diagnostic plots to bh_dir : /Volumes/UCDN/datasets/IDM/utility/23_IDM_0043/crdm/bh\n"
     ]
    },
    {
     "name": "stderr",
     "output_type": "stream",
     "text": [
      "The PostScript backend does not support transparency; partially transparent artists will be rendered opaque.\n"
     ]
    },
    {
     "name": "stdout",
     "output_type": "stream",
     "text": [
      "Saving diagnostic plots to bh_dir : /Volumes/UCDN/datasets/IDM/utility/23_IDM_0044/crdm/bh\n"
     ]
    },
    {
     "name": "stderr",
     "output_type": "stream",
     "text": [
      "The PostScript backend does not support transparency; partially transparent artists will be rendered opaque.\n"
     ]
    },
    {
     "name": "stdout",
     "output_type": "stream",
     "text": [
      "Saving diagnostic plots to bh_dir : /Volumes/UCDN/datasets/IDM/utility/23_IDM_0045/crdm/bh\n"
     ]
    },
    {
     "name": "stderr",
     "output_type": "stream",
     "text": [
      "The PostScript backend does not support transparency; partially transparent artists will be rendered opaque.\n"
     ]
    },
    {
     "name": "stdout",
     "output_type": "stream",
     "text": [
      "Saving diagnostic plots to bh_dir : /Volumes/UCDN/datasets/IDM/utility/23_IDM_0046/crdm/bh\n"
     ]
    },
    {
     "name": "stderr",
     "output_type": "stream",
     "text": [
      "The PostScript backend does not support transparency; partially transparent artists will be rendered opaque.\n"
     ]
    },
    {
     "name": "stdout",
     "output_type": "stream",
     "text": [
      "Saving diagnostic plots to bh_dir : /Volumes/UCDN/datasets/IDM/utility/23_IDM_0047/crdm/bh\n"
     ]
    },
    {
     "name": "stderr",
     "output_type": "stream",
     "text": [
      "The PostScript backend does not support transparency; partially transparent artists will be rendered opaque.\n"
     ]
    },
    {
     "name": "stdout",
     "output_type": "stream",
     "text": [
      "Saving diagnostic plots to bh_dir : /Volumes/UCDN/datasets/IDM/utility/23_IDM_0048/crdm/bh\n"
     ]
    },
    {
     "name": "stderr",
     "output_type": "stream",
     "text": [
      "The PostScript backend does not support transparency; partially transparent artists will be rendered opaque.\n"
     ]
    },
    {
     "name": "stdout",
     "output_type": "stream",
     "text": [
      "Saving diagnostic plots to bh_dir : /Volumes/UCDN/datasets/IDM/utility/23_IDM_0049/crdm/bh\n"
     ]
    },
    {
     "name": "stderr",
     "output_type": "stream",
     "text": [
      "The PostScript backend does not support transparency; partially transparent artists will be rendered opaque.\n"
     ]
    },
    {
     "name": "stdout",
     "output_type": "stream",
     "text": [
      "Saving diagnostic plots to bh_dir : /Volumes/UCDN/datasets/IDM/utility/23_IDM_0050/crdm/bh\n"
     ]
    },
    {
     "name": "stderr",
     "output_type": "stream",
     "text": [
      "The PostScript backend does not support transparency; partially transparent artists will be rendered opaque.\n"
     ]
    },
    {
     "name": "stdout",
     "output_type": "stream",
     "text": [
      "Saving diagnostic plots to bh_dir : /Volumes/UCDN/datasets/IDM/utility/23_IDM_0051/crdm/bh\n"
     ]
    },
    {
     "name": "stderr",
     "output_type": "stream",
     "text": [
      "The PostScript backend does not support transparency; partially transparent artists will be rendered opaque.\n"
     ]
    },
    {
     "name": "stdout",
     "output_type": "stream",
     "text": [
      "Saving diagnostic plots to bh_dir : /Volumes/UCDN/datasets/IDM/utility/23_IDM_0052/crdm/bh\n"
     ]
    },
    {
     "name": "stderr",
     "output_type": "stream",
     "text": [
      "The PostScript backend does not support transparency; partially transparent artists will be rendered opaque.\n"
     ]
    },
    {
     "name": "stdout",
     "output_type": "stream",
     "text": [
      "Saving diagnostic plots to bh_dir : /Volumes/UCDN/datasets/IDM/utility/23_IDM_0053/crdm/bh\n"
     ]
    },
    {
     "name": "stderr",
     "output_type": "stream",
     "text": [
      "The PostScript backend does not support transparency; partially transparent artists will be rendered opaque.\n"
     ]
    },
    {
     "name": "stdout",
     "output_type": "stream",
     "text": [
      "Saving diagnostic plots to bh_dir : /Volumes/UCDN/datasets/IDM/utility/23_IDM_0054/crdm/bh\n"
     ]
    },
    {
     "name": "stderr",
     "output_type": "stream",
     "text": [
      "The PostScript backend does not support transparency; partially transparent artists will be rendered opaque.\n"
     ]
    },
    {
     "name": "stdout",
     "output_type": "stream",
     "text": [
      "Saving diagnostic plots to bh_dir : /Volumes/UCDN/datasets/IDM/utility/23_IDM_0055/crdm/bh\n"
     ]
    },
    {
     "name": "stderr",
     "output_type": "stream",
     "text": [
      "The PostScript backend does not support transparency; partially transparent artists will be rendered opaque.\n"
     ]
    },
    {
     "name": "stdout",
     "output_type": "stream",
     "text": [
      "Saving diagnostic plots to bh_dir : /Volumes/UCDN/datasets/IDM/utility/23_IDM_0056/crdm/bh\n"
     ]
    },
    {
     "name": "stderr",
     "output_type": "stream",
     "text": [
      "The PostScript backend does not support transparency; partially transparent artists will be rendered opaque.\n"
     ]
    },
    {
     "name": "stdout",
     "output_type": "stream",
     "text": [
      "Saving diagnostic plots to bh_dir : /Volumes/UCDN/datasets/IDM/utility/23_IDM_0057/crdm/bh\n"
     ]
    },
    {
     "name": "stderr",
     "output_type": "stream",
     "text": [
      "The PostScript backend does not support transparency; partially transparent artists will be rendered opaque.\n"
     ]
    },
    {
     "name": "stdout",
     "output_type": "stream",
     "text": [
      "Saving diagnostic plots to bh_dir : /Volumes/UCDN/datasets/IDM/utility/23_IDM_0058/crdm/bh\n"
     ]
    },
    {
     "name": "stderr",
     "output_type": "stream",
     "text": [
      "The PostScript backend does not support transparency; partially transparent artists will be rendered opaque.\n"
     ]
    },
    {
     "name": "stdout",
     "output_type": "stream",
     "text": [
      "Saving diagnostic plots to bh_dir : /Volumes/UCDN/datasets/IDM/utility/23_IDM_0059/crdm/bh\n"
     ]
    },
    {
     "name": "stderr",
     "output_type": "stream",
     "text": [
      "The PostScript backend does not support transparency; partially transparent artists will be rendered opaque.\n"
     ]
    },
    {
     "name": "stdout",
     "output_type": "stream",
     "text": [
      "Saving diagnostic plots to bh_dir : /Volumes/UCDN/datasets/IDM/utility/23_IDM_0060/crdm/bh\n"
     ]
    },
    {
     "name": "stderr",
     "output_type": "stream",
     "text": [
      "The PostScript backend does not support transparency; partially transparent artists will be rendered opaque.\n"
     ]
    },
    {
     "name": "stdout",
     "output_type": "stream",
     "text": [
      "Saving diagnostic plots to bh_dir : /Volumes/UCDN/datasets/IDM/utility/23_IDM_0061/crdm/bh\n"
     ]
    },
    {
     "name": "stderr",
     "output_type": "stream",
     "text": [
      "The PostScript backend does not support transparency; partially transparent artists will be rendered opaque.\n"
     ]
    },
    {
     "name": "stdout",
     "output_type": "stream",
     "text": [
      "Saving diagnostic plots to bh_dir : /Volumes/UCDN/datasets/IDM/utility/23_IDM_0062/crdm/bh\n"
     ]
    },
    {
     "name": "stderr",
     "output_type": "stream",
     "text": [
      "The PostScript backend does not support transparency; partially transparent artists will be rendered opaque.\n"
     ]
    },
    {
     "name": "stdout",
     "output_type": "stream",
     "text": [
      "Saving diagnostic plots to bh_dir : /Volumes/UCDN/datasets/IDM/utility/23_IDM_0063/crdm/bh\n"
     ]
    },
    {
     "name": "stderr",
     "output_type": "stream",
     "text": [
      "The PostScript backend does not support transparency; partially transparent artists will be rendered opaque.\n"
     ]
    },
    {
     "name": "stdout",
     "output_type": "stream",
     "text": [
      "Saving diagnostic plots to bh_dir : /Volumes/UCDN/datasets/IDM/utility/23_IDM_0064/crdm/bh\n"
     ]
    },
    {
     "name": "stderr",
     "output_type": "stream",
     "text": [
      "The PostScript backend does not support transparency; partially transparent artists will be rendered opaque.\n"
     ]
    },
    {
     "name": "stdout",
     "output_type": "stream",
     "text": [
      "Saving diagnostic plots to bh_dir : /Volumes/UCDN/datasets/IDM/utility/23_IDM_0065/crdm/bh\n"
     ]
    },
    {
     "name": "stderr",
     "output_type": "stream",
     "text": [
      "The PostScript backend does not support transparency; partially transparent artists will be rendered opaque.\n"
     ]
    },
    {
     "name": "stdout",
     "output_type": "stream",
     "text": [
      "Saving diagnostic plots to bh_dir : /Volumes/UCDN/datasets/IDM/utility/23_IDM_0066/crdm/bh\n"
     ]
    },
    {
     "name": "stderr",
     "output_type": "stream",
     "text": [
      "The PostScript backend does not support transparency; partially transparent artists will be rendered opaque.\n"
     ]
    },
    {
     "name": "stdout",
     "output_type": "stream",
     "text": [
      "Saving diagnostic plots to bh_dir : /Volumes/UCDN/datasets/IDM/utility/23_IDM_0067/crdm/bh\n"
     ]
    },
    {
     "name": "stderr",
     "output_type": "stream",
     "text": [
      "The PostScript backend does not support transparency; partially transparent artists will be rendered opaque.\n"
     ]
    },
    {
     "name": "stdout",
     "output_type": "stream",
     "text": [
      "Saving diagnostic plots to bh_dir : /Volumes/UCDN/datasets/IDM/utility/23_IDM_0068/crdm/bh\n"
     ]
    },
    {
     "name": "stderr",
     "output_type": "stream",
     "text": [
      "The PostScript backend does not support transparency; partially transparent artists will be rendered opaque.\n"
     ]
    },
    {
     "name": "stdout",
     "output_type": "stream",
     "text": [
      "Saving diagnostic plots to bh_dir : /Volumes/UCDN/datasets/IDM/utility/23_IDM_0069/crdm/bh\n"
     ]
    },
    {
     "name": "stderr",
     "output_type": "stream",
     "text": [
      "The PostScript backend does not support transparency; partially transparent artists will be rendered opaque.\n"
     ]
    },
    {
     "name": "stdout",
     "output_type": "stream",
     "text": [
      "Saving diagnostic plots to bh_dir : /Volumes/UCDN/datasets/IDM/utility/23_IDM_0070/crdm/bh\n"
     ]
    },
    {
     "name": "stderr",
     "output_type": "stream",
     "text": [
      "The PostScript backend does not support transparency; partially transparent artists will be rendered opaque.\n"
     ]
    },
    {
     "name": "stdout",
     "output_type": "stream",
     "text": [
      "Saving diagnostic plots to bh_dir : /Volumes/UCDN/datasets/IDM/utility/23_IDM_0071/crdm/bh\n"
     ]
    },
    {
     "name": "stderr",
     "output_type": "stream",
     "text": [
      "The PostScript backend does not support transparency; partially transparent artists will be rendered opaque.\n"
     ]
    },
    {
     "name": "stdout",
     "output_type": "stream",
     "text": [
      "Saving diagnostic plots to bh_dir : /Volumes/UCDN/datasets/IDM/utility/23_IDM_0072/crdm/bh\n"
     ]
    },
    {
     "name": "stderr",
     "output_type": "stream",
     "text": [
      "The PostScript backend does not support transparency; partially transparent artists will be rendered opaque.\n"
     ]
    },
    {
     "name": "stdout",
     "output_type": "stream",
     "text": [
      "Saving diagnostic plots to bh_dir : /Volumes/UCDN/datasets/IDM/utility/23_IDM_0073/crdm/bh\n"
     ]
    },
    {
     "name": "stderr",
     "output_type": "stream",
     "text": [
      "The PostScript backend does not support transparency; partially transparent artists will be rendered opaque.\n"
     ]
    },
    {
     "name": "stdout",
     "output_type": "stream",
     "text": [
      "Saving diagnostic plots to bh_dir : /Volumes/UCDN/datasets/IDM/utility/23_IDM_0074/crdm/bh\n"
     ]
    },
    {
     "name": "stderr",
     "output_type": "stream",
     "text": [
      "The PostScript backend does not support transparency; partially transparent artists will be rendered opaque.\n"
     ]
    },
    {
     "name": "stdout",
     "output_type": "stream",
     "text": [
      "Saving diagnostic plots to bh_dir : /Volumes/UCDN/datasets/IDM/utility/23_IDM_0075/crdm/bh\n"
     ]
    },
    {
     "name": "stderr",
     "output_type": "stream",
     "text": [
      "The PostScript backend does not support transparency; partially transparent artists will be rendered opaque.\n"
     ]
    },
    {
     "name": "stdout",
     "output_type": "stream",
     "text": [
      "Saving diagnostic plots to bh_dir : /Volumes/UCDN/datasets/IDM/utility/23_IDM_0076/crdm/bh\n"
     ]
    },
    {
     "name": "stderr",
     "output_type": "stream",
     "text": [
      "The PostScript backend does not support transparency; partially transparent artists will be rendered opaque.\n"
     ]
    },
    {
     "name": "stdout",
     "output_type": "stream",
     "text": [
      "Saving diagnostic plots to bh_dir : /Volumes/UCDN/datasets/IDM/utility/23_IDM_0077/crdm/bh\n"
     ]
    },
    {
     "name": "stderr",
     "output_type": "stream",
     "text": [
      "The PostScript backend does not support transparency; partially transparent artists will be rendered opaque.\n"
     ]
    },
    {
     "name": "stdout",
     "output_type": "stream",
     "text": [
      "Saving diagnostic plots to bh_dir : /Volumes/UCDN/datasets/IDM/utility/23_IDM_0078/crdm/bh\n"
     ]
    },
    {
     "name": "stderr",
     "output_type": "stream",
     "text": [
      "The PostScript backend does not support transparency; partially transparent artists will be rendered opaque.\n"
     ]
    },
    {
     "name": "stdout",
     "output_type": "stream",
     "text": [
      "Saving diagnostic plots to bh_dir : /Volumes/UCDN/datasets/IDM/utility/23_IDM_0079/crdm/bh\n"
     ]
    },
    {
     "name": "stderr",
     "output_type": "stream",
     "text": [
      "The PostScript backend does not support transparency; partially transparent artists will be rendered opaque.\n"
     ]
    },
    {
     "name": "stdout",
     "output_type": "stream",
     "text": [
      "Saving diagnostic plots to bh_dir : /Volumes/UCDN/datasets/IDM/utility/23_IDM_0080/crdm/bh\n"
     ]
    },
    {
     "name": "stderr",
     "output_type": "stream",
     "text": [
      "The PostScript backend does not support transparency; partially transparent artists will be rendered opaque.\n"
     ]
    },
    {
     "name": "stdout",
     "output_type": "stream",
     "text": [
      "Saving diagnostic plots to bh_dir : /Volumes/UCDN/datasets/IDM/utility/23_IDM_0081/crdm/bh\n"
     ]
    },
    {
     "name": "stderr",
     "output_type": "stream",
     "text": [
      "The PostScript backend does not support transparency; partially transparent artists will be rendered opaque.\n"
     ]
    },
    {
     "name": "stdout",
     "output_type": "stream",
     "text": [
      "Saving diagnostic plots to bh_dir : /Volumes/UCDN/datasets/IDM/utility/23_IDM_0082/crdm/bh\n"
     ]
    },
    {
     "name": "stderr",
     "output_type": "stream",
     "text": [
      "The PostScript backend does not support transparency; partially transparent artists will be rendered opaque.\n"
     ]
    },
    {
     "name": "stdout",
     "output_type": "stream",
     "text": [
      "Saving diagnostic plots to bh_dir : /Volumes/UCDN/datasets/IDM/utility/23_IDM_0083/crdm/bh\n"
     ]
    },
    {
     "name": "stderr",
     "output_type": "stream",
     "text": [
      "The PostScript backend does not support transparency; partially transparent artists will be rendered opaque.\n"
     ]
    },
    {
     "name": "stdout",
     "output_type": "stream",
     "text": [
      "Saving diagnostic plots to bh_dir : /Volumes/UCDN/datasets/IDM/utility/23_IDM_0084/crdm/bh\n"
     ]
    },
    {
     "name": "stderr",
     "output_type": "stream",
     "text": [
      "The PostScript backend does not support transparency; partially transparent artists will be rendered opaque.\n"
     ]
    },
    {
     "name": "stdout",
     "output_type": "stream",
     "text": [
      "Saving diagnostic plots to bh_dir : /Volumes/UCDN/datasets/IDM/utility/23_IDM_0085/crdm/bh\n"
     ]
    },
    {
     "name": "stderr",
     "output_type": "stream",
     "text": [
      "The PostScript backend does not support transparency; partially transparent artists will be rendered opaque.\n"
     ]
    },
    {
     "name": "stdout",
     "output_type": "stream",
     "text": [
      "Saving diagnostic plots to bh_dir : /Volumes/UCDN/datasets/IDM/utility/23_IDM_0086/crdm/bh\n"
     ]
    },
    {
     "name": "stderr",
     "output_type": "stream",
     "text": [
      "The PostScript backend does not support transparency; partially transparent artists will be rendered opaque.\n"
     ]
    },
    {
     "name": "stdout",
     "output_type": "stream",
     "text": [
      "Saving diagnostic plots to bh_dir : /Volumes/UCDN/datasets/IDM/utility/23_IDM_0087/crdm/bh\n"
     ]
    },
    {
     "name": "stderr",
     "output_type": "stream",
     "text": [
      "The PostScript backend does not support transparency; partially transparent artists will be rendered opaque.\n"
     ]
    },
    {
     "name": "stdout",
     "output_type": "stream",
     "text": [
      "Saving diagnostic plots to bh_dir : /Volumes/UCDN/datasets/IDM/utility/23_IDM_0088/crdm/bh\n"
     ]
    },
    {
     "name": "stderr",
     "output_type": "stream",
     "text": [
      "The PostScript backend does not support transparency; partially transparent artists will be rendered opaque.\n"
     ]
    },
    {
     "name": "stdout",
     "output_type": "stream",
     "text": [
      "Saving diagnostic plots to bh_dir : /Volumes/UCDN/datasets/IDM/utility/23_IDM_0089/crdm/bh\n"
     ]
    },
    {
     "name": "stderr",
     "output_type": "stream",
     "text": [
      "The PostScript backend does not support transparency; partially transparent artists will be rendered opaque.\n"
     ]
    },
    {
     "name": "stdout",
     "output_type": "stream",
     "text": [
      "Saving diagnostic plots to bh_dir : /Volumes/UCDN/datasets/IDM/utility/23_IDM_0090/crdm/bh\n"
     ]
    },
    {
     "name": "stderr",
     "output_type": "stream",
     "text": [
      "The PostScript backend does not support transparency; partially transparent artists will be rendered opaque.\n"
     ]
    },
    {
     "name": "stdout",
     "output_type": "stream",
     "text": [
      "Saving diagnostic plots to bh_dir : /Volumes/UCDN/datasets/IDM/utility/23_IDM_0091/crdm/bh\n"
     ]
    },
    {
     "name": "stderr",
     "output_type": "stream",
     "text": [
      "The PostScript backend does not support transparency; partially transparent artists will be rendered opaque.\n"
     ]
    },
    {
     "name": "stdout",
     "output_type": "stream",
     "text": [
      "Saving diagnostic plots to bh_dir : /Volumes/UCDN/datasets/IDM/utility/23_IDM_0092/crdm/bh\n"
     ]
    },
    {
     "name": "stderr",
     "output_type": "stream",
     "text": [
      "The PostScript backend does not support transparency; partially transparent artists will be rendered opaque.\n"
     ]
    },
    {
     "name": "stdout",
     "output_type": "stream",
     "text": [
      "Saving diagnostic plots to bh_dir : /Volumes/UCDN/datasets/IDM/utility/23_IDM_0093/crdm/bh\n"
     ]
    },
    {
     "name": "stderr",
     "output_type": "stream",
     "text": [
      "The PostScript backend does not support transparency; partially transparent artists will be rendered opaque.\n"
     ]
    },
    {
     "name": "stdout",
     "output_type": "stream",
     "text": [
      "Saving diagnostic plots to bh_dir : /Volumes/UCDN/datasets/IDM/utility/23_IDM_0094/crdm/bh\n"
     ]
    },
    {
     "name": "stderr",
     "output_type": "stream",
     "text": [
      "The PostScript backend does not support transparency; partially transparent artists will be rendered opaque.\n"
     ]
    },
    {
     "name": "stdout",
     "output_type": "stream",
     "text": [
      "Saving diagnostic plots to bh_dir : /Volumes/UCDN/datasets/IDM/utility/23_IDM_0095/crdm/bh\n"
     ]
    },
    {
     "name": "stderr",
     "output_type": "stream",
     "text": [
      "The PostScript backend does not support transparency; partially transparent artists will be rendered opaque.\n"
     ]
    },
    {
     "name": "stdout",
     "output_type": "stream",
     "text": [
      "Saving diagnostic plots to bh_dir : /Volumes/UCDN/datasets/IDM/utility/23_IDM_0096/crdm/bh\n"
     ]
    },
    {
     "name": "stderr",
     "output_type": "stream",
     "text": [
      "The PostScript backend does not support transparency; partially transparent artists will be rendered opaque.\n"
     ]
    },
    {
     "name": "stdout",
     "output_type": "stream",
     "text": [
      "Saving diagnostic plots to bh_dir : /Volumes/UCDN/datasets/IDM/utility/23_IDM_0097/crdm/bh\n"
     ]
    },
    {
     "name": "stderr",
     "output_type": "stream",
     "text": [
      "The PostScript backend does not support transparency; partially transparent artists will be rendered opaque.\n"
     ]
    },
    {
     "name": "stdout",
     "output_type": "stream",
     "text": [
      "Saving diagnostic plots to bh_dir : /Volumes/UCDN/datasets/IDM/utility/23_IDM_0098/crdm/bh\n"
     ]
    },
    {
     "name": "stderr",
     "output_type": "stream",
     "text": [
      "The PostScript backend does not support transparency; partially transparent artists will be rendered opaque.\n"
     ]
    },
    {
     "name": "stdout",
     "output_type": "stream",
     "text": [
      "Saving diagnostic plots to bh_dir : /Volumes/UCDN/datasets/IDM/utility/23_IDM_0099/crdm/bh\n"
     ]
    },
    {
     "name": "stderr",
     "output_type": "stream",
     "text": [
      "The PostScript backend does not support transparency; partially transparent artists will be rendered opaque.\n"
     ]
    },
    {
     "name": "stdout",
     "output_type": "stream",
     "text": [
      "Saving diagnostic plots to bh_dir : /Volumes/UCDN/datasets/IDM/utility/23_IDM_0100/crdm/bh\n"
     ]
    },
    {
     "name": "stderr",
     "output_type": "stream",
     "text": [
      "The PostScript backend does not support transparency; partially transparent artists will be rendered opaque.\n"
     ]
    },
    {
     "name": "stdout",
     "output_type": "stream",
     "text": [
      "Saving diagnostic plots to bh_dir : /Volumes/UCDN/datasets/IDM/utility/23_IDM_0101/crdm/bh\n",
      "Saving diagnostic plots to bh_dir : /Volumes/UCDN/datasets/IDM/utility/23_IDM_0102/crdm/bh\n"
     ]
    },
    {
     "name": "stderr",
     "output_type": "stream",
     "text": [
      "The PostScript backend does not support transparency; partially transparent artists will be rendered opaque.\n",
      "The PostScript backend does not support transparency; partially transparent artists will be rendered opaque.\n"
     ]
    },
    {
     "name": "stdout",
     "output_type": "stream",
     "text": [
      "Saving diagnostic plots to bh_dir : /Volumes/UCDN/datasets/IDM/utility/23_IDM_0103/crdm/bh\n"
     ]
    },
    {
     "name": "stderr",
     "output_type": "stream",
     "text": [
      "The PostScript backend does not support transparency; partially transparent artists will be rendered opaque.\n"
     ]
    },
    {
     "name": "stdout",
     "output_type": "stream",
     "text": [
      "Saving diagnostic plots to bh_dir : /Volumes/UCDN/datasets/IDM/utility/23_IDM_0104/crdm/bh\n"
     ]
    },
    {
     "name": "stderr",
     "output_type": "stream",
     "text": [
      "The PostScript backend does not support transparency; partially transparent artists will be rendered opaque.\n"
     ]
    },
    {
     "name": "stdout",
     "output_type": "stream",
     "text": [
      "Saving diagnostic plots to bh_dir : /Volumes/UCDN/datasets/IDM/utility/23_IDM_0105/crdm/bh\n"
     ]
    },
    {
     "name": "stderr",
     "output_type": "stream",
     "text": [
      "The PostScript backend does not support transparency; partially transparent artists will be rendered opaque.\n"
     ]
    },
    {
     "name": "stdout",
     "output_type": "stream",
     "text": [
      "Saving diagnostic plots to bh_dir : /Volumes/UCDN/datasets/IDM/utility/23_IDM_0106/crdm/bh\n"
     ]
    },
    {
     "name": "stderr",
     "output_type": "stream",
     "text": [
      "The PostScript backend does not support transparency; partially transparent artists will be rendered opaque.\n"
     ]
    },
    {
     "name": "stdout",
     "output_type": "stream",
     "text": [
      "Saving diagnostic plots to bh_dir : /Volumes/UCDN/datasets/IDM/utility/23_IDM_0107/crdm/bh\n"
     ]
    },
    {
     "name": "stderr",
     "output_type": "stream",
     "text": [
      "The PostScript backend does not support transparency; partially transparent artists will be rendered opaque.\n"
     ]
    },
    {
     "name": "stdout",
     "output_type": "stream",
     "text": [
      "Saving diagnostic plots to bh_dir : /Volumes/UCDN/datasets/IDM/utility/23_IDM_0108/crdm/bh\n"
     ]
    },
    {
     "name": "stderr",
     "output_type": "stream",
     "text": [
      "The PostScript backend does not support transparency; partially transparent artists will be rendered opaque.\n"
     ]
    },
    {
     "name": "stdout",
     "output_type": "stream",
     "text": [
      "Saving diagnostic plots to bh_dir : /Volumes/UCDN/datasets/IDM/utility/23_IDM_0109/crdm/bh\n"
     ]
    },
    {
     "name": "stderr",
     "output_type": "stream",
     "text": [
      "The PostScript backend does not support transparency; partially transparent artists will be rendered opaque.\n"
     ]
    },
    {
     "name": "stdout",
     "output_type": "stream",
     "text": [
      "Saving diagnostic plots to bh_dir : /Volumes/UCDN/datasets/IDM/utility/23_IDM_0110/crdm/bh\n"
     ]
    },
    {
     "name": "stderr",
     "output_type": "stream",
     "text": [
      "The PostScript backend does not support transparency; partially transparent artists will be rendered opaque.\n"
     ]
    },
    {
     "name": "stdout",
     "output_type": "stream",
     "text": [
      "Saving diagnostic plots to bh_dir : /Volumes/UCDN/datasets/IDM/utility/23_IDM_0111/crdm/bh\n"
     ]
    },
    {
     "name": "stderr",
     "output_type": "stream",
     "text": [
      "The PostScript backend does not support transparency; partially transparent artists will be rendered opaque.\n"
     ]
    },
    {
     "name": "stdout",
     "output_type": "stream",
     "text": [
      "Saving diagnostic plots to bh_dir : /Volumes/UCDN/datasets/IDM/utility/23_IDM_0112/crdm/bh\n"
     ]
    },
    {
     "name": "stderr",
     "output_type": "stream",
     "text": [
      "The PostScript backend does not support transparency; partially transparent artists will be rendered opaque.\n"
     ]
    },
    {
     "name": "stdout",
     "output_type": "stream",
     "text": [
      "Saving diagnostic plots to bh_dir : /Volumes/UCDN/datasets/IDM/utility/23_IDM_0113/crdm/bh\n"
     ]
    },
    {
     "name": "stderr",
     "output_type": "stream",
     "text": [
      "The PostScript backend does not support transparency; partially transparent artists will be rendered opaque.\n"
     ]
    },
    {
     "name": "stdout",
     "output_type": "stream",
     "text": [
      "Saving diagnostic plots to bh_dir : /Volumes/UCDN/datasets/IDM/utility/23_IDM_0114/crdm/bh\n"
     ]
    },
    {
     "name": "stderr",
     "output_type": "stream",
     "text": [
      "The PostScript backend does not support transparency; partially transparent artists will be rendered opaque.\n"
     ]
    },
    {
     "name": "stdout",
     "output_type": "stream",
     "text": [
      "Saving diagnostic plots to bh_dir : /Volumes/UCDN/datasets/IDM/utility/23_IDM_0115/crdm/bh\n"
     ]
    },
    {
     "name": "stderr",
     "output_type": "stream",
     "text": [
      "The PostScript backend does not support transparency; partially transparent artists will be rendered opaque.\n"
     ]
    },
    {
     "name": "stdout",
     "output_type": "stream",
     "text": [
      "Saving diagnostic plots to bh_dir : /Volumes/UCDN/datasets/IDM/utility/23_IDM_0116/crdm/bh\n"
     ]
    },
    {
     "name": "stderr",
     "output_type": "stream",
     "text": [
      "The PostScript backend does not support transparency; partially transparent artists will be rendered opaque.\n"
     ]
    },
    {
     "name": "stdout",
     "output_type": "stream",
     "text": [
      "Saving diagnostic plots to bh_dir : /Volumes/UCDN/datasets/IDM/utility/23_IDM_0117/crdm/bh\n"
     ]
    },
    {
     "name": "stderr",
     "output_type": "stream",
     "text": [
      "The PostScript backend does not support transparency; partially transparent artists will be rendered opaque.\n"
     ]
    },
    {
     "name": "stdout",
     "output_type": "stream",
     "text": [
      "Saving diagnostic plots to bh_dir : /Volumes/UCDN/datasets/IDM/utility/23_IDM_0118/crdm/bh\n",
      "Saving diagnostic plots to bh_dir : /Volumes/UCDN/datasets/IDM/utility/23_IDM_0119/crdm/bh\n"
     ]
    },
    {
     "name": "stderr",
     "output_type": "stream",
     "text": [
      "The PostScript backend does not support transparency; partially transparent artists will be rendered opaque.\n",
      "The PostScript backend does not support transparency; partially transparent artists will be rendered opaque.\n"
     ]
    },
    {
     "name": "stdout",
     "output_type": "stream",
     "text": [
      "Saving diagnostic plots to bh_dir : /Volumes/UCDN/datasets/IDM/utility/23_IDM_0120/crdm/bh\n"
     ]
    },
    {
     "name": "stderr",
     "output_type": "stream",
     "text": [
      "The PostScript backend does not support transparency; partially transparent artists will be rendered opaque.\n"
     ]
    },
    {
     "name": "stdout",
     "output_type": "stream",
     "text": [
      "Saving diagnostic plots to bh_dir : /Volumes/UCDN/datasets/IDM/utility/23_IDM_0121/crdm/bh\n"
     ]
    },
    {
     "name": "stderr",
     "output_type": "stream",
     "text": [
      "The PostScript backend does not support transparency; partially transparent artists will be rendered opaque.\n"
     ]
    },
    {
     "name": "stdout",
     "output_type": "stream",
     "text": [
      "Saving diagnostic plots to bh_dir : /Volumes/UCDN/datasets/IDM/utility/23_IDM_0122/crdm/bh\n"
     ]
    },
    {
     "name": "stderr",
     "output_type": "stream",
     "text": [
      "The PostScript backend does not support transparency; partially transparent artists will be rendered opaque.\n"
     ]
    },
    {
     "name": "stdout",
     "output_type": "stream",
     "text": [
      "Saving diagnostic plots to bh_dir : /Volumes/UCDN/datasets/IDM/utility/23_IDM_0123/crdm/bh\n"
     ]
    },
    {
     "name": "stderr",
     "output_type": "stream",
     "text": [
      "The PostScript backend does not support transparency; partially transparent artists will be rendered opaque.\n"
     ]
    },
    {
     "name": "stdout",
     "output_type": "stream",
     "text": [
      "Saving diagnostic plots to bh_dir : /Volumes/UCDN/datasets/IDM/utility/23_IDM_0124/crdm/bh\n"
     ]
    },
    {
     "name": "stderr",
     "output_type": "stream",
     "text": [
      "The PostScript backend does not support transparency; partially transparent artists will be rendered opaque.\n"
     ]
    },
    {
     "name": "stdout",
     "output_type": "stream",
     "text": [
      "Saving diagnostic plots to bh_dir : /Volumes/UCDN/datasets/IDM/utility/23_IDM_0125/crdm/bh\n"
     ]
    },
    {
     "name": "stderr",
     "output_type": "stream",
     "text": [
      "The PostScript backend does not support transparency; partially transparent artists will be rendered opaque.\n"
     ]
    },
    {
     "name": "stdout",
     "output_type": "stream",
     "text": [
      "Saving diagnostic plots to bh_dir : /Volumes/UCDN/datasets/IDM/utility/23_IDM_0126/crdm/bh\n"
     ]
    },
    {
     "name": "stderr",
     "output_type": "stream",
     "text": [
      "The PostScript backend does not support transparency; partially transparent artists will be rendered opaque.\n"
     ]
    },
    {
     "name": "stdout",
     "output_type": "stream",
     "text": [
      "Saving diagnostic plots to bh_dir : /Volumes/UCDN/datasets/IDM/utility/23_IDM_0127/crdm/bh\n"
     ]
    },
    {
     "name": "stderr",
     "output_type": "stream",
     "text": [
      "The PostScript backend does not support transparency; partially transparent artists will be rendered opaque.\n"
     ]
    },
    {
     "name": "stdout",
     "output_type": "stream",
     "text": [
      "Saving diagnostic plots to bh_dir : /Volumes/UCDN/datasets/IDM/utility/23_IDM_0128/crdm/bh\n"
     ]
    },
    {
     "name": "stderr",
     "output_type": "stream",
     "text": [
      "The PostScript backend does not support transparency; partially transparent artists will be rendered opaque.\n"
     ]
    },
    {
     "name": "stdout",
     "output_type": "stream",
     "text": [
      "Saving diagnostic plots to bh_dir : /Volumes/UCDN/datasets/IDM/utility/23_IDM_0129/crdm/bh\n"
     ]
    },
    {
     "name": "stderr",
     "output_type": "stream",
     "text": [
      "The PostScript backend does not support transparency; partially transparent artists will be rendered opaque.\n"
     ]
    },
    {
     "name": "stdout",
     "output_type": "stream",
     "text": [
      "Saving diagnostic plots to bh_dir : /Volumes/UCDN/datasets/IDM/utility/23_IDM_0130/crdm/bh\n"
     ]
    },
    {
     "name": "stderr",
     "output_type": "stream",
     "text": [
      "The PostScript backend does not support transparency; partially transparent artists will be rendered opaque.\n"
     ]
    },
    {
     "name": "stdout",
     "output_type": "stream",
     "text": [
      "Saving diagnostic plots to bh_dir : /Volumes/UCDN/datasets/IDM/utility/23_IDM_0131/crdm/bh\n"
     ]
    },
    {
     "name": "stderr",
     "output_type": "stream",
     "text": [
      "The PostScript backend does not support transparency; partially transparent artists will be rendered opaque.\n"
     ]
    },
    {
     "name": "stdout",
     "output_type": "stream",
     "text": [
      "Saving diagnostic plots to bh_dir : /Volumes/UCDN/datasets/IDM/utility/23_IDM_0132/crdm/bh\n"
     ]
    },
    {
     "name": "stderr",
     "output_type": "stream",
     "text": [
      "The PostScript backend does not support transparency; partially transparent artists will be rendered opaque.\n"
     ]
    },
    {
     "name": "stdout",
     "output_type": "stream",
     "text": [
      "Saving diagnostic plots to bh_dir : /Volumes/UCDN/datasets/IDM/utility/23_IDM_0133/crdm/bh\n"
     ]
    },
    {
     "name": "stderr",
     "output_type": "stream",
     "text": [
      "The PostScript backend does not support transparency; partially transparent artists will be rendered opaque.\n"
     ]
    },
    {
     "name": "stdout",
     "output_type": "stream",
     "text": [
      "Saving diagnostic plots to bh_dir : /Volumes/UCDN/datasets/IDM/utility/23_IDM_0134/crdm/bh\n"
     ]
    },
    {
     "name": "stderr",
     "output_type": "stream",
     "text": [
      "The PostScript backend does not support transparency; partially transparent artists will be rendered opaque.\n"
     ]
    },
    {
     "name": "stdout",
     "output_type": "stream",
     "text": [
      "Saving diagnostic plots to bh_dir : /Volumes/UCDN/datasets/IDM/utility/23_IDM_0135/crdm/bh\n"
     ]
    },
    {
     "name": "stderr",
     "output_type": "stream",
     "text": [
      "The PostScript backend does not support transparency; partially transparent artists will be rendered opaque.\n"
     ]
    },
    {
     "name": "stdout",
     "output_type": "stream",
     "text": [
      "Saving diagnostic plots to bh_dir : /Volumes/UCDN/datasets/IDM/utility/23_IDM_0136/crdm/bh\n"
     ]
    },
    {
     "name": "stderr",
     "output_type": "stream",
     "text": [
      "The PostScript backend does not support transparency; partially transparent artists will be rendered opaque.\n"
     ]
    },
    {
     "name": "stdout",
     "output_type": "stream",
     "text": [
      "Saving diagnostic plots to bh_dir : /Volumes/UCDN/datasets/IDM/utility/23_IDM_0137/crdm/bh\n"
     ]
    },
    {
     "name": "stderr",
     "output_type": "stream",
     "text": [
      "The PostScript backend does not support transparency; partially transparent artists will be rendered opaque.\n"
     ]
    },
    {
     "name": "stdout",
     "output_type": "stream",
     "text": [
      "Saving diagnostic plots to bh_dir : /Volumes/UCDN/datasets/IDM/utility/23_IDM_0138/crdm/bh\n"
     ]
    },
    {
     "name": "stderr",
     "output_type": "stream",
     "text": [
      "The PostScript backend does not support transparency; partially transparent artists will be rendered opaque.\n"
     ]
    },
    {
     "name": "stdout",
     "output_type": "stream",
     "text": [
      "Saving diagnostic plots to bh_dir : /Volumes/UCDN/datasets/IDM/utility/23_IDM_0139/crdm/bh\n",
      "Saving diagnostic plots to bh_dir : /Volumes/UCDN/datasets/IDM/utility/23_IDM_0140/crdm/bh\n"
     ]
    },
    {
     "name": "stderr",
     "output_type": "stream",
     "text": [
      "The PostScript backend does not support transparency; partially transparent artists will be rendered opaque.\n",
      "The PostScript backend does not support transparency; partially transparent artists will be rendered opaque.\n"
     ]
    },
    {
     "name": "stdout",
     "output_type": "stream",
     "text": [
      "Saving diagnostic plots to bh_dir : /Volumes/UCDN/datasets/IDM/utility/23_IDM_0141/crdm/bh\n"
     ]
    },
    {
     "name": "stderr",
     "output_type": "stream",
     "text": [
      "The PostScript backend does not support transparency; partially transparent artists will be rendered opaque.\n"
     ]
    },
    {
     "name": "stdout",
     "output_type": "stream",
     "text": [
      "Saving diagnostic plots to bh_dir : /Volumes/UCDN/datasets/IDM/utility/23_IDM_0142/crdm/bh\n"
     ]
    },
    {
     "name": "stderr",
     "output_type": "stream",
     "text": [
      "The PostScript backend does not support transparency; partially transparent artists will be rendered opaque.\n"
     ]
    },
    {
     "name": "stdout",
     "output_type": "stream",
     "text": [
      "Saving diagnostic plots to bh_dir : /Volumes/UCDN/datasets/IDM/utility/23_IDM_0143/crdm/bh\n"
     ]
    },
    {
     "name": "stderr",
     "output_type": "stream",
     "text": [
      "The PostScript backend does not support transparency; partially transparent artists will be rendered opaque.\n"
     ]
    },
    {
     "name": "stdout",
     "output_type": "stream",
     "text": [
      "Saving diagnostic plots to bh_dir : /Volumes/UCDN/datasets/IDM/utility/23_IDM_0144/crdm/bh\n"
     ]
    },
    {
     "name": "stderr",
     "output_type": "stream",
     "text": [
      "The PostScript backend does not support transparency; partially transparent artists will be rendered opaque.\n"
     ]
    },
    {
     "name": "stdout",
     "output_type": "stream",
     "text": [
      "Saving diagnostic plots to bh_dir : /Volumes/UCDN/datasets/IDM/utility/23_IDM_0145/crdm/bh\n"
     ]
    },
    {
     "name": "stderr",
     "output_type": "stream",
     "text": [
      "The PostScript backend does not support transparency; partially transparent artists will be rendered opaque.\n"
     ]
    },
    {
     "name": "stdout",
     "output_type": "stream",
     "text": [
      "Saving diagnostic plots to bh_dir : /Volumes/UCDN/datasets/IDM/utility/23_IDM_0146/crdm/bh\n",
      "Saving diagnostic plots to bh_dir : /Volumes/UCDN/datasets/IDM/utility/23_IDM_0147/crdm/bh\n"
     ]
    },
    {
     "name": "stderr",
     "output_type": "stream",
     "text": [
      "The PostScript backend does not support transparency; partially transparent artists will be rendered opaque.\n",
      "The PostScript backend does not support transparency; partially transparent artists will be rendered opaque.\n"
     ]
    },
    {
     "name": "stdout",
     "output_type": "stream",
     "text": [
      "Saving diagnostic plots to bh_dir : /Volumes/UCDN/datasets/IDM/utility/23_IDM_0148/crdm/bh\n"
     ]
    },
    {
     "name": "stderr",
     "output_type": "stream",
     "text": [
      "The PostScript backend does not support transparency; partially transparent artists will be rendered opaque.\n"
     ]
    },
    {
     "name": "stdout",
     "output_type": "stream",
     "text": [
      "Saving diagnostic plots to bh_dir : /Volumes/UCDN/datasets/IDM/utility/23_IDM_0149/crdm/bh\n"
     ]
    }
   ],
   "source": [
    "for s in set(subj_id):\n",
    "    coords={'alpha_dim_0': [s],'beta_dim_0': [s],'gamma_dim_0':[s]}\n",
    "    diganostic_plots(trace_prior,experiment=experiment,utility_dir=utility_dir,subject=subjects[s],coords=coords,var_names=['alpha','beta','gamma'],figsize=(10,10))\n"
   ]
  }
 ],
 "metadata": {
  "kernelspec": {
   "display_name": "Python 3.9.12 ('base')",
   "language": "python",
   "name": "python3"
  },
  "language_info": {
   "codemirror_mode": {
    "name": "ipython",
    "version": 3
   },
   "file_extension": ".py",
   "mimetype": "text/x-python",
   "name": "python",
   "nbconvert_exporter": "python",
   "pygments_lexer": "ipython3",
   "version": "3.9.16"
  },
  "orig_nbformat": 4,
  "vscode": {
   "interpreter": {
    "hash": "09d5eda77765311109b2c027e144dcf58f89dd96008cdf29c2e6b03e99df71a0"
   }
  }
 },
 "nbformat": 4,
 "nbformat_minor": 2
}
