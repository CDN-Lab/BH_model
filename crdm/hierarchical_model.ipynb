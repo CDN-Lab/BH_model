{
 "cells": [
  {
   "cell_type": "markdown",
   "metadata": {},
   "source": [
    "# Bayesian Hierarchical Model (BHM) \n",
    "\n",
    "Parameter estimation written for CRDM task as part of the IDM dataset collected online with Mturk\n",
    "\n",
    "Extended to work for all datasets"
   ]
  },
  {
   "cell_type": "markdown",
   "metadata": {},
   "source": [
    "### Import modules, libraries, etc"
   ]
  },
  {
   "cell_type": "code",
   "execution_count": 1,
   "metadata": {},
   "outputs": [],
   "source": [
    "# Built-in/Generic Imports\n",
    "import os,sys\n",
    "import glob,time\n",
    "\n",
    "# Libs :: all are part of idm_env, except for arviz and pymc\n",
    "import numpy as np\n",
    "import pandas as pd\n",
    "import matplotlib.pyplot as plt\n",
    "import pickle\n",
    "import pymc as pm\n",
    "import arviz as az\n",
    "\n",
    "# This reduces the amount of pymc output, can comment or change level to see more information\n",
    "import logging\n",
    "logger = logging.getLogger(\"pymc\")\n",
    "logger.setLevel(logging.ERROR)\n",
    "\n",
    "# explicitly use a path to let the script know where the IDM_model is located to import model_functions\n",
    "parent = '/Users/pizarror/IDM'\n",
    "# adding the parent directory to the sys.path.\n",
    "sys.path.append(parent)\n",
    "from IDM_model.src import model_functions as mf\n"
   ]
  },
  {
   "cell_type": "markdown",
   "metadata": {},
   "source": [
    "### Diagnostic plots\n",
    "\n",
    "Run `diagnistic_plots()` individually by subject :: trace, posterior, bivariate densities, rank plots"
   ]
  },
  {
   "cell_type": "code",
   "execution_count": 2,
   "metadata": {},
   "outputs": [],
   "source": [
    "def diganostic_plots(trace,experiment='experiment',utility_dir='/tmp/',subject='23_IDM_0001',task='crdm',coords={},var_names=['alpha','beta','gamma'],figsize=(10,10)):\n",
    "\n",
    "    bh_dir = os.path.join(utility_dir,subject,task,'bh')\n",
    "    if not os.path.exists(bh_dir):\n",
    "        os.makedirs(bh_dir)\n",
    "    print('Saving diagnostic plots to bh_dir : {}'.format(bh_dir))\n",
    "\n",
    "    title_dict = {'fontsize':15}\n",
    "\n",
    "    # 2by2 : rows 2 varialbes, cols 2 for distribution and sampled values\n",
    "    axes = az.plot_trace(trace, var_names=var_names,coords=coords,compact=False)\n",
    "    for r in range(axes.shape[0]):\n",
    "        for c in range(axes.shape[1]):\n",
    "            axes[r,c].set_title('{}: {}'.format(subject,var_names[r]))\n",
    "    plt.tight_layout()\n",
    "    fig_fn = os.path.join(bh_dir,'{}_{}_trace_plot.{}.eps'.format(subject,task,experiment))\n",
    "    plt.savefig(fig_fn,format='eps')\n",
    "    plt.close()\n",
    "    \n",
    "    axes = az.plot_pair(trace,kind='kde', coords=coords,var_names=var_names,marginals=True)\n",
    "    axes[0,0].set_title(subject,fontdict=title_dict)\n",
    "    axes[1,0].set_ylabel(var_names[1])\n",
    "    axes[1,0].set_xlabel(var_names[0])\n",
    "    plt.tight_layout()\n",
    "    fig_fn = os.path.join(bh_dir,'{}_{}_bivariate_densities.{}.eps'.format(subject,task,experiment))\n",
    "    plt.savefig(fig_fn,format='eps')\n",
    "    plt.close()\n",
    "    \n",
    "    axes = az.plot_posterior(trace,var_names=var_names,coords=coords)\n",
    "    # print(axes.shape)\n",
    "    for c in range(axes.shape[0]):\n",
    "        axes[c].set_title('{}: {}'.format(subject,var_names[c]),fontdict=title_dict)\n",
    "    fig_fn = os.path.join(bh_dir,'{}_{}_posterior.{}.eps'.format(subject,task,experiment))\n",
    "    plt.savefig(fig_fn,format='eps')\n",
    "    plt.close()\n",
    "\n",
    "    fig, axes = plt.subplots(1,len(var_names), figsize=figsize)\n",
    "    az.plot_rank(trace,var_names=var_names,coords=coords,ax=axes)\n",
    "    for c in range(axes.shape[0]):\n",
    "        axes[c].set_title('{}: {}'.format(subject,var_names[c]),fontdict=title_dict)\n",
    "    fig.tight_layout()\n",
    "    fig_fn = os.path.join(bh_dir,'{}_{}_rank_plot_bars.{}.eps'.format(subject,task,experiment))\n",
    "    plt.savefig(fig_fn,format='eps')\n",
    "    plt.close()\n",
    "\n",
    "    fig, axes = plt.subplots(1,len(var_names), figsize=figsize)\n",
    "    axes = az.plot_rank(trace,var_names=var_names, coords=coords,kind=\"vlines\",vlines_kwargs={'lw':0}, marker_vlines_kwargs={'lw':3},ax=axes)\n",
    "    for c in range(axes.shape[0]):\n",
    "        axes[c].set_title('{}: {}'.format(subject,var_names[c]),fontdict=title_dict)\n",
    "    fig.tight_layout()\n",
    "    fig_fn = os.path.join(bh_dir,'{}_{}_rank_plot_lines.{}.eps'.format(subject,task,experiment))\n",
    "    plt.savefig(fig_fn,format='eps')\n",
    "    plt.close()\n",
    "\n"
   ]
  },
  {
   "attachments": {},
   "cell_type": "markdown",
   "metadata": {},
   "source": [
    "### Load data\n",
    "\n",
    "We will load the data from all participants so we can run the modeling schema"
   ]
  },
  {
   "cell_type": "code",
   "execution_count": 3,
   "metadata": {},
   "outputs": [],
   "source": [
    "def read_load_data(subject='23_IDM_0144',fn='/tmp',domain='gain',cols=[]):\n",
    "    crdm_df = pd.read_csv(fn)\n",
    "    task='crdm'\n",
    "    if ('loss' in domain) or ('combined' in domain):\n",
    "        if 'loss' not in crdm_df['crdm_domain'].dropna().unique():\n",
    "            return []\n",
    "\n",
    "    if ('loss' in domain) or ('gain' in domain):\n",
    "        # only select by domain when gain or loss\n",
    "        crdm_df = mf.get_by_domain(crdm_df,domain=domain,task=task,verbose=False)\n",
    "    crdm_df,response_rate = mf.drop_non_responses(crdm_df,task=task,verbose=False) \n",
    "    crdm_df = mf.drop_pract(crdm_df,task=task)\n",
    "    data = mf.get_data(crdm_df,cols,task='crdm')[0]\n",
    "    data['subject'] = subject\n",
    "    return data\n",
    "\n",
    "def dirs_and_data(root_dir='/tmp',dataset='IDM',domain='gain'):\n",
    "\n",
    "    dataset_dir = os.path.join(root_dir,dataset)\n",
    "    split_dir = os.path.join(dataset_dir,'split')\n",
    "    utility_dir = os.path.join(dataset_dir,'utility')\n",
    "    save_dir = os.path.join(utility_dir,'BHM/crdm')\n",
    "    if not os.path.exists(save_dir):\n",
    "        os.makedirs(save_dir)\n",
    "\n",
    "    # Takes about 10 seconds for 149 subjects form Mturk data\n",
    "    task = 'crdm'\n",
    "    subjs = sorted(glob.glob(os.path.join(split_dir,'*')))\n",
    "    cols = ['crdm_choice','crdm_sure_p','crdm_lott_p','crdm_sure_amt','crdm_lott_amt','crdm_amb_lev']\n",
    "    data = pd.DataFrame(columns=['subject']+cols)\n",
    "    subj_id = 0\n",
    "    for s in subjs:\n",
    "        subject = os.path.basename(s)\n",
    "        fn  = os.path.join(s,task,'{}_{}.csv'.format(os.path.basename(s),task))\n",
    "        if os.path.exists(fn):\n",
    "            subj_data = read_load_data(subject=subject,fn=fn,domain=domain,cols=cols)\n",
    "            if subj_data.empty:\n",
    "                continue\n",
    "            for c in cols:\n",
    "                subj_data[c] = subj_data[c].astype(float)        \n",
    "            subj_data['subject_id'] = int(subj_id)\n",
    "            subj_id = subj_id+1\n",
    "            data = pd.concat([data,subj_data],ignore_index=True)\n",
    "\n",
    "    return utility_dir,save_dir,data\n",
    "\n",
    "#  amplitude (+1, -1) parameter to handle gain and loss\n",
    "def get_amplitude(amt):\n",
    "    return np.divide(amt,np.abs(amt))\n",
    "\n",
    "def extract_cols(data):\n",
    "    subjects = data['subject'].unique()\n",
    "    # nb_subj = subjects.shape[0]\n",
    "    # nb_trials = data.shape[0]//nb_subj\n",
    "    subj_id_list = data['subject_id'].to_list()\n",
    "    subj_id = [int(s) for s in subj_id_list]\n",
    "    # old_id = np.array([ [s]*nb_trials for s in range(nb_subj) ]).flatten()\n",
    "\n",
    "    sure_p = data['crdm_sure_p'].values\n",
    "    lott_p = data['crdm_lott_p'].values\n",
    "    sure_amt = data['crdm_sure_amt'].values\n",
    "    lott_amt = data['crdm_lott_amt'].values\n",
    "    ambig = data['crdm_amb_lev'].values\n",
    "    choices = data['crdm_choice'].values\n",
    "\n",
    "    # amplitude parameter to handle gain and loss\n",
    "    sure_amp = get_amplitude(sure_amt)\n",
    "    lott_amp = get_amplitude(lott_amt)\n",
    "\n",
    "    return subjects,subj_id,sure_p,lott_p,sure_amt,sure_amp,lott_amt,lott_amp,ambig,choices\n"
   ]
  },
  {
   "cell_type": "markdown",
   "metadata": {},
   "source": [
    "### Bayesian Hierarchical Model\n",
    "\n",
    "Choice of prior distribution and parameters used to define were developed under `parameter_receovery.ipynb`\n"
   ]
  },
  {
   "cell_type": "code",
   "execution_count": 4,
   "metadata": {},
   "outputs": [],
   "source": [
    "\n",
    "# This is the meat of the script that is used to estimate the parameters of the BHM \n",
    "\n",
    "def run_BHM(save_dir,experiment,domain,data):\n",
    "    \n",
    "    subjects,subj_id,sure_p,lott_p,sure_amt,sure_amp,lott_amt,lott_amp,ambig,choices = extract_cols(data)\n",
    "\n",
    "    tStep1 = time.time()\n",
    "\n",
    "    # We will fit a model for each subject\n",
    "    with pm.Model() as model_simple:\n",
    "\n",
    "        # Hyperparameters for alpha, beta\n",
    "        mu_alpha_hyper = pm.Normal('mu_alpha_hyper',mu=-0.635,sigma=0.05)\n",
    "        sd_alpha_hyper = pm.Normal('sd_alpha_hyper',mu=0.418,sigma=0.01)\n",
    "\n",
    "        mu_beta_hyper = pm.Normal('mu_beta_hyper',mu=0.254,sigma=0.05)\n",
    "        sd_beta_hyper = pm.Normal('sd_beta_hyper',mu=0.575,sigma=0.01)\n",
    "        \n",
    "        # mu_gamma_hyper = pm.Normal('mu_gamma_hyper',mu=3.011,sigma=0.05)\n",
    "        sd_gamma_hyper = pm.Normal('sd_gamma_hyper',mu=2.046,sigma=0.01)\n",
    "\n",
    "        alpha = pm.LogNormal('alpha',mu=mu_alpha_hyper, sigma=sd_alpha_hyper,shape=np.size(np.unique(subj_id)))\n",
    "        beta = pm.Normal('beta',mu=mu_beta_hyper,sigma=sd_beta_hyper,shape=np.size(np.unique(subj_id)))\n",
    "        gamma = pm.HalfNormal('gamma',sigma=sd_gamma_hyper,shape=np.size(np.unique(subj_id)))\n",
    "        \n",
    "        prob = pm.Deterministic('prob', 1 / (1 + pm.math.exp(-gamma[subj_id] * \n",
    "                                                                (lott_amp*(np.abs(lott_amt)**alpha[subj_id])*(lott_p-beta[subj_id]*ambig/2)\n",
    "                                                                - sure_amp*(np.abs(sure_amt)**alpha[subj_id])*sure_p)))) \n",
    "        \n",
    "        y_1 = pm.Bernoulli('y_1',p=prob,observed=choices)\n",
    "\n",
    "        # trace_prior = pm.sample(100, tune=20, cores=2,target_accept=0.95,progressbar=True)\n",
    "        trace_prior = pm.sample(10000, tune=1000, cores=5,target_accept=0.99,progressbar=True)\n",
    "\n",
    "\n",
    "    summary= az.summary(trace_prior,round_to=10)\n",
    "    fn = os.path.join(save_dir,'BHM_model_summary_{}_{}.csv'.format(experiment,domain))\n",
    "    print('Saving to : {}'.format(fn))\n",
    "    summary.to_csv(fn)\n",
    "\n",
    "    fn = os.path.join(save_dir,'BHM_model_trace_{}_{}.pkl'.format(experiment,domain))\n",
    "    print('Saving to : {}'.format(fn))\n",
    "    with open(fn,'wb') as buff:\n",
    "        pickle.dump({'trace':trace_prior},buff)\n",
    "\n",
    "    print('Time to complete {} aggregate BHM : {} minutes'.format(len(subjects),(time.time() - tStep1)/60.0))\n",
    "    return trace_prior,subjects,subj_id\n",
    "\n",
    "\n",
    "# Extract parameter estimates and save\n",
    "def extract_mean(save_dir='',var_names=['alpha','beta','gamma'],subjects=[],experiment='v002',domain='gain'):\n",
    "    fn = os.path.join(save_dir,'BHM_model_summary_{}_{}.csv'.format(experiment,domain))\n",
    "    nb_subjects = len(subjects)\n",
    "    df = pd.read_csv(fn,index_col=0)\n",
    "    df_bhm = pd.DataFrame([],columns=var_names)\n",
    "    df_bhm['subject'] = subjects\n",
    "    df_bhm['domain'] = domain\n",
    "    for var in var_names:\n",
    "        ind_list = ['{}[{}]'.format(var,sub_id) for sub_id in range(nb_subjects)]\n",
    "        df_bhm[var] = df.loc[df.index.isin(ind_list)]['mean'].reset_index(drop=True)\n",
    "\n",
    "    # save dataframe to file    \n",
    "    split_CRDM_fn = os.path.join(os.path.dirname(save_dir),'split_CRDM_BHM_{}.csv'.format(domain))\n",
    "    print('Saving split BHM : {}'.format(split_CRDM_fn))\n",
    "    df_bhm.to_csv(split_CRDM_fn)    \n",
    "    display(df_bhm)\n",
    "    \n",
    "    return df_bhm"
   ]
  },
  {
   "cell_type": "code",
   "execution_count": 5,
   "metadata": {},
   "outputs": [
    {
     "data": {
      "text/html": [
       "\n",
       "<style>\n",
       "    /* Turns off some styling */\n",
       "    progress {\n",
       "        /* gets rid of default border in Firefox and Opera. */\n",
       "        border: none;\n",
       "        /* Needs to be in here for Safari polyfill so background images work as expected. */\n",
       "        background-size: auto;\n",
       "    }\n",
       "    progress:not([value]), progress:not([value])::-webkit-progress-bar {\n",
       "        background: repeating-linear-gradient(45deg, #7e7e7e, #7e7e7e 10px, #5c5c5c 10px, #5c5c5c 20px);\n",
       "    }\n",
       "    .progress-bar-interrupted, .progress-bar-interrupted::-webkit-progress-bar {\n",
       "        background: #F44336;\n",
       "    }\n",
       "</style>\n"
      ],
      "text/plain": [
       "<IPython.core.display.HTML object>"
      ]
     },
     "metadata": {},
     "output_type": "display_data"
    },
    {
     "data": {
      "text/html": [
       "\n",
       "    <div>\n",
       "      <progress value='55000' class='' max='55000' style='width:300px; height:20px; vertical-align: middle;'></progress>\n",
       "      100.00% [55000/55000 04:08&lt;00:00 Sampling 5 chains, 0 divergences]\n",
       "    </div>\n",
       "    "
      ],
      "text/plain": [
       "<IPython.core.display.HTML object>"
      ]
     },
     "metadata": {},
     "output_type": "display_data"
    },
    {
     "name": "stdout",
     "output_type": "stream",
     "text": [
      "Saving to : /Volumes/UCDN/datasets/SDM/utility/BHM/crdm/BHM_model_summary_v002_gain.csv\n",
      "Saving to : /Volumes/UCDN/datasets/SDM/utility/BHM/crdm/BHM_model_trace_v002_gain.pkl\n",
      "Time to complete 16 aggregate BHM : 6.189210649331411 minutes\n",
      "Saving split BHM : /Volumes/UCDN/datasets/SDM/utility/BHM/split_CRDM_BHM_gain.csv\n"
     ]
    },
    {
     "data": {
      "text/html": [
       "<div>\n",
       "<style scoped>\n",
       "    .dataframe tbody tr th:only-of-type {\n",
       "        vertical-align: middle;\n",
       "    }\n",
       "\n",
       "    .dataframe tbody tr th {\n",
       "        vertical-align: top;\n",
       "    }\n",
       "\n",
       "    .dataframe thead th {\n",
       "        text-align: right;\n",
       "    }\n",
       "</style>\n",
       "<table border=\"1\" class=\"dataframe\">\n",
       "  <thead>\n",
       "    <tr style=\"text-align: right;\">\n",
       "      <th></th>\n",
       "      <th>alpha</th>\n",
       "      <th>beta</th>\n",
       "      <th>gamma</th>\n",
       "      <th>subject</th>\n",
       "      <th>domain</th>\n",
       "    </tr>\n",
       "  </thead>\n",
       "  <tbody>\n",
       "    <tr>\n",
       "      <th>0</th>\n",
       "      <td>1.237499</td>\n",
       "      <td>0.469314</td>\n",
       "      <td>0.819826</td>\n",
       "      <td>23_SDM_0001_E</td>\n",
       "      <td>gain</td>\n",
       "    </tr>\n",
       "    <tr>\n",
       "      <th>1</th>\n",
       "      <td>0.988991</td>\n",
       "      <td>0.228706</td>\n",
       "      <td>2.929541</td>\n",
       "      <td>23_SDM_0001_N</td>\n",
       "      <td>gain</td>\n",
       "    </tr>\n",
       "    <tr>\n",
       "      <th>2</th>\n",
       "      <td>0.863383</td>\n",
       "      <td>-0.480702</td>\n",
       "      <td>0.329924</td>\n",
       "      <td>23_SDM_0002_E</td>\n",
       "      <td>gain</td>\n",
       "    </tr>\n",
       "    <tr>\n",
       "      <th>3</th>\n",
       "      <td>1.289675</td>\n",
       "      <td>0.744486</td>\n",
       "      <td>0.199582</td>\n",
       "      <td>23_SDM_0002_N</td>\n",
       "      <td>gain</td>\n",
       "    </tr>\n",
       "    <tr>\n",
       "      <th>4</th>\n",
       "      <td>0.529646</td>\n",
       "      <td>0.298263</td>\n",
       "      <td>1.812860</td>\n",
       "      <td>23_SDM_0004_E</td>\n",
       "      <td>gain</td>\n",
       "    </tr>\n",
       "    <tr>\n",
       "      <th>5</th>\n",
       "      <td>0.612243</td>\n",
       "      <td>-0.184517</td>\n",
       "      <td>2.770331</td>\n",
       "      <td>23_SDM_0004_N</td>\n",
       "      <td>gain</td>\n",
       "    </tr>\n",
       "    <tr>\n",
       "      <th>6</th>\n",
       "      <td>0.858732</td>\n",
       "      <td>0.109148</td>\n",
       "      <td>0.915852</td>\n",
       "      <td>23_SDM_0005_E</td>\n",
       "      <td>gain</td>\n",
       "    </tr>\n",
       "    <tr>\n",
       "      <th>7</th>\n",
       "      <td>0.768985</td>\n",
       "      <td>0.459558</td>\n",
       "      <td>1.663129</td>\n",
       "      <td>23_SDM_0005_N</td>\n",
       "      <td>gain</td>\n",
       "    </tr>\n",
       "    <tr>\n",
       "      <th>8</th>\n",
       "      <td>0.574006</td>\n",
       "      <td>0.489480</td>\n",
       "      <td>0.625675</td>\n",
       "      <td>23_SDM_0006_E</td>\n",
       "      <td>gain</td>\n",
       "    </tr>\n",
       "    <tr>\n",
       "      <th>9</th>\n",
       "      <td>0.628440</td>\n",
       "      <td>-0.138807</td>\n",
       "      <td>0.992420</td>\n",
       "      <td>23_SDM_0006_N</td>\n",
       "      <td>gain</td>\n",
       "    </tr>\n",
       "    <tr>\n",
       "      <th>10</th>\n",
       "      <td>0.346611</td>\n",
       "      <td>0.409925</td>\n",
       "      <td>3.944920</td>\n",
       "      <td>23_SDM_0009_E</td>\n",
       "      <td>gain</td>\n",
       "    </tr>\n",
       "    <tr>\n",
       "      <th>11</th>\n",
       "      <td>0.364849</td>\n",
       "      <td>0.929602</td>\n",
       "      <td>2.958878</td>\n",
       "      <td>23_SDM_0009_N</td>\n",
       "      <td>gain</td>\n",
       "    </tr>\n",
       "    <tr>\n",
       "      <th>12</th>\n",
       "      <td>0.332105</td>\n",
       "      <td>1.168232</td>\n",
       "      <td>3.555491</td>\n",
       "      <td>23_SDM_0011_E</td>\n",
       "      <td>gain</td>\n",
       "    </tr>\n",
       "    <tr>\n",
       "      <th>13</th>\n",
       "      <td>0.397565</td>\n",
       "      <td>0.443510</td>\n",
       "      <td>1.917054</td>\n",
       "      <td>23_SDM_0011_N</td>\n",
       "      <td>gain</td>\n",
       "    </tr>\n",
       "    <tr>\n",
       "      <th>14</th>\n",
       "      <td>0.575932</td>\n",
       "      <td>0.003375</td>\n",
       "      <td>1.445678</td>\n",
       "      <td>23_SDM_0012_E</td>\n",
       "      <td>gain</td>\n",
       "    </tr>\n",
       "    <tr>\n",
       "      <th>15</th>\n",
       "      <td>0.742823</td>\n",
       "      <td>0.386814</td>\n",
       "      <td>1.230884</td>\n",
       "      <td>23_SDM_0016_E</td>\n",
       "      <td>gain</td>\n",
       "    </tr>\n",
       "  </tbody>\n",
       "</table>\n",
       "</div>"
      ],
      "text/plain": [
       "       alpha      beta     gamma        subject domain\n",
       "0   1.237499  0.469314  0.819826  23_SDM_0001_E   gain\n",
       "1   0.988991  0.228706  2.929541  23_SDM_0001_N   gain\n",
       "2   0.863383 -0.480702  0.329924  23_SDM_0002_E   gain\n",
       "3   1.289675  0.744486  0.199582  23_SDM_0002_N   gain\n",
       "4   0.529646  0.298263  1.812860  23_SDM_0004_E   gain\n",
       "5   0.612243 -0.184517  2.770331  23_SDM_0004_N   gain\n",
       "6   0.858732  0.109148  0.915852  23_SDM_0005_E   gain\n",
       "7   0.768985  0.459558  1.663129  23_SDM_0005_N   gain\n",
       "8   0.574006  0.489480  0.625675  23_SDM_0006_E   gain\n",
       "9   0.628440 -0.138807  0.992420  23_SDM_0006_N   gain\n",
       "10  0.346611  0.409925  3.944920  23_SDM_0009_E   gain\n",
       "11  0.364849  0.929602  2.958878  23_SDM_0009_N   gain\n",
       "12  0.332105  1.168232  3.555491  23_SDM_0011_E   gain\n",
       "13  0.397565  0.443510  1.917054  23_SDM_0011_N   gain\n",
       "14  0.575932  0.003375  1.445678  23_SDM_0012_E   gain\n",
       "15  0.742823  0.386814  1.230884  23_SDM_0016_E   gain"
      ]
     },
     "metadata": {},
     "output_type": "display_data"
    },
    {
     "name": "stdout",
     "output_type": "stream",
     "text": [
      "Saving diagnostic plots to bh_dir : /Volumes/UCDN/datasets/SDM/utility/23_SDM_0001_E/crdm/bh\n"
     ]
    },
    {
     "name": "stderr",
     "output_type": "stream",
     "text": [
      "The PostScript backend does not support transparency; partially transparent artists will be rendered opaque.\n"
     ]
    },
    {
     "name": "stdout",
     "output_type": "stream",
     "text": [
      "Saving diagnostic plots to bh_dir : /Volumes/UCDN/datasets/SDM/utility/23_SDM_0001_N/crdm/bh\n"
     ]
    },
    {
     "name": "stderr",
     "output_type": "stream",
     "text": [
      "The PostScript backend does not support transparency; partially transparent artists will be rendered opaque.\n"
     ]
    },
    {
     "name": "stdout",
     "output_type": "stream",
     "text": [
      "Saving diagnostic plots to bh_dir : /Volumes/UCDN/datasets/SDM/utility/23_SDM_0002_E/crdm/bh\n"
     ]
    },
    {
     "name": "stderr",
     "output_type": "stream",
     "text": [
      "The PostScript backend does not support transparency; partially transparent artists will be rendered opaque.\n"
     ]
    },
    {
     "name": "stdout",
     "output_type": "stream",
     "text": [
      "Saving diagnostic plots to bh_dir : /Volumes/UCDN/datasets/SDM/utility/23_SDM_0002_N/crdm/bh\n"
     ]
    },
    {
     "name": "stderr",
     "output_type": "stream",
     "text": [
      "The PostScript backend does not support transparency; partially transparent artists will be rendered opaque.\n"
     ]
    },
    {
     "name": "stdout",
     "output_type": "stream",
     "text": [
      "Saving diagnostic plots to bh_dir : /Volumes/UCDN/datasets/SDM/utility/23_SDM_0004_E/crdm/bh\n"
     ]
    },
    {
     "name": "stderr",
     "output_type": "stream",
     "text": [
      "The PostScript backend does not support transparency; partially transparent artists will be rendered opaque.\n"
     ]
    },
    {
     "name": "stdout",
     "output_type": "stream",
     "text": [
      "Saving diagnostic plots to bh_dir : /Volumes/UCDN/datasets/SDM/utility/23_SDM_0004_N/crdm/bh\n"
     ]
    },
    {
     "name": "stderr",
     "output_type": "stream",
     "text": [
      "The PostScript backend does not support transparency; partially transparent artists will be rendered opaque.\n"
     ]
    },
    {
     "name": "stdout",
     "output_type": "stream",
     "text": [
      "Saving diagnostic plots to bh_dir : /Volumes/UCDN/datasets/SDM/utility/23_SDM_0005_E/crdm/bh\n"
     ]
    },
    {
     "name": "stderr",
     "output_type": "stream",
     "text": [
      "The PostScript backend does not support transparency; partially transparent artists will be rendered opaque.\n"
     ]
    },
    {
     "name": "stdout",
     "output_type": "stream",
     "text": [
      "Saving diagnostic plots to bh_dir : /Volumes/UCDN/datasets/SDM/utility/23_SDM_0005_N/crdm/bh\n"
     ]
    },
    {
     "name": "stderr",
     "output_type": "stream",
     "text": [
      "The PostScript backend does not support transparency; partially transparent artists will be rendered opaque.\n"
     ]
    },
    {
     "name": "stdout",
     "output_type": "stream",
     "text": [
      "Saving diagnostic plots to bh_dir : /Volumes/UCDN/datasets/SDM/utility/23_SDM_0006_E/crdm/bh\n"
     ]
    },
    {
     "name": "stderr",
     "output_type": "stream",
     "text": [
      "The PostScript backend does not support transparency; partially transparent artists will be rendered opaque.\n"
     ]
    },
    {
     "name": "stdout",
     "output_type": "stream",
     "text": [
      "Saving diagnostic plots to bh_dir : /Volumes/UCDN/datasets/SDM/utility/23_SDM_0006_N/crdm/bh\n"
     ]
    },
    {
     "name": "stderr",
     "output_type": "stream",
     "text": [
      "The PostScript backend does not support transparency; partially transparent artists will be rendered opaque.\n"
     ]
    },
    {
     "name": "stdout",
     "output_type": "stream",
     "text": [
      "Saving diagnostic plots to bh_dir : /Volumes/UCDN/datasets/SDM/utility/23_SDM_0009_E/crdm/bh\n"
     ]
    },
    {
     "name": "stderr",
     "output_type": "stream",
     "text": [
      "The PostScript backend does not support transparency; partially transparent artists will be rendered opaque.\n"
     ]
    },
    {
     "name": "stdout",
     "output_type": "stream",
     "text": [
      "Saving diagnostic plots to bh_dir : /Volumes/UCDN/datasets/SDM/utility/23_SDM_0009_N/crdm/bh\n"
     ]
    },
    {
     "name": "stderr",
     "output_type": "stream",
     "text": [
      "The PostScript backend does not support transparency; partially transparent artists will be rendered opaque.\n"
     ]
    },
    {
     "name": "stdout",
     "output_type": "stream",
     "text": [
      "Saving diagnostic plots to bh_dir : /Volumes/UCDN/datasets/SDM/utility/23_SDM_0011_E/crdm/bh\n"
     ]
    },
    {
     "name": "stderr",
     "output_type": "stream",
     "text": [
      "The PostScript backend does not support transparency; partially transparent artists will be rendered opaque.\n"
     ]
    },
    {
     "name": "stdout",
     "output_type": "stream",
     "text": [
      "Saving diagnostic plots to bh_dir : /Volumes/UCDN/datasets/SDM/utility/23_SDM_0011_N/crdm/bh\n"
     ]
    },
    {
     "name": "stderr",
     "output_type": "stream",
     "text": [
      "The PostScript backend does not support transparency; partially transparent artists will be rendered opaque.\n"
     ]
    },
    {
     "name": "stdout",
     "output_type": "stream",
     "text": [
      "Saving diagnostic plots to bh_dir : /Volumes/UCDN/datasets/SDM/utility/23_SDM_0012_E/crdm/bh\n"
     ]
    },
    {
     "name": "stderr",
     "output_type": "stream",
     "text": [
      "The PostScript backend does not support transparency; partially transparent artists will be rendered opaque.\n"
     ]
    },
    {
     "name": "stdout",
     "output_type": "stream",
     "text": [
      "Saving diagnostic plots to bh_dir : /Volumes/UCDN/datasets/SDM/utility/23_SDM_0016_E/crdm/bh\n"
     ]
    },
    {
     "name": "stderr",
     "output_type": "stream",
     "text": [
      "The PostScript backend does not support transparency; partially transparent artists will be rendered opaque.\n"
     ]
    },
    {
     "data": {
      "text/html": [
       "\n",
       "<style>\n",
       "    /* Turns off some styling */\n",
       "    progress {\n",
       "        /* gets rid of default border in Firefox and Opera. */\n",
       "        border: none;\n",
       "        /* Needs to be in here for Safari polyfill so background images work as expected. */\n",
       "        background-size: auto;\n",
       "    }\n",
       "    progress:not([value]), progress:not([value])::-webkit-progress-bar {\n",
       "        background: repeating-linear-gradient(45deg, #7e7e7e, #7e7e7e 10px, #5c5c5c 10px, #5c5c5c 20px);\n",
       "    }\n",
       "    .progress-bar-interrupted, .progress-bar-interrupted::-webkit-progress-bar {\n",
       "        background: #F44336;\n",
       "    }\n",
       "</style>\n"
      ],
      "text/plain": [
       "<IPython.core.display.HTML object>"
      ]
     },
     "metadata": {},
     "output_type": "display_data"
    },
    {
     "data": {
      "text/html": [
       "\n",
       "    <div>\n",
       "      <progress value='55000' class='' max='55000' style='width:300px; height:20px; vertical-align: middle;'></progress>\n",
       "      100.00% [55000/55000 08:33&lt;00:00 Sampling 5 chains, 0 divergences]\n",
       "    </div>\n",
       "    "
      ],
      "text/plain": [
       "<IPython.core.display.HTML object>"
      ]
     },
     "metadata": {},
     "output_type": "display_data"
    },
    {
     "name": "stdout",
     "output_type": "stream",
     "text": [
      "Saving to : /Volumes/UCDN/datasets/SDM/utility/BHM/crdm/BHM_model_summary_v002_loss.csv\n",
      "Saving to : /Volumes/UCDN/datasets/SDM/utility/BHM/crdm/BHM_model_trace_v002_loss.pkl\n",
      "Time to complete 16 aggregate BHM : 10.43965090115865 minutes\n",
      "Saving split BHM : /Volumes/UCDN/datasets/SDM/utility/BHM/split_CRDM_BHM_loss.csv\n"
     ]
    },
    {
     "data": {
      "text/html": [
       "<div>\n",
       "<style scoped>\n",
       "    .dataframe tbody tr th:only-of-type {\n",
       "        vertical-align: middle;\n",
       "    }\n",
       "\n",
       "    .dataframe tbody tr th {\n",
       "        vertical-align: top;\n",
       "    }\n",
       "\n",
       "    .dataframe thead th {\n",
       "        text-align: right;\n",
       "    }\n",
       "</style>\n",
       "<table border=\"1\" class=\"dataframe\">\n",
       "  <thead>\n",
       "    <tr style=\"text-align: right;\">\n",
       "      <th></th>\n",
       "      <th>alpha</th>\n",
       "      <th>beta</th>\n",
       "      <th>gamma</th>\n",
       "      <th>subject</th>\n",
       "      <th>domain</th>\n",
       "    </tr>\n",
       "  </thead>\n",
       "  <tbody>\n",
       "    <tr>\n",
       "      <th>0</th>\n",
       "      <td>1.223229</td>\n",
       "      <td>0.349318</td>\n",
       "      <td>1.055222</td>\n",
       "      <td>23_SDM_0001_E</td>\n",
       "      <td>loss</td>\n",
       "    </tr>\n",
       "    <tr>\n",
       "      <th>1</th>\n",
       "      <td>1.244750</td>\n",
       "      <td>0.458977</td>\n",
       "      <td>0.814191</td>\n",
       "      <td>23_SDM_0001_N</td>\n",
       "      <td>loss</td>\n",
       "    </tr>\n",
       "    <tr>\n",
       "      <th>2</th>\n",
       "      <td>0.837711</td>\n",
       "      <td>-0.392501</td>\n",
       "      <td>0.746315</td>\n",
       "      <td>23_SDM_0002_E</td>\n",
       "      <td>loss</td>\n",
       "    </tr>\n",
       "    <tr>\n",
       "      <th>3</th>\n",
       "      <td>1.033815</td>\n",
       "      <td>0.076051</td>\n",
       "      <td>0.352252</td>\n",
       "      <td>23_SDM_0002_N</td>\n",
       "      <td>loss</td>\n",
       "    </tr>\n",
       "    <tr>\n",
       "      <th>4</th>\n",
       "      <td>0.921678</td>\n",
       "      <td>-0.389763</td>\n",
       "      <td>0.437573</td>\n",
       "      <td>23_SDM_0004_E</td>\n",
       "      <td>loss</td>\n",
       "    </tr>\n",
       "    <tr>\n",
       "      <th>5</th>\n",
       "      <td>1.572029</td>\n",
       "      <td>-0.480948</td>\n",
       "      <td>0.684630</td>\n",
       "      <td>23_SDM_0004_N</td>\n",
       "      <td>loss</td>\n",
       "    </tr>\n",
       "    <tr>\n",
       "      <th>6</th>\n",
       "      <td>1.124882</td>\n",
       "      <td>-0.094331</td>\n",
       "      <td>0.818711</td>\n",
       "      <td>23_SDM_0005_E</td>\n",
       "      <td>loss</td>\n",
       "    </tr>\n",
       "    <tr>\n",
       "      <th>7</th>\n",
       "      <td>0.985069</td>\n",
       "      <td>0.253483</td>\n",
       "      <td>1.681394</td>\n",
       "      <td>23_SDM_0005_N</td>\n",
       "      <td>loss</td>\n",
       "    </tr>\n",
       "    <tr>\n",
       "      <th>8</th>\n",
       "      <td>0.976351</td>\n",
       "      <td>-0.680837</td>\n",
       "      <td>0.134345</td>\n",
       "      <td>23_SDM_0006_E</td>\n",
       "      <td>loss</td>\n",
       "    </tr>\n",
       "    <tr>\n",
       "      <th>9</th>\n",
       "      <td>0.923339</td>\n",
       "      <td>-0.635426</td>\n",
       "      <td>0.679204</td>\n",
       "      <td>23_SDM_0006_N</td>\n",
       "      <td>loss</td>\n",
       "    </tr>\n",
       "    <tr>\n",
       "      <th>10</th>\n",
       "      <td>2.332277</td>\n",
       "      <td>-0.119598</td>\n",
       "      <td>1.879669</td>\n",
       "      <td>23_SDM_0009_E</td>\n",
       "      <td>loss</td>\n",
       "    </tr>\n",
       "    <tr>\n",
       "      <th>11</th>\n",
       "      <td>0.686162</td>\n",
       "      <td>-0.448711</td>\n",
       "      <td>0.625859</td>\n",
       "      <td>23_SDM_0009_N</td>\n",
       "      <td>loss</td>\n",
       "    </tr>\n",
       "    <tr>\n",
       "      <th>12</th>\n",
       "      <td>0.947571</td>\n",
       "      <td>-0.537745</td>\n",
       "      <td>0.724462</td>\n",
       "      <td>23_SDM_0011_E</td>\n",
       "      <td>loss</td>\n",
       "    </tr>\n",
       "    <tr>\n",
       "      <th>13</th>\n",
       "      <td>0.947185</td>\n",
       "      <td>-0.481841</td>\n",
       "      <td>1.203644</td>\n",
       "      <td>23_SDM_0011_N</td>\n",
       "      <td>loss</td>\n",
       "    </tr>\n",
       "    <tr>\n",
       "      <th>14</th>\n",
       "      <td>0.635073</td>\n",
       "      <td>-0.398013</td>\n",
       "      <td>1.661654</td>\n",
       "      <td>23_SDM_0012_E</td>\n",
       "      <td>loss</td>\n",
       "    </tr>\n",
       "    <tr>\n",
       "      <th>15</th>\n",
       "      <td>0.565868</td>\n",
       "      <td>0.139020</td>\n",
       "      <td>2.588114</td>\n",
       "      <td>23_SDM_0016_E</td>\n",
       "      <td>loss</td>\n",
       "    </tr>\n",
       "  </tbody>\n",
       "</table>\n",
       "</div>"
      ],
      "text/plain": [
       "       alpha      beta     gamma        subject domain\n",
       "0   1.223229  0.349318  1.055222  23_SDM_0001_E   loss\n",
       "1   1.244750  0.458977  0.814191  23_SDM_0001_N   loss\n",
       "2   0.837711 -0.392501  0.746315  23_SDM_0002_E   loss\n",
       "3   1.033815  0.076051  0.352252  23_SDM_0002_N   loss\n",
       "4   0.921678 -0.389763  0.437573  23_SDM_0004_E   loss\n",
       "5   1.572029 -0.480948  0.684630  23_SDM_0004_N   loss\n",
       "6   1.124882 -0.094331  0.818711  23_SDM_0005_E   loss\n",
       "7   0.985069  0.253483  1.681394  23_SDM_0005_N   loss\n",
       "8   0.976351 -0.680837  0.134345  23_SDM_0006_E   loss\n",
       "9   0.923339 -0.635426  0.679204  23_SDM_0006_N   loss\n",
       "10  2.332277 -0.119598  1.879669  23_SDM_0009_E   loss\n",
       "11  0.686162 -0.448711  0.625859  23_SDM_0009_N   loss\n",
       "12  0.947571 -0.537745  0.724462  23_SDM_0011_E   loss\n",
       "13  0.947185 -0.481841  1.203644  23_SDM_0011_N   loss\n",
       "14  0.635073 -0.398013  1.661654  23_SDM_0012_E   loss\n",
       "15  0.565868  0.139020  2.588114  23_SDM_0016_E   loss"
      ]
     },
     "metadata": {},
     "output_type": "display_data"
    },
    {
     "name": "stdout",
     "output_type": "stream",
     "text": [
      "Saving diagnostic plots to bh_dir : /Volumes/UCDN/datasets/SDM/utility/23_SDM_0001_E/crdm/bh\n"
     ]
    },
    {
     "name": "stderr",
     "output_type": "stream",
     "text": [
      "The PostScript backend does not support transparency; partially transparent artists will be rendered opaque.\n"
     ]
    },
    {
     "name": "stdout",
     "output_type": "stream",
     "text": [
      "Saving diagnostic plots to bh_dir : /Volumes/UCDN/datasets/SDM/utility/23_SDM_0001_N/crdm/bh\n"
     ]
    },
    {
     "name": "stderr",
     "output_type": "stream",
     "text": [
      "The PostScript backend does not support transparency; partially transparent artists will be rendered opaque.\n"
     ]
    },
    {
     "name": "stdout",
     "output_type": "stream",
     "text": [
      "Saving diagnostic plots to bh_dir : /Volumes/UCDN/datasets/SDM/utility/23_SDM_0002_E/crdm/bh\n"
     ]
    },
    {
     "name": "stderr",
     "output_type": "stream",
     "text": [
      "The PostScript backend does not support transparency; partially transparent artists will be rendered opaque.\n"
     ]
    },
    {
     "name": "stdout",
     "output_type": "stream",
     "text": [
      "Saving diagnostic plots to bh_dir : /Volumes/UCDN/datasets/SDM/utility/23_SDM_0002_N/crdm/bh\n"
     ]
    },
    {
     "name": "stderr",
     "output_type": "stream",
     "text": [
      "The PostScript backend does not support transparency; partially transparent artists will be rendered opaque.\n"
     ]
    },
    {
     "name": "stdout",
     "output_type": "stream",
     "text": [
      "Saving diagnostic plots to bh_dir : /Volumes/UCDN/datasets/SDM/utility/23_SDM_0004_E/crdm/bh\n"
     ]
    },
    {
     "name": "stderr",
     "output_type": "stream",
     "text": [
      "The PostScript backend does not support transparency; partially transparent artists will be rendered opaque.\n"
     ]
    },
    {
     "name": "stdout",
     "output_type": "stream",
     "text": [
      "Saving diagnostic plots to bh_dir : /Volumes/UCDN/datasets/SDM/utility/23_SDM_0004_N/crdm/bh\n"
     ]
    },
    {
     "name": "stderr",
     "output_type": "stream",
     "text": [
      "The PostScript backend does not support transparency; partially transparent artists will be rendered opaque.\n"
     ]
    },
    {
     "name": "stdout",
     "output_type": "stream",
     "text": [
      "Saving diagnostic plots to bh_dir : /Volumes/UCDN/datasets/SDM/utility/23_SDM_0005_E/crdm/bh\n"
     ]
    },
    {
     "name": "stderr",
     "output_type": "stream",
     "text": [
      "The PostScript backend does not support transparency; partially transparent artists will be rendered opaque.\n"
     ]
    },
    {
     "name": "stdout",
     "output_type": "stream",
     "text": [
      "Saving diagnostic plots to bh_dir : /Volumes/UCDN/datasets/SDM/utility/23_SDM_0005_N/crdm/bh\n"
     ]
    },
    {
     "name": "stderr",
     "output_type": "stream",
     "text": [
      "The PostScript backend does not support transparency; partially transparent artists will be rendered opaque.\n"
     ]
    },
    {
     "name": "stdout",
     "output_type": "stream",
     "text": [
      "Saving diagnostic plots to bh_dir : /Volumes/UCDN/datasets/SDM/utility/23_SDM_0006_E/crdm/bh\n"
     ]
    },
    {
     "name": "stderr",
     "output_type": "stream",
     "text": [
      "The PostScript backend does not support transparency; partially transparent artists will be rendered opaque.\n"
     ]
    },
    {
     "name": "stdout",
     "output_type": "stream",
     "text": [
      "Saving diagnostic plots to bh_dir : /Volumes/UCDN/datasets/SDM/utility/23_SDM_0006_N/crdm/bh\n"
     ]
    },
    {
     "name": "stderr",
     "output_type": "stream",
     "text": [
      "The PostScript backend does not support transparency; partially transparent artists will be rendered opaque.\n"
     ]
    },
    {
     "name": "stdout",
     "output_type": "stream",
     "text": [
      "Saving diagnostic plots to bh_dir : /Volumes/UCDN/datasets/SDM/utility/23_SDM_0009_E/crdm/bh\n"
     ]
    },
    {
     "name": "stderr",
     "output_type": "stream",
     "text": [
      "The PostScript backend does not support transparency; partially transparent artists will be rendered opaque.\n"
     ]
    },
    {
     "name": "stdout",
     "output_type": "stream",
     "text": [
      "Saving diagnostic plots to bh_dir : /Volumes/UCDN/datasets/SDM/utility/23_SDM_0009_N/crdm/bh\n"
     ]
    },
    {
     "name": "stderr",
     "output_type": "stream",
     "text": [
      "The PostScript backend does not support transparency; partially transparent artists will be rendered opaque.\n"
     ]
    },
    {
     "name": "stdout",
     "output_type": "stream",
     "text": [
      "Saving diagnostic plots to bh_dir : /Volumes/UCDN/datasets/SDM/utility/23_SDM_0011_E/crdm/bh\n"
     ]
    },
    {
     "name": "stderr",
     "output_type": "stream",
     "text": [
      "The PostScript backend does not support transparency; partially transparent artists will be rendered opaque.\n"
     ]
    },
    {
     "name": "stdout",
     "output_type": "stream",
     "text": [
      "Saving diagnostic plots to bh_dir : /Volumes/UCDN/datasets/SDM/utility/23_SDM_0011_N/crdm/bh\n"
     ]
    },
    {
     "name": "stderr",
     "output_type": "stream",
     "text": [
      "The PostScript backend does not support transparency; partially transparent artists will be rendered opaque.\n"
     ]
    },
    {
     "name": "stdout",
     "output_type": "stream",
     "text": [
      "Saving diagnostic plots to bh_dir : /Volumes/UCDN/datasets/SDM/utility/23_SDM_0012_E/crdm/bh\n"
     ]
    },
    {
     "name": "stderr",
     "output_type": "stream",
     "text": [
      "The PostScript backend does not support transparency; partially transparent artists will be rendered opaque.\n"
     ]
    },
    {
     "name": "stdout",
     "output_type": "stream",
     "text": [
      "Saving diagnostic plots to bh_dir : /Volumes/UCDN/datasets/SDM/utility/23_SDM_0016_E/crdm/bh\n"
     ]
    },
    {
     "name": "stderr",
     "output_type": "stream",
     "text": [
      "The PostScript backend does not support transparency; partially transparent artists will be rendered opaque.\n"
     ]
    },
    {
     "data": {
      "text/html": [
       "\n",
       "<style>\n",
       "    /* Turns off some styling */\n",
       "    progress {\n",
       "        /* gets rid of default border in Firefox and Opera. */\n",
       "        border: none;\n",
       "        /* Needs to be in here for Safari polyfill so background images work as expected. */\n",
       "        background-size: auto;\n",
       "    }\n",
       "    progress:not([value]), progress:not([value])::-webkit-progress-bar {\n",
       "        background: repeating-linear-gradient(45deg, #7e7e7e, #7e7e7e 10px, #5c5c5c 10px, #5c5c5c 20px);\n",
       "    }\n",
       "    .progress-bar-interrupted, .progress-bar-interrupted::-webkit-progress-bar {\n",
       "        background: #F44336;\n",
       "    }\n",
       "</style>\n"
      ],
      "text/plain": [
       "<IPython.core.display.HTML object>"
      ]
     },
     "metadata": {},
     "output_type": "display_data"
    },
    {
     "data": {
      "text/html": [
       "\n",
       "    <div>\n",
       "      <progress value='55000' class='' max='55000' style='width:300px; height:20px; vertical-align: middle;'></progress>\n",
       "      100.00% [55000/55000 06:30&lt;00:00 Sampling 5 chains, 0 divergences]\n",
       "    </div>\n",
       "    "
      ],
      "text/plain": [
       "<IPython.core.display.HTML object>"
      ]
     },
     "metadata": {},
     "output_type": "display_data"
    },
    {
     "name": "stdout",
     "output_type": "stream",
     "text": [
      "Saving to : /Volumes/UCDN/datasets/SDM/utility/BHM/crdm/BHM_model_summary_v002_combined.csv\n",
      "Saving to : /Volumes/UCDN/datasets/SDM/utility/BHM/crdm/BHM_model_trace_v002_combined.pkl\n",
      "Time to complete 16 aggregate BHM : 9.584376366933187 minutes\n",
      "Saving split BHM : /Volumes/UCDN/datasets/SDM/utility/BHM/split_CRDM_BHM_combined.csv\n"
     ]
    },
    {
     "data": {
      "text/html": [
       "<div>\n",
       "<style scoped>\n",
       "    .dataframe tbody tr th:only-of-type {\n",
       "        vertical-align: middle;\n",
       "    }\n",
       "\n",
       "    .dataframe tbody tr th {\n",
       "        vertical-align: top;\n",
       "    }\n",
       "\n",
       "    .dataframe thead th {\n",
       "        text-align: right;\n",
       "    }\n",
       "</style>\n",
       "<table border=\"1\" class=\"dataframe\">\n",
       "  <thead>\n",
       "    <tr style=\"text-align: right;\">\n",
       "      <th></th>\n",
       "      <th>alpha</th>\n",
       "      <th>beta</th>\n",
       "      <th>gamma</th>\n",
       "      <th>subject</th>\n",
       "      <th>domain</th>\n",
       "    </tr>\n",
       "  </thead>\n",
       "  <tbody>\n",
       "    <tr>\n",
       "      <th>0</th>\n",
       "      <td>1.268311</td>\n",
       "      <td>0.502231</td>\n",
       "      <td>0.819794</td>\n",
       "      <td>23_SDM_0001_E</td>\n",
       "      <td>combined</td>\n",
       "    </tr>\n",
       "    <tr>\n",
       "      <th>1</th>\n",
       "      <td>1.073695</td>\n",
       "      <td>0.372264</td>\n",
       "      <td>1.302612</td>\n",
       "      <td>23_SDM_0001_N</td>\n",
       "      <td>combined</td>\n",
       "    </tr>\n",
       "    <tr>\n",
       "      <th>2</th>\n",
       "      <td>0.861477</td>\n",
       "      <td>-0.652195</td>\n",
       "      <td>0.437715</td>\n",
       "      <td>23_SDM_0002_E</td>\n",
       "      <td>combined</td>\n",
       "    </tr>\n",
       "    <tr>\n",
       "      <th>3</th>\n",
       "      <td>1.176715</td>\n",
       "      <td>0.473823</td>\n",
       "      <td>0.222845</td>\n",
       "      <td>23_SDM_0002_N</td>\n",
       "      <td>combined</td>\n",
       "    </tr>\n",
       "    <tr>\n",
       "      <th>4</th>\n",
       "      <td>0.680268</td>\n",
       "      <td>0.132656</td>\n",
       "      <td>0.794284</td>\n",
       "      <td>23_SDM_0004_E</td>\n",
       "      <td>combined</td>\n",
       "    </tr>\n",
       "    <tr>\n",
       "      <th>5</th>\n",
       "      <td>0.829414</td>\n",
       "      <td>-0.313294</td>\n",
       "      <td>0.899787</td>\n",
       "      <td>23_SDM_0004_N</td>\n",
       "      <td>combined</td>\n",
       "    </tr>\n",
       "    <tr>\n",
       "      <th>6</th>\n",
       "      <td>0.965288</td>\n",
       "      <td>0.060085</td>\n",
       "      <td>0.779237</td>\n",
       "      <td>23_SDM_0005_E</td>\n",
       "      <td>combined</td>\n",
       "    </tr>\n",
       "    <tr>\n",
       "      <th>7</th>\n",
       "      <td>0.860140</td>\n",
       "      <td>0.451612</td>\n",
       "      <td>1.437869</td>\n",
       "      <td>23_SDM_0005_N</td>\n",
       "      <td>combined</td>\n",
       "    </tr>\n",
       "    <tr>\n",
       "      <th>8</th>\n",
       "      <td>0.840710</td>\n",
       "      <td>-0.100207</td>\n",
       "      <td>0.166612</td>\n",
       "      <td>23_SDM_0006_E</td>\n",
       "      <td>combined</td>\n",
       "    </tr>\n",
       "    <tr>\n",
       "      <th>9</th>\n",
       "      <td>0.751564</td>\n",
       "      <td>-0.343415</td>\n",
       "      <td>0.705029</td>\n",
       "      <td>23_SDM_0006_N</td>\n",
       "      <td>combined</td>\n",
       "    </tr>\n",
       "    <tr>\n",
       "      <th>10</th>\n",
       "      <td>0.592744</td>\n",
       "      <td>0.374327</td>\n",
       "      <td>0.770791</td>\n",
       "      <td>23_SDM_0009_E</td>\n",
       "      <td>combined</td>\n",
       "    </tr>\n",
       "    <tr>\n",
       "      <th>11</th>\n",
       "      <td>0.461058</td>\n",
       "      <td>0.264275</td>\n",
       "      <td>1.171584</td>\n",
       "      <td>23_SDM_0009_N</td>\n",
       "      <td>combined</td>\n",
       "    </tr>\n",
       "    <tr>\n",
       "      <th>12</th>\n",
       "      <td>0.499527</td>\n",
       "      <td>0.418510</td>\n",
       "      <td>1.068460</td>\n",
       "      <td>23_SDM_0011_E</td>\n",
       "      <td>combined</td>\n",
       "    </tr>\n",
       "    <tr>\n",
       "      <th>13</th>\n",
       "      <td>0.579506</td>\n",
       "      <td>0.296311</td>\n",
       "      <td>1.016738</td>\n",
       "      <td>23_SDM_0011_N</td>\n",
       "      <td>combined</td>\n",
       "    </tr>\n",
       "    <tr>\n",
       "      <th>14</th>\n",
       "      <td>0.599916</td>\n",
       "      <td>-0.155586</td>\n",
       "      <td>1.484806</td>\n",
       "      <td>23_SDM_0012_E</td>\n",
       "      <td>combined</td>\n",
       "    </tr>\n",
       "    <tr>\n",
       "      <th>15</th>\n",
       "      <td>0.650093</td>\n",
       "      <td>0.280731</td>\n",
       "      <td>1.696976</td>\n",
       "      <td>23_SDM_0016_E</td>\n",
       "      <td>combined</td>\n",
       "    </tr>\n",
       "  </tbody>\n",
       "</table>\n",
       "</div>"
      ],
      "text/plain": [
       "       alpha      beta     gamma        subject    domain\n",
       "0   1.268311  0.502231  0.819794  23_SDM_0001_E  combined\n",
       "1   1.073695  0.372264  1.302612  23_SDM_0001_N  combined\n",
       "2   0.861477 -0.652195  0.437715  23_SDM_0002_E  combined\n",
       "3   1.176715  0.473823  0.222845  23_SDM_0002_N  combined\n",
       "4   0.680268  0.132656  0.794284  23_SDM_0004_E  combined\n",
       "5   0.829414 -0.313294  0.899787  23_SDM_0004_N  combined\n",
       "6   0.965288  0.060085  0.779237  23_SDM_0005_E  combined\n",
       "7   0.860140  0.451612  1.437869  23_SDM_0005_N  combined\n",
       "8   0.840710 -0.100207  0.166612  23_SDM_0006_E  combined\n",
       "9   0.751564 -0.343415  0.705029  23_SDM_0006_N  combined\n",
       "10  0.592744  0.374327  0.770791  23_SDM_0009_E  combined\n",
       "11  0.461058  0.264275  1.171584  23_SDM_0009_N  combined\n",
       "12  0.499527  0.418510  1.068460  23_SDM_0011_E  combined\n",
       "13  0.579506  0.296311  1.016738  23_SDM_0011_N  combined\n",
       "14  0.599916 -0.155586  1.484806  23_SDM_0012_E  combined\n",
       "15  0.650093  0.280731  1.696976  23_SDM_0016_E  combined"
      ]
     },
     "metadata": {},
     "output_type": "display_data"
    },
    {
     "name": "stdout",
     "output_type": "stream",
     "text": [
      "Saving diagnostic plots to bh_dir : /Volumes/UCDN/datasets/SDM/utility/23_SDM_0001_E/crdm/bh\n"
     ]
    },
    {
     "name": "stderr",
     "output_type": "stream",
     "text": [
      "The PostScript backend does not support transparency; partially transparent artists will be rendered opaque.\n"
     ]
    },
    {
     "name": "stdout",
     "output_type": "stream",
     "text": [
      "Saving diagnostic plots to bh_dir : /Volumes/UCDN/datasets/SDM/utility/23_SDM_0001_N/crdm/bh\n"
     ]
    },
    {
     "name": "stderr",
     "output_type": "stream",
     "text": [
      "The PostScript backend does not support transparency; partially transparent artists will be rendered opaque.\n"
     ]
    },
    {
     "name": "stdout",
     "output_type": "stream",
     "text": [
      "Saving diagnostic plots to bh_dir : /Volumes/UCDN/datasets/SDM/utility/23_SDM_0002_E/crdm/bh\n"
     ]
    },
    {
     "name": "stderr",
     "output_type": "stream",
     "text": [
      "The PostScript backend does not support transparency; partially transparent artists will be rendered opaque.\n"
     ]
    },
    {
     "name": "stdout",
     "output_type": "stream",
     "text": [
      "Saving diagnostic plots to bh_dir : /Volumes/UCDN/datasets/SDM/utility/23_SDM_0002_N/crdm/bh\n"
     ]
    },
    {
     "name": "stderr",
     "output_type": "stream",
     "text": [
      "The PostScript backend does not support transparency; partially transparent artists will be rendered opaque.\n"
     ]
    },
    {
     "name": "stdout",
     "output_type": "stream",
     "text": [
      "Saving diagnostic plots to bh_dir : /Volumes/UCDN/datasets/SDM/utility/23_SDM_0004_E/crdm/bh\n"
     ]
    },
    {
     "name": "stderr",
     "output_type": "stream",
     "text": [
      "The PostScript backend does not support transparency; partially transparent artists will be rendered opaque.\n"
     ]
    },
    {
     "name": "stdout",
     "output_type": "stream",
     "text": [
      "Saving diagnostic plots to bh_dir : /Volumes/UCDN/datasets/SDM/utility/23_SDM_0004_N/crdm/bh\n"
     ]
    },
    {
     "name": "stderr",
     "output_type": "stream",
     "text": [
      "The PostScript backend does not support transparency; partially transparent artists will be rendered opaque.\n"
     ]
    },
    {
     "name": "stdout",
     "output_type": "stream",
     "text": [
      "Saving diagnostic plots to bh_dir : /Volumes/UCDN/datasets/SDM/utility/23_SDM_0005_E/crdm/bh\n"
     ]
    },
    {
     "name": "stderr",
     "output_type": "stream",
     "text": [
      "The PostScript backend does not support transparency; partially transparent artists will be rendered opaque.\n"
     ]
    },
    {
     "name": "stdout",
     "output_type": "stream",
     "text": [
      "Saving diagnostic plots to bh_dir : /Volumes/UCDN/datasets/SDM/utility/23_SDM_0005_N/crdm/bh\n"
     ]
    },
    {
     "name": "stderr",
     "output_type": "stream",
     "text": [
      "The PostScript backend does not support transparency; partially transparent artists will be rendered opaque.\n"
     ]
    },
    {
     "name": "stdout",
     "output_type": "stream",
     "text": [
      "Saving diagnostic plots to bh_dir : /Volumes/UCDN/datasets/SDM/utility/23_SDM_0006_E/crdm/bh\n"
     ]
    },
    {
     "name": "stderr",
     "output_type": "stream",
     "text": [
      "The PostScript backend does not support transparency; partially transparent artists will be rendered opaque.\n"
     ]
    },
    {
     "name": "stdout",
     "output_type": "stream",
     "text": [
      "Saving diagnostic plots to bh_dir : /Volumes/UCDN/datasets/SDM/utility/23_SDM_0006_N/crdm/bh\n"
     ]
    },
    {
     "name": "stderr",
     "output_type": "stream",
     "text": [
      "The PostScript backend does not support transparency; partially transparent artists will be rendered opaque.\n"
     ]
    },
    {
     "name": "stdout",
     "output_type": "stream",
     "text": [
      "Saving diagnostic plots to bh_dir : /Volumes/UCDN/datasets/SDM/utility/23_SDM_0009_E/crdm/bh\n"
     ]
    },
    {
     "name": "stderr",
     "output_type": "stream",
     "text": [
      "The PostScript backend does not support transparency; partially transparent artists will be rendered opaque.\n"
     ]
    },
    {
     "name": "stdout",
     "output_type": "stream",
     "text": [
      "Saving diagnostic plots to bh_dir : /Volumes/UCDN/datasets/SDM/utility/23_SDM_0009_N/crdm/bh\n"
     ]
    },
    {
     "name": "stderr",
     "output_type": "stream",
     "text": [
      "The PostScript backend does not support transparency; partially transparent artists will be rendered opaque.\n"
     ]
    },
    {
     "name": "stdout",
     "output_type": "stream",
     "text": [
      "Saving diagnostic plots to bh_dir : /Volumes/UCDN/datasets/SDM/utility/23_SDM_0011_E/crdm/bh\n"
     ]
    },
    {
     "name": "stderr",
     "output_type": "stream",
     "text": [
      "The PostScript backend does not support transparency; partially transparent artists will be rendered opaque.\n"
     ]
    },
    {
     "name": "stdout",
     "output_type": "stream",
     "text": [
      "Saving diagnostic plots to bh_dir : /Volumes/UCDN/datasets/SDM/utility/23_SDM_0011_N/crdm/bh\n"
     ]
    },
    {
     "name": "stderr",
     "output_type": "stream",
     "text": [
      "The PostScript backend does not support transparency; partially transparent artists will be rendered opaque.\n"
     ]
    },
    {
     "name": "stdout",
     "output_type": "stream",
     "text": [
      "Saving diagnostic plots to bh_dir : /Volumes/UCDN/datasets/SDM/utility/23_SDM_0012_E/crdm/bh\n"
     ]
    },
    {
     "name": "stderr",
     "output_type": "stream",
     "text": [
      "The PostScript backend does not support transparency; partially transparent artists will be rendered opaque.\n"
     ]
    },
    {
     "name": "stdout",
     "output_type": "stream",
     "text": [
      "Saving diagnostic plots to bh_dir : /Volumes/UCDN/datasets/SDM/utility/23_SDM_0016_E/crdm/bh\n"
     ]
    },
    {
     "name": "stderr",
     "output_type": "stream",
     "text": [
      "The PostScript backend does not support transparency; partially transparent artists will be rendered opaque.\n"
     ]
    }
   ],
   "source": [
    "# Set the paths needed to find the data and load\n",
    "\n",
    "# The user of the script can edit root_dir and dataset variables to get it to work for their dataset.\n",
    "# This script will work given the data is stored in the appropriate BIDS format in the split directory\n",
    "# root_dir = '/Users/pizarror/Library/CloudStorage/OneDrive-SharedLibraries-NationalInstitutesofHealth/NIMH CDN lab - Datasets'\n",
    "root_dir = '/Volumes/UCDN/datasets/'\n",
    "dataset = 'SDM'\n",
    "\n",
    "# log the BHM experiment version, in case we cahnge it in the future\n",
    "experiment='v002'\n",
    "\n",
    "for domain in ['gain','loss','combined']:\n",
    "    utility_dir,save_dir,data = dirs_and_data(root_dir=root_dir,dataset=dataset,domain=domain)\n",
    "    if data.empty:\n",
    "        # catch for when CRDM data by domain is not present\n",
    "        continue\n",
    "    trace_prior,subjects,subj_id = run_BHM(save_dir,experiment,domain,data)\n",
    "    df_bhm = extract_mean(save_dir=save_dir,var_names=['alpha','beta','gamma'],\n",
    "                          subjects=subjects,experiment=experiment,domain=domain)    \n",
    "    for s in set(subj_id):\n",
    "        coords={'alpha_dim_0': [s],'beta_dim_0': [s],'gamma_dim_0':[s]}\n",
    "        diganostic_plots(trace_prior,experiment=experiment,utility_dir=utility_dir,subject=subjects[s],\n",
    "                         coords=coords,var_names=['alpha','beta','gamma'],figsize=(10,10))\n",
    "\n",
    "    "
   ]
  }
 ],
 "metadata": {
  "kernelspec": {
   "display_name": "Python 3.9.12 ('base')",
   "language": "python",
   "name": "python3"
  },
  "language_info": {
   "codemirror_mode": {
    "name": "ipython",
    "version": 3
   },
   "file_extension": ".py",
   "mimetype": "text/x-python",
   "name": "python",
   "nbconvert_exporter": "python",
   "pygments_lexer": "ipython3",
   "version": "3.9.16"
  },
  "orig_nbformat": 4,
  "vscode": {
   "interpreter": {
    "hash": "09d5eda77765311109b2c027e144dcf58f89dd96008cdf29c2e6b03e99df71a0"
   }
  }
 },
 "nbformat": 4,
 "nbformat_minor": 2
}
