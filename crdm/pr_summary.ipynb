{
 "cells": [
  {
   "cell_type": "markdown",
   "metadata": {},
   "source": [
    "## Parameter recovery summary\n",
    "\n",
    "We were able to simulate data, estimate parameters using BHM and MLE. No we want to make some summary plots to evaluate each method."
   ]
  },
  {
   "cell_type": "code",
   "execution_count": null,
   "metadata": {},
   "outputs": [],
   "source": [
    "# Built-in/Generic Imports\n",
    "import os,sys\n",
    "import glob\n",
    "import math\n",
    "\n",
    "# Libs\n",
    "import numpy as np\n",
    "import pandas as pd\n",
    "import seaborn as sns\n",
    "import matplotlib.pyplot as plt\n",
    "pd.options.display.max_rows = 999"
   ]
  },
  {
   "cell_type": "markdown",
   "metadata": {},
   "source": [
    "### BHM heatmaps"
   ]
  },
  {
   "cell_type": "code",
   "execution_count": null,
   "metadata": {},
   "outputs": [],
   "source": [
    "def get_mse_diff(df,v):\n",
    "    col1 = '{}_agg_mse'.format(v)\n",
    "    col2 = '{}_mle_mse'.format(v)\n",
    "    diff = df[col2]-df[col1]\n",
    "    mse = diff.values.reshape(5,5)\n",
    "    return mse"
   ]
  },
  {
   "cell_type": "code",
   "execution_count": null,
   "metadata": {},
   "outputs": [],
   "source": [
    "def heatmap_difference(df,var_fixed='',var_fixed_value=1.0,vars_plot=[],ver=''):\n",
    "    [y,x] = vars_plot\n",
    "    for v in vars_plot:\n",
    "        fig_dir = 'simul/img/{}/mse'.format(ver)\n",
    "        if not os.path.exists(fig_dir):\n",
    "            os.makedirs(fig_dir)            \n",
    "        mse = get_mse_diff(df,v)\n",
    "        index = np.round(df['{}_gt'.format(y)].unique(),2)\n",
    "        ylabel = y\n",
    "        if 'alpha' in y:\n",
    "            ylabel = 'log ' + ylabel\n",
    "            index = np.round(np.log(df['{}_gt'.format(y)].unique()),2)\n",
    "        columns = np.round(df['{}_gt'.format(x)].unique(),2)\n",
    "        mse_df = pd.DataFrame(mse,index=index,columns=columns)\n",
    "\n",
    "        fig,ax = plt.subplots(figsize=(15,10))\n",
    "        fmt = '.1f'\n",
    "        s=sns.heatmap(mse_df,annot=True,fmt=fmt,ax=ax,vmin=-50,vmax=50,cmap='vlag')\n",
    "        s.set(xlabel=x, ylabel=ylabel)\n",
    "        ax.set_title(r'{0} $\\Delta MSE: MLE-BHM$ (fixed {1}: {2:0.3f})'.format(v,var_fixed,var_fixed_value))\n",
    "        # fig.savefig(fig_fn)    \n"
   ]
  },
  {
   "cell_type": "code",
   "execution_count": null,
   "metadata": {},
   "outputs": [],
   "source": [
    "def heatmap_save_one(df,var_fixed='',var_fixed_value=1.0,vars_plot=[],ver='',model='bhm',type='sing'):\n",
    "    [y,x] = vars_plot\n",
    "    for v in vars_plot:\n",
    "        err = 'mse'\n",
    "        err_col = '{}_{}_{}'.format(v,type,err)\n",
    "        fig_dir = 'simul/img/{}/{}'.format(ver,err)\n",
    "        if not os.path.exists(fig_dir):\n",
    "            os.makedirs(fig_dir)\n",
    "        # fig_fn = os.path.join(fig_dir,'{}_{}_{}.png'.format(v,model,type))\n",
    "        if len(type)==0:\n",
    "            # fig_fn = os.path.join(fig_dir,'{}_{}.png'.format(v,model))\n",
    "            err_col = '{}_{}_{}'.format(v,model,err)\n",
    "        mse = df[err_col].values.reshape(5,5)\n",
    "        index = np.round(df['{}_gt'.format(y)].unique(),2)\n",
    "        ylabel = y\n",
    "        if 'alpha' in y:\n",
    "            ylabel = 'log ' + ylabel\n",
    "            index = np.round(np.log(df['{}_gt'.format(y)].unique()),2)\n",
    "        columns = np.round(df['{}_gt'.format(x)].unique(),2)\n",
    "        mse_df = pd.DataFrame(mse,index=index,columns=columns)\n",
    "\n",
    "        fig,ax = plt.subplots(figsize=(15,10))\n",
    "        fmt = '.1f'\n",
    "        s=sns.heatmap(mse_df,annot=True,fmt=fmt,ax=ax,vmin=0,vmax=100)\n",
    "        s.set(xlabel=x, ylabel=ylabel)\n",
    "        ax.set_title('{0} {1} {2} {3} (fixed {4}: {5:0.3f})'.format(err,model.upper(),type,v,var_fixed,var_fixed_value))\n",
    "        # fig.savefig(fig_fn)\n"
   ]
  },
  {
   "cell_type": "code",
   "execution_count": null,
   "metadata": {},
   "outputs": [],
   "source": [
    "def get_bhm_df(ver='v002'):\n",
    "    bhm_fn = os.path.join('simul/parameter_estimate_bhm_{}.csv'.format(ver))\n",
    "    bhm_df = pd.read_csv(bhm_fn,index_col=0)\n",
    "\n",
    "    for v in ['alpha','beta','gamma']:\n",
    "        for type in ['agg']:\n",
    "            bhm_df['{}_{}_mse'.format(v,type)] = (bhm_df['{}_bhm_{}'.format(v,type)]-bhm_df['{}_gt'.format(v)])**2\n",
    "            # bhm_df['{}_{}_nmse'.format(v,type)] = 100*(bhm_df['{}_bhm_{}'.format(v,type)]-bhm_df['{}_gt'.format(v)])**2 / (bhm_df['{}_bhm_{}'.format(v,type)])**2\n",
    "            bhm_df['{}_{}_nmse'.format(v,type)] = 100*(bhm_df['{}_bhm_{}'.format(v,type)]-bhm_df['{}_gt'.format(v)])**2 / (bhm_df['{}_gt'.format(v)])**2\n",
    "    return bhm_df\n"
   ]
  },
  {
   "cell_type": "code",
   "execution_count": null,
   "metadata": {},
   "outputs": [],
   "source": [
    "def get_mle_df(bhm_df):\n",
    "    mle_fn = os.path.join('simul/utility/split_CRDM_analysis_v001.csv')\n",
    "    df = pd.read_csv(mle_fn,index_col=0)\n",
    "    mle_df = bhm_df[['alpha_gt','beta_gt','gamma_gt']].copy()\n",
    "    mle_df['alpha_mle'] = df['alpha']\n",
    "    mle_df['beta_mle'] = df['beta']\n",
    "    mle_df['gamma_mle'] = df['gamma']\n",
    "    # return mle_df\n",
    "    for v in ['alpha','beta','gamma']:\n",
    "        mle_df['{}_mle_mse'.format(v)] = (mle_df['{}_mle'.format(v)]-mle_df['{}_gt'.format(v)])**2\n",
    "        # mle_df['{}_mle_nmse'.format(v)] = 100*(mle_df['{}_mle'.format(v)]-mle_df['{}_gt'.format(v)])**2 / (mle_df['{}_mle'.format(v)])**2\n",
    "        mle_df['{}_mle_nmse'.format(v)] = 100*(mle_df['{}_mle'.format(v)]-mle_df['{}_gt'.format(v)])**2 / (mle_df['{}_gt'.format(v)])**2\n",
    "    return mle_df"
   ]
  },
  {
   "cell_type": "code",
   "execution_count": null,
   "metadata": {},
   "outputs": [],
   "source": [
    "def scatter_one(df,ver='',v='',err='',x='sing',y='agg'):\n",
    "    ycol = '{}_{}_{}'.format(v,y,err)\n",
    "    xcol = '{}_{}_{}'.format(v,x,err)\n",
    "    fig,ax = plt.subplots(figsize=(6,4))\n",
    "    s=sns.scatterplot(data=df,x=xcol,y=ycol,ax=ax)\n",
    "    s.set(xlabel=x, ylabel=y)\n",
    "    min_val = np.min([np.min(df[ycol]),np.min(df[xcol])])\n",
    "    max_val = np.max([np.max(df[ycol]),np.max(df[xcol])])\n",
    "    plt.plot([min_val, max_val],[min_val, max_val],'k-')\n",
    "    title = '{} {}:{} versus {}'.format(v,err,y,x)\n",
    "    ax.set_title(title)\n",
    "    fig_dir = 'simul/img/{}/vs/'.format(ver)\n",
    "    if err == 'mse':\n",
    "        fig_dir = os.path.join(fig_dir,err)\n",
    "    if not os.path.exists(fig_dir):\n",
    "        os.makedirs(fig_dir)    \n",
    "    fig_fn = os.path.join(fig_dir,'{}_{}_{}_vs_{}.png'.format(v,err,y,x))\n",
    "    fig.savefig(fig_fn)\n",
    "\n",
    "def scatter_two(df,ver='',vars=['kappa','gamma'],err='',mod='agg'):\n",
    "    ycol = '{}_{}_{}'.format(vars[0],mod,err)\n",
    "    xcol = '{}_{}_{}'.format(vars[1],mod,err)\n",
    "    fig,ax = plt.subplots(figsize=(6,4))\n",
    "    s=sns.scatterplot(data=df,x=xcol,y=ycol,ax=ax)\n",
    "    s.set(xlabel=vars[1], ylabel=vars[0])\n",
    "    min_val = np.min([np.min(df[ycol]),np.min(df[xcol])])\n",
    "    max_val = np.max([np.max(df[ycol]),np.max(df[xcol])])\n",
    "    plt.plot([min_val, max_val],[min_val, max_val],'k-')\n",
    "    title = '{} {}:{} versus {}'.format(mod,err,vars[0],vars[1])\n",
    "    ax.set_title(title)\n",
    "    fig_dir = 'simul/img/{}/vs/'.format(ver)\n",
    "    if not os.path.exists(fig_dir):\n",
    "        os.makedirs(fig_dir)    \n",
    "    fig_fn = os.path.join(fig_dir,'{}_{}_{}_vs_{}.png'.format(mod,err,vars[0],vars[1]))\n",
    "    # fig.savefig(fig_fn)\n",
    "\n",
    "def scatter_mse(df,ver='v002'):\n",
    "    print(list(df))\n",
    "    for err in ['mse','nmse']:\n",
    "        vars = ['alpha','beta','gamma']\n",
    "        scatter_two(df,ver=ver,vars=vars,err=err,mod='agg')\n",
    "        # scatter_two(df,ver=ver,vars=vars,err=err,mod='sing')\n",
    "        for v in vars:\n",
    "            # agg versus sing\n",
    "            # scatter_one(df,ver=ver,v=v,err=err,x='sing',y='agg')\n",
    "            # agg versus MLE\n",
    "            scatter_one(df,ver=ver,v=v,err=err,x='mle',y='agg')\n",
    "            # sing versus MLE\n",
    "            # scatter_one(df,ver=ver,v=v,err=err,x='mle',y='sing')\n"
   ]
  },
  {
   "cell_type": "code",
   "execution_count": null,
   "metadata": {},
   "outputs": [],
   "source": [
    "def scatter_plot(df,ver='',model='bhm',type='sing'):\n",
    "    for v in ['alpha','beta','gamma']:\n",
    "        gt_col = '{}_gt'.format(v)\n",
    "        model_col = '{}_{}_{}'.format(v,model,type)\n",
    "        ylabel = '{} {} {}'.format(v,model,type)\n",
    "        xlabel = '{} ground truth'.format(v)\n",
    "        title = '{} {} {}'.format(model.upper(),type,v)\n",
    "        fig_dir = 'simul/img/{}/scatter/'.format(ver)\n",
    "        if not os.path.exists(fig_dir):\n",
    "            os.makedirs(fig_dir)         \n",
    "        fig_fn = os.path.join(fig_dir,'{}_{}_{}.png'.format(v,model,type))\n",
    "        if len(type)==0:\n",
    "            model_col = '{}_{}'.format(v,model)\n",
    "            ylabel = '{} {}'.format(model,v)\n",
    "            title = '{} {}'.format(model.upper(),v)\n",
    "            fig_fn = os.path.join(fig_dir,'{}_{}.png'.format(v,model))\n",
    "\n",
    "        fig,ax = plt.subplots(figsize=(8,6))\n",
    "        s=sns.scatterplot(data=df,x=gt_col,y=model_col,ax=ax)\n",
    "\n",
    "        min_val = np.min([np.min(df[model_col]),np.min(df[gt_col])])\n",
    "        max_val = np.max([np.max(df[model_col]),np.max(df[gt_col])])\n",
    "        plt.plot([min_val, max_val],[min_val, max_val],'k-')\n",
    "        \n",
    "        if 'alpha' in v:\n",
    "            plt.xscale('log')\n",
    "            plt.yscale('log')\n",
    "            xlabel = 'log {}'.format(xlabel)\n",
    "            ylabel = 'log {}'.format(ylabel)\n",
    "        s.set(xlabel=xlabel, ylabel=ylabel)\n",
    "        ax.set_title(title)\n",
    "        fig.savefig(fig_fn)\n"
   ]
  },
  {
   "cell_type": "code",
   "execution_count": null,
   "metadata": {},
   "outputs": [],
   "source": [
    "def get_sample(df,v='alpha'):\n",
    "    # not taking log here, will take it later\n",
    "    col = np.unique(df['{}_gt'.format(v)])\n",
    "    samples = col[1:-1]\n",
    "    # print(v,samples)\n",
    "    return samples"
   ]
  },
  {
   "cell_type": "code",
   "execution_count": null,
   "metadata": {},
   "outputs": [],
   "source": [
    "\n",
    "def heatmap_save_vars(df,ver='',model='bhm',type='agg',plot_diff=False):\n",
    "    # heatmap_save(bhm_df,ver=ver,model='bhm',type='sing')\n",
    "    vars = ['alpha','beta','gamma']\n",
    "    for var_fixed in vars:\n",
    "        var_samples = get_sample(df,v=var_fixed)\n",
    "        for var_fixed_value in var_samples:\n",
    "            var_fixed_df = df.loc[df['{}_gt'.format(var_fixed)]==var_fixed_value]\n",
    "            vars_plot = [var for var in vars if var != var_fixed]\n",
    "            if plot_diff:\n",
    "                heatmap_difference(var_fixed_df,var_fixed=var_fixed,var_fixed_value=var_fixed_value,vars_plot=vars_plot,ver=ver)\n",
    "            else:\n",
    "                heatmap_save_one(var_fixed_df,var_fixed=var_fixed,var_fixed_value=var_fixed_value,vars_plot=vars_plot,ver=ver,model=model,type=type)\n",
    "\n",
    "\n"
   ]
  },
  {
   "cell_type": "code",
   "execution_count": null,
   "metadata": {},
   "outputs": [],
   "source": [
    "ver='v001'\n",
    "bhm_df = get_bhm_df(ver=ver)\n",
    "mle_df = get_mle_df(bhm_df)\n",
    "df = pd.concat([bhm_df,mle_df],axis=1)\n",
    "# drop duplicate columns if there are any\n",
    "df = df.loc[:,~df.columns.duplicated()].copy()\n",
    "\n",
    "# display(list(df))\n",
    "\n"
   ]
  },
  {
   "cell_type": "code",
   "execution_count": null,
   "metadata": {},
   "outputs": [],
   "source": [
    "# scatter_mse(df,ver=ver)\n",
    "\n",
    "heatmap_save_vars(df,ver=ver,plot_diff=True)\n",
    "\n",
    "heatmap_save_vars(df,ver=ver,model='bhm',type='agg')\n",
    "heatmap_save_vars(df,ver=ver,model='mle',type='')\n",
    "# mle_df\n",
    "\n",
    "# heatmap_difference(df,var_fixed='',var_fixed_value=1.0,vars_plot=[],ver=''):\n",
    "# heatmap_difference(df,ver=ver)\n"
   ]
  },
  {
   "cell_type": "code",
   "execution_count": null,
   "metadata": {},
   "outputs": [],
   "source": [
    "\n",
    "# scatter_plot(bhm_df,ver=ver,model='bhm',type='sing')\n",
    "scatter_plot(df,ver=ver,model='bhm',type='agg')\n",
    "scatter_plot(df,ver=ver,model='mle',type='')\n"
   ]
  }
 ],
 "metadata": {
  "kernelspec": {
   "display_name": "idm_jupy",
   "language": "python",
   "name": "python3"
  },
  "language_info": {
   "codemirror_mode": {
    "name": "ipython",
    "version": 3
   },
   "file_extension": ".py",
   "mimetype": "text/x-python",
   "name": "python",
   "nbconvert_exporter": "python",
   "pygments_lexer": "ipython3",
   "version": "3.9.16"
  },
  "orig_nbformat": 4
 },
 "nbformat": 4,
 "nbformat_minor": 2
}
