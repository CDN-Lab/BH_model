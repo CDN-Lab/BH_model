{
 "cells": [
  {
   "cell_type": "markdown",
   "metadata": {},
   "source": [
    "## Simulate data CRDM\n",
    "\n",
    "This script is used to generate simulated data for the CRDM task. Then we can run parameter_recovery to estimate those parameters from the simulated data\n"
   ]
  },
  {
   "cell_type": "code",
   "execution_count": 5,
   "metadata": {},
   "outputs": [],
   "source": [
    "# Built-in/Generic Imports\n",
    "import os\n",
    "\n",
    "# Libs\n",
    "import numpy as np\n",
    "import pandas as pd\n",
    "from scipy.stats import bernoulli"
   ]
  },
  {
   "cell_type": "code",
   "execution_count": 6,
   "metadata": {},
   "outputs": [],
   "source": [
    "\n",
    "### Defining the grids, and functions to make sets as dataframes: choice_set,param_set\n",
    "\n",
    "def set_grids(nb_alpha=10,nb_beta=10,nb_gamma=10):\n",
    "    grid_design = {\n",
    "        # probability of safe bet\n",
    "        'crdm_sure_p': [1.0],\n",
    "        # probability of reward (lottery winning probability)\n",
    "        'crdm_lott_p': [0.13, 0.25, 0.38, 0.50, 0.75],\n",
    "        # safe reward: $5\n",
    "        'crdm_sure_amt': [5],\n",
    "        # reward amount set to vary according to experiment\n",
    "        'crdm_lott_amt': [8, 20, 40, 50],\n",
    "        # ambiguity levels\n",
    "        'crdm_amb_lev':[0.0, 0.24, 0.50, 0.74]\n",
    "    }\n",
    "    grid_param = {\n",
    "        'alpha_gt': np.logspace(-2.0, 0.5, nb_alpha+1)[1:],\n",
    "        # 'beta': np.linspace(-3, 3, 11),\n",
    "        # setting beta_max = 1.3 to avoid getting negative SV when generating new choice set\n",
    "        'beta_gt': np.logspace(-4, 1.5, nb_beta, base=np.exp(1)),\n",
    "        'gamma_gt': np.linspace(0, 5, nb_gamma+1)[1:]\n",
    "    }\n",
    "    return grid_design,grid_param\n",
    "\n",
    "def insert_var(grid=[],var_nb=0,list_var=[]):\n",
    "    if not var_nb:\n",
    "        grid = list_var\n",
    "    elif var_nb==1:\n",
    "        grid = [[g]+[i] for g in grid for i in list_var]\n",
    "    else:\n",
    "        grid = [g+[i] for g in grid for i in list_var]\n",
    "    return grid\n",
    "\n",
    "def make_grid(grid_values):\n",
    "    grid = []\n",
    "    labels = grid_values.keys()\n",
    "    for var_nb,row in enumerate(grid_values.items()):\n",
    "        grid = insert_var(grid=grid,var_nb=var_nb,list_var=row[1])\n",
    "    grid_df = pd.DataFrame(grid,columns=labels)\n",
    "    return grid_df\n",
    "\n",
    "def remove_ambig_trials(df):\n",
    "    # find trials that we want to remove: 50% lottery probability and > 0 ambiguity\n",
    "    # then take the not of that to keep the remaining trials\n",
    "    df = df.loc[~((df['crdm_lott_p']!=0.5)&(df['crdm_amb_lev']>0))].reset_index(drop=True)\n",
    "    return df\n",
    "\n",
    "def append_lott_top_bot(df):\n",
    "    df['crdm_lott_top'] = df['crdm_lott_amt']\n",
    "    df['crdm_lott_bot'] = 0\n",
    "    return df"
   ]
  },
  {
   "cell_type": "code",
   "execution_count": 7,
   "metadata": {},
   "outputs": [],
   "source": [
    "\n",
    "def simulate_response(design,PARAM_TRUE):\n",
    "    # Calculate the probability to choose a variable option\n",
    "    pn, pr, vn, vr, ambig = (design['crdm_sure_p'], design['crdm_lott_p'],design['crdm_sure_amt'], design['crdm_lott_amt'],design['crdm_amb_lev'])\n",
    "    alpha, beta, gamma = PARAM_TRUE['alpha_gt'], PARAM_TRUE['beta_gt'], PARAM_TRUE['gamma_gt']\n",
    "\n",
    "    SV_null = (vn**alpha) * pn\n",
    "    SV_reward = (vr**alpha) * (pr - beta * ambig / 2)\n",
    "    p_obs = 1. / (1 + np.exp(-gamma * (SV_reward - SV_null)))\n",
    "\n",
    "    # Randomly sample a binary choice response from Bernoulli distribution\n",
    "    return float(bernoulli.rvs(p_obs))\n",
    "\n",
    "def generate_response(design_df,PARAM_TRUE):\n",
    "    response= []\n",
    "    df = pd.DataFrame([])\n",
    "    for index, design in design_df.iterrows():\n",
    "        response += [simulate_response(design,PARAM_TRUE)]\n",
    "    df['crdm_choice'] = response\n",
    "    df['crdm_trial_type'] = 'task'\n",
    "    df['crdm_domain'] = 'gain'\n",
    "    df['crdm_confkey'] = 1.0\n",
    "    return df\n"
   ]
  },
  {
   "cell_type": "code",
   "execution_count": 8,
   "metadata": {},
   "outputs": [
    {
     "ename": "AttributeError",
     "evalue": "module 'numpy' has no attribute 'logpace'",
     "output_type": "error",
     "traceback": [
      "\u001b[0;31m---------------------------------------------------------------------------\u001b[0m",
      "\u001b[0;31mAttributeError\u001b[0m                            Traceback (most recent call last)",
      "\u001b[1;32m/Users/pizarror/IDM/BH_model/crdm/simulate_data.ipynb Cell 5\u001b[0m line \u001b[0;36m2\n\u001b[1;32m      <a href='vscode-notebook-cell:/Users/pizarror/IDM/BH_model/crdm/simulate_data.ipynb#W4sZmlsZQ%3D%3D?line=0'>1</a>\u001b[0m \u001b[39m# can set resolution (number of parameter) for kappa and gamma\u001b[39;00m\n\u001b[0;32m----> <a href='vscode-notebook-cell:/Users/pizarror/IDM/BH_model/crdm/simulate_data.ipynb#W4sZmlsZQ%3D%3D?line=1'>2</a>\u001b[0m grid_design,grid_param \u001b[39m=\u001b[39m set_grids(nb_alpha\u001b[39m=\u001b[39;49m\u001b[39m5\u001b[39;49m,nb_beta\u001b[39m=\u001b[39;49m\u001b[39m5\u001b[39;49m,nb_gamma\u001b[39m=\u001b[39;49m\u001b[39m5\u001b[39;49m)\n\u001b[1;32m      <a href='vscode-notebook-cell:/Users/pizarror/IDM/BH_model/crdm/simulate_data.ipynb#W4sZmlsZQ%3D%3D?line=3'>4</a>\u001b[0m design_df \u001b[39m=\u001b[39m make_grid(grid_design)\n\u001b[1;32m      <a href='vscode-notebook-cell:/Users/pizarror/IDM/BH_model/crdm/simulate_data.ipynb#W4sZmlsZQ%3D%3D?line=4'>5</a>\u001b[0m \u001b[39m# some trials have ambiguity > 0 and prob not 0.50\u001b[39;00m\n",
      "\u001b[1;32m/Users/pizarror/IDM/BH_model/crdm/simulate_data.ipynb Cell 5\u001b[0m line \u001b[0;36m2\n\u001b[1;32m      <a href='vscode-notebook-cell:/Users/pizarror/IDM/BH_model/crdm/simulate_data.ipynb#W4sZmlsZQ%3D%3D?line=2'>3</a>\u001b[0m \u001b[39mdef\u001b[39;00m \u001b[39mset_grids\u001b[39m(nb_alpha\u001b[39m=\u001b[39m\u001b[39m10\u001b[39m,nb_beta\u001b[39m=\u001b[39m\u001b[39m10\u001b[39m,nb_gamma\u001b[39m=\u001b[39m\u001b[39m10\u001b[39m):\n\u001b[1;32m      <a href='vscode-notebook-cell:/Users/pizarror/IDM/BH_model/crdm/simulate_data.ipynb#W4sZmlsZQ%3D%3D?line=3'>4</a>\u001b[0m     grid_design \u001b[39m=\u001b[39m {\n\u001b[1;32m      <a href='vscode-notebook-cell:/Users/pizarror/IDM/BH_model/crdm/simulate_data.ipynb#W4sZmlsZQ%3D%3D?line=4'>5</a>\u001b[0m         \u001b[39m# probability of safe bet\u001b[39;00m\n\u001b[1;32m      <a href='vscode-notebook-cell:/Users/pizarror/IDM/BH_model/crdm/simulate_data.ipynb#W4sZmlsZQ%3D%3D?line=5'>6</a>\u001b[0m         \u001b[39m'\u001b[39m\u001b[39mcrdm_sure_p\u001b[39m\u001b[39m'\u001b[39m: [\u001b[39m1.0\u001b[39m],\n\u001b[0;32m   (...)\u001b[0m\n\u001b[1;32m     <a href='vscode-notebook-cell:/Users/pizarror/IDM/BH_model/crdm/simulate_data.ipynb#W4sZmlsZQ%3D%3D?line=13'>14</a>\u001b[0m         \u001b[39m'\u001b[39m\u001b[39mcrdm_amb_lev\u001b[39m\u001b[39m'\u001b[39m:[\u001b[39m0.0\u001b[39m, \u001b[39m0.24\u001b[39m, \u001b[39m0.50\u001b[39m, \u001b[39m0.74\u001b[39m]\n\u001b[1;32m     <a href='vscode-notebook-cell:/Users/pizarror/IDM/BH_model/crdm/simulate_data.ipynb#W4sZmlsZQ%3D%3D?line=14'>15</a>\u001b[0m     }\n\u001b[1;32m     <a href='vscode-notebook-cell:/Users/pizarror/IDM/BH_model/crdm/simulate_data.ipynb#W4sZmlsZQ%3D%3D?line=15'>16</a>\u001b[0m     grid_param \u001b[39m=\u001b[39m {\n\u001b[1;32m     <a href='vscode-notebook-cell:/Users/pizarror/IDM/BH_model/crdm/simulate_data.ipynb#W4sZmlsZQ%3D%3D?line=16'>17</a>\u001b[0m         \u001b[39m'\u001b[39m\u001b[39malpha_gt\u001b[39m\u001b[39m'\u001b[39m: np\u001b[39m.\u001b[39mlinspace(\u001b[39m-\u001b[39m\u001b[39m1.5\u001b[39m, \u001b[39m0.25\u001b[39m, nb_alpha\u001b[39m+\u001b[39m\u001b[39m1\u001b[39m)[\u001b[39m1\u001b[39m:],\n\u001b[1;32m     <a href='vscode-notebook-cell:/Users/pizarror/IDM/BH_model/crdm/simulate_data.ipynb#W4sZmlsZQ%3D%3D?line=17'>18</a>\u001b[0m         \u001b[39m# 'beta': np.linspace(-3, 3, 11),\u001b[39;00m\n\u001b[1;32m     <a href='vscode-notebook-cell:/Users/pizarror/IDM/BH_model/crdm/simulate_data.ipynb#W4sZmlsZQ%3D%3D?line=18'>19</a>\u001b[0m         \u001b[39m# setting beta_max = 1.3 to avoid getting negative SV when generating new choice set\u001b[39;00m\n\u001b[0;32m---> <a href='vscode-notebook-cell:/Users/pizarror/IDM/BH_model/crdm/simulate_data.ipynb#W4sZmlsZQ%3D%3D?line=19'>20</a>\u001b[0m         \u001b[39m'\u001b[39m\u001b[39mbeta_gt\u001b[39m\u001b[39m'\u001b[39m: np\u001b[39m.\u001b[39;49mlogpace(\u001b[39m-\u001b[39m\u001b[39m4\u001b[39m, \u001b[39m1.5\u001b[39m, nb_beta),\n\u001b[1;32m     <a href='vscode-notebook-cell:/Users/pizarror/IDM/BH_model/crdm/simulate_data.ipynb#W4sZmlsZQ%3D%3D?line=20'>21</a>\u001b[0m         \u001b[39m'\u001b[39m\u001b[39mgamma_gt\u001b[39m\u001b[39m'\u001b[39m: np\u001b[39m.\u001b[39mlinspace(\u001b[39m0\u001b[39m, \u001b[39m5\u001b[39m, nb_gamma\u001b[39m+\u001b[39m\u001b[39m1\u001b[39m)[\u001b[39m1\u001b[39m:]\n\u001b[1;32m     <a href='vscode-notebook-cell:/Users/pizarror/IDM/BH_model/crdm/simulate_data.ipynb#W4sZmlsZQ%3D%3D?line=21'>22</a>\u001b[0m     }\n\u001b[1;32m     <a href='vscode-notebook-cell:/Users/pizarror/IDM/BH_model/crdm/simulate_data.ipynb#W4sZmlsZQ%3D%3D?line=22'>23</a>\u001b[0m     \u001b[39mreturn\u001b[39;00m grid_design,grid_param\n",
      "File \u001b[0;32m~/opt/miniconda/envs/idm_jupy/lib/python3.9/site-packages/numpy/__init__.py:320\u001b[0m, in \u001b[0;36m__getattr__\u001b[0;34m(attr)\u001b[0m\n\u001b[1;32m    317\u001b[0m     \u001b[39mfrom\u001b[39;00m \u001b[39m.\u001b[39;00m\u001b[39mtesting\u001b[39;00m \u001b[39mimport\u001b[39;00m Tester\n\u001b[1;32m    318\u001b[0m     \u001b[39mreturn\u001b[39;00m Tester\n\u001b[0;32m--> 320\u001b[0m \u001b[39mraise\u001b[39;00m \u001b[39mAttributeError\u001b[39;00m(\u001b[39m\"\u001b[39m\u001b[39mmodule \u001b[39m\u001b[39m{!r}\u001b[39;00m\u001b[39m has no attribute \u001b[39m\u001b[39m\"\u001b[39m\n\u001b[1;32m    321\u001b[0m                      \u001b[39m\"\u001b[39m\u001b[39m{!r}\u001b[39;00m\u001b[39m\"\u001b[39m\u001b[39m.\u001b[39mformat(\u001b[39m__name__\u001b[39m, attr))\n",
      "\u001b[0;31mAttributeError\u001b[0m: module 'numpy' has no attribute 'logpace'"
     ]
    }
   ],
   "source": [
    "# can set resolution (number of parameter) for kappa and gamma\n",
    "grid_design,grid_param = set_grids(nb_alpha=5,nb_beta=5,nb_gamma=5)\n",
    "\n",
    "design_df = make_grid(grid_design)\n",
    "# some trials have ambiguity > 0 and prob not 0.50\n",
    "design_df = remove_ambig_trials(design_df)\n",
    "design_df = append_lott_top_bot(design_df)\n",
    "fn = os.path.join('simul','design_set.csv')\n",
    "print('Saving design to : {}'.format(fn))\n",
    "design_df.to_csv(fn)\n",
    "\n",
    "param_df = make_grid(grid_param)\n",
    "fn = os.path.join('simul','ground_truth.csv')\n",
    "print('Saving ground truth parameters to : {}'.format(fn))\n",
    "param_df.to_csv(fn)\n",
    "\n",
    "for index, PARAM_TRUE in param_df.iterrows():\n",
    "    response_df = generate_response(design_df,PARAM_TRUE)\n",
    "    subj_dir = os.path.join('simul','split','p{0:04d}'.format(index),'crdm')\n",
    "    if not os.path.exists(subj_dir):\n",
    "        os.makedirs(subj_dir)\n",
    "    fn = os.path.join(subj_dir,'p{0:04d}_crdm.csv'.format(index))\n",
    "    print('Saving response to : {}'.format(fn))\n",
    "    df = pd.concat([design_df,response_df],axis=1)\n",
    "    df.to_csv(fn)\n"
   ]
  }
 ],
 "metadata": {
  "kernelspec": {
   "display_name": "idm_jupy",
   "language": "python",
   "name": "python3"
  },
  "language_info": {
   "codemirror_mode": {
    "name": "ipython",
    "version": 3
   },
   "file_extension": ".py",
   "mimetype": "text/x-python",
   "name": "python",
   "nbconvert_exporter": "python",
   "pygments_lexer": "ipython3",
   "version": "3.9.16"
  },
  "orig_nbformat": 4
 },
 "nbformat": 4,
 "nbformat_minor": 2
}
