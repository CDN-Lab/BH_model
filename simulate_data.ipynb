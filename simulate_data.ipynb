{
 "cells": [
  {
   "cell_type": "markdown",
   "metadata": {},
   "source": [
    "## Simulate data\n",
    "\n",
    "This script is used to generate simulated data. Then we can run parameter_recovery to estimate those parameters from the simulated data\n"
   ]
  },
  {
   "cell_type": "code",
   "execution_count": 40,
   "metadata": {},
   "outputs": [],
   "source": [
    "# Built-in/Generic Imports\n",
    "import os\n",
    "\n",
    "# Libs\n",
    "import numpy as np\n",
    "import pandas as pd\n",
    "from scipy.stats import bernoulli"
   ]
  },
  {
   "cell_type": "code",
   "execution_count": 41,
   "metadata": {},
   "outputs": [],
   "source": [
    "\n",
    "### Defining the grids, and functions to make sets as dataframes: choice_set,param_set,response_set\n",
    "\n",
    "def set_grids(nb_kappa=10,nb_gamma=10):\n",
    "    grid_design = {\n",
    "        # now: time_null = 0\n",
    "        'cdd_immed_wait': [0],\n",
    "        # time to get reward (delay_wait)\n",
    "        'cdd_delay_wait': [2, 7, 15, 36, 72, 108, 144, 180],\n",
    "        # immediate reward from experiment: $2, $10, $20 ... fixed to $10\n",
    "        'cdd_immed_amt': [10, 20],\n",
    "        # reward amount set to vary according to experiment\n",
    "        'cdd_delay_amt': [7, 14, 21, 30, 41, 50, 65]\n",
    "    }\n",
    "    grid_param = {\n",
    "        # 50 points on [10^-5, ..., 1] in a log scale\n",
    "        'kappa_gt': np.logspace(-5, 0, nb_kappa, base=10),\n",
    "        # 10 points on (0, 5] in a linear scale\n",
    "        'gamma_gt': np.linspace(0, 5, nb_gamma+1)[1:]\n",
    "    }\n",
    "    return grid_design,grid_param\n",
    "\n",
    "def insert_var(grid=[],var_nb=0,list_var=[]):\n",
    "    if not var_nb:\n",
    "        grid = list_var\n",
    "    elif var_nb==1:\n",
    "        grid = [[g]+[i] for g in grid for i in list_var]\n",
    "    else:\n",
    "        grid = [g+[i] for g in grid for i in list_var]\n",
    "    return grid\n",
    "\n",
    "def make_grid(grid_values):\n",
    "    grid = []\n",
    "    labels = grid_values.keys()\n",
    "    for var_nb,row in enumerate(grid_values.items()):\n",
    "        grid = insert_var(grid=grid,var_nb=var_nb,list_var=row[1])\n",
    "    grid_df = pd.DataFrame(grid,columns=labels)\n",
    "    return grid_df\n"
   ]
  },
  {
   "cell_type": "code",
   "execution_count": 42,
   "metadata": {},
   "outputs": [],
   "source": [
    "\n",
    "def simulate_response(design,PARAM_TRUE):\n",
    "    # Calculate the probability to choose a variable option\n",
    "    tn, tr, vn, vr = (design['cdd_immed_wait'], design['cdd_delay_wait'],design['cdd_immed_amt'], design['cdd_delay_amt'])\n",
    "    kappa, gamma = PARAM_TRUE['kappa_gt'], PARAM_TRUE['gamma_gt']\n",
    "    \n",
    "    SV_null = vn * (1. / (1 + kappa * tn))\n",
    "    SV_reward = vr * (1. / (1 + kappa * tr))\n",
    "    p_obs = 1. / (1 + np.exp(-gamma * (SV_reward - SV_null)))\n",
    "\n",
    "    # Randomly sample a binary choice response from Bernoulli distribution\n",
    "    return bernoulli.rvs(p_obs)\n",
    "\n",
    "def generate_response(design_df,PARAM_TRUE):\n",
    "    response= []\n",
    "    df = pd.DataFrame([])\n",
    "    for index, design in design_df.iterrows():\n",
    "        response += [simulate_response(design,PARAM_TRUE)]\n",
    "    df['response'] = response\n",
    "    return df\n"
   ]
  },
  {
   "cell_type": "code",
   "execution_count": 43,
   "metadata": {},
   "outputs": [
    {
     "name": "stdout",
     "output_type": "stream",
     "text": [
      "Saving design to : simul/design_set.csv\n",
      "Saving ground truth parameters to : simul/ground_truth.csv\n",
      "Saving response to : simul/response/p0000.csv\n",
      "Saving response to : simul/response/p0001.csv\n",
      "Saving response to : simul/response/p0002.csv\n",
      "Saving response to : simul/response/p0003.csv\n",
      "Saving response to : simul/response/p0004.csv\n",
      "Saving response to : simul/response/p0005.csv\n",
      "Saving response to : simul/response/p0006.csv\n",
      "Saving response to : simul/response/p0007.csv\n",
      "Saving response to : simul/response/p0008.csv\n"
     ]
    }
   ],
   "source": [
    "# can set resolution (number of parameter) for kappa and gamma\n",
    "grid_design,grid_param = set_grids(nb_kappa=3,nb_gamma=3)\n",
    "\n",
    "design_df = make_grid(grid_design)\n",
    "fn = os.path.join('simul','design_set.csv')\n",
    "print('Saving design to : {}'.format(fn))\n",
    "design_df.to_csv(fn)\n",
    "\n",
    "param_df = make_grid(grid_param)\n",
    "fn = os.path.join('simul','ground_truth.csv')\n",
    "print('Saving ground truth parameters to : {}'.format(fn))\n",
    "param_df.to_csv(fn)\n",
    "\n",
    "for index, PARAM_TRUE in param_df.iterrows():\n",
    "    response_df = generate_response(design_df,PARAM_TRUE)\n",
    "    fn = os.path.join('simul','response','p{0:04d}.csv'.format(index))\n",
    "    print('Saving response to : {}'.format(fn))\n",
    "    response_df.to_csv(fn)"
   ]
  }
 ],
 "metadata": {
  "kernelspec": {
   "display_name": "idm_jupy",
   "language": "python",
   "name": "python3"
  },
  "language_info": {
   "codemirror_mode": {
    "name": "ipython",
    "version": 3
   },
   "file_extension": ".py",
   "mimetype": "text/x-python",
   "name": "python",
   "nbconvert_exporter": "python",
   "pygments_lexer": "ipython3",
   "version": "3.9.16"
  },
  "orig_nbformat": 4
 },
 "nbformat": 4,
 "nbformat_minor": 2
}
