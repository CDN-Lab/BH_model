{
 "cells": [
  {
   "cell_type": "markdown",
   "metadata": {},
   "source": [
    "## Simulate data\n",
    "\n",
    "Somehow my script to simulate data got delted when making a commit... very frustrating\n",
    "\n",
    "I will rewrite soon\n",
    "\n",
    "\n",
    "Make design_df\n",
    "Make parameter_df\n",
    "Loop through each and simulate response and save it\n",
    "\n",
    "\n",
    "\n"
   ]
  },
  {
   "cell_type": "code",
   "execution_count": null,
   "metadata": {},
   "outputs": [],
   "source": []
  }
 ],
 "metadata": {
  "language_info": {
   "name": "python"
  },
  "orig_nbformat": 4
 },
 "nbformat": 4,
 "nbformat_minor": 2
}
