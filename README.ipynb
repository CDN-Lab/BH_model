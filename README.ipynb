{
 "cells": [
  {
   "cell_type": "markdown",
   "metadata": {},
   "source": [
    "# Bayesian Hierarchical Model (BHM)\n",
    "\n",
    "In this repository, we developed BHM to estimate parameters for value-based and confidence-based computational models. \n",
    "\n",
    "The code is written in modular form to analyze the model parameters from the following tasks: \n",
    "- CRDM: confidence and risky decision making \n",
    "- CDD: confidence and delay discounting\n",
    "- CDD_nlh: CDD nonlinear hyperbolic\n",
    "- CPDM: confidence and perceptual decision making\n",
    "\n",
    "The code is also written to work for each of the studies that the Computational and Decision Neuroscience (CDN) lab is involved:\n",
    "- IDM: interoceptive decision making\n",
    "- SDM: States decision making\n",
    "- SDAN: CDN's collaboration with SDAN\n",
    "\n",
    "In order for the script to work, the datafiles need to be stored in the appropriate [BIDS](https://bids.neuroimaging.io/) format. We have the data located in a folder named `split` where each subject has a folder with the tasks they completed. Under each of the task directories, there is a spreadsheet with the naming convention `subjectname_task.csv`. Below you can see an example for how this looks like for the first 10 participants of the IDM project. "
   ]
  },
  {
   "cell_type": "markdown",
   "metadata": {},
   "source": [
    "![example BIDS format](img/BIDS_eg.png)"
   ]
  },
  {
   "cell_type": "code",
   "execution_count": null,
   "metadata": {},
   "outputs": [],
   "source": []
  }
 ],
 "metadata": {
  "language_info": {
   "name": "python"
  }
 },
 "nbformat": 4,
 "nbformat_minor": 2
}
