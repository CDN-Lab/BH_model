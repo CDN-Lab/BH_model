{
 "cells": [
  {
   "cell_type": "markdown",
   "metadata": {},
   "source": [
    "## Generate Subjective Value (SV) difference\n",
    "\n",
    "Use the BHM generated parameters to generate SV difference\n"
   ]
  },
  {
   "cell_type": "markdown",
   "metadata": {},
   "source": [
    "### Import libraries and modules"
   ]
  },
  {
   "cell_type": "code",
   "execution_count": null,
   "metadata": {},
   "outputs": [],
   "source": [
    "import pandas as pd\n",
    "import os,sys\n",
    "pd.options.display.max_rows = 999\n",
    "pd.options.display.max_columns = 99"
   ]
  },
  {
   "cell_type": "code",
   "execution_count": null,
   "metadata": {},
   "outputs": [],
   "source": [
    "# getting the name of the directory\n",
    "# where the this file is present.\n",
    "# current = os.path.dirname(os.path.realpath(__file__))\n",
    "current = os.path.dirname(os.getcwd())\n",
    " \n",
    "# Getting the parent directory name\n",
    "# where the current directory is present.\n",
    "# parent = os.path.dirname(os.path.dirname(current))\n",
    "# parent = current\n",
    "parent = '/Users/pizarror/IDM'\n",
    "# print(parent)\n",
    "#/Users/pizarror/IDM\n",
    "\n",
    "# adding the parent directory to\n",
    "# the sys.path.\n",
    "sys.path.append(parent)\n",
    "\n",
    "from IDM_model.src import model_functions as mf\n"
   ]
  },
  {
   "cell_type": "code",
   "execution_count": null,
   "metadata": {},
   "outputs": [],
   "source": [
    "# These functions do not mention the task\n",
    "\n",
    "def get_df_bhm(idm_dir=''):\n",
    "    agg_fn = os.path.join(idm_dir,'Aggregate_All_Model_Parameters.csv')\n",
    "    df_agg = pd.read_csv(agg_fn)\n",
    "    cols = [c for c in list(df_agg) if 'bhm' in c or 'subject' in c]\n",
    "    df_bhm = df_agg.loc[:,cols]\n",
    "    return df_bhm\n",
    "\n",
    "def get_SV_hat_fn(sfn):\n",
    "    SV_fn = sfn.replace('split','utility')\n",
    "    SV_fn = os.path.join(os.path.dirname(SV_fn),'bh',os.path.basename(SV_fn).replace('.csv','_gain_SV_hat_bhm.csv'))\n",
    "    return SV_fn"
   ]
  },
  {
   "cell_type": "code",
   "execution_count": null,
   "metadata": {},
   "outputs": [],
   "source": [
    "# this function is generalized to work for both CRDM and CDD\n",
    "\n",
    "def read_load_data(subject='23_IDM_0144',fn='/tmp',alpha0=1.0,cols=[],task='crdm'):\n",
    "    df = pd.read_csv(fn)\n",
    "    if 'crdm' in task:\n",
    "        domain = 'gain'\n",
    "        df = mf.get_by_domain(df,domain=domain,task=task,verbose=True)\n",
    "    df = mf.drop_pract(df,task=task)\n",
    "    df,response_rate = mf.drop_non_responses(df,task=task,verbose=False) \n",
    "    conf_resp = mf.get_confresp(df,task=task)\n",
    "    cols += [conf_resp]\n",
    "    data = mf.get_data(df,cols,task=task)[0]\n",
    "    data = data.rename(columns={conf_resp:'{}_confkey'.format(task)})\n",
    "    data['subject'] = subject\n",
    "    return data "
   ]
  },
  {
   "cell_type": "code",
   "execution_count": null,
   "metadata": {},
   "outputs": [],
   "source": [
    "# these functions specific to crdm\n",
    "\n",
    "def get_crdm_params(df_bhm,subject):\n",
    "    alpha = df_bhm.loc[df_bhm['subject']==subject,'crdm_alpha_bhm'].values\n",
    "    beta = df_bhm.loc[df_bhm['subject']==subject,'crdm_beta_bhm'].values\n",
    "    return alpha,beta\n",
    "\n",
    "def get_crdm_trials(df):\n",
    "    vl = df['crdm_lott_amt'].values\n",
    "    pl = df['crdm_lott_p'].values\n",
    "    a = df['crdm_amb_lev'].values\n",
    "    vs = df['crdm_sure_amt'].values\n",
    "    ps = df['crdm_sure_p'].values\n",
    "    return vl,pl,a,vs,ps\n",
    "\n",
    "def append_SV_delta(df_bhm,df):\n",
    "    subject = df['subject'].unique().item()\n",
    "    choice_col = mf.get_choicecol(df,task='crdm')\n",
    "    conf_resp = mf.get_confresp(df,task='crdm')\n",
    "\n",
    "    vl,pl,a,vs,ps = get_crdm_trials(df)\n",
    "    alpha,beta = get_crdm_params(df_bhm,subject)\n",
    "\n",
    "    df['SV_lottery'] = (pl - beta*a/2) * (vl**alpha)\n",
    "    df['SV_safe'] = (ps) * (vs**alpha)\n",
    "    df['SV_delta'] = df['SV_lottery'] - df['SV_safe']\n",
    "    df['valence'] = 2.0*df[choice_col] - 1.0\n",
    "    df['confidence'] = df[conf_resp]*df['valence']\n",
    "    df['ambig_trial'] = 0\n",
    "    df['ambig_trial'] = df['crdm_amb_lev'] > 0\n",
    "    \n",
    "    return df.loc[:,['SV_delta','ambig_trial','confidence']].astype(float)\n"
   ]
  },
  {
   "cell_type": "code",
   "execution_count": null,
   "metadata": {},
   "outputs": [],
   "source": [
    "idm_dir = '/Volumes/UCDN/datasets/IDM/'\n",
    "df_bhm = get_df_bhm(idm_dir=idm_dir)\n",
    "split_dir = os.path.join(idm_dir,'split')\n",
    "\n",
    "task = 'crdm'\n",
    "cols = ['crdm_choice','crdm_sure_p','crdm_lott_p','crdm_sure_amt','crdm_lott_amt','crdm_amb_lev']\n",
    "data = pd.DataFrame(columns=['subject']+cols+['crdm_confkey'])\n",
    "\n",
    "for s in df_bhm['subject']:\n",
    "    cols = ['crdm_choice','crdm_sure_p','crdm_lott_p','crdm_sure_amt','crdm_lott_amt','crdm_amb_lev']\n",
    "    sfn = os.path.join(split_dir,s,task,'{}_{}.csv'.format(s,task))\n",
    "    subj_data = read_load_data(subject=s,fn=sfn,alpha0=1.0,cols=cols,task=task)\n",
    "    for c in list(subj_data):\n",
    "        if 'subject' in c:\n",
    "            continue\n",
    "        subj_data[c] = subj_data[c].astype(float)\n",
    "    df_SV_hat = append_SV_delta(df_bhm,subj_data)\n",
    "    SV_fn = get_SV_hat_fn(sfn)\n",
    "    print('Saving SV_hat to : {}'.format(SV_fn))\n",
    "    df_SV_hat.to_csv(SV_fn,index=False)\n",
    "\n"
   ]
  }
 ],
 "metadata": {
  "kernelspec": {
   "display_name": "idm_jupy",
   "language": "python",
   "name": "python3"
  },
  "language_info": {
   "codemirror_mode": {
    "name": "ipython",
    "version": 3
   },
   "file_extension": ".py",
   "mimetype": "text/x-python",
   "name": "python",
   "nbconvert_exporter": "python",
   "pygments_lexer": "ipython3",
   "version": "3.9.16"
  }
 },
 "nbformat": 4,
 "nbformat_minor": 2
}
