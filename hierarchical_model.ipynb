{
 "cells": [
  {
   "cell_type": "code",
   "execution_count": 4,
   "metadata": {},
   "outputs": [],
   "source": [
    "import numpy as np\n",
    "import math\n",
    "import scipy as sp\n",
    "from scipy import optimize\n",
    "from numpy import genfromtxt\n",
    "import pandas as pd \n",
    "import glob\n",
    "import pymc as pm\n",
    "import arviz as az\n",
    "import statistics as stats\n",
    "import matplotlib.pyplot as plt\n",
    "import os,sys"
   ]
  },
  {
   "cell_type": "code",
   "execution_count": 13,
   "metadata": {},
   "outputs": [
    {
     "name": "stdout",
     "output_type": "stream",
     "text": [
      "/Users/pizarror/IDM\n"
     ]
    }
   ],
   "source": [
    "# getting the name of the directory\n",
    "# where the this file is present.\n",
    "# current = os.path.dirname(os.path.realpath(__file__))\n",
    "current = os.path.dirname(os.getcwd())\n",
    " \n",
    "# Getting the parent directory name\n",
    "# where the current directory is present.\n",
    "# parent = os.path.dirname(os.path.dirname(current))\n",
    "parent = current\n",
    "print(parent)\n",
    "#/Users/pizarror/IDM\n",
    "\n",
    "# adding the parent directory to\n",
    "# the sys.path.\n",
    "sys.path.append(parent)\n",
    "\n",
    "from IDM_model.src import model_functions as mf\n"
   ]
  },
  {
   "cell_type": "code",
   "execution_count": null,
   "metadata": {},
   "outputs": [],
   "source": [
    "def read_load_data(subject='23_IDM_0144',fn='/tmp',alpha0=1.0,cols=[]):\n",
    "    df = pd.read_csv(fn)\n",
    "    # remove practice trials\n",
    "    df = df.loc[df['cdd_trial_type']=='task']\n",
    "    # insert probability as choice into data\n",
    "    # cols = ['cdd_trial_resp.corr','cdd_immed_amt','cdd_delay_amt','cdd_immed_wait','cdd_delay_wait','alpha']\n",
    "    # also returns percent_reward which we do not need here\n",
    "    data = mf.get_data(df,cols,alpha_hat=alpha0)[0]\n",
    "    data['subject'] = subject\n",
    "    # vn = data['cdd_immed_amt'].to_list()\n",
    "    # vr = data['cdd_delay_amt'].to_list()\n",
    "    # tn = data['cdd_immed_wait'].to_list()\n",
    "    # tr = data['cdd_delay_wait'].to_list()\n",
    "    # choice = data['cdd_trial_resp.corr'].to_list()\n",
    "    return data # vn,vr,tn,tr,choice"
   ]
  },
  {
   "attachments": {},
   "cell_type": "markdown",
   "metadata": {},
   "source": [
    "## Complete Pooling\n",
    "\n",
    "Complete pooling ignores the group-level information and considers all data as belonging to the same category. All groups are described with the same model. \n",
    "\n",
    "We are using complete pooling to generate priors for when we implement a higherarchical bayesian model."
   ]
  },
  {
   "attachments": {},
   "cell_type": "markdown",
   "metadata": {},
   "source": [
    "### Load data\n",
    "\n",
    "We will load the data from all participants so we can run the modeling schema"
   ]
  },
  {
   "cell_type": "code",
   "execution_count": null,
   "metadata": {},
   "outputs": [],
   "source": [
    "\n",
    "# Takes about 16 seconds\n",
    "\n",
    "# we will change this when we change utility to 1st level analysis (or split)\n",
    "split_dir = '/Volumes/UCDN/datasets/IDM/split/'\n",
    "save_dir = '/Volumes/UCDN/datasets/IDM/BH/csv'\n",
    "subjs = sorted(glob.glob(os.path.join(split_dir,'23_IDM_*')))\n",
    "task = 'cdd'\n",
    "# VNa,VRa,TNa,TRa,Cha = [[]]*5\n",
    "cols = ['cdd_trial_resp.corr','cdd_immed_amt','cdd_delay_amt','cdd_immed_wait','cdd_delay_wait','alpha']\n",
    "data = pd.DataFrame(columns=['subject']+cols)\n",
    "\n",
    "for s in subjs:\n",
    "    subject = os.path.basename(s)\n",
    "    fn  = os.path.join(s,task,'{}_{}.csv'.format(os.path.basename(s),task))\n",
    "    if os.path.exists(fn):\n",
    "        # SSA (Ben's smaller sooner amount) is vn (value_null)\n",
    "        # LLA (Ben's larger later amount) is vr (value_reward)\n",
    "        # SSD (Ben's smaller sooner delay) is tn (time_null)\n",
    "        # LLD (Ben's larger later delay) is tr (time_reward)\n",
    "        # y_pool (Ben's) is choice \n",
    "        # vn,vr,tn,tr,choice = read_load_data(fn=fn,alpha0=1.0)\n",
    "        subj_data = read_load_data(subject=subject,fn=fn,alpha0=1.0,cols=cols)\n",
    "        data = pd.concat([data,subj_data],ignore_index=True)\n",
    "        # VNa = VNa + vn\n",
    "        # VRa = VRa + vr\n",
    "        # TNa = TNa + tn\n",
    "        # TRa = TRa + tr\n",
    "        # Cha = Cha + choice\n",
    "\n",
    "print(data)\n",
    "\n",
    "\n",
    "\n"
   ]
  },
  {
   "attachments": {},
   "cell_type": "markdown",
   "metadata": {},
   "source": [
    "### 1. Simple Hierarchical Model\n",
    "\n",
    "Pool all data together and run simple BH model\n"
   ]
  },
  {
   "cell_type": "code",
   "execution_count": null,
   "metadata": {},
   "outputs": [],
   "source": [
    "subjects = data['subject'].unique()\n",
    "subjects = subjects[:100]\n",
    "print(subjects)\n",
    "data = data.loc[data['subject'].isin(subjects)]\n",
    "\n",
    "print(data)\n"
   ]
  },
  {
   "cell_type": "code",
   "execution_count": null,
   "metadata": {},
   "outputs": [],
   "source": [
    "\n",
    "# takes approximately 6-10 ,minutes for 10 subjects\n",
    "\n",
    "subjects = data['subject'].unique()\n",
    "nb_subj = subjects.shape[0]\n",
    "nb_trials = data.shape[0]//nb_subj\n",
    "subj_id = np.array([ [s]*nb_trials for s in range(nb_subj) ]).flatten()\n",
    "\n",
    "delay_amt = data['cdd_delay_amt'].values\n",
    "delay_wait = data['cdd_delay_wait'].values\n",
    "immed_amt = data['cdd_immed_amt'].values\n",
    "immed_wait = data['cdd_immed_wait'].values\n",
    "choices = data['cdd_trial_resp.corr'].values\n",
    "\n",
    "\n",
    "# for iSubj,s in enumerate(subjects):\n",
    "#     print('Working on modeling for subject : {}'.format(s))\n",
    "#     delay_amt[iSubj,:] = data.loc[data['subject']==s]['cdd_delay_amt'].values\n",
    "#     # if len(delay_amt)!=96:\n",
    "#     #     print('Whoops dataset is not right size : check subject {}'.format(s))\n",
    "#     #     sys.exit()\n",
    "#     delay_wait[iSubj,:] = data.loc[data['subject']==s]['cdd_delay_wait'].values\n",
    "#     immed_amt[iSubj,:] = data.loc[data['subject']==s]['cdd_immed_amt'].values\n",
    "#     immed_wait[iSubj,:] = data.loc[data['subject']==s]['cdd_immed_wait'].values\n",
    "#     choices[iSubj,:] = data.loc[data['subject']==s]['cdd_trial_resp.corr'].values\n",
    "    \n",
    "# print(delay_wait.shape)"
   ]
  },
  {
   "cell_type": "code",
   "execution_count": null,
   "metadata": {},
   "outputs": [],
   "source": [
    "fn = os.path.join(save_dir,'completely_pooled_model.csv')\n",
    "pool_model = pd.read_csv(fn,index_col=0)\n",
    "\n",
    "mu_kappa_hat,std_kappa_hat = pool_model.loc['kappa[0]','mean'],pool_model.loc['kappa[0]','sd']\n",
    "mu_gamma_hat,std_gamma_hat = pool_model.loc['gamma[0]','mean'],pool_model.loc['gamma[0]','sd']\n",
    "\n",
    "print('For kappa, use the following (mu,sigma) : ({},{})'.format(mu_kappa_hat, std_kappa_hat))\n",
    "print('For gamma, use the following (mu,sigma) : ({},{})'.format(mu_gamma_hat, std_gamma_hat))"
   ]
  },
  {
   "cell_type": "code",
   "execution_count": null,
   "metadata": {},
   "outputs": [],
   "source": [
    "\n",
    "\n",
    "# We will fit a model for each subject\n",
    "with pm.Model() as model_simple:\n",
    "\n",
    "    # Hyperparameters for k\n",
    "    # mu_kappa_hyper = pm.Beta('mu_kappa_hyper',mu=mu_kappa_hat,sigma=0.05)\n",
    "    # sd_kappa_hyper = pm.Beta('sd_kappa_hyper',mu=std_kappa_hat,sigma=0.05)\n",
    "\n",
    "    # use above mean and stdev to define kappa and gamma, the posterior from the pooled is now our prior\n",
    "    kappa = pm.Beta('kappa',mu=mu_kappa_hat,sigma=std_kappa_hat,shape=np.size(np.unique(subj_id)))\n",
    "    gamma = pm.HalfNormal('gamma',sigma=std_gamma_hat,shape=np.size(np.unique(subj_id)))\n",
    "    \n",
    "    prob = pm.Deterministic('prob', 1 / (1 + pm.math.exp(-gamma[subj_id] * ( delay_amt/(1+(kappa[subj_id]*delay_wait)) \n",
    "                                                                            - immed_amt/(1+(kappa[subj_id]*immed_wait)) ))))\n",
    "\n",
    "    y_1 = pm.Bernoulli('y_1',p=prob,observed=choices)\n",
    "\n",
    "    trace_prior = pm.sample(10000, tune=10000, cores=4,target_accept=0.95)\n",
    "\n",
    "# Call the trace whatever you like. This just saves it. You don't want to run a whole model and then accidentally x-out your window or refresh or something and lose it all!\n",
    "az.plot_trace(trace_prior, var_names=[\"kappa\",\"gamma\"],compact=False)\n",
    "# This is how you get a nice array. Note that this returns a pandas DataFrame, not a numpy array. Indexing is totally different.\n",
    "summary= az.summary(trace_prior,round_to=10)\n",
    "fn = os.path.join(save_dir,\"simple_BH_model.csv\")\n",
    "# Again, call it what you want (yeah - call it what you want tooooo)\n",
    "print('Saving to : {}'.format(fn))\n",
    "summary.to_csv(fn)"
   ]
  }
 ],
 "metadata": {
  "kernelspec": {
   "display_name": "Python 3.9.12 ('base')",
   "language": "python",
   "name": "python3"
  },
  "language_info": {
   "codemirror_mode": {
    "name": "ipython",
    "version": 3
   },
   "file_extension": ".py",
   "mimetype": "text/x-python",
   "name": "python",
   "nbconvert_exporter": "python",
   "pygments_lexer": "ipython3",
   "version": "3.9.16"
  },
  "orig_nbformat": 4,
  "vscode": {
   "interpreter": {
    "hash": "09d5eda77765311109b2c027e144dcf58f89dd96008cdf29c2e6b03e99df71a0"
   }
  }
 },
 "nbformat": 4,
 "nbformat_minor": 2
}
