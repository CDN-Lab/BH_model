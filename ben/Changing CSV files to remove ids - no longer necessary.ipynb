{
 "cells": [
  {
   "cell_type": "code",
   "execution_count": 34,
   "metadata": {},
   "outputs": [],
   "source": [
    "import pandas as pd \n",
    "import numpy as np"
   ]
  },
  {
   "cell_type": "code",
   "execution_count": 6,
   "metadata": {},
   "outputs": [],
   "source": [
    "datanames = [\"All Files Folder\\AdjAmt_1083_1_01-16-2020_16h-31m.csv\",\"All Files Folder\\AdjAmt_1083_1_03-03-2022_16h-12m.csv\",\"All Files Folder\\AdjAmt_1539_1_04-04-2019_17h-21m.csv\",\"All Files Folder\\AdjAmt_1539_2_04-11-2019_16h-51m.csv\",\"All Files Folder\\AdjAmt_2008_1_11-14-2019_17h-30m.csv\",\"All Files Folder\\AdjAmt_2008_2_11-19-2019_16h-16m.csv\",\"All Files Folder\\AdjAmt_2020_1_09-24-2019_16h-25m.csv\",\"All Files Folder\\AdjAmt_2020_2_10-10-2019_16h-47m.csv\",\"All Files Folder\\AdjAmt_2042_1_09-30-2021_17h-13m.csv\",\"All Files Folder\\AdjAmt_2042_2_04-07-2022_15h-40m.csv\",\"All Files Folder\\AdjAmt_2399_1_07-16-2019_16h-53m.csv\",\"All Files Folder\\AdjAmt_2475_1_12-05-2019_16h-44m.csv\",\"All Files Folder\\AdjAmt_2475_2_01-09-2020_16h-36m.csv\",\"All Files Folder\\AdjAmt_2503_1_01-07-2020_16h-48m.csv\",\"All Files Folder\\AdjAmt_2503_2_02-06-2020_16h-03m.csv\",\"All Files Folder\\AdjAmt_2506_1_10-01-2019_16h-33m.csv\",\"All Files Folder\\AdjAmt_2506_2_12-10-2019_16h-32m.csv\",\"All Files Folder\\AdjAmt_2874_1_04-05-2018_16h-54m.csv\",\"All Files Folder\\AdjAmt_2874_2_06-21-2018_15h-26m.csv\",\"All Files Folder\\AdjAmt_3278_1_05-10-2018_16h-29m.csv\",\"All Files Folder\\AdjAmt_3278_2_06-07-2018_16h-59m.csv\",\"All Files Folder\\AdjAmt_3458_1_01-31-2019_16h-21m.csv\",\"All Files Folder\\AdjAmt_3546_1_05-05-2022_16h-34m.csv\",\"All Files Folder\\AdjAmt_3546_2_06-02-2022_14h-16m.csv\",\"All Files Folder\\AdjAmt_3638_1_10-12-2017_16h-41m.csv\",\"All Files Folder\\AdjAmt_3638_2_11-28-2017_17h-14m.csv\",\"All Files Folder\\AdjAmt_3687_1_03-18-2021_16h-35m.csv\",\"All Files Folder\\AdjAmt_3687_2_03-25-2021_16h-50m.csv\",\"All Files Folder\\AdjAmt_3710_1_05-10-2022_16h-30m.csv\",\"All Files Folder\\AdjAmt_3812_1_08-08-2019_16h-55m.csv\",\"All Files Folder\\AdjAmt_3812_2_11-12-2019_13h-36m.csv\",\"All Files Folder\\AdjAmt_3924_1_04-14-2022_16h-24m.csv\",\"All Files Folder\\AdjAmt_3924_2_04-21-2022_15h-10m.csv\",\"All Files Folder\\AdjAmt_3937_1_12-03-2020_17h-33m.csv\",\"All Files Folder\\AdjAmt_4292_1_05-14-2019_17h-32m.csv\",\"All Files Folder\\AdjAmt_4292_2_05-21-2019_17h-27m.csv\",\"All Files Folder\\AdjAmt_4513_1_09-27-2018_16h-19m.csv\",\"All Files Folder\\AdjAmt_4513_2_10-11-2018_16h-08m.csv\",\"All Files Folder\\AdjAmt_4513_3_05-16-2019_12h-55m.csv\",\"All Files Folder\\AdjAmt_4556_1_03-14-2019_16h-22m.csv\",\"All Files Folder\\AdjAmt_4556_2_01-14-2021_15h-35m.csv\",\"All Files Folder\\AdjAmt_4776_1_09-26-2019_17h-08m.csv\",\"All Files Folder\\AdjAmt_4776_2_10-17-2019_16h-28m.csv\",\"All Files Folder\\AdjAmt_4805_1_12-12-2017_17h-42m.csv\",\"All Files Folder\\AdjAmt_4805_2_01-04-2018_16h-27m.csv\",\"All Files Folder\\AdjAmt_4884_1_08-27-2019_16h-41m.csv\",\"All Files Folder\\AdjAmt_4884_2_08-29-2019_16h-20m.csv\",\"All Files Folder\\AdjAmt_4884_3_07-26-2021_16h-18m.csv\",\"All Files Folder\\AdjAmt_5334_1_01-07-2021_16h-51m.csv\",\"All Files Folder\\AdjAmt_5625_1_08-15-2019_16h-30m.csv\",\"All Files Folder\\AdjAmt_5625_2_09-12-2019_16h-20m.csv\",\"All Files Folder\\AdjAmt_5667_1_07-11-2019_16h-46m.csv\",\"All Files Folder\\AdjAmt_5667_2_08-13-2019_16h-58m.csv\",\"All Files Folder\\AdjAmt_5764_1_10-26-2017_16h-57m.csv\",\"All Files Folder\\AdjAmt_5764_2_11-20-2017_15h-19m.csv\",\"All Files Folder\\AdjAmt_5897_1_11-08-2018_16h-56m.csv\",\"All Files Folder\\AdjAmt_5897_2_11-29-2018_16h-24m.csv\",\"All Files Folder\\AdjAmt_5900_1_01-18-2018_16h-33m.csv\",\"All Files Folder\\AdjAmt_5900_2_02-01-2018_16h-39m.csv\",\"All Files Folder\\AdjAmt_5940_1_04-29-2021_16h-42m.csv\",\"All Files Folder\\AdjAmt_5940_2_06-24-2021_15h-25m.csv\",\"All Files Folder\\AdjAmt_6059_1_12-20-2018_16h-31m.csv\",\"All Files Folder\\AdjAmt_6059_2_01-03-2019_16h-16m.csv\",\"All Files Folder\\AdjAmt_6269_1_03-08-2018_16h-54m.csv\",\"All Files Folder\\AdjAmt_6269_2_03-29-2018_16h-43m.csv\",\"All Files Folder\\AdjAmt_6281_1_07-12-2018_16h-49m.csv\",\"All Files Folder\\AdjAmt_6281_2_07-26-2018_16h-30m.csv\",\"All Files Folder\\AdjAmt_6382_1_04-18-2022_17h-06m.csv\",\"All Files Folder\\AdjAmt_6463_1_02-15-2018_16h-46m.csv\",\"All Files Folder\\AdjAmt_6463_2_03-15-2018_16h-16m.csv\",\"All Files Folder\\AdjAmt_6617_1_05-12-2022_16h-17m.csv\",\"All Files Folder\\AdjAmt_6624_1_08-09-2018_16h-36m.csv\",\"All Files Folder\\AdjAmt_6624_2_09-13-2018_16h-02m.csv\",\"All Files Folder\\AdjAmt_6630_2_06-16-2022_16h-29m.csv\",\"All Files Folder\\AdjAmt_6707_1.2_06-22-2021_15h-17m.csv\",\"All Files Folder\\AdjAmt_6707_2.2_07-12-2021_15h-47m.csv\",\"All Files Folder\\AdjAmt_6817_1_10-25-2021_16h-25m.csv\",\"All Files Folder\\AdjAmt_6817_2_11-16-2021_16h-47m.csv\",\"All Files Folder\\AdjAmt_7054_1_12-02-2021_17h-19m.csv\",\"All Files Folder\\AdjAmt_7054_2_12-09-2021_16h-23m.csv\",\"All Files Folder\\AdjAmt_7238_1_02-05-2019_17h-02m.csv\",\"All Files Folder\\AdjAmt_7238_2_02-07-2019_16h-26m.csv\",\"All Files Folder\\AdjAmt_7309_1_09-10-2019_16h-30m.csv\",\"All Files Folder\\AdjAmt_7309_1_10-03-2019_16h-02m.csv\",\"All Files Folder\\AdjAmt_7387_1_06-13-2019_17h-16m.csv\",\"All Files Folder\\AdjAmt_7387_2_09-05-2019_16h-06m.csv\",\"All Files Folder\\AdjAmt_7467_1_01-13-2022_16h-48m.csv\",\"All Files Folder\\AdjAmt_7626_1_06-09-2022_15h-17m.csv\",\"All Files Folder\\AdjAmt_7637_1_07-29-2020_17h-09m.csv\",\"All Files Folder\\AdjAmt_7637_2_10-22-2020_15h-46m.csv\",\"All Files Folder\\AdjAmt_7897_1_09-03-2020_17h-33m.csv\",\"All Files Folder\\AdjAmt_7897_2_10-08-2020_16h-28m.csv\",\"All Files Folder\\AdjAmt_8267_2_05-09-2019_16h-07m.csv\",\"All Files Folder\\AdjAmt_8276_1_07-25-2019_17h-30m.csv\",\"All Files Folder\\AdjAmt_8276_2_08-06-2019_16h-56m.csv\",\"All Files Folder\\AdjAmt_8370_1_04-17-2018_16h-35m.csv\",\"All Files Folder\\AdjAmt_8370_2_04-26-2018_16h-35m.csv\",\"All Files Folder\\AdjAmt_8416_1_04-12-2018_16h-17m.csv\",\"All Files Folder\\AdjAmt_8416_2_05-03-2018_15h-12m.csv\",\"All Files Folder\\AdjAmt_8474_1_08-30-2018_16h-12m.csv\",\"All Files Folder\\AdjAmt_8474_2_10-04-2018_16h-10m.csv\",\"All Files Folder\\AdjAmt_8475_1_01-30-2020_17h-01m.csv\",\"All Files Folder\\AdjAmt_8475_3_03-15-2021_15h-48m.csv\",\"All Files Folder\\AdjAmt_8532_1_12-14-2017_16h-45m.csv\",\"All Files Folder\\AdjAmt_8532_2_12-21-2017_15h-20m.csv\",\"All Files Folder\\AdjAmt_8568_1_01-21-2021_16h-52m.csv\",\"All Files Folder\\AdjAmt_8568_2_01-28-2021_16h-23m.csv\",\"All Files Folder\\AdjAmt_8582_2_04-26-2022_15h-00m.csv\",\"All Files Folder\\AdjAmt_8890_1_12-03-2019_16h-11m.csv\",\"All Files Folder\\AdjAmt_8890_2_01-14-2020_16h-24m.csv\",\"All Files Folder\\AdjAmt_9337_1_04-16-2019_15h-26m.csv\",\"All Files Folder\\AdjAmt_9337_2_04-23-2019_15h-42m.csv\",\"All Files Folder\\AdjAmt_9639_1_03-07-2019_16h-16m.csv\",\"All Files Folder\\AdjAmt_9639_2_04-25-2019_16h-16m.csv\",\"All Files Folder\\AdjAmt_9716_1_05-23-2019_16h-24m.csv\",\"All Files Folder\\AdjAmt_9716_2_07-09-2019_16h-35m.csv\"]"
   ]
  },
  {
   "cell_type": "markdown",
   "metadata": {},
   "source": [
    "Remove Original IDs from Files"
   ]
  },
  {
   "cell_type": "code",
   "execution_count": null,
   "metadata": {},
   "outputs": [],
   "source": [
    "for nam in datanames:\n",
    "    # \"header=4\" here skips the little table found at the top of all of the original data files. \n",
    "    # The below is a little different from how we read in files in the other programs. We have to do it differently here because the \"Fixed\" files are coming in with strings which contain commas. The normal method will read these commas as new cells (in a CSV), so it will break those bits up.\n",
    "    a=pd.read_csv(nam,quotechar='\"',skipinitialspace=True, header=4, index_col=None)\n",
    "    newpath = nam[:17]+\"Fixed\"+nam[17:]\n",
    "    print(nam)\n",
    "    print(newpath)\n",
    "    # This writes the now-properly-deidentified files out with the \"Fixed\" prefix.\n",
    "    a.to_csv(newpath, index=False)"
   ]
  },
  {
   "cell_type": "code",
   "execution_count": 50,
   "metadata": {},
   "outputs": [],
   "source": [
    "files = []\n",
    "for nam in datanames:\n",
    "    newpath = nam[:17]+\"Fixed\"+nam[17:]\n",
    "    files.append(newpath)"
   ]
  },
  {
   "cell_type": "code",
   "execution_count": 49,
   "metadata": {},
   "outputs": [],
   "source": [
    "datedict = {\n",
    "    \"now\":0,\n",
    "    \"in 1 day\": 1,\n",
    "    \"in 1 week\": 7,\n",
    "    \"in 1 month\": 30.5,\n",
    "    \"in 3 months\": 91.5,\n",
    "    \"in 1 year\": 365,\n",
    "    \"in 5 years\": 1825,\n",
    "    \"in 25 years\": 9125\n",
    "}"
   ]
  },
  {
   "cell_type": "code",
   "execution_count": null,
   "metadata": {},
   "outputs": [],
   "source": [
    "# This changes all of the strings to numbers as necessary. Renames all as FixedFixed.\n",
    "\n",
    "for nam in files:\n",
    "    # The below is a little different from how we read in files in the other programs. We have to do it differently here because the \"Fixed\" files are coming in with strings which contain commas. The normal method will read these commas as new cells (in a CSV), so it will break those bits up.\n",
    "    a=pd.read_csv(nam,quotechar='\"',skipinitialspace=True, header=None,index_col=None, usecols=[0,3,4,5,6,7]).to_numpy() \n",
    "    #print(a)\n",
    "    #print(a.shape[0])\n",
    "    for col in range(1,3):\n",
    "        for row in range(1,a.shape[0]):\n",
    "            print(row)\n",
    "            print(a[row,col])\n",
    "            a[row,col] = float(a[row,col][6:].replace(\",\",\"\"))\n",
    "            print(a[row,col])\n",
    "    for col in range(3,5):\n",
    "        for row in range(1,a.shape[0]):\n",
    "                print(row)\n",
    "                print(a[row,col])\n",
    "                a[row,col] = datedict[a[row,col]]\n",
    "                print(a[row,col])\n",
    "    \n",
    "    # This add another \"Fixed\" prefix, making these fully cleaned files \"FixedFixed\"\n",
    "    newpath = nam[:17]+\"Fixed\"+nam[17:]\n",
    "    print(nam)\n",
    "    print(newpath)\n",
    "    print(a)\n",
    "    pd.DataFrame(a).to_csv(newpath, header=False, index=False)"
   ]
  }
 ],
 "metadata": {
  "kernelspec": {
   "display_name": "Python 3.9.12 ('base')",
   "language": "python",
   "name": "python3"
  },
  "language_info": {
   "codemirror_mode": {
    "name": "ipython",
    "version": 3
   },
   "file_extension": ".py",
   "mimetype": "text/x-python",
   "name": "python",
   "nbconvert_exporter": "python",
   "pygments_lexer": "ipython3",
   "version": "3.9.12"
  },
  "orig_nbformat": 4,
  "vscode": {
   "interpreter": {
    "hash": "09d5eda77765311109b2c027e144dcf58f89dd96008cdf29c2e6b03e99df71a0"
   }
  }
 },
 "nbformat": 4,
 "nbformat_minor": 2
}
