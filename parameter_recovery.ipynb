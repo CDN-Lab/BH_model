{
 "cells": [
  {
   "cell_type": "markdown",
   "metadata": {},
   "source": [
    "## Parameter recovery\n",
    "\n",
    "We simulated data for a set of design and various ground truth parameters. Now we will try to estimate those parameters from the simulated data"
   ]
  },
  {
   "cell_type": "code",
   "execution_count": 55,
   "metadata": {},
   "outputs": [],
   "source": [
    "# Built-in/Generic Imports\n",
    "import os,sys\n",
    "import glob\n",
    "\n",
    "# Libs\n",
    "import numpy as np\n",
    "import pandas as pd\n",
    "import pymc as pm\n",
    "import arviz as az"
   ]
  },
  {
   "cell_type": "code",
   "execution_count": null,
   "metadata": {},
   "outputs": [],
   "source": [
    "\n"
   ]
  },
  {
   "cell_type": "code",
   "execution_count": 56,
   "metadata": {},
   "outputs": [],
   "source": [
    "\n",
    "def estimate_bhm(index,design_df,choices):\n",
    "\n",
    "    # save_dir = os.path.join('simul','bhm')\n",
    "    \n",
    "    delay_amt = design_df['cdd_delay_amt'].values\n",
    "    delay_wait = design_df['cdd_delay_wait'].values\n",
    "    immed_amt = design_df['cdd_immed_amt'].values\n",
    "    immed_wait = design_df['cdd_immed_wait'].values\n",
    "    subj_id = [int(index)]*len(choices)\n",
    "    print(subj_id,choices)\n",
    "    # We will fit a model for each subject\n",
    "    with pm.Model() as model_simple:\n",
    "\n",
    "        # Hyperparameters for kappa\n",
    "        mu_kappa_hyper = pm.Beta('mu_kappa_hyper',mu=0.02,sigma=0.01)\n",
    "        # use the same hyper SD for both parameters\n",
    "        sd_hyper = pm.LogNormal('sd_hyper',sigma=1)\n",
    "\n",
    "        kappa = pm.LogNormal('kappa',mu=mu_kappa_hyper,sigma=sd_hyper,shape=np.size(np.unique(subj_id)))\n",
    "        gamma = pm.HalfNormal('gamma',sigma=sd_hyper,shape=np.size(np.unique(subj_id)))\n",
    "        \n",
    "        prob = pm.Deterministic('prob', 1 / (1 + pm.math.exp(-gamma[subj_id] * ( delay_amt/(1+(kappa[subj_id]*delay_wait)) \n",
    "                                                                                - immed_amt/(1+(kappa[subj_id]*immed_wait)) ))))\n",
    "\n",
    "        y_1 = pm.Bernoulli('y_1',p=prob,observed=choices)\n",
    "\n",
    "        trace_prior = pm.sample(1000, tune=100, cores=2,target_accept=0.98)\n",
    "\n",
    "\n",
    "    # This is how you get a nice array. Note that this returns a pandas DataFrame, not a numpy array. Indexing is totally different.\n",
    "    summary= az.summary(trace_prior,round_to=10)\n",
    "    kappa_hat = summary['mean'].loc['kappa[{}]'.format(index)]\n",
    "    gamma_hat = summary['mean'].loc['gamma[{}]'.format(index)]\n",
    "    return kappa_hat,gamma_hat\n",
    "    # fn = os.path.join(save_dir,'subj_{0:04d}.csv'.format(index))\n",
    "    # print('Saving to : {}'.format(fn))\n",
    "    # print(summary)\n",
    "    # sys.exit()\n",
    "    # # summary.to_csv(fn)\n",
    "\n"
   ]
  },
  {
   "cell_type": "code",
   "execution_count": 57,
   "metadata": {},
   "outputs": [
    {
     "name": "stdout",
     "output_type": "stream",
     "text": [
      "simul/response/p0000.csv\n",
      "[0, 0, 0, 0, 0, 0, 0, 0, 0, 0, 0, 0, 0, 0, 0, 0, 0, 0, 0, 0, 0, 0, 0, 0, 0, 0, 0, 0, 0, 0, 0, 0, 0, 0, 0, 0, 0, 0, 0, 0, 0, 0, 0, 0, 0, 0, 0, 0, 0, 0, 0, 0, 0, 0, 0, 0, 0, 0, 0, 0, 0, 0, 0, 0, 0, 0, 0, 0, 0, 0, 0, 0, 0, 0, 0, 0, 0, 0, 0, 0, 0, 0, 0, 0, 0, 0, 0, 0, 0, 0, 0, 0, 0, 0, 0, 0, 0, 0, 0, 0, 0, 0, 0, 0, 0, 0, 0, 0, 0, 0, 0, 0] 0      0\n",
      "1      1\n",
      "2      1\n",
      "3      1\n",
      "4      1\n",
      "      ..\n",
      "107    1\n",
      "108    1\n",
      "109    1\n",
      "110    1\n",
      "111    1\n",
      "Name: response, Length: 112, dtype: int64\n"
     ]
    },
    {
     "name": "stderr",
     "output_type": "stream",
     "text": [
      "Auto-assigning NUTS sampler...\n",
      "Initializing NUTS using jitter+adapt_diag...\n",
      "Multiprocess sampling (2 chains in 2 jobs)\n",
      "NUTS: [mu_kappa_hyper, sd_hyper, kappa, gamma]\n"
     ]
    },
    {
     "data": {
      "text/html": [
       "\n",
       "<style>\n",
       "    /* Turns off some styling */\n",
       "    progress {\n",
       "        /* gets rid of default border in Firefox and Opera. */\n",
       "        border: none;\n",
       "        /* Needs to be in here for Safari polyfill so background images work as expected. */\n",
       "        background-size: auto;\n",
       "    }\n",
       "    progress:not([value]), progress:not([value])::-webkit-progress-bar {\n",
       "        background: repeating-linear-gradient(45deg, #7e7e7e, #7e7e7e 10px, #5c5c5c 10px, #5c5c5c 20px);\n",
       "    }\n",
       "    .progress-bar-interrupted, .progress-bar-interrupted::-webkit-progress-bar {\n",
       "        background: #F44336;\n",
       "    }\n",
       "</style>\n"
      ],
      "text/plain": [
       "<IPython.core.display.HTML object>"
      ]
     },
     "metadata": {},
     "output_type": "display_data"
    },
    {
     "data": {
      "text/html": [
       "\n",
       "    <div>\n",
       "      <progress value='2200' class='' max='2200' style='width:300px; height:20px; vertical-align: middle;'></progress>\n",
       "      100.00% [2200/2200 00:03&lt;00:00 Sampling 2 chains, 0 divergences]\n",
       "    </div>\n",
       "    "
      ],
      "text/plain": [
       "<IPython.core.display.HTML object>"
      ]
     },
     "metadata": {},
     "output_type": "display_data"
    },
    {
     "name": "stderr",
     "output_type": "stream",
     "text": [
      "Sampling 2 chains for 100 tune and 1_000 draw iterations (200 + 2_000 draws total) took 3 seconds.\n",
      "We recommend running at least 4 chains for robust computation of convergence diagnostics\n"
     ]
    },
    {
     "name": "stdout",
     "output_type": "stream",
     "text": [
      "simul/response/p0001.csv\n",
      "[1, 1, 1, 1, 1, 1, 1, 1, 1, 1, 1, 1, 1, 1, 1, 1, 1, 1, 1, 1, 1, 1, 1, 1, 1, 1, 1, 1, 1, 1, 1, 1, 1, 1, 1, 1, 1, 1, 1, 1, 1, 1, 1, 1, 1, 1, 1, 1, 1, 1, 1, 1, 1, 1, 1, 1, 1, 1, 1, 1, 1, 1, 1, 1, 1, 1, 1, 1, 1, 1, 1, 1, 1, 1, 1, 1, 1, 1, 1, 1, 1, 1, 1, 1, 1, 1, 1, 1, 1, 1, 1, 1, 1, 1, 1, 1, 1, 1, 1, 1, 1, 1, 1, 1, 1, 1, 1, 1, 1, 1, 1, 1] 0      0\n",
      "1      1\n",
      "2      1\n",
      "3      1\n",
      "4      1\n",
      "      ..\n",
      "107    1\n",
      "108    1\n",
      "109    1\n",
      "110    1\n",
      "111    1\n",
      "Name: response, Length: 112, dtype: int64\n"
     ]
    },
    {
     "name": "stderr",
     "output_type": "stream",
     "text": [
      "Auto-assigning NUTS sampler...\n",
      "Initializing NUTS using jitter+adapt_diag...\n"
     ]
    },
    {
     "ename": "IndexError",
     "evalue": "index 1 is out of bounds for axis 0 with size 1\nApply node that caused the error: AdvancedSubtensor1(kappa_log___log, TensorConstant{(112,) of 1})\nToposort index: 8\nInputs types: [TensorType(float64, (1,)), TensorType(uint8, (112,))]\nInputs shapes: [(1,), (112,)]\nInputs strides: [(8,), (1,)]\nInputs values: [array([14.41322166]), 'not shown']\nOutputs clients: [[Elemwise{Composite}(AdvancedSubtensor1.0, TensorConstant{[  2.   2...180. 180.]}, TensorConstant{(1,) of 1.0}, TensorConstant{[ 7. 14. 2... 50. 65.]}, TensorConstant{[10. 10. 1... 20. 20.]}, TensorConstant{(1,) of -1.0}, AdvancedSubtensor1.0, TensorConstant{(1,) of 1}, TensorConstant{(1,) of 0}, y_1{[0 1 1 1 1.. 1 1 1\n 1]})]]\n\nBacktrace when the node is created (use PyTensor flag traceback__limit=N to make it longer):\n  File \"/Users/pizarror/opt/miniconda/envs/idm_jupy/lib/python3.9/site-packages/IPython/core/interactiveshell.py\", line 3009, in run_cell\n    result = self._run_cell(\n  File \"/Users/pizarror/opt/miniconda/envs/idm_jupy/lib/python3.9/site-packages/IPython/core/interactiveshell.py\", line 3064, in _run_cell\n    result = runner(coro)\n  File \"/Users/pizarror/opt/miniconda/envs/idm_jupy/lib/python3.9/site-packages/IPython/core/async_helpers.py\", line 129, in _pseudo_sync_runner\n    coro.send(None)\n  File \"/Users/pizarror/opt/miniconda/envs/idm_jupy/lib/python3.9/site-packages/IPython/core/interactiveshell.py\", line 3269, in run_cell_async\n    has_raised = await self.run_ast_nodes(code_ast.body, cell_name,\n  File \"/Users/pizarror/opt/miniconda/envs/idm_jupy/lib/python3.9/site-packages/IPython/core/interactiveshell.py\", line 3448, in run_ast_nodes\n    if await self.run_code(code, result, async_=asy):\n  File \"/Users/pizarror/opt/miniconda/envs/idm_jupy/lib/python3.9/site-packages/IPython/core/interactiveshell.py\", line 3508, in run_code\n    exec(code_obj, self.user_global_ns, self.user_ns)\n  File \"/var/folders/ts/wpzrly5j2yxb42zf5v0w5rvh0000gs/T/ipykernel_49930/1396054709.py\", line 14, in <module>\n    kh,gh = estimate_bhm(index,design_df,choices)\n  File \"/var/folders/ts/wpzrly5j2yxb42zf5v0w5rvh0000gs/T/ipykernel_49930/2494971389.py\", line 23, in estimate_bhm\n    - immed_amt/(1+(kappa[subj_id]*immed_wait)) ))))\n\nHINT: Use the PyTensor flag `exception_verbosity=high` for a debug print-out and storage map footprint of this Apply node.",
     "output_type": "error",
     "traceback": [
      "\u001b[0;31m---------------------------------------------------------------------------\u001b[0m",
      "\u001b[0;31mIndexError\u001b[0m                                Traceback (most recent call last)",
      "File \u001b[0;32m~/opt/miniconda/envs/idm_jupy/lib/python3.9/site-packages/pytensor/compile/function/types.py:970\u001b[0m, in \u001b[0;36mFunction.__call__\u001b[0;34m(self, *args, **kwargs)\u001b[0m\n\u001b[1;32m    968\u001b[0m \u001b[39mtry\u001b[39;00m:\n\u001b[1;32m    969\u001b[0m     outputs \u001b[39m=\u001b[39m (\n\u001b[0;32m--> 970\u001b[0m         \u001b[39mself\u001b[39;49m\u001b[39m.\u001b[39;49mvm()\n\u001b[1;32m    971\u001b[0m         \u001b[39mif\u001b[39;00m output_subset \u001b[39mis\u001b[39;00m \u001b[39mNone\u001b[39;00m\n\u001b[1;32m    972\u001b[0m         \u001b[39melse\u001b[39;00m \u001b[39mself\u001b[39m\u001b[39m.\u001b[39mvm(output_subset\u001b[39m=\u001b[39moutput_subset)\n\u001b[1;32m    973\u001b[0m     )\n\u001b[1;32m    974\u001b[0m \u001b[39mexcept\u001b[39;00m \u001b[39mException\u001b[39;00m:\n",
      "\u001b[0;31mIndexError\u001b[0m: index 1 is out of bounds for axis 0 with size 1",
      "\nDuring handling of the above exception, another exception occurred:\n",
      "\u001b[0;31mIndexError\u001b[0m                                Traceback (most recent call last)",
      "\u001b[1;32m/Users/pizarror/IDM/BH_model/parameter_recovery.ipynb Cell 5\u001b[0m line \u001b[0;36m1\n\u001b[1;32m     <a href='vscode-notebook-cell:/Users/pizarror/IDM/BH_model/parameter_recovery.ipynb#W3sZmlsZQ%3D%3D?line=11'>12</a>\u001b[0m df \u001b[39m=\u001b[39m pd\u001b[39m.\u001b[39mread_csv(fn,index_col\u001b[39m=\u001b[39m\u001b[39m0\u001b[39m)\n\u001b[1;32m     <a href='vscode-notebook-cell:/Users/pizarror/IDM/BH_model/parameter_recovery.ipynb#W3sZmlsZQ%3D%3D?line=12'>13</a>\u001b[0m choices \u001b[39m=\u001b[39m df[\u001b[39m'\u001b[39m\u001b[39mresponse\u001b[39m\u001b[39m'\u001b[39m]\n\u001b[0;32m---> <a href='vscode-notebook-cell:/Users/pizarror/IDM/BH_model/parameter_recovery.ipynb#W3sZmlsZQ%3D%3D?line=13'>14</a>\u001b[0m kh,gh \u001b[39m=\u001b[39m estimate_bhm(index,design_df,choices)\n\u001b[1;32m     <a href='vscode-notebook-cell:/Users/pizarror/IDM/BH_model/parameter_recovery.ipynb#W3sZmlsZQ%3D%3D?line=14'>15</a>\u001b[0m kappa_hat \u001b[39m+\u001b[39m\u001b[39m=\u001b[39m [kh]\n\u001b[1;32m     <a href='vscode-notebook-cell:/Users/pizarror/IDM/BH_model/parameter_recovery.ipynb#W3sZmlsZQ%3D%3D?line=15'>16</a>\u001b[0m gamma_hat \u001b[39m+\u001b[39m\u001b[39m=\u001b[39m [gh]\n",
      "\u001b[1;32m/Users/pizarror/IDM/BH_model/parameter_recovery.ipynb Cell 5\u001b[0m line \u001b[0;36m2\n\u001b[1;32m     <a href='vscode-notebook-cell:/Users/pizarror/IDM/BH_model/parameter_recovery.ipynb#W3sZmlsZQ%3D%3D?line=21'>22</a>\u001b[0m     prob \u001b[39m=\u001b[39m pm\u001b[39m.\u001b[39mDeterministic(\u001b[39m'\u001b[39m\u001b[39mprob\u001b[39m\u001b[39m'\u001b[39m, \u001b[39m1\u001b[39m \u001b[39m/\u001b[39m (\u001b[39m1\u001b[39m \u001b[39m+\u001b[39m pm\u001b[39m.\u001b[39mmath\u001b[39m.\u001b[39mexp(\u001b[39m-\u001b[39mgamma[subj_id] \u001b[39m*\u001b[39m ( delay_amt\u001b[39m/\u001b[39m(\u001b[39m1\u001b[39m\u001b[39m+\u001b[39m(kappa[subj_id]\u001b[39m*\u001b[39mdelay_wait)) \n\u001b[1;32m     <a href='vscode-notebook-cell:/Users/pizarror/IDM/BH_model/parameter_recovery.ipynb#W3sZmlsZQ%3D%3D?line=22'>23</a>\u001b[0m                                                                             \u001b[39m-\u001b[39m immed_amt\u001b[39m/\u001b[39m(\u001b[39m1\u001b[39m\u001b[39m+\u001b[39m(kappa[subj_id]\u001b[39m*\u001b[39mimmed_wait)) ))))\n\u001b[1;32m     <a href='vscode-notebook-cell:/Users/pizarror/IDM/BH_model/parameter_recovery.ipynb#W3sZmlsZQ%3D%3D?line=24'>25</a>\u001b[0m     y_1 \u001b[39m=\u001b[39m pm\u001b[39m.\u001b[39mBernoulli(\u001b[39m'\u001b[39m\u001b[39my_1\u001b[39m\u001b[39m'\u001b[39m,p\u001b[39m=\u001b[39mprob,observed\u001b[39m=\u001b[39mchoices)\n\u001b[0;32m---> <a href='vscode-notebook-cell:/Users/pizarror/IDM/BH_model/parameter_recovery.ipynb#W3sZmlsZQ%3D%3D?line=26'>27</a>\u001b[0m     trace_prior \u001b[39m=\u001b[39m pm\u001b[39m.\u001b[39;49msample(\u001b[39m1000\u001b[39;49m, tune\u001b[39m=\u001b[39;49m\u001b[39m100\u001b[39;49m, cores\u001b[39m=\u001b[39;49m\u001b[39m2\u001b[39;49m,target_accept\u001b[39m=\u001b[39;49m\u001b[39m0.98\u001b[39;49m)\n\u001b[1;32m     <a href='vscode-notebook-cell:/Users/pizarror/IDM/BH_model/parameter_recovery.ipynb#W3sZmlsZQ%3D%3D?line=29'>30</a>\u001b[0m \u001b[39m# This is how you get a nice array. Note that this returns a pandas DataFrame, not a numpy array. Indexing is totally different.\u001b[39;00m\n\u001b[1;32m     <a href='vscode-notebook-cell:/Users/pizarror/IDM/BH_model/parameter_recovery.ipynb#W3sZmlsZQ%3D%3D?line=30'>31</a>\u001b[0m summary\u001b[39m=\u001b[39m az\u001b[39m.\u001b[39msummary(trace_prior,round_to\u001b[39m=\u001b[39m\u001b[39m10\u001b[39m)\n",
      "File \u001b[0;32m~/opt/miniconda/envs/idm_jupy/lib/python3.9/site-packages/pymc/sampling/mcmc.py:593\u001b[0m, in \u001b[0;36msample\u001b[0;34m(draws, tune, chains, cores, random_seed, progressbar, step, nuts_sampler, initvals, init, jitter_max_retries, n_init, trace, discard_tuned_samples, compute_convergence_checks, keep_warning_stat, return_inferencedata, idata_kwargs, nuts_sampler_kwargs, callback, mp_ctx, model, **kwargs)\u001b[0m\n\u001b[1;32m    591\u001b[0m         [kwargs\u001b[39m.\u001b[39msetdefault(k, v) \u001b[39mfor\u001b[39;00m k, v \u001b[39min\u001b[39;00m nuts_kwargs\u001b[39m.\u001b[39mitems()]\n\u001b[1;32m    592\u001b[0m     _log\u001b[39m.\u001b[39minfo(\u001b[39m\"\u001b[39m\u001b[39mAuto-assigning NUTS sampler...\u001b[39m\u001b[39m\"\u001b[39m)\n\u001b[0;32m--> 593\u001b[0m     initial_points, step \u001b[39m=\u001b[39m init_nuts(\n\u001b[1;32m    594\u001b[0m         init\u001b[39m=\u001b[39;49minit,\n\u001b[1;32m    595\u001b[0m         chains\u001b[39m=\u001b[39;49mchains,\n\u001b[1;32m    596\u001b[0m         n_init\u001b[39m=\u001b[39;49mn_init,\n\u001b[1;32m    597\u001b[0m         model\u001b[39m=\u001b[39;49mmodel,\n\u001b[1;32m    598\u001b[0m         random_seed\u001b[39m=\u001b[39;49mrandom_seed_list,\n\u001b[1;32m    599\u001b[0m         progressbar\u001b[39m=\u001b[39;49mprogressbar,\n\u001b[1;32m    600\u001b[0m         jitter_max_retries\u001b[39m=\u001b[39;49mjitter_max_retries,\n\u001b[1;32m    601\u001b[0m         tune\u001b[39m=\u001b[39;49mtune,\n\u001b[1;32m    602\u001b[0m         initvals\u001b[39m=\u001b[39;49minitvals,\n\u001b[1;32m    603\u001b[0m         \u001b[39m*\u001b[39;49m\u001b[39m*\u001b[39;49mkwargs,\n\u001b[1;32m    604\u001b[0m     )\n\u001b[1;32m    606\u001b[0m \u001b[39mif\u001b[39;00m initial_points \u001b[39mis\u001b[39;00m \u001b[39mNone\u001b[39;00m:\n\u001b[1;32m    607\u001b[0m     \u001b[39m# Time to draw/evaluate numeric start points for each chain.\u001b[39;00m\n\u001b[1;32m    608\u001b[0m     ipfns \u001b[39m=\u001b[39m make_initial_point_fns_per_chain(\n\u001b[1;32m    609\u001b[0m         model\u001b[39m=\u001b[39mmodel,\n\u001b[1;32m    610\u001b[0m         overrides\u001b[39m=\u001b[39minitvals,\n\u001b[1;32m    611\u001b[0m         jitter_rvs\u001b[39m=\u001b[39m\u001b[39mset\u001b[39m(),\n\u001b[1;32m    612\u001b[0m         chains\u001b[39m=\u001b[39mchains,\n\u001b[1;32m    613\u001b[0m     )\n",
      "File \u001b[0;32m~/opt/miniconda/envs/idm_jupy/lib/python3.9/site-packages/pymc/sampling/mcmc.py:1238\u001b[0m, in \u001b[0;36minit_nuts\u001b[0;34m(init, chains, n_init, model, random_seed, progressbar, jitter_max_retries, tune, initvals, **kwargs)\u001b[0m\n\u001b[1;32m   1231\u001b[0m _log\u001b[39m.\u001b[39minfo(\u001b[39mf\u001b[39m\u001b[39m\"\u001b[39m\u001b[39mInitializing NUTS using \u001b[39m\u001b[39m{\u001b[39;00minit\u001b[39m}\u001b[39;00m\u001b[39m...\u001b[39m\u001b[39m\"\u001b[39m)\n\u001b[1;32m   1233\u001b[0m cb \u001b[39m=\u001b[39m [\n\u001b[1;32m   1234\u001b[0m     pm\u001b[39m.\u001b[39mcallbacks\u001b[39m.\u001b[39mCheckParametersConvergence(tolerance\u001b[39m=\u001b[39m\u001b[39m1e-2\u001b[39m, diff\u001b[39m=\u001b[39m\u001b[39m\"\u001b[39m\u001b[39mabsolute\u001b[39m\u001b[39m\"\u001b[39m),\n\u001b[1;32m   1235\u001b[0m     pm\u001b[39m.\u001b[39mcallbacks\u001b[39m.\u001b[39mCheckParametersConvergence(tolerance\u001b[39m=\u001b[39m\u001b[39m1e-2\u001b[39m, diff\u001b[39m=\u001b[39m\u001b[39m\"\u001b[39m\u001b[39mrelative\u001b[39m\u001b[39m\"\u001b[39m),\n\u001b[1;32m   1236\u001b[0m ]\n\u001b[0;32m-> 1238\u001b[0m initial_points \u001b[39m=\u001b[39m _init_jitter(\n\u001b[1;32m   1239\u001b[0m     model,\n\u001b[1;32m   1240\u001b[0m     initvals,\n\u001b[1;32m   1241\u001b[0m     seeds\u001b[39m=\u001b[39;49mrandom_seed_list,\n\u001b[1;32m   1242\u001b[0m     jitter\u001b[39m=\u001b[39;49m\u001b[39m\"\u001b[39;49m\u001b[39mjitter\u001b[39;49m\u001b[39m\"\u001b[39;49m \u001b[39min\u001b[39;49;00m init,\n\u001b[1;32m   1243\u001b[0m     jitter_max_retries\u001b[39m=\u001b[39;49mjitter_max_retries,\n\u001b[1;32m   1244\u001b[0m )\n\u001b[1;32m   1246\u001b[0m apoints \u001b[39m=\u001b[39m [DictToArrayBijection\u001b[39m.\u001b[39mmap(point) \u001b[39mfor\u001b[39;00m point \u001b[39min\u001b[39;00m initial_points]\n\u001b[1;32m   1247\u001b[0m apoints_data \u001b[39m=\u001b[39m [apoint\u001b[39m.\u001b[39mdata \u001b[39mfor\u001b[39;00m apoint \u001b[39min\u001b[39;00m apoints]\n",
      "File \u001b[0;32m~/opt/miniconda/envs/idm_jupy/lib/python3.9/site-packages/pymc/sampling/mcmc.py:1132\u001b[0m, in \u001b[0;36m_init_jitter\u001b[0;34m(model, initvals, seeds, jitter, jitter_max_retries)\u001b[0m\n\u001b[1;32m   1130\u001b[0m \u001b[39mif\u001b[39;00m i \u001b[39m<\u001b[39m jitter_max_retries:\n\u001b[1;32m   1131\u001b[0m     \u001b[39mtry\u001b[39;00m:\n\u001b[0;32m-> 1132\u001b[0m         model\u001b[39m.\u001b[39;49mcheck_start_vals(point)\n\u001b[1;32m   1133\u001b[0m     \u001b[39mexcept\u001b[39;00m SamplingError:\n\u001b[1;32m   1134\u001b[0m         \u001b[39m# Retry with a new seed\u001b[39;00m\n\u001b[1;32m   1135\u001b[0m         seed \u001b[39m=\u001b[39m rng\u001b[39m.\u001b[39mrandint(\u001b[39m2\u001b[39m\u001b[39m*\u001b[39m\u001b[39m*\u001b[39m\u001b[39m30\u001b[39m, dtype\u001b[39m=\u001b[39mnp\u001b[39m.\u001b[39mint64)\n",
      "File \u001b[0;32m~/opt/miniconda/envs/idm_jupy/lib/python3.9/site-packages/pymc/model.py:1781\u001b[0m, in \u001b[0;36mModel.check_start_vals\u001b[0;34m(self, start)\u001b[0m\n\u001b[1;32m   1775\u001b[0m     valid_keys \u001b[39m=\u001b[39m \u001b[39m\"\u001b[39m\u001b[39m, \u001b[39m\u001b[39m\"\u001b[39m\u001b[39m.\u001b[39mjoin(value_names_set)\n\u001b[1;32m   1776\u001b[0m     \u001b[39mraise\u001b[39;00m \u001b[39mKeyError\u001b[39;00m(\n\u001b[1;32m   1777\u001b[0m         \u001b[39m\"\u001b[39m\u001b[39mSome start parameters do not appear in the model!\u001b[39m\u001b[39m\\n\u001b[39;00m\u001b[39m\"\u001b[39m\n\u001b[1;32m   1778\u001b[0m         \u001b[39mf\u001b[39m\u001b[39m\"\u001b[39m\u001b[39mValid keys are: \u001b[39m\u001b[39m{\u001b[39;00mvalid_keys\u001b[39m}\u001b[39;00m\u001b[39m, but \u001b[39m\u001b[39m{\u001b[39;00mextra_keys\u001b[39m}\u001b[39;00m\u001b[39m was supplied\u001b[39m\u001b[39m\"\u001b[39m\n\u001b[1;32m   1779\u001b[0m     )\n\u001b[0;32m-> 1781\u001b[0m initial_eval \u001b[39m=\u001b[39m \u001b[39mself\u001b[39;49m\u001b[39m.\u001b[39;49mpoint_logps(point\u001b[39m=\u001b[39;49melem)\n\u001b[1;32m   1783\u001b[0m \u001b[39mif\u001b[39;00m \u001b[39mnot\u001b[39;00m \u001b[39mall\u001b[39m(np\u001b[39m.\u001b[39misfinite(v) \u001b[39mfor\u001b[39;00m v \u001b[39min\u001b[39;00m initial_eval\u001b[39m.\u001b[39mvalues()):\n\u001b[1;32m   1784\u001b[0m     \u001b[39mraise\u001b[39;00m SamplingError(\n\u001b[1;32m   1785\u001b[0m         \u001b[39m\"\u001b[39m\u001b[39mInitial evaluation of model at starting point failed!\u001b[39m\u001b[39m\\n\u001b[39;00m\u001b[39m\"\u001b[39m\n\u001b[1;32m   1786\u001b[0m         \u001b[39mf\u001b[39m\u001b[39m\"\u001b[39m\u001b[39mStarting values:\u001b[39m\u001b[39m\\n\u001b[39;00m\u001b[39m{\u001b[39;00melem\u001b[39m}\u001b[39;00m\u001b[39m\\n\u001b[39;00m\u001b[39m\\n\u001b[39;00m\u001b[39m\"\u001b[39m\n\u001b[1;32m   1787\u001b[0m         \u001b[39mf\u001b[39m\u001b[39m\"\u001b[39m\u001b[39mLogp initial evaluation results:\u001b[39m\u001b[39m\\n\u001b[39;00m\u001b[39m{\u001b[39;00minitial_eval\u001b[39m}\u001b[39;00m\u001b[39m\\n\u001b[39;00m\u001b[39m\"\u001b[39m\n\u001b[1;32m   1788\u001b[0m         \u001b[39m\"\u001b[39m\u001b[39mYou can call `model.debug()` for more details.\u001b[39m\u001b[39m\"\u001b[39m\n\u001b[1;32m   1789\u001b[0m     )\n",
      "File \u001b[0;32m~/opt/miniconda/envs/idm_jupy/lib/python3.9/site-packages/pymc/model.py:1816\u001b[0m, in \u001b[0;36mModel.point_logps\u001b[0;34m(self, point, round_vals)\u001b[0m\n\u001b[1;32m   1810\u001b[0m factors \u001b[39m=\u001b[39m \u001b[39mself\u001b[39m\u001b[39m.\u001b[39mbasic_RVs \u001b[39m+\u001b[39m \u001b[39mself\u001b[39m\u001b[39m.\u001b[39mpotentials\n\u001b[1;32m   1811\u001b[0m factor_logps_fn \u001b[39m=\u001b[39m [pt\u001b[39m.\u001b[39msum(factor) \u001b[39mfor\u001b[39;00m factor \u001b[39min\u001b[39;00m \u001b[39mself\u001b[39m\u001b[39m.\u001b[39mlogp(factors, \u001b[39msum\u001b[39m\u001b[39m=\u001b[39m\u001b[39mFalse\u001b[39;00m)]\n\u001b[1;32m   1812\u001b[0m \u001b[39mreturn\u001b[39;00m {\n\u001b[1;32m   1813\u001b[0m     factor\u001b[39m.\u001b[39mname: np\u001b[39m.\u001b[39mround(np\u001b[39m.\u001b[39masarray(factor_logp), round_vals)\n\u001b[1;32m   1814\u001b[0m     \u001b[39mfor\u001b[39;00m factor, factor_logp \u001b[39min\u001b[39;00m \u001b[39mzip\u001b[39m(\n\u001b[1;32m   1815\u001b[0m         factors,\n\u001b[0;32m-> 1816\u001b[0m         \u001b[39mself\u001b[39;49m\u001b[39m.\u001b[39;49mcompile_fn(factor_logps_fn)(point),\n\u001b[1;32m   1817\u001b[0m     )\n\u001b[1;32m   1818\u001b[0m }\n",
      "File \u001b[0;32m~/opt/miniconda/envs/idm_jupy/lib/python3.9/site-packages/pymc/pytensorf.py:764\u001b[0m, in \u001b[0;36mPointFunc.__call__\u001b[0;34m(self, state)\u001b[0m\n\u001b[1;32m    763\u001b[0m \u001b[39mdef\u001b[39;00m \u001b[39m__call__\u001b[39m(\u001b[39mself\u001b[39m, state):\n\u001b[0;32m--> 764\u001b[0m     \u001b[39mreturn\u001b[39;00m \u001b[39mself\u001b[39;49m\u001b[39m.\u001b[39;49mf(\u001b[39m*\u001b[39;49m\u001b[39m*\u001b[39;49mstate)\n",
      "File \u001b[0;32m~/opt/miniconda/envs/idm_jupy/lib/python3.9/site-packages/pytensor/compile/function/types.py:983\u001b[0m, in \u001b[0;36mFunction.__call__\u001b[0;34m(self, *args, **kwargs)\u001b[0m\n\u001b[1;32m    981\u001b[0m     \u001b[39mif\u001b[39;00m \u001b[39mhasattr\u001b[39m(\u001b[39mself\u001b[39m\u001b[39m.\u001b[39mvm, \u001b[39m\"\u001b[39m\u001b[39mthunks\u001b[39m\u001b[39m\"\u001b[39m):\n\u001b[1;32m    982\u001b[0m         thunk \u001b[39m=\u001b[39m \u001b[39mself\u001b[39m\u001b[39m.\u001b[39mvm\u001b[39m.\u001b[39mthunks[\u001b[39mself\u001b[39m\u001b[39m.\u001b[39mvm\u001b[39m.\u001b[39mposition_of_error]\n\u001b[0;32m--> 983\u001b[0m     raise_with_op(\n\u001b[1;32m    984\u001b[0m         \u001b[39mself\u001b[39;49m\u001b[39m.\u001b[39;49mmaker\u001b[39m.\u001b[39;49mfgraph,\n\u001b[1;32m    985\u001b[0m         node\u001b[39m=\u001b[39;49m\u001b[39mself\u001b[39;49m\u001b[39m.\u001b[39;49mvm\u001b[39m.\u001b[39;49mnodes[\u001b[39mself\u001b[39;49m\u001b[39m.\u001b[39;49mvm\u001b[39m.\u001b[39;49mposition_of_error],\n\u001b[1;32m    986\u001b[0m         thunk\u001b[39m=\u001b[39;49mthunk,\n\u001b[1;32m    987\u001b[0m         storage_map\u001b[39m=\u001b[39;49m\u001b[39mgetattr\u001b[39;49m(\u001b[39mself\u001b[39;49m\u001b[39m.\u001b[39;49mvm, \u001b[39m\"\u001b[39;49m\u001b[39mstorage_map\u001b[39;49m\u001b[39m\"\u001b[39;49m, \u001b[39mNone\u001b[39;49;00m),\n\u001b[1;32m    988\u001b[0m     )\n\u001b[1;32m    989\u001b[0m \u001b[39melse\u001b[39;00m:\n\u001b[1;32m    990\u001b[0m     \u001b[39m# old-style linkers raise their own exceptions\u001b[39;00m\n\u001b[1;32m    991\u001b[0m     \u001b[39mraise\u001b[39;00m\n",
      "File \u001b[0;32m~/opt/miniconda/envs/idm_jupy/lib/python3.9/site-packages/pytensor/link/utils.py:535\u001b[0m, in \u001b[0;36mraise_with_op\u001b[0;34m(fgraph, node, thunk, exc_info, storage_map)\u001b[0m\n\u001b[1;32m    530\u001b[0m     warnings\u001b[39m.\u001b[39mwarn(\n\u001b[1;32m    531\u001b[0m         \u001b[39mf\u001b[39m\u001b[39m\"\u001b[39m\u001b[39m{\u001b[39;00mexc_type\u001b[39m}\u001b[39;00m\u001b[39m error does not allow us to add an extra error message\u001b[39m\u001b[39m\"\u001b[39m\n\u001b[1;32m    532\u001b[0m     )\n\u001b[1;32m    533\u001b[0m     \u001b[39m# Some exception need extra parameter in inputs. So forget the\u001b[39;00m\n\u001b[1;32m    534\u001b[0m     \u001b[39m# extra long error message in that case.\u001b[39;00m\n\u001b[0;32m--> 535\u001b[0m \u001b[39mraise\u001b[39;00m exc_value\u001b[39m.\u001b[39mwith_traceback(exc_trace)\n",
      "File \u001b[0;32m~/opt/miniconda/envs/idm_jupy/lib/python3.9/site-packages/pytensor/compile/function/types.py:970\u001b[0m, in \u001b[0;36mFunction.__call__\u001b[0;34m(self, *args, **kwargs)\u001b[0m\n\u001b[1;32m    967\u001b[0m t0_fn \u001b[39m=\u001b[39m time\u001b[39m.\u001b[39mperf_counter()\n\u001b[1;32m    968\u001b[0m \u001b[39mtry\u001b[39;00m:\n\u001b[1;32m    969\u001b[0m     outputs \u001b[39m=\u001b[39m (\n\u001b[0;32m--> 970\u001b[0m         \u001b[39mself\u001b[39;49m\u001b[39m.\u001b[39;49mvm()\n\u001b[1;32m    971\u001b[0m         \u001b[39mif\u001b[39;00m output_subset \u001b[39mis\u001b[39;00m \u001b[39mNone\u001b[39;00m\n\u001b[1;32m    972\u001b[0m         \u001b[39melse\u001b[39;00m \u001b[39mself\u001b[39m\u001b[39m.\u001b[39mvm(output_subset\u001b[39m=\u001b[39moutput_subset)\n\u001b[1;32m    973\u001b[0m     )\n\u001b[1;32m    974\u001b[0m \u001b[39mexcept\u001b[39;00m \u001b[39mException\u001b[39;00m:\n\u001b[1;32m    975\u001b[0m     restore_defaults()\n",
      "\u001b[0;31mIndexError\u001b[0m: index 1 is out of bounds for axis 0 with size 1\nApply node that caused the error: AdvancedSubtensor1(kappa_log___log, TensorConstant{(112,) of 1})\nToposort index: 8\nInputs types: [TensorType(float64, (1,)), TensorType(uint8, (112,))]\nInputs shapes: [(1,), (112,)]\nInputs strides: [(8,), (1,)]\nInputs values: [array([14.41322166]), 'not shown']\nOutputs clients: [[Elemwise{Composite}(AdvancedSubtensor1.0, TensorConstant{[  2.   2...180. 180.]}, TensorConstant{(1,) of 1.0}, TensorConstant{[ 7. 14. 2... 50. 65.]}, TensorConstant{[10. 10. 1... 20. 20.]}, TensorConstant{(1,) of -1.0}, AdvancedSubtensor1.0, TensorConstant{(1,) of 1}, TensorConstant{(1,) of 0}, y_1{[0 1 1 1 1.. 1 1 1\n 1]})]]\n\nBacktrace when the node is created (use PyTensor flag traceback__limit=N to make it longer):\n  File \"/Users/pizarror/opt/miniconda/envs/idm_jupy/lib/python3.9/site-packages/IPython/core/interactiveshell.py\", line 3009, in run_cell\n    result = self._run_cell(\n  File \"/Users/pizarror/opt/miniconda/envs/idm_jupy/lib/python3.9/site-packages/IPython/core/interactiveshell.py\", line 3064, in _run_cell\n    result = runner(coro)\n  File \"/Users/pizarror/opt/miniconda/envs/idm_jupy/lib/python3.9/site-packages/IPython/core/async_helpers.py\", line 129, in _pseudo_sync_runner\n    coro.send(None)\n  File \"/Users/pizarror/opt/miniconda/envs/idm_jupy/lib/python3.9/site-packages/IPython/core/interactiveshell.py\", line 3269, in run_cell_async\n    has_raised = await self.run_ast_nodes(code_ast.body, cell_name,\n  File \"/Users/pizarror/opt/miniconda/envs/idm_jupy/lib/python3.9/site-packages/IPython/core/interactiveshell.py\", line 3448, in run_ast_nodes\n    if await self.run_code(code, result, async_=asy):\n  File \"/Users/pizarror/opt/miniconda/envs/idm_jupy/lib/python3.9/site-packages/IPython/core/interactiveshell.py\", line 3508, in run_code\n    exec(code_obj, self.user_global_ns, self.user_ns)\n  File \"/var/folders/ts/wpzrly5j2yxb42zf5v0w5rvh0000gs/T/ipykernel_49930/1396054709.py\", line 14, in <module>\n    kh,gh = estimate_bhm(index,design_df,choices)\n  File \"/var/folders/ts/wpzrly5j2yxb42zf5v0w5rvh0000gs/T/ipykernel_49930/2494971389.py\", line 23, in estimate_bhm\n    - immed_amt/(1+(kappa[subj_id]*immed_wait)) ))))\n\nHINT: Use the PyTensor flag `exception_verbosity=high` for a debug print-out and storage map footprint of this Apply node."
     ]
    }
   ],
   "source": [
    "\n",
    "fn = os.path.join('simul','ground_truth.csv')\n",
    "params_df = pd.read_csv(fn,index_col=0)\n",
    "\n",
    "fn = os.path.join('simul','design_set.csv')\n",
    "design_df = pd.read_csv(fn,index_col=0)\n",
    "\n",
    "simulated_data = sorted(glob.glob(os.path.join('simul','response','*.csv')))\n",
    "kappa_hat,gamma_hat = [],[]\n",
    "\n",
    "for index,fn in enumerate(simulated_data):\n",
    "    print(fn)\n",
    "    df = pd.read_csv(fn,index_col=0)\n",
    "    choices = df['response']\n",
    "    kh,gh = estimate_bhm(index,design_df,choices)\n",
    "    kappa_hat += [kh]\n",
    "    gamma_hat += [gh]\n",
    "\n",
    "params_df['kappa_bhm'] = kappa_hat\n",
    "params_df['gamma_bhm'] = gamma_hat\n",
    "params_df"
   ]
  },
  {
   "cell_type": "code",
   "execution_count": 58,
   "metadata": {},
   "outputs": [
    {
     "data": {
      "text/html": [
       "<div>\n",
       "<style scoped>\n",
       "    .dataframe tbody tr th:only-of-type {\n",
       "        vertical-align: middle;\n",
       "    }\n",
       "\n",
       "    .dataframe tbody tr th {\n",
       "        vertical-align: top;\n",
       "    }\n",
       "\n",
       "    .dataframe thead th {\n",
       "        text-align: right;\n",
       "    }\n",
       "</style>\n",
       "<table border=\"1\" class=\"dataframe\">\n",
       "  <thead>\n",
       "    <tr style=\"text-align: right;\">\n",
       "      <th></th>\n",
       "      <th>kappa_gt</th>\n",
       "      <th>gamma_gt</th>\n",
       "    </tr>\n",
       "  </thead>\n",
       "  <tbody>\n",
       "    <tr>\n",
       "      <th>0</th>\n",
       "      <td>0.00001</td>\n",
       "      <td>0.5</td>\n",
       "    </tr>\n",
       "    <tr>\n",
       "      <th>1</th>\n",
       "      <td>0.00001</td>\n",
       "      <td>1.0</td>\n",
       "    </tr>\n",
       "    <tr>\n",
       "      <th>2</th>\n",
       "      <td>0.00001</td>\n",
       "      <td>1.5</td>\n",
       "    </tr>\n",
       "    <tr>\n",
       "      <th>3</th>\n",
       "      <td>0.00001</td>\n",
       "      <td>2.0</td>\n",
       "    </tr>\n",
       "    <tr>\n",
       "      <th>4</th>\n",
       "      <td>0.00001</td>\n",
       "      <td>2.5</td>\n",
       "    </tr>\n",
       "    <tr>\n",
       "      <th>...</th>\n",
       "      <td>...</td>\n",
       "      <td>...</td>\n",
       "    </tr>\n",
       "    <tr>\n",
       "      <th>95</th>\n",
       "      <td>1.00000</td>\n",
       "      <td>3.0</td>\n",
       "    </tr>\n",
       "    <tr>\n",
       "      <th>96</th>\n",
       "      <td>1.00000</td>\n",
       "      <td>3.5</td>\n",
       "    </tr>\n",
       "    <tr>\n",
       "      <th>97</th>\n",
       "      <td>1.00000</td>\n",
       "      <td>4.0</td>\n",
       "    </tr>\n",
       "    <tr>\n",
       "      <th>98</th>\n",
       "      <td>1.00000</td>\n",
       "      <td>4.5</td>\n",
       "    </tr>\n",
       "    <tr>\n",
       "      <th>99</th>\n",
       "      <td>1.00000</td>\n",
       "      <td>5.0</td>\n",
       "    </tr>\n",
       "  </tbody>\n",
       "</table>\n",
       "<p>100 rows × 2 columns</p>\n",
       "</div>"
      ],
      "text/plain": [
       "    kappa_gt  gamma_gt\n",
       "0    0.00001       0.5\n",
       "1    0.00001       1.0\n",
       "2    0.00001       1.5\n",
       "3    0.00001       2.0\n",
       "4    0.00001       2.5\n",
       "..       ...       ...\n",
       "95   1.00000       3.0\n",
       "96   1.00000       3.5\n",
       "97   1.00000       4.0\n",
       "98   1.00000       4.5\n",
       "99   1.00000       5.0\n",
       "\n",
       "[100 rows x 2 columns]"
      ]
     },
     "execution_count": 58,
     "metadata": {},
     "output_type": "execute_result"
    }
   ],
   "source": [
    "params_df"
   ]
  }
 ],
 "metadata": {
  "kernelspec": {
   "display_name": "idm_jupy",
   "language": "python",
   "name": "python3"
  },
  "language_info": {
   "codemirror_mode": {
    "name": "ipython",
    "version": 3
   },
   "file_extension": ".py",
   "mimetype": "text/x-python",
   "name": "python",
   "nbconvert_exporter": "python",
   "pygments_lexer": "ipython3",
   "version": "3.9.16"
  },
  "orig_nbformat": 4
 },
 "nbformat": 4,
 "nbformat_minor": 2
}
