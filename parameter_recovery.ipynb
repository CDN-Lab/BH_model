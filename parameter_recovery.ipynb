{
 "cells": [
  {
   "cell_type": "markdown",
   "metadata": {},
   "source": [
    "## Parameter recovery\n",
    "\n",
    "We simulated data for a set of design and various ground truth parameters. Now we will try to estimate those parameters from the simulated data"
   ]
  },
  {
   "cell_type": "code",
   "execution_count": 40,
   "metadata": {},
   "outputs": [],
   "source": [
    "# Built-in/Generic Imports\n",
    "import os,sys\n",
    "import glob\n",
    "\n",
    "# Libs\n",
    "import numpy as np\n",
    "import pandas as pd\n",
    "import pymc as pm\n",
    "import arviz as az"
   ]
  },
  {
   "cell_type": "code",
   "execution_count": null,
   "metadata": {},
   "outputs": [],
   "source": [
    "\n"
   ]
  },
  {
   "cell_type": "code",
   "execution_count": 41,
   "metadata": {},
   "outputs": [],
   "source": [
    "\n",
    "def estimate_bhm(index,design_df,choices):\n",
    "\n",
    "    # save_dir = os.path.join('simul','bhm')\n",
    "    \n",
    "    delay_amt = design_df['cdd_delay_amt'].values\n",
    "    delay_wait = design_df['cdd_delay_wait'].values\n",
    "    immed_amt = design_df['cdd_immed_amt'].values\n",
    "    immed_wait = design_df['cdd_immed_wait'].values\n",
    "    subj_id = [index]*len(choices)\n",
    "    # We will fit a model for each subject\n",
    "    with pm.Model() as model_simple:\n",
    "\n",
    "        # Hyperparameters for kappa\n",
    "        mu_kappa_hyper = pm.Beta('mu_kappa_hyper',mu=0.02,sigma=0.05)\n",
    "        # use the same hyper SD for both parameters\n",
    "        sd_hyper = pm.LogNormal('sd_hyper',sigma=1)\n",
    "\n",
    "        kappa = pm.LogNormal('kappa',mu=mu_kappa_hyper,sigma=sd_hyper,shape=np.size(np.unique(subj_id)))\n",
    "        gamma = pm.HalfNormal('gamma',sigma=sd_hyper,shape=np.size(np.unique(subj_id)))\n",
    "        \n",
    "        prob = pm.Deterministic('prob', 1 / (1 + pm.math.exp(-gamma[subj_id] * ( delay_amt/(1+(kappa[subj_id]*delay_wait)) \n",
    "                                                                                - immed_amt/(1+(kappa[subj_id]*immed_wait)) ))))\n",
    "\n",
    "        y_1 = pm.Bernoulli('y_1',p=prob,observed=choices)\n",
    "\n",
    "        trace_prior = pm.sample(1000, tune=100, cores=2,target_accept=0.98,progressbar=False)\n",
    "\n",
    "\n",
    "    # This is how you get a nice array. Note that this returns a pandas DataFrame, not a numpy array. Indexing is totally different.\n",
    "    summary= az.summary(trace_prior,round_to=10)\n",
    "    kappa_hat = summary['mean'].loc['kappa[{}]'.format(index)]\n",
    "    gamma_hat = summary['mean'].loc['gamma[{}]'.format(index)]\n",
    "    return kappa_hat,gamma_hat\n",
    "    # fn = os.path.join(save_dir,'subj_{0:04d}.csv'.format(index))\n",
    "    # print('Saving to : {}'.format(fn))\n",
    "    # print(summary)\n",
    "    # sys.exit()\n",
    "    # # summary.to_csv(fn)\n",
    "\n"
   ]
  },
  {
   "cell_type": "code",
   "execution_count": 42,
   "metadata": {},
   "outputs": [],
   "source": [
    "\n",
    "fn = os.path.join('simul','ground_truth.csv')\n",
    "params_df = pd.read_csv(fn,index_col=0)\n",
    "\n",
    "fn = os.path.join('simul','design_set.csv')\n",
    "design_df = pd.read_csv(fn,index_col=0)\n",
    "\n",
    "simulated_data = sorted(glob.glob(os.path.join('simul','response','*.csv')))\n",
    "kappa_hat,gamma_hat = [],[]\n",
    "\n",
    "for index,fn in enumerate(simulated_data):\n",
    "    # print(fn)\n",
    "    df = pd.read_csv(fn,index_col=0)\n",
    "    choices = df['response']\n",
    "    kh,gh = estimate_bhm(index,design_df,choices)\n",
    "    kappa_hat += [kh]\n",
    "    gamma_hat += [gh]\n",
    "\n",
    "params_df['kappa_bhm'] = kappa_hat\n",
    "params_df['gamma_bhm'] = gamma_hat\n",
    "params_df"
   ]
  }
 ],
 "metadata": {
  "kernelspec": {
   "display_name": "idm_jupy",
   "language": "python",
   "name": "python3"
  },
  "language_info": {
   "codemirror_mode": {
    "name": "ipython",
    "version": 3
   },
   "file_extension": ".py",
   "mimetype": "text/x-python",
   "name": "python",
   "nbconvert_exporter": "python",
   "pygments_lexer": "ipython3",
   "version": "3.9.16"
  },
  "orig_nbformat": 4
 },
 "nbformat": 4,
 "nbformat_minor": 2
}
