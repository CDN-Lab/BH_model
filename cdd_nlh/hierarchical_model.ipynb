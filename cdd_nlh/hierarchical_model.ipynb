{
 "cells": [
  {
   "cell_type": "markdown",
   "metadata": {},
   "source": [
    "# Bayesian parameter estimation \n",
    "\n",
    "Written for CDD nonlinear hyperbolic (NLH, alpha estimated from CRDM) task as part of the IDM dataset collected online with Mturk"
   ]
  },
  {
   "cell_type": "code",
   "execution_count": 39,
   "metadata": {},
   "outputs": [],
   "source": [
    "# Built-in/Generic Imports\n",
    "import os,sys\n",
    "import glob\n",
    "import time\n",
    "\n",
    "# Libs\n",
    "import numpy as np\n",
    "import pandas as pd\n",
    "import pymc as pm\n",
    "import arviz as az\n",
    "import matplotlib.pyplot as plt\n",
    "import pickle\n",
    "pd.options.display.max_rows = 999\n",
    "pd.options.display.max_columns = 99\n",
    "\n",
    "import logging\n",
    "logger = logging.getLogger(\"pymc\")\n",
    "logger.setLevel(logging.ERROR)\n"
   ]
  },
  {
   "cell_type": "code",
   "execution_count": 40,
   "metadata": {},
   "outputs": [],
   "source": [
    "# getting the name of the directory\n",
    "# where the this file is present.\n",
    "# current = os.path.dirname(os.path.realpath(__file__))\n",
    "current = os.path.dirname(os.getcwd())\n",
    " \n",
    "# Getting the parent directory name\n",
    "# where the current directory is present.\n",
    "# parent = os.path.dirname(os.path.dirname(current))\n",
    "# parent = current\n",
    "parent = '/Users/pizarror/IDM'\n",
    "# print(parent)\n",
    "#/Users/pizarror/IDM\n",
    "\n",
    "# adding the parent directory to\n",
    "# the sys.path.\n",
    "sys.path.append(parent)\n",
    "\n",
    "from IDM_model.src import model_functions as mf\n"
   ]
  },
  {
   "cell_type": "code",
   "execution_count": 41,
   "metadata": {},
   "outputs": [],
   "source": [
    "def read_load_data(subject='23_IDM_0144',fn='/tmp',alpha0=1.0,cols=[]):\n",
    "    cdd_df = pd.read_csv(fn)\n",
    "    task='cdd'\n",
    "    cdd_df = mf.drop_pract(cdd_df,task=task)\n",
    "    cdd_df,response_rate = mf.drop_non_responses(cdd_df,task=task,verbose=False) \n",
    "    data = mf.get_data(cdd_df,cols,alpha_hat=alpha0)[0]\n",
    "    data['subject'] = subject\n",
    "    return data \n",
    "\n",
    "def diganostic_plots(trace,experiment='experiment',utility_dir='/tmp/',subject='23_IDM_0001',task_dir='cdd',coords={},var_names=['kappa','gamma'],figsize=(10,10)):\n",
    "\n",
    "    bh_dir = os.path.join(utility_dir,subject,task_dir,'bh')\n",
    "    task = '{}_nlh'.format(task_dir)\n",
    "    if not os.path.exists(bh_dir):\n",
    "        os.makedirs(bh_dir)\n",
    "    print('Saving diagnostic plots to bh_dir : {}'.format(bh_dir))\n",
    "\n",
    "    title_dict = {'fontsize':15}\n",
    "\n",
    "    # 2by2 : rows 2 varialbes, cols 2 for distribution and sampled values\n",
    "    axes = az.plot_trace(trace, var_names=var_names,coords=coords,compact=False)\n",
    "    for r in range(axes.shape[0]):\n",
    "        for c in range(axes.shape[1]):\n",
    "            axes[r,c].set_title('{}: {}'.format(subject,var_names[r]))\n",
    "    plt.tight_layout()\n",
    "    fig_fn = os.path.join(bh_dir,'{}_{}_trace_plot.{}.eps'.format(subject,task,experiment))\n",
    "    plt.savefig(fig_fn,format='eps')\n",
    "    plt.close()\n",
    "    \n",
    "    axes = az.plot_pair(trace,kind='kde', coords=coords,var_names=var_names,marginals=True)\n",
    "    axes[0,0].set_title(subject,fontdict=title_dict)\n",
    "    axes[1,0].set_ylabel(var_names[1])\n",
    "    axes[1,0].set_xlabel(var_names[0])\n",
    "    plt.tight_layout()\n",
    "    fig_fn = os.path.join(bh_dir,'{}_{}_bivariate_densities.{}.eps'.format(subject,task,experiment))\n",
    "    plt.savefig(fig_fn,format='eps')\n",
    "    plt.close()\n",
    "    \n",
    "    axes = az.plot_posterior(trace,var_names=var_names,coords=coords)\n",
    "    # print(axes.shape)\n",
    "    for c in range(axes.shape[0]):\n",
    "        axes[c].set_title('{}: {}'.format(subject,var_names[c]),fontdict=title_dict)\n",
    "    fig_fn = os.path.join(bh_dir,'{}_{}_posterior.{}.eps'.format(subject,task,experiment))\n",
    "    plt.savefig(fig_fn,format='eps')\n",
    "    plt.close()\n",
    "\n",
    "    fig, axes = plt.subplots(1,len(var_names), figsize=figsize)\n",
    "    az.plot_rank(trace,var_names=var_names,coords=coords,ax=axes)\n",
    "    for c in range(axes.shape[0]):\n",
    "        axes[c].set_title('{}: {}'.format(subject,var_names[c]),fontdict=title_dict)\n",
    "    fig.tight_layout()\n",
    "    fig_fn = os.path.join(bh_dir,'{}_{}_rank_plot_bars.{}.eps'.format(subject,task,experiment))\n",
    "    plt.savefig(fig_fn,format='eps')\n",
    "    plt.close()\n",
    "\n",
    "    fig, axes = plt.subplots(1,len(var_names), figsize=figsize)\n",
    "    axes = az.plot_rank(trace,var_names=var_names, coords=coords,kind=\"vlines\",vlines_kwargs={'lw':0}, marker_vlines_kwargs={'lw':3},ax=axes)\n",
    "    for c in range(axes.shape[0]):\n",
    "        axes[c].set_title('{}: {}'.format(subject,var_names[c]),fontdict=title_dict)\n",
    "    fig.tight_layout()\n",
    "    fig_fn = os.path.join(bh_dir,'{}_{}_rank_plot_lines.{}.eps'.format(subject,task,experiment))\n",
    "    plt.savefig(fig_fn,format='eps')\n",
    "    plt.close()\n",
    "\n",
    "\n"
   ]
  },
  {
   "attachments": {},
   "cell_type": "markdown",
   "metadata": {},
   "source": [
    "## Bayesian Hierarchical Model (BHM)\n",
    "\n",
    "We pooled all data together and ran simple BH model in complete_pool_as_prior.\n",
    "\n",
    "We are using complete pooling to generate priors for when we implement a higherarchical bayesian model."
   ]
  },
  {
   "attachments": {},
   "cell_type": "markdown",
   "metadata": {},
   "source": [
    "### Load data\n",
    "\n",
    "We will load the data from all participants so we can run the modeling schema"
   ]
  },
  {
   "cell_type": "code",
   "execution_count": 42,
   "metadata": {},
   "outputs": [],
   "source": [
    "def get_alpha(utility_dir,subject=''):\n",
    "    split_crdm_bhm_fn = os.path.join(utility_dir,'BHM/split_CRDM_BHM.csv')\n",
    "    crdm_bhm_df = pd.read_csv(split_crdm_bhm_fn)\n",
    "    alpha = crdm_bhm_df.loc[crdm_bhm_df['subject']==subject,'alpha'].iloc[0]\n",
    "    return alpha\n"
   ]
  },
  {
   "cell_type": "code",
   "execution_count": 43,
   "metadata": {},
   "outputs": [
    {
     "data": {
      "text/html": [
       "<div>\n",
       "<style scoped>\n",
       "    .dataframe tbody tr th:only-of-type {\n",
       "        vertical-align: middle;\n",
       "    }\n",
       "\n",
       "    .dataframe tbody tr th {\n",
       "        vertical-align: top;\n",
       "    }\n",
       "\n",
       "    .dataframe thead th {\n",
       "        text-align: right;\n",
       "    }\n",
       "</style>\n",
       "<table border=\"1\" class=\"dataframe\">\n",
       "  <thead>\n",
       "    <tr style=\"text-align: right;\">\n",
       "      <th></th>\n",
       "      <th>subject</th>\n",
       "      <th>cdd_choice</th>\n",
       "      <th>cdd_immed_amt</th>\n",
       "      <th>cdd_delay_amt</th>\n",
       "      <th>cdd_immed_wait</th>\n",
       "      <th>cdd_delay_wait</th>\n",
       "      <th>alpha</th>\n",
       "      <th>subject_id</th>\n",
       "    </tr>\n",
       "  </thead>\n",
       "  <tbody>\n",
       "    <tr>\n",
       "      <th>0</th>\n",
       "      <td>23_IDM_0001</td>\n",
       "      <td>1.0</td>\n",
       "      <td>5.0</td>\n",
       "      <td>26.0</td>\n",
       "      <td>0.0</td>\n",
       "      <td>29.0</td>\n",
       "      <td>1.236226</td>\n",
       "      <td>0.0</td>\n",
       "    </tr>\n",
       "    <tr>\n",
       "      <th>1</th>\n",
       "      <td>23_IDM_0001</td>\n",
       "      <td>1.0</td>\n",
       "      <td>2.0</td>\n",
       "      <td>22.0</td>\n",
       "      <td>0.0</td>\n",
       "      <td>90.0</td>\n",
       "      <td>1.236226</td>\n",
       "      <td>0.0</td>\n",
       "    </tr>\n",
       "    <tr>\n",
       "      <th>2</th>\n",
       "      <td>23_IDM_0001</td>\n",
       "      <td>0.0</td>\n",
       "      <td>2.0</td>\n",
       "      <td>6.0</td>\n",
       "      <td>0.0</td>\n",
       "      <td>90.0</td>\n",
       "      <td>1.236226</td>\n",
       "      <td>0.0</td>\n",
       "    </tr>\n",
       "    <tr>\n",
       "      <th>3</th>\n",
       "      <td>23_IDM_0001</td>\n",
       "      <td>0.0</td>\n",
       "      <td>15.0</td>\n",
       "      <td>15.0</td>\n",
       "      <td>0.0</td>\n",
       "      <td>151.0</td>\n",
       "      <td>1.236226</td>\n",
       "      <td>0.0</td>\n",
       "    </tr>\n",
       "    <tr>\n",
       "      <th>4</th>\n",
       "      <td>23_IDM_0001</td>\n",
       "      <td>1.0</td>\n",
       "      <td>15.0</td>\n",
       "      <td>55.0</td>\n",
       "      <td>0.0</td>\n",
       "      <td>90.0</td>\n",
       "      <td>1.236226</td>\n",
       "      <td>0.0</td>\n",
       "    </tr>\n",
       "    <tr>\n",
       "      <th>5</th>\n",
       "      <td>23_IDM_0001</td>\n",
       "      <td>1.0</td>\n",
       "      <td>2.0</td>\n",
       "      <td>65.0</td>\n",
       "      <td>0.0</td>\n",
       "      <td>29.0</td>\n",
       "      <td>1.236226</td>\n",
       "      <td>0.0</td>\n",
       "    </tr>\n",
       "    <tr>\n",
       "      <th>6</th>\n",
       "      <td>23_IDM_0001</td>\n",
       "      <td>0.0</td>\n",
       "      <td>15.0</td>\n",
       "      <td>20.0</td>\n",
       "      <td>0.0</td>\n",
       "      <td>59.0</td>\n",
       "      <td>1.236226</td>\n",
       "      <td>0.0</td>\n",
       "    </tr>\n",
       "    <tr>\n",
       "      <th>7</th>\n",
       "      <td>23_IDM_0001</td>\n",
       "      <td>1.0</td>\n",
       "      <td>15.0</td>\n",
       "      <td>26.0</td>\n",
       "      <td>0.0</td>\n",
       "      <td>6.0</td>\n",
       "      <td>1.236226</td>\n",
       "      <td>0.0</td>\n",
       "    </tr>\n",
       "    <tr>\n",
       "      <th>8</th>\n",
       "      <td>23_IDM_0001</td>\n",
       "      <td>0.0</td>\n",
       "      <td>5.0</td>\n",
       "      <td>10.0</td>\n",
       "      <td>0.0</td>\n",
       "      <td>149.0</td>\n",
       "      <td>1.236226</td>\n",
       "      <td>0.0</td>\n",
       "    </tr>\n",
       "    <tr>\n",
       "      <th>9</th>\n",
       "      <td>23_IDM_0001</td>\n",
       "      <td>0.0</td>\n",
       "      <td>5.0</td>\n",
       "      <td>4.0</td>\n",
       "      <td>0.0</td>\n",
       "      <td>31.0</td>\n",
       "      <td>1.236226</td>\n",
       "      <td>0.0</td>\n",
       "    </tr>\n",
       "  </tbody>\n",
       "</table>\n",
       "</div>"
      ],
      "text/plain": [
       "       subject  cdd_choice  cdd_immed_amt  cdd_delay_amt  cdd_immed_wait   \n",
       "0  23_IDM_0001         1.0            5.0           26.0             0.0  \\\n",
       "1  23_IDM_0001         1.0            2.0           22.0             0.0   \n",
       "2  23_IDM_0001         0.0            2.0            6.0             0.0   \n",
       "3  23_IDM_0001         0.0           15.0           15.0             0.0   \n",
       "4  23_IDM_0001         1.0           15.0           55.0             0.0   \n",
       "5  23_IDM_0001         1.0            2.0           65.0             0.0   \n",
       "6  23_IDM_0001         0.0           15.0           20.0             0.0   \n",
       "7  23_IDM_0001         1.0           15.0           26.0             0.0   \n",
       "8  23_IDM_0001         0.0            5.0           10.0             0.0   \n",
       "9  23_IDM_0001         0.0            5.0            4.0             0.0   \n",
       "\n",
       "   cdd_delay_wait     alpha  subject_id  \n",
       "0            29.0  1.236226         0.0  \n",
       "1            90.0  1.236226         0.0  \n",
       "2            90.0  1.236226         0.0  \n",
       "3           151.0  1.236226         0.0  \n",
       "4            90.0  1.236226         0.0  \n",
       "5            29.0  1.236226         0.0  \n",
       "6            59.0  1.236226         0.0  \n",
       "7             6.0  1.236226         0.0  \n",
       "8           149.0  1.236226         0.0  \n",
       "9            31.0  1.236226         0.0  "
      ]
     },
     "execution_count": 43,
     "metadata": {},
     "output_type": "execute_result"
    }
   ],
   "source": [
    "# Takes about 10 seconds\n",
    "\n",
    "# we will change this when we change utility to 1st level analysis (or split)\n",
    "split_dir = '/Volumes/UCDN/datasets/IDM/split/'\n",
    "utility_dir = '/Volumes/UCDN/datasets/IDM/utility/'\n",
    "save_dir = '/Volumes/UCDN/datasets/IDM/utility/BHM/cdd_nlh/'\n",
    "subjs = sorted(glob.glob(os.path.join(split_dir,'23_IDM_*')))\n",
    "task = 'cdd'\n",
    "cols = ['cdd_choice','cdd_immed_amt','cdd_delay_amt','cdd_immed_wait','cdd_delay_wait','alpha']\n",
    "data = pd.DataFrame(columns=['subject']+cols)\n",
    "\n",
    "for subj_id,s in enumerate(subjs):\n",
    "    subject = os.path.basename(s)\n",
    "    fn  = os.path.join(s,task,'{}_{}.csv'.format(os.path.basename(s),task))\n",
    "    if os.path.exists(fn):\n",
    "        alpha = get_alpha(utility_dir,subject=subject)\n",
    "        subj_data = read_load_data(subject=subject,fn=fn,alpha0=alpha,cols=cols)\n",
    "        for c in cols:\n",
    "            subj_data[c] = subj_data[c].astype(float)        \n",
    "        subj_data['subject_id'] = int(subj_id)\n",
    "        data = pd.concat([data,subj_data],ignore_index=True)\n",
    "\n",
    "data.head(10)\n"
   ]
  },
  {
   "cell_type": "code",
   "execution_count": 21,
   "metadata": {},
   "outputs": [],
   "source": [
    "\n",
    "subjects = data['subject'].unique()\n",
    "# subjects = subjects[:10]\n",
    "# print(subjects)\n",
    "data = data.loc[data['subject'].isin(subjects)]\n"
   ]
  },
  {
   "cell_type": "code",
   "execution_count": 22,
   "metadata": {},
   "outputs": [],
   "source": [
    "\n",
    "subjects = data['subject'].unique()\n",
    "nb_subj = subjects.shape[0]\n",
    "nb_trials = data.shape[0]//nb_subj\n",
    "subj_id_list = data['subject_id'].to_list()\n",
    "subj_id = [int(s) for s in subj_id_list]\n",
    "\n",
    "# subj_id = data['subject'].to_list()\n",
    "\n",
    "old_id = np.array([ [s]*nb_trials for s in range(nb_subj) ]).flatten()\n",
    "\n",
    "delay_amt = data['cdd_delay_amt'].values\n",
    "delay_wait = data['cdd_delay_wait'].values\n",
    "immed_amt = data['cdd_immed_amt'].values\n",
    "immed_wait = data['cdd_immed_wait'].values\n",
    "alpha = data['alpha'].values\n",
    "choices = data['cdd_choice'].values\n"
   ]
  },
  {
   "cell_type": "markdown",
   "metadata": {},
   "source": [
    "### Bayesian Hierarchical Model\n",
    "\n",
    "Developed under parameter receovery\n"
   ]
  },
  {
   "cell_type": "code",
   "execution_count": 23,
   "metadata": {},
   "outputs": [
    {
     "ename": "ValueError",
     "evalue": "Not enough samples to build a trace.",
     "output_type": "error",
     "traceback": [
      "\u001b[0;31m---------------------------------------------------------------------------\u001b[0m",
      "\u001b[0;31mValueError\u001b[0m                                Traceback (most recent call last)",
      "\u001b[1;32m/Users/pizarror/IDM/BH_model/cdd_nlh/hierarchical_model.ipynb Cell 12\u001b[0m line \u001b[0;36m2\n\u001b[1;32m     <a href='vscode-notebook-cell:/Users/pizarror/IDM/BH_model/cdd_nlh/hierarchical_model.ipynb#X13sZmlsZQ%3D%3D?line=15'>16</a>\u001b[0m     prob \u001b[39m=\u001b[39m pm\u001b[39m.\u001b[39mDeterministic(\u001b[39m'\u001b[39m\u001b[39mprob\u001b[39m\u001b[39m'\u001b[39m, \u001b[39m1\u001b[39m \u001b[39m/\u001b[39m (\u001b[39m1\u001b[39m \u001b[39m+\u001b[39m pm\u001b[39m.\u001b[39mmath\u001b[39m.\u001b[39mexp(\u001b[39m-\u001b[39mgamma[subj_id] \u001b[39m*\u001b[39m ( delay_amt\u001b[39m/\u001b[39m(\u001b[39m1\u001b[39m\u001b[39m+\u001b[39m(kappa[subj_id]\u001b[39m*\u001b[39mdelay_wait)) \n\u001b[1;32m     <a href='vscode-notebook-cell:/Users/pizarror/IDM/BH_model/cdd_nlh/hierarchical_model.ipynb#X13sZmlsZQ%3D%3D?line=16'>17</a>\u001b[0m                                                                             \u001b[39m-\u001b[39m immed_amt\u001b[39m/\u001b[39m(\u001b[39m1\u001b[39m\u001b[39m+\u001b[39m(kappa[subj_id]\u001b[39m*\u001b[39mimmed_wait)) ))))\n\u001b[1;32m     <a href='vscode-notebook-cell:/Users/pizarror/IDM/BH_model/cdd_nlh/hierarchical_model.ipynb#X13sZmlsZQ%3D%3D?line=18'>19</a>\u001b[0m     y_1 \u001b[39m=\u001b[39m pm\u001b[39m.\u001b[39mBernoulli(\u001b[39m'\u001b[39m\u001b[39my_1\u001b[39m\u001b[39m'\u001b[39m,p\u001b[39m=\u001b[39mprob,observed\u001b[39m=\u001b[39mchoices)\n\u001b[0;32m---> <a href='vscode-notebook-cell:/Users/pizarror/IDM/BH_model/cdd_nlh/hierarchical_model.ipynb#X13sZmlsZQ%3D%3D?line=20'>21</a>\u001b[0m     trace_prior \u001b[39m=\u001b[39m pm\u001b[39m.\u001b[39;49msample(\u001b[39m10000\u001b[39;49m, tune\u001b[39m=\u001b[39;49m\u001b[39m1000\u001b[39;49m, cores\u001b[39m=\u001b[39;49m\u001b[39m5\u001b[39;49m,target_accept\u001b[39m=\u001b[39;49m\u001b[39m0.99\u001b[39;49m,progressbar\u001b[39m=\u001b[39;49m\u001b[39mFalse\u001b[39;49;00m)\n\u001b[1;32m     <a href='vscode-notebook-cell:/Users/pizarror/IDM/BH_model/cdd_nlh/hierarchical_model.ipynb#X13sZmlsZQ%3D%3D?line=24'>25</a>\u001b[0m \u001b[39m# This is how you get a nice array. Note that this returns a pandas DataFrame, not a numpy array. Indexing is totally different.\u001b[39;00m\n\u001b[1;32m     <a href='vscode-notebook-cell:/Users/pizarror/IDM/BH_model/cdd_nlh/hierarchical_model.ipynb#X13sZmlsZQ%3D%3D?line=25'>26</a>\u001b[0m summary\u001b[39m=\u001b[39m az\u001b[39m.\u001b[39msummary(trace_prior,round_to\u001b[39m=\u001b[39m\u001b[39m10\u001b[39m)\n",
      "File \u001b[0;32m~/opt/miniconda/envs/idm_jupy/lib/python3.9/site-packages/pymc/sampling/mcmc.py:702\u001b[0m, in \u001b[0;36msample\u001b[0;34m(draws, tune, chains, cores, random_seed, progressbar, step, nuts_sampler, initvals, init, jitter_max_retries, n_init, trace, discard_tuned_samples, compute_convergence_checks, keep_warning_stat, return_inferencedata, idata_kwargs, nuts_sampler_kwargs, callback, mp_ctx, model, **kwargs)\u001b[0m\n\u001b[1;32m    698\u001b[0m t_sampling \u001b[39m=\u001b[39m time\u001b[39m.\u001b[39mtime() \u001b[39m-\u001b[39m t_start\n\u001b[1;32m    700\u001b[0m \u001b[39m# Packaging, validating and returning the result was extracted\u001b[39;00m\n\u001b[1;32m    701\u001b[0m \u001b[39m# into a function to make it easier to test and refactor.\u001b[39;00m\n\u001b[0;32m--> 702\u001b[0m \u001b[39mreturn\u001b[39;00m _sample_return(\n\u001b[1;32m    703\u001b[0m     run\u001b[39m=\u001b[39;49mrun,\n\u001b[1;32m    704\u001b[0m     traces\u001b[39m=\u001b[39;49mtraces,\n\u001b[1;32m    705\u001b[0m     tune\u001b[39m=\u001b[39;49mtune,\n\u001b[1;32m    706\u001b[0m     t_sampling\u001b[39m=\u001b[39;49mt_sampling,\n\u001b[1;32m    707\u001b[0m     discard_tuned_samples\u001b[39m=\u001b[39;49mdiscard_tuned_samples,\n\u001b[1;32m    708\u001b[0m     compute_convergence_checks\u001b[39m=\u001b[39;49mcompute_convergence_checks,\n\u001b[1;32m    709\u001b[0m     return_inferencedata\u001b[39m=\u001b[39;49mreturn_inferencedata,\n\u001b[1;32m    710\u001b[0m     keep_warning_stat\u001b[39m=\u001b[39;49mkeep_warning_stat,\n\u001b[1;32m    711\u001b[0m     idata_kwargs\u001b[39m=\u001b[39;49midata_kwargs \u001b[39mor\u001b[39;49;00m {},\n\u001b[1;32m    712\u001b[0m     model\u001b[39m=\u001b[39;49mmodel,\n\u001b[1;32m    713\u001b[0m )\n",
      "File \u001b[0;32m~/opt/miniconda/envs/idm_jupy/lib/python3.9/site-packages/pymc/sampling/mcmc.py:733\u001b[0m, in \u001b[0;36m_sample_return\u001b[0;34m(run, traces, tune, t_sampling, discard_tuned_samples, compute_convergence_checks, return_inferencedata, keep_warning_stat, idata_kwargs, model)\u001b[0m\n\u001b[1;32m    731\u001b[0m \u001b[39m# Pick and slice chains to keep the maximum number of samples\u001b[39;00m\n\u001b[1;32m    732\u001b[0m \u001b[39mif\u001b[39;00m discard_tuned_samples:\n\u001b[0;32m--> 733\u001b[0m     traces, length \u001b[39m=\u001b[39m _choose_chains(traces, tune)\n\u001b[1;32m    734\u001b[0m \u001b[39melse\u001b[39;00m:\n\u001b[1;32m    735\u001b[0m     traces, length \u001b[39m=\u001b[39m _choose_chains(traces, \u001b[39m0\u001b[39m)\n",
      "File \u001b[0;32m~/opt/miniconda/envs/idm_jupy/lib/python3.9/site-packages/pymc/backends/base.py:601\u001b[0m, in \u001b[0;36m_choose_chains\u001b[0;34m(traces, tune)\u001b[0m\n\u001b[1;32m    599\u001b[0m lengths \u001b[39m=\u001b[39m [\u001b[39mmax\u001b[39m(\u001b[39m0\u001b[39m, \u001b[39mlen\u001b[39m(trace) \u001b[39m-\u001b[39m tune) \u001b[39mfor\u001b[39;00m trace \u001b[39min\u001b[39;00m traces]\n\u001b[1;32m    600\u001b[0m \u001b[39mif\u001b[39;00m \u001b[39mnot\u001b[39;00m \u001b[39msum\u001b[39m(lengths):\n\u001b[0;32m--> 601\u001b[0m     \u001b[39mraise\u001b[39;00m \u001b[39mValueError\u001b[39;00m(\u001b[39m\"\u001b[39m\u001b[39mNot enough samples to build a trace.\u001b[39m\u001b[39m\"\u001b[39m)\n\u001b[1;32m    603\u001b[0m idxs \u001b[39m=\u001b[39m np\u001b[39m.\u001b[39margsort(lengths)\n\u001b[1;32m    604\u001b[0m l_sort \u001b[39m=\u001b[39m np\u001b[39m.\u001b[39marray(lengths)[idxs]\n",
      "\u001b[0;31mValueError\u001b[0m: Not enough samples to build a trace."
     ]
    }
   ],
   "source": [
    "tStep1 = time.time()\n",
    "\n",
    "# We will fit a model for each subject\n",
    "with pm.Model() as model_simple:\n",
    "\n",
    "    # Hyperparameters for kappa and gamma\n",
    "    # estimated from MLE approximations : np.exp(-3.60) = 0.0273, np.sqrt(1.71)=1.308\n",
    "    mu_kappa_hyper = pm.Beta('mu_kappa_hyper',mu=np.exp(-3.60),sigma=0.01)\n",
    "    sd_kappa_hyper = pm.Normal('sd_kappa_hyper',mu=np.sqrt(1.71),sigma=0.1)\n",
    "    # estimated from MLE approximations : np.sqrt(2.30) = 1.517\n",
    "    sd_gamma_hyper = pm.Normal('sd_hyper',mu=np.sqrt(2.30),sigma=0.1)\n",
    "\n",
    "    kappa = pm.LogNormal('kappa',mu=mu_kappa_hyper,sigma=sd_kappa_hyper,shape=np.size(np.unique(subj_id)))\n",
    "    gamma = pm.HalfNormal('gamma',sigma=sd_gamma_hyper,shape=np.size(np.unique(subj_id)))\n",
    "    \n",
    "    prob = pm.Deterministic('prob', 1 / (1 + pm.math.exp(-gamma[subj_id] * ( (delay_amt**alpha[subj_id])/(1+(kappa[subj_id]*delay_wait)) \n",
    "                                                                            - (immed_amt**alpha[subj_id])/(1+(kappa[subj_id]*immed_wait)) ))))\n",
    "\n",
    "    y_1 = pm.Bernoulli('y_1',p=prob,observed=choices)\n",
    "\n",
    "    trace_prior = pm.sample(10000, tune=1000, cores=5,target_accept=0.99,progressbar=False)\n",
    "\n",
    "\n",
    "\n",
    "# This is how you get a nice array. Note that this returns a pandas DataFrame, not a numpy array. Indexing is totally different.\n",
    "summary= az.summary(trace_prior,round_to=10)\n",
    "fn = os.path.join(save_dir,'BHM_model_summary_v004.csv')\n",
    "print('Saving to : {}'.format(fn))\n",
    "summary.to_csv(fn)\n",
    "\n",
    "fn = os.path.join(save_dir,'BHM_model_trace_v004.pkl')\n",
    "print('Saving to : {}'.format(fn))\n",
    "with open(fn,'wb') as buff:\n",
    "    pickle.dump({'trace':trace_prior},buff)\n",
    "    # pm.save_trace(trace_prior,fn)\n",
    "\n",
    "print('Time to complete {} aggregate BHM : {} minutes'.format(len(subjects),(time.time() - tStep1)/60.0))\n"
   ]
  },
  {
   "cell_type": "markdown",
   "metadata": {},
   "source": [
    "### Extract parameter estimates and save\n",
    "\n",
    "We can incorporate this into the script above"
   ]
  },
  {
   "cell_type": "code",
   "execution_count": null,
   "metadata": {},
   "outputs": [
    {
     "data": {
      "text/html": [
       "<div>\n",
       "<style scoped>\n",
       "    .dataframe tbody tr th:only-of-type {\n",
       "        vertical-align: middle;\n",
       "    }\n",
       "\n",
       "    .dataframe tbody tr th {\n",
       "        vertical-align: top;\n",
       "    }\n",
       "\n",
       "    .dataframe thead th {\n",
       "        text-align: right;\n",
       "    }\n",
       "</style>\n",
       "<table border=\"1\" class=\"dataframe\">\n",
       "  <thead>\n",
       "    <tr style=\"text-align: right;\">\n",
       "      <th></th>\n",
       "      <th>kappa</th>\n",
       "      <th>gamma</th>\n",
       "      <th>subject</th>\n",
       "    </tr>\n",
       "  </thead>\n",
       "  <tbody>\n",
       "    <tr>\n",
       "      <th>0</th>\n",
       "      <td>0.006589</td>\n",
       "      <td>0.322426</td>\n",
       "      <td>23_IDM_0001</td>\n",
       "    </tr>\n",
       "    <tr>\n",
       "      <th>1</th>\n",
       "      <td>0.073521</td>\n",
       "      <td>0.189111</td>\n",
       "      <td>23_IDM_0002</td>\n",
       "    </tr>\n",
       "    <tr>\n",
       "      <th>2</th>\n",
       "      <td>0.017571</td>\n",
       "      <td>0.690407</td>\n",
       "      <td>23_IDM_0003</td>\n",
       "    </tr>\n",
       "    <tr>\n",
       "      <th>3</th>\n",
       "      <td>0.086223</td>\n",
       "      <td>0.307844</td>\n",
       "      <td>23_IDM_0004</td>\n",
       "    </tr>\n",
       "    <tr>\n",
       "      <th>4</th>\n",
       "      <td>0.008758</td>\n",
       "      <td>0.917327</td>\n",
       "      <td>23_IDM_0005</td>\n",
       "    </tr>\n",
       "    <tr>\n",
       "      <th>...</th>\n",
       "      <td>...</td>\n",
       "      <td>...</td>\n",
       "      <td>...</td>\n",
       "    </tr>\n",
       "    <tr>\n",
       "      <th>144</th>\n",
       "      <td>0.003297</td>\n",
       "      <td>0.452490</td>\n",
       "      <td>23_IDM_0145</td>\n",
       "    </tr>\n",
       "    <tr>\n",
       "      <th>145</th>\n",
       "      <td>0.000840</td>\n",
       "      <td>1.489067</td>\n",
       "      <td>23_IDM_0146</td>\n",
       "    </tr>\n",
       "    <tr>\n",
       "      <th>146</th>\n",
       "      <td>0.124497</td>\n",
       "      <td>0.360768</td>\n",
       "      <td>23_IDM_0147</td>\n",
       "    </tr>\n",
       "    <tr>\n",
       "      <th>147</th>\n",
       "      <td>0.050659</td>\n",
       "      <td>0.311055</td>\n",
       "      <td>23_IDM_0148</td>\n",
       "    </tr>\n",
       "    <tr>\n",
       "      <th>148</th>\n",
       "      <td>0.207236</td>\n",
       "      <td>0.224260</td>\n",
       "      <td>23_IDM_0149</td>\n",
       "    </tr>\n",
       "  </tbody>\n",
       "</table>\n",
       "<p>149 rows × 3 columns</p>\n",
       "</div>"
      ],
      "text/plain": [
       "        kappa     gamma      subject\n",
       "0    0.006589  0.322426  23_IDM_0001\n",
       "1    0.073521  0.189111  23_IDM_0002\n",
       "2    0.017571  0.690407  23_IDM_0003\n",
       "3    0.086223  0.307844  23_IDM_0004\n",
       "4    0.008758  0.917327  23_IDM_0005\n",
       "..        ...       ...          ...\n",
       "144  0.003297  0.452490  23_IDM_0145\n",
       "145  0.000840  1.489067  23_IDM_0146\n",
       "146  0.124497  0.360768  23_IDM_0147\n",
       "147  0.050659  0.311055  23_IDM_0148\n",
       "148  0.207236  0.224260  23_IDM_0149\n",
       "\n",
       "[149 rows x 3 columns]"
      ]
     },
     "execution_count": 17,
     "metadata": {},
     "output_type": "execute_result"
    }
   ],
   "source": [
    "def extract_mean(fn,var_names=['kappa','gamma'],subjects=[]):\n",
    "    nb_subjects = len(subjects)\n",
    "    df = pd.read_csv(fn,index_col=0)\n",
    "    df_bhm = pd.DataFrame([],columns=var_names)\n",
    "    df_bhm['subject'] = subjects\n",
    "    for var in var_names:\n",
    "        ind_list = ['{}[{}]'.format(var,sub_id) for sub_id in range(nb_subjects)]\n",
    "        df_bhm[var] = df.loc[df.index.isin(ind_list)]['mean'].reset_index(drop=True)\n",
    "    return df_bhm\n",
    "\n",
    "experiment='v004'\n",
    "bhm_dir = '/Volumes/UCDN/datasets/IDM/utility/BHM/'\n",
    "bhm_fn = os.path.join(bhm_dir,'cdd_nlh','BHM_model_summary_{}.csv'.format(experiment))\n",
    "df_bhm = extract_mean(bhm_fn,var_names=['kappa','gamma'],subjects=subjects)\n",
    "split_CDD_fn = os.path.join(bhm_dir,'split_CDD_NLH_BHM.csv')\n",
    "df_bhm.to_csv(split_CDD_fn)\n",
    "df_bhm"
   ]
  },
  {
   "cell_type": "markdown",
   "metadata": {},
   "source": [
    "### Diagnostic plots\n",
    "\n",
    "Too many subjects to run `diagnistic_plots()`  but can run them individually\n",
    "Trace, posterior, rank plots\n",
    "\n",
    "... need to figure out for each subject how to plot_pair() which plots the bivariate distirbutions\n"
   ]
  },
  {
   "cell_type": "code",
   "execution_count": null,
   "metadata": {},
   "outputs": [
    {
     "name": "stderr",
     "output_type": "stream",
     "text": [
      "The PostScript backend does not support transparency; partially transparent artists will be rendered opaque.\n"
     ]
    },
    {
     "name": "stdout",
     "output_type": "stream",
     "text": [
      "Saving diagnostic plots to bh_dir : /Volumes/UCDN/datasets/IDM/utility/23_IDM_0001/cdd/bh\n"
     ]
    },
    {
     "name": "stderr",
     "output_type": "stream",
     "text": [
      "/var/folders/ts/wpzrly5j2yxb42zf5v0w5rvh0000gs/T/ipykernel_56114/3145559249.py:33: UserWarning: This figure includes Axes that are not compatible with tight_layout, so results might be incorrect.\n",
      "  plt.tight_layout()\n",
      "The PostScript backend does not support transparency; partially transparent artists will be rendered opaque.\n"
     ]
    },
    {
     "name": "stdout",
     "output_type": "stream",
     "text": [
      "Saving diagnostic plots to bh_dir : /Volumes/UCDN/datasets/IDM/utility/23_IDM_0002/cdd/bh\n"
     ]
    },
    {
     "name": "stderr",
     "output_type": "stream",
     "text": [
      "/var/folders/ts/wpzrly5j2yxb42zf5v0w5rvh0000gs/T/ipykernel_56114/3145559249.py:33: UserWarning: This figure includes Axes that are not compatible with tight_layout, so results might be incorrect.\n",
      "  plt.tight_layout()\n",
      "The PostScript backend does not support transparency; partially transparent artists will be rendered opaque.\n"
     ]
    },
    {
     "name": "stdout",
     "output_type": "stream",
     "text": [
      "Saving diagnostic plots to bh_dir : /Volumes/UCDN/datasets/IDM/utility/23_IDM_0003/cdd/bh\n"
     ]
    },
    {
     "name": "stderr",
     "output_type": "stream",
     "text": [
      "/var/folders/ts/wpzrly5j2yxb42zf5v0w5rvh0000gs/T/ipykernel_56114/3145559249.py:33: UserWarning: This figure includes Axes that are not compatible with tight_layout, so results might be incorrect.\n",
      "  plt.tight_layout()\n",
      "The PostScript backend does not support transparency; partially transparent artists will be rendered opaque.\n"
     ]
    },
    {
     "name": "stdout",
     "output_type": "stream",
     "text": [
      "Saving diagnostic plots to bh_dir : /Volumes/UCDN/datasets/IDM/utility/23_IDM_0004/cdd/bh\n"
     ]
    },
    {
     "name": "stderr",
     "output_type": "stream",
     "text": [
      "/var/folders/ts/wpzrly5j2yxb42zf5v0w5rvh0000gs/T/ipykernel_56114/3145559249.py:33: UserWarning: This figure includes Axes that are not compatible with tight_layout, so results might be incorrect.\n",
      "  plt.tight_layout()\n",
      "The PostScript backend does not support transparency; partially transparent artists will be rendered opaque.\n"
     ]
    },
    {
     "name": "stdout",
     "output_type": "stream",
     "text": [
      "Saving diagnostic plots to bh_dir : /Volumes/UCDN/datasets/IDM/utility/23_IDM_0005/cdd/bh\n"
     ]
    },
    {
     "name": "stderr",
     "output_type": "stream",
     "text": [
      "/var/folders/ts/wpzrly5j2yxb42zf5v0w5rvh0000gs/T/ipykernel_56114/3145559249.py:33: UserWarning: This figure includes Axes that are not compatible with tight_layout, so results might be incorrect.\n",
      "  plt.tight_layout()\n",
      "The PostScript backend does not support transparency; partially transparent artists will be rendered opaque.\n"
     ]
    },
    {
     "name": "stdout",
     "output_type": "stream",
     "text": [
      "Saving diagnostic plots to bh_dir : /Volumes/UCDN/datasets/IDM/utility/23_IDM_0006/cdd/bh\n"
     ]
    },
    {
     "name": "stderr",
     "output_type": "stream",
     "text": [
      "/var/folders/ts/wpzrly5j2yxb42zf5v0w5rvh0000gs/T/ipykernel_56114/3145559249.py:33: UserWarning: This figure includes Axes that are not compatible with tight_layout, so results might be incorrect.\n",
      "  plt.tight_layout()\n",
      "The PostScript backend does not support transparency; partially transparent artists will be rendered opaque.\n"
     ]
    },
    {
     "name": "stdout",
     "output_type": "stream",
     "text": [
      "Saving diagnostic plots to bh_dir : /Volumes/UCDN/datasets/IDM/utility/23_IDM_0007/cdd/bh\n"
     ]
    },
    {
     "name": "stderr",
     "output_type": "stream",
     "text": [
      "/var/folders/ts/wpzrly5j2yxb42zf5v0w5rvh0000gs/T/ipykernel_56114/3145559249.py:33: UserWarning: This figure includes Axes that are not compatible with tight_layout, so results might be incorrect.\n",
      "  plt.tight_layout()\n",
      "The PostScript backend does not support transparency; partially transparent artists will be rendered opaque.\n"
     ]
    },
    {
     "name": "stdout",
     "output_type": "stream",
     "text": [
      "Saving diagnostic plots to bh_dir : /Volumes/UCDN/datasets/IDM/utility/23_IDM_0008/cdd/bh\n"
     ]
    },
    {
     "name": "stderr",
     "output_type": "stream",
     "text": [
      "/var/folders/ts/wpzrly5j2yxb42zf5v0w5rvh0000gs/T/ipykernel_56114/3145559249.py:33: UserWarning: This figure includes Axes that are not compatible with tight_layout, so results might be incorrect.\n",
      "  plt.tight_layout()\n",
      "The PostScript backend does not support transparency; partially transparent artists will be rendered opaque.\n"
     ]
    },
    {
     "name": "stdout",
     "output_type": "stream",
     "text": [
      "Saving diagnostic plots to bh_dir : /Volumes/UCDN/datasets/IDM/utility/23_IDM_0009/cdd/bh\n"
     ]
    },
    {
     "name": "stderr",
     "output_type": "stream",
     "text": [
      "/var/folders/ts/wpzrly5j2yxb42zf5v0w5rvh0000gs/T/ipykernel_56114/3145559249.py:33: UserWarning: This figure includes Axes that are not compatible with tight_layout, so results might be incorrect.\n",
      "  plt.tight_layout()\n",
      "The PostScript backend does not support transparency; partially transparent artists will be rendered opaque.\n"
     ]
    },
    {
     "name": "stdout",
     "output_type": "stream",
     "text": [
      "Saving diagnostic plots to bh_dir : /Volumes/UCDN/datasets/IDM/utility/23_IDM_0010/cdd/bh\n"
     ]
    },
    {
     "name": "stderr",
     "output_type": "stream",
     "text": [
      "/var/folders/ts/wpzrly5j2yxb42zf5v0w5rvh0000gs/T/ipykernel_56114/3145559249.py:33: UserWarning: This figure includes Axes that are not compatible with tight_layout, so results might be incorrect.\n",
      "  plt.tight_layout()\n",
      "The PostScript backend does not support transparency; partially transparent artists will be rendered opaque.\n"
     ]
    },
    {
     "name": "stdout",
     "output_type": "stream",
     "text": [
      "Saving diagnostic plots to bh_dir : /Volumes/UCDN/datasets/IDM/utility/23_IDM_0011/cdd/bh\n"
     ]
    },
    {
     "name": "stderr",
     "output_type": "stream",
     "text": [
      "/var/folders/ts/wpzrly5j2yxb42zf5v0w5rvh0000gs/T/ipykernel_56114/3145559249.py:33: UserWarning: This figure includes Axes that are not compatible with tight_layout, so results might be incorrect.\n",
      "  plt.tight_layout()\n",
      "The PostScript backend does not support transparency; partially transparent artists will be rendered opaque.\n"
     ]
    },
    {
     "name": "stdout",
     "output_type": "stream",
     "text": [
      "Saving diagnostic plots to bh_dir : /Volumes/UCDN/datasets/IDM/utility/23_IDM_0012/cdd/bh\n"
     ]
    },
    {
     "name": "stderr",
     "output_type": "stream",
     "text": [
      "/var/folders/ts/wpzrly5j2yxb42zf5v0w5rvh0000gs/T/ipykernel_56114/3145559249.py:33: UserWarning: This figure includes Axes that are not compatible with tight_layout, so results might be incorrect.\n",
      "  plt.tight_layout()\n",
      "The PostScript backend does not support transparency; partially transparent artists will be rendered opaque.\n"
     ]
    },
    {
     "name": "stdout",
     "output_type": "stream",
     "text": [
      "Saving diagnostic plots to bh_dir : /Volumes/UCDN/datasets/IDM/utility/23_IDM_0013/cdd/bh\n"
     ]
    },
    {
     "name": "stderr",
     "output_type": "stream",
     "text": [
      "/var/folders/ts/wpzrly5j2yxb42zf5v0w5rvh0000gs/T/ipykernel_56114/3145559249.py:33: UserWarning: This figure includes Axes that are not compatible with tight_layout, so results might be incorrect.\n",
      "  plt.tight_layout()\n",
      "The PostScript backend does not support transparency; partially transparent artists will be rendered opaque.\n"
     ]
    },
    {
     "name": "stdout",
     "output_type": "stream",
     "text": [
      "Saving diagnostic plots to bh_dir : /Volumes/UCDN/datasets/IDM/utility/23_IDM_0014/cdd/bh\n"
     ]
    },
    {
     "name": "stderr",
     "output_type": "stream",
     "text": [
      "/var/folders/ts/wpzrly5j2yxb42zf5v0w5rvh0000gs/T/ipykernel_56114/3145559249.py:33: UserWarning: This figure includes Axes that are not compatible with tight_layout, so results might be incorrect.\n",
      "  plt.tight_layout()\n",
      "The PostScript backend does not support transparency; partially transparent artists will be rendered opaque.\n"
     ]
    },
    {
     "name": "stdout",
     "output_type": "stream",
     "text": [
      "Saving diagnostic plots to bh_dir : /Volumes/UCDN/datasets/IDM/utility/23_IDM_0015/cdd/bh\n"
     ]
    },
    {
     "name": "stderr",
     "output_type": "stream",
     "text": [
      "/var/folders/ts/wpzrly5j2yxb42zf5v0w5rvh0000gs/T/ipykernel_56114/3145559249.py:33: UserWarning: This figure includes Axes that are not compatible with tight_layout, so results might be incorrect.\n",
      "  plt.tight_layout()\n",
      "The PostScript backend does not support transparency; partially transparent artists will be rendered opaque.\n"
     ]
    },
    {
     "name": "stdout",
     "output_type": "stream",
     "text": [
      "Saving diagnostic plots to bh_dir : /Volumes/UCDN/datasets/IDM/utility/23_IDM_0016/cdd/bh\n"
     ]
    },
    {
     "name": "stderr",
     "output_type": "stream",
     "text": [
      "/var/folders/ts/wpzrly5j2yxb42zf5v0w5rvh0000gs/T/ipykernel_56114/3145559249.py:33: UserWarning: This figure includes Axes that are not compatible with tight_layout, so results might be incorrect.\n",
      "  plt.tight_layout()\n",
      "The PostScript backend does not support transparency; partially transparent artists will be rendered opaque.\n"
     ]
    },
    {
     "name": "stdout",
     "output_type": "stream",
     "text": [
      "Saving diagnostic plots to bh_dir : /Volumes/UCDN/datasets/IDM/utility/23_IDM_0017/cdd/bh\n"
     ]
    },
    {
     "name": "stderr",
     "output_type": "stream",
     "text": [
      "/var/folders/ts/wpzrly5j2yxb42zf5v0w5rvh0000gs/T/ipykernel_56114/3145559249.py:33: UserWarning: This figure includes Axes that are not compatible with tight_layout, so results might be incorrect.\n",
      "  plt.tight_layout()\n",
      "The PostScript backend does not support transparency; partially transparent artists will be rendered opaque.\n"
     ]
    },
    {
     "name": "stdout",
     "output_type": "stream",
     "text": [
      "Saving diagnostic plots to bh_dir : /Volumes/UCDN/datasets/IDM/utility/23_IDM_0018/cdd/bh\n"
     ]
    },
    {
     "name": "stderr",
     "output_type": "stream",
     "text": [
      "/var/folders/ts/wpzrly5j2yxb42zf5v0w5rvh0000gs/T/ipykernel_56114/3145559249.py:33: UserWarning: This figure includes Axes that are not compatible with tight_layout, so results might be incorrect.\n",
      "  plt.tight_layout()\n",
      "The PostScript backend does not support transparency; partially transparent artists will be rendered opaque.\n"
     ]
    },
    {
     "name": "stdout",
     "output_type": "stream",
     "text": [
      "Saving diagnostic plots to bh_dir : /Volumes/UCDN/datasets/IDM/utility/23_IDM_0019/cdd/bh\n"
     ]
    },
    {
     "name": "stderr",
     "output_type": "stream",
     "text": [
      "/var/folders/ts/wpzrly5j2yxb42zf5v0w5rvh0000gs/T/ipykernel_56114/3145559249.py:33: UserWarning: This figure includes Axes that are not compatible with tight_layout, so results might be incorrect.\n",
      "  plt.tight_layout()\n",
      "The PostScript backend does not support transparency; partially transparent artists will be rendered opaque.\n"
     ]
    },
    {
     "name": "stdout",
     "output_type": "stream",
     "text": [
      "Saving diagnostic plots to bh_dir : /Volumes/UCDN/datasets/IDM/utility/23_IDM_0020/cdd/bh\n"
     ]
    },
    {
     "name": "stderr",
     "output_type": "stream",
     "text": [
      "/var/folders/ts/wpzrly5j2yxb42zf5v0w5rvh0000gs/T/ipykernel_56114/3145559249.py:33: UserWarning: This figure includes Axes that are not compatible with tight_layout, so results might be incorrect.\n",
      "  plt.tight_layout()\n",
      "The PostScript backend does not support transparency; partially transparent artists will be rendered opaque.\n"
     ]
    },
    {
     "name": "stdout",
     "output_type": "stream",
     "text": [
      "Saving diagnostic plots to bh_dir : /Volumes/UCDN/datasets/IDM/utility/23_IDM_0021/cdd/bh\n"
     ]
    },
    {
     "name": "stderr",
     "output_type": "stream",
     "text": [
      "/var/folders/ts/wpzrly5j2yxb42zf5v0w5rvh0000gs/T/ipykernel_56114/3145559249.py:33: UserWarning: This figure includes Axes that are not compatible with tight_layout, so results might be incorrect.\n",
      "  plt.tight_layout()\n",
      "The PostScript backend does not support transparency; partially transparent artists will be rendered opaque.\n"
     ]
    },
    {
     "name": "stdout",
     "output_type": "stream",
     "text": [
      "Saving diagnostic plots to bh_dir : /Volumes/UCDN/datasets/IDM/utility/23_IDM_0022/cdd/bh\n"
     ]
    },
    {
     "name": "stderr",
     "output_type": "stream",
     "text": [
      "/var/folders/ts/wpzrly5j2yxb42zf5v0w5rvh0000gs/T/ipykernel_56114/3145559249.py:33: UserWarning: This figure includes Axes that are not compatible with tight_layout, so results might be incorrect.\n",
      "  plt.tight_layout()\n",
      "The PostScript backend does not support transparency; partially transparent artists will be rendered opaque.\n"
     ]
    },
    {
     "name": "stdout",
     "output_type": "stream",
     "text": [
      "Saving diagnostic plots to bh_dir : /Volumes/UCDN/datasets/IDM/utility/23_IDM_0023/cdd/bh\n"
     ]
    },
    {
     "name": "stderr",
     "output_type": "stream",
     "text": [
      "/var/folders/ts/wpzrly5j2yxb42zf5v0w5rvh0000gs/T/ipykernel_56114/3145559249.py:33: UserWarning: This figure includes Axes that are not compatible with tight_layout, so results might be incorrect.\n",
      "  plt.tight_layout()\n",
      "The PostScript backend does not support transparency; partially transparent artists will be rendered opaque.\n"
     ]
    },
    {
     "name": "stdout",
     "output_type": "stream",
     "text": [
      "Saving diagnostic plots to bh_dir : /Volumes/UCDN/datasets/IDM/utility/23_IDM_0024/cdd/bh\n"
     ]
    },
    {
     "name": "stderr",
     "output_type": "stream",
     "text": [
      "/var/folders/ts/wpzrly5j2yxb42zf5v0w5rvh0000gs/T/ipykernel_56114/3145559249.py:33: UserWarning: This figure includes Axes that are not compatible with tight_layout, so results might be incorrect.\n",
      "  plt.tight_layout()\n",
      "The PostScript backend does not support transparency; partially transparent artists will be rendered opaque.\n"
     ]
    },
    {
     "name": "stdout",
     "output_type": "stream",
     "text": [
      "Saving diagnostic plots to bh_dir : /Volumes/UCDN/datasets/IDM/utility/23_IDM_0025/cdd/bh\n"
     ]
    },
    {
     "name": "stderr",
     "output_type": "stream",
     "text": [
      "/var/folders/ts/wpzrly5j2yxb42zf5v0w5rvh0000gs/T/ipykernel_56114/3145559249.py:33: UserWarning: This figure includes Axes that are not compatible with tight_layout, so results might be incorrect.\n",
      "  plt.tight_layout()\n",
      "The PostScript backend does not support transparency; partially transparent artists will be rendered opaque.\n"
     ]
    },
    {
     "name": "stdout",
     "output_type": "stream",
     "text": [
      "Saving diagnostic plots to bh_dir : /Volumes/UCDN/datasets/IDM/utility/23_IDM_0026/cdd/bh\n"
     ]
    },
    {
     "name": "stderr",
     "output_type": "stream",
     "text": [
      "/var/folders/ts/wpzrly5j2yxb42zf5v0w5rvh0000gs/T/ipykernel_56114/3145559249.py:33: UserWarning: This figure includes Axes that are not compatible with tight_layout, so results might be incorrect.\n",
      "  plt.tight_layout()\n",
      "The PostScript backend does not support transparency; partially transparent artists will be rendered opaque.\n"
     ]
    },
    {
     "name": "stdout",
     "output_type": "stream",
     "text": [
      "Saving diagnostic plots to bh_dir : /Volumes/UCDN/datasets/IDM/utility/23_IDM_0027/cdd/bh\n"
     ]
    },
    {
     "name": "stderr",
     "output_type": "stream",
     "text": [
      "/var/folders/ts/wpzrly5j2yxb42zf5v0w5rvh0000gs/T/ipykernel_56114/3145559249.py:33: UserWarning: This figure includes Axes that are not compatible with tight_layout, so results might be incorrect.\n",
      "  plt.tight_layout()\n",
      "The PostScript backend does not support transparency; partially transparent artists will be rendered opaque.\n"
     ]
    },
    {
     "name": "stdout",
     "output_type": "stream",
     "text": [
      "Saving diagnostic plots to bh_dir : /Volumes/UCDN/datasets/IDM/utility/23_IDM_0028/cdd/bh\n"
     ]
    },
    {
     "name": "stderr",
     "output_type": "stream",
     "text": [
      "/var/folders/ts/wpzrly5j2yxb42zf5v0w5rvh0000gs/T/ipykernel_56114/3145559249.py:33: UserWarning: This figure includes Axes that are not compatible with tight_layout, so results might be incorrect.\n",
      "  plt.tight_layout()\n",
      "The PostScript backend does not support transparency; partially transparent artists will be rendered opaque.\n"
     ]
    },
    {
     "name": "stdout",
     "output_type": "stream",
     "text": [
      "Saving diagnostic plots to bh_dir : /Volumes/UCDN/datasets/IDM/utility/23_IDM_0029/cdd/bh\n"
     ]
    },
    {
     "name": "stderr",
     "output_type": "stream",
     "text": [
      "/var/folders/ts/wpzrly5j2yxb42zf5v0w5rvh0000gs/T/ipykernel_56114/3145559249.py:33: UserWarning: This figure includes Axes that are not compatible with tight_layout, so results might be incorrect.\n",
      "  plt.tight_layout()\n",
      "The PostScript backend does not support transparency; partially transparent artists will be rendered opaque.\n"
     ]
    },
    {
     "name": "stdout",
     "output_type": "stream",
     "text": [
      "Saving diagnostic plots to bh_dir : /Volumes/UCDN/datasets/IDM/utility/23_IDM_0030/cdd/bh\n"
     ]
    },
    {
     "name": "stderr",
     "output_type": "stream",
     "text": [
      "/var/folders/ts/wpzrly5j2yxb42zf5v0w5rvh0000gs/T/ipykernel_56114/3145559249.py:33: UserWarning: This figure includes Axes that are not compatible with tight_layout, so results might be incorrect.\n",
      "  plt.tight_layout()\n",
      "The PostScript backend does not support transparency; partially transparent artists will be rendered opaque.\n"
     ]
    },
    {
     "name": "stdout",
     "output_type": "stream",
     "text": [
      "Saving diagnostic plots to bh_dir : /Volumes/UCDN/datasets/IDM/utility/23_IDM_0031/cdd/bh\n"
     ]
    },
    {
     "name": "stderr",
     "output_type": "stream",
     "text": [
      "/var/folders/ts/wpzrly5j2yxb42zf5v0w5rvh0000gs/T/ipykernel_56114/3145559249.py:33: UserWarning: This figure includes Axes that are not compatible with tight_layout, so results might be incorrect.\n",
      "  plt.tight_layout()\n",
      "The PostScript backend does not support transparency; partially transparent artists will be rendered opaque.\n"
     ]
    },
    {
     "name": "stdout",
     "output_type": "stream",
     "text": [
      "Saving diagnostic plots to bh_dir : /Volumes/UCDN/datasets/IDM/utility/23_IDM_0032/cdd/bh\n"
     ]
    },
    {
     "name": "stderr",
     "output_type": "stream",
     "text": [
      "/var/folders/ts/wpzrly5j2yxb42zf5v0w5rvh0000gs/T/ipykernel_56114/3145559249.py:33: UserWarning: This figure includes Axes that are not compatible with tight_layout, so results might be incorrect.\n",
      "  plt.tight_layout()\n",
      "The PostScript backend does not support transparency; partially transparent artists will be rendered opaque.\n"
     ]
    },
    {
     "name": "stdout",
     "output_type": "stream",
     "text": [
      "Saving diagnostic plots to bh_dir : /Volumes/UCDN/datasets/IDM/utility/23_IDM_0033/cdd/bh\n"
     ]
    },
    {
     "name": "stderr",
     "output_type": "stream",
     "text": [
      "/var/folders/ts/wpzrly5j2yxb42zf5v0w5rvh0000gs/T/ipykernel_56114/3145559249.py:33: UserWarning: This figure includes Axes that are not compatible with tight_layout, so results might be incorrect.\n",
      "  plt.tight_layout()\n",
      "The PostScript backend does not support transparency; partially transparent artists will be rendered opaque.\n"
     ]
    },
    {
     "name": "stdout",
     "output_type": "stream",
     "text": [
      "Saving diagnostic plots to bh_dir : /Volumes/UCDN/datasets/IDM/utility/23_IDM_0034/cdd/bh\n"
     ]
    },
    {
     "name": "stderr",
     "output_type": "stream",
     "text": [
      "/var/folders/ts/wpzrly5j2yxb42zf5v0w5rvh0000gs/T/ipykernel_56114/3145559249.py:33: UserWarning: This figure includes Axes that are not compatible with tight_layout, so results might be incorrect.\n",
      "  plt.tight_layout()\n",
      "The PostScript backend does not support transparency; partially transparent artists will be rendered opaque.\n"
     ]
    },
    {
     "name": "stdout",
     "output_type": "stream",
     "text": [
      "Saving diagnostic plots to bh_dir : /Volumes/UCDN/datasets/IDM/utility/23_IDM_0035/cdd/bh\n"
     ]
    },
    {
     "name": "stderr",
     "output_type": "stream",
     "text": [
      "/var/folders/ts/wpzrly5j2yxb42zf5v0w5rvh0000gs/T/ipykernel_56114/3145559249.py:33: UserWarning: This figure includes Axes that are not compatible with tight_layout, so results might be incorrect.\n",
      "  plt.tight_layout()\n",
      "The PostScript backend does not support transparency; partially transparent artists will be rendered opaque.\n"
     ]
    },
    {
     "name": "stdout",
     "output_type": "stream",
     "text": [
      "Saving diagnostic plots to bh_dir : /Volumes/UCDN/datasets/IDM/utility/23_IDM_0036/cdd/bh\n"
     ]
    },
    {
     "name": "stderr",
     "output_type": "stream",
     "text": [
      "/var/folders/ts/wpzrly5j2yxb42zf5v0w5rvh0000gs/T/ipykernel_56114/3145559249.py:33: UserWarning: This figure includes Axes that are not compatible with tight_layout, so results might be incorrect.\n",
      "  plt.tight_layout()\n",
      "The PostScript backend does not support transparency; partially transparent artists will be rendered opaque.\n"
     ]
    },
    {
     "name": "stdout",
     "output_type": "stream",
     "text": [
      "Saving diagnostic plots to bh_dir : /Volumes/UCDN/datasets/IDM/utility/23_IDM_0037/cdd/bh\n"
     ]
    },
    {
     "name": "stderr",
     "output_type": "stream",
     "text": [
      "/var/folders/ts/wpzrly5j2yxb42zf5v0w5rvh0000gs/T/ipykernel_56114/3145559249.py:33: UserWarning: This figure includes Axes that are not compatible with tight_layout, so results might be incorrect.\n",
      "  plt.tight_layout()\n",
      "The PostScript backend does not support transparency; partially transparent artists will be rendered opaque.\n"
     ]
    },
    {
     "name": "stdout",
     "output_type": "stream",
     "text": [
      "Saving diagnostic plots to bh_dir : /Volumes/UCDN/datasets/IDM/utility/23_IDM_0038/cdd/bh\n"
     ]
    },
    {
     "name": "stderr",
     "output_type": "stream",
     "text": [
      "/var/folders/ts/wpzrly5j2yxb42zf5v0w5rvh0000gs/T/ipykernel_56114/3145559249.py:33: UserWarning: This figure includes Axes that are not compatible with tight_layout, so results might be incorrect.\n",
      "  plt.tight_layout()\n",
      "The PostScript backend does not support transparency; partially transparent artists will be rendered opaque.\n"
     ]
    },
    {
     "name": "stdout",
     "output_type": "stream",
     "text": [
      "Saving diagnostic plots to bh_dir : /Volumes/UCDN/datasets/IDM/utility/23_IDM_0039/cdd/bh\n"
     ]
    },
    {
     "name": "stderr",
     "output_type": "stream",
     "text": [
      "/var/folders/ts/wpzrly5j2yxb42zf5v0w5rvh0000gs/T/ipykernel_56114/3145559249.py:33: UserWarning: This figure includes Axes that are not compatible with tight_layout, so results might be incorrect.\n",
      "  plt.tight_layout()\n",
      "The PostScript backend does not support transparency; partially transparent artists will be rendered opaque.\n"
     ]
    },
    {
     "name": "stdout",
     "output_type": "stream",
     "text": [
      "Saving diagnostic plots to bh_dir : /Volumes/UCDN/datasets/IDM/utility/23_IDM_0040/cdd/bh\n"
     ]
    },
    {
     "name": "stderr",
     "output_type": "stream",
     "text": [
      "/var/folders/ts/wpzrly5j2yxb42zf5v0w5rvh0000gs/T/ipykernel_56114/3145559249.py:33: UserWarning: This figure includes Axes that are not compatible with tight_layout, so results might be incorrect.\n",
      "  plt.tight_layout()\n",
      "The PostScript backend does not support transparency; partially transparent artists will be rendered opaque.\n"
     ]
    },
    {
     "name": "stdout",
     "output_type": "stream",
     "text": [
      "Saving diagnostic plots to bh_dir : /Volumes/UCDN/datasets/IDM/utility/23_IDM_0041/cdd/bh\n"
     ]
    },
    {
     "name": "stderr",
     "output_type": "stream",
     "text": [
      "/var/folders/ts/wpzrly5j2yxb42zf5v0w5rvh0000gs/T/ipykernel_56114/3145559249.py:33: UserWarning: This figure includes Axes that are not compatible with tight_layout, so results might be incorrect.\n",
      "  plt.tight_layout()\n",
      "The PostScript backend does not support transparency; partially transparent artists will be rendered opaque.\n"
     ]
    },
    {
     "name": "stdout",
     "output_type": "stream",
     "text": [
      "Saving diagnostic plots to bh_dir : /Volumes/UCDN/datasets/IDM/utility/23_IDM_0042/cdd/bh\n"
     ]
    },
    {
     "name": "stderr",
     "output_type": "stream",
     "text": [
      "/var/folders/ts/wpzrly5j2yxb42zf5v0w5rvh0000gs/T/ipykernel_56114/3145559249.py:33: UserWarning: This figure includes Axes that are not compatible with tight_layout, so results might be incorrect.\n",
      "  plt.tight_layout()\n",
      "The PostScript backend does not support transparency; partially transparent artists will be rendered opaque.\n"
     ]
    },
    {
     "name": "stdout",
     "output_type": "stream",
     "text": [
      "Saving diagnostic plots to bh_dir : /Volumes/UCDN/datasets/IDM/utility/23_IDM_0043/cdd/bh\n"
     ]
    },
    {
     "name": "stderr",
     "output_type": "stream",
     "text": [
      "/var/folders/ts/wpzrly5j2yxb42zf5v0w5rvh0000gs/T/ipykernel_56114/3145559249.py:33: UserWarning: This figure includes Axes that are not compatible with tight_layout, so results might be incorrect.\n",
      "  plt.tight_layout()\n",
      "The PostScript backend does not support transparency; partially transparent artists will be rendered opaque.\n"
     ]
    },
    {
     "name": "stdout",
     "output_type": "stream",
     "text": [
      "Saving diagnostic plots to bh_dir : /Volumes/UCDN/datasets/IDM/utility/23_IDM_0044/cdd/bh\n"
     ]
    },
    {
     "name": "stderr",
     "output_type": "stream",
     "text": [
      "/var/folders/ts/wpzrly5j2yxb42zf5v0w5rvh0000gs/T/ipykernel_56114/3145559249.py:33: UserWarning: This figure includes Axes that are not compatible with tight_layout, so results might be incorrect.\n",
      "  plt.tight_layout()\n",
      "The PostScript backend does not support transparency; partially transparent artists will be rendered opaque.\n"
     ]
    },
    {
     "name": "stdout",
     "output_type": "stream",
     "text": [
      "Saving diagnostic plots to bh_dir : /Volumes/UCDN/datasets/IDM/utility/23_IDM_0045/cdd/bh\n"
     ]
    },
    {
     "name": "stderr",
     "output_type": "stream",
     "text": [
      "/var/folders/ts/wpzrly5j2yxb42zf5v0w5rvh0000gs/T/ipykernel_56114/3145559249.py:33: UserWarning: This figure includes Axes that are not compatible with tight_layout, so results might be incorrect.\n",
      "  plt.tight_layout()\n",
      "The PostScript backend does not support transparency; partially transparent artists will be rendered opaque.\n"
     ]
    },
    {
     "name": "stdout",
     "output_type": "stream",
     "text": [
      "Saving diagnostic plots to bh_dir : /Volumes/UCDN/datasets/IDM/utility/23_IDM_0046/cdd/bh\n"
     ]
    },
    {
     "name": "stderr",
     "output_type": "stream",
     "text": [
      "/var/folders/ts/wpzrly5j2yxb42zf5v0w5rvh0000gs/T/ipykernel_56114/3145559249.py:33: UserWarning: This figure includes Axes that are not compatible with tight_layout, so results might be incorrect.\n",
      "  plt.tight_layout()\n",
      "The PostScript backend does not support transparency; partially transparent artists will be rendered opaque.\n"
     ]
    },
    {
     "name": "stdout",
     "output_type": "stream",
     "text": [
      "Saving diagnostic plots to bh_dir : /Volumes/UCDN/datasets/IDM/utility/23_IDM_0047/cdd/bh\n"
     ]
    },
    {
     "name": "stderr",
     "output_type": "stream",
     "text": [
      "/var/folders/ts/wpzrly5j2yxb42zf5v0w5rvh0000gs/T/ipykernel_56114/3145559249.py:33: UserWarning: This figure includes Axes that are not compatible with tight_layout, so results might be incorrect.\n",
      "  plt.tight_layout()\n",
      "The PostScript backend does not support transparency; partially transparent artists will be rendered opaque.\n"
     ]
    },
    {
     "name": "stdout",
     "output_type": "stream",
     "text": [
      "Saving diagnostic plots to bh_dir : /Volumes/UCDN/datasets/IDM/utility/23_IDM_0048/cdd/bh\n"
     ]
    },
    {
     "name": "stderr",
     "output_type": "stream",
     "text": [
      "/var/folders/ts/wpzrly5j2yxb42zf5v0w5rvh0000gs/T/ipykernel_56114/3145559249.py:33: UserWarning: This figure includes Axes that are not compatible with tight_layout, so results might be incorrect.\n",
      "  plt.tight_layout()\n",
      "The PostScript backend does not support transparency; partially transparent artists will be rendered opaque.\n"
     ]
    },
    {
     "name": "stdout",
     "output_type": "stream",
     "text": [
      "Saving diagnostic plots to bh_dir : /Volumes/UCDN/datasets/IDM/utility/23_IDM_0049/cdd/bh\n"
     ]
    },
    {
     "name": "stderr",
     "output_type": "stream",
     "text": [
      "/var/folders/ts/wpzrly5j2yxb42zf5v0w5rvh0000gs/T/ipykernel_56114/3145559249.py:33: UserWarning: This figure includes Axes that are not compatible with tight_layout, so results might be incorrect.\n",
      "  plt.tight_layout()\n",
      "The PostScript backend does not support transparency; partially transparent artists will be rendered opaque.\n"
     ]
    },
    {
     "name": "stdout",
     "output_type": "stream",
     "text": [
      "Saving diagnostic plots to bh_dir : /Volumes/UCDN/datasets/IDM/utility/23_IDM_0050/cdd/bh\n"
     ]
    },
    {
     "name": "stderr",
     "output_type": "stream",
     "text": [
      "/var/folders/ts/wpzrly5j2yxb42zf5v0w5rvh0000gs/T/ipykernel_56114/3145559249.py:33: UserWarning: This figure includes Axes that are not compatible with tight_layout, so results might be incorrect.\n",
      "  plt.tight_layout()\n",
      "The PostScript backend does not support transparency; partially transparent artists will be rendered opaque.\n"
     ]
    },
    {
     "name": "stdout",
     "output_type": "stream",
     "text": [
      "Saving diagnostic plots to bh_dir : /Volumes/UCDN/datasets/IDM/utility/23_IDM_0051/cdd/bh\n"
     ]
    },
    {
     "name": "stderr",
     "output_type": "stream",
     "text": [
      "/var/folders/ts/wpzrly5j2yxb42zf5v0w5rvh0000gs/T/ipykernel_56114/3145559249.py:33: UserWarning: This figure includes Axes that are not compatible with tight_layout, so results might be incorrect.\n",
      "  plt.tight_layout()\n",
      "The PostScript backend does not support transparency; partially transparent artists will be rendered opaque.\n"
     ]
    },
    {
     "name": "stdout",
     "output_type": "stream",
     "text": [
      "Saving diagnostic plots to bh_dir : /Volumes/UCDN/datasets/IDM/utility/23_IDM_0052/cdd/bh\n"
     ]
    },
    {
     "name": "stderr",
     "output_type": "stream",
     "text": [
      "/var/folders/ts/wpzrly5j2yxb42zf5v0w5rvh0000gs/T/ipykernel_56114/3145559249.py:33: UserWarning: This figure includes Axes that are not compatible with tight_layout, so results might be incorrect.\n",
      "  plt.tight_layout()\n",
      "The PostScript backend does not support transparency; partially transparent artists will be rendered opaque.\n"
     ]
    },
    {
     "name": "stdout",
     "output_type": "stream",
     "text": [
      "Saving diagnostic plots to bh_dir : /Volumes/UCDN/datasets/IDM/utility/23_IDM_0053/cdd/bh\n"
     ]
    },
    {
     "name": "stderr",
     "output_type": "stream",
     "text": [
      "/var/folders/ts/wpzrly5j2yxb42zf5v0w5rvh0000gs/T/ipykernel_56114/3145559249.py:33: UserWarning: This figure includes Axes that are not compatible with tight_layout, so results might be incorrect.\n",
      "  plt.tight_layout()\n",
      "The PostScript backend does not support transparency; partially transparent artists will be rendered opaque.\n"
     ]
    },
    {
     "name": "stdout",
     "output_type": "stream",
     "text": [
      "Saving diagnostic plots to bh_dir : /Volumes/UCDN/datasets/IDM/utility/23_IDM_0054/cdd/bh\n"
     ]
    },
    {
     "name": "stderr",
     "output_type": "stream",
     "text": [
      "/var/folders/ts/wpzrly5j2yxb42zf5v0w5rvh0000gs/T/ipykernel_56114/3145559249.py:33: UserWarning: This figure includes Axes that are not compatible with tight_layout, so results might be incorrect.\n",
      "  plt.tight_layout()\n",
      "The PostScript backend does not support transparency; partially transparent artists will be rendered opaque.\n"
     ]
    },
    {
     "name": "stdout",
     "output_type": "stream",
     "text": [
      "Saving diagnostic plots to bh_dir : /Volumes/UCDN/datasets/IDM/utility/23_IDM_0055/cdd/bh\n"
     ]
    },
    {
     "name": "stderr",
     "output_type": "stream",
     "text": [
      "/var/folders/ts/wpzrly5j2yxb42zf5v0w5rvh0000gs/T/ipykernel_56114/3145559249.py:33: UserWarning: This figure includes Axes that are not compatible with tight_layout, so results might be incorrect.\n",
      "  plt.tight_layout()\n",
      "The PostScript backend does not support transparency; partially transparent artists will be rendered opaque.\n"
     ]
    },
    {
     "name": "stdout",
     "output_type": "stream",
     "text": [
      "Saving diagnostic plots to bh_dir : /Volumes/UCDN/datasets/IDM/utility/23_IDM_0056/cdd/bh\n"
     ]
    },
    {
     "name": "stderr",
     "output_type": "stream",
     "text": [
      "/var/folders/ts/wpzrly5j2yxb42zf5v0w5rvh0000gs/T/ipykernel_56114/3145559249.py:33: UserWarning: This figure includes Axes that are not compatible with tight_layout, so results might be incorrect.\n",
      "  plt.tight_layout()\n",
      "The PostScript backend does not support transparency; partially transparent artists will be rendered opaque.\n"
     ]
    },
    {
     "name": "stdout",
     "output_type": "stream",
     "text": [
      "Saving diagnostic plots to bh_dir : /Volumes/UCDN/datasets/IDM/utility/23_IDM_0057/cdd/bh\n"
     ]
    },
    {
     "name": "stderr",
     "output_type": "stream",
     "text": [
      "/var/folders/ts/wpzrly5j2yxb42zf5v0w5rvh0000gs/T/ipykernel_56114/3145559249.py:33: UserWarning: This figure includes Axes that are not compatible with tight_layout, so results might be incorrect.\n",
      "  plt.tight_layout()\n",
      "The PostScript backend does not support transparency; partially transparent artists will be rendered opaque.\n"
     ]
    },
    {
     "name": "stdout",
     "output_type": "stream",
     "text": [
      "Saving diagnostic plots to bh_dir : /Volumes/UCDN/datasets/IDM/utility/23_IDM_0058/cdd/bh\n"
     ]
    },
    {
     "name": "stderr",
     "output_type": "stream",
     "text": [
      "/var/folders/ts/wpzrly5j2yxb42zf5v0w5rvh0000gs/T/ipykernel_56114/3145559249.py:33: UserWarning: This figure includes Axes that are not compatible with tight_layout, so results might be incorrect.\n",
      "  plt.tight_layout()\n",
      "The PostScript backend does not support transparency; partially transparent artists will be rendered opaque.\n"
     ]
    },
    {
     "name": "stdout",
     "output_type": "stream",
     "text": [
      "Saving diagnostic plots to bh_dir : /Volumes/UCDN/datasets/IDM/utility/23_IDM_0059/cdd/bh\n"
     ]
    },
    {
     "name": "stderr",
     "output_type": "stream",
     "text": [
      "/var/folders/ts/wpzrly5j2yxb42zf5v0w5rvh0000gs/T/ipykernel_56114/3145559249.py:33: UserWarning: This figure includes Axes that are not compatible with tight_layout, so results might be incorrect.\n",
      "  plt.tight_layout()\n",
      "The PostScript backend does not support transparency; partially transparent artists will be rendered opaque.\n"
     ]
    },
    {
     "name": "stdout",
     "output_type": "stream",
     "text": [
      "Saving diagnostic plots to bh_dir : /Volumes/UCDN/datasets/IDM/utility/23_IDM_0060/cdd/bh\n"
     ]
    },
    {
     "name": "stderr",
     "output_type": "stream",
     "text": [
      "/var/folders/ts/wpzrly5j2yxb42zf5v0w5rvh0000gs/T/ipykernel_56114/3145559249.py:33: UserWarning: This figure includes Axes that are not compatible with tight_layout, so results might be incorrect.\n",
      "  plt.tight_layout()\n",
      "The PostScript backend does not support transparency; partially transparent artists will be rendered opaque.\n"
     ]
    },
    {
     "name": "stdout",
     "output_type": "stream",
     "text": [
      "Saving diagnostic plots to bh_dir : /Volumes/UCDN/datasets/IDM/utility/23_IDM_0061/cdd/bh\n"
     ]
    },
    {
     "name": "stderr",
     "output_type": "stream",
     "text": [
      "/var/folders/ts/wpzrly5j2yxb42zf5v0w5rvh0000gs/T/ipykernel_56114/3145559249.py:33: UserWarning: This figure includes Axes that are not compatible with tight_layout, so results might be incorrect.\n",
      "  plt.tight_layout()\n",
      "The PostScript backend does not support transparency; partially transparent artists will be rendered opaque.\n"
     ]
    },
    {
     "name": "stdout",
     "output_type": "stream",
     "text": [
      "Saving diagnostic plots to bh_dir : /Volumes/UCDN/datasets/IDM/utility/23_IDM_0062/cdd/bh\n"
     ]
    },
    {
     "name": "stderr",
     "output_type": "stream",
     "text": [
      "/var/folders/ts/wpzrly5j2yxb42zf5v0w5rvh0000gs/T/ipykernel_56114/3145559249.py:33: UserWarning: This figure includes Axes that are not compatible with tight_layout, so results might be incorrect.\n",
      "  plt.tight_layout()\n",
      "The PostScript backend does not support transparency; partially transparent artists will be rendered opaque.\n"
     ]
    },
    {
     "name": "stdout",
     "output_type": "stream",
     "text": [
      "Saving diagnostic plots to bh_dir : /Volumes/UCDN/datasets/IDM/utility/23_IDM_0063/cdd/bh\n"
     ]
    },
    {
     "name": "stderr",
     "output_type": "stream",
     "text": [
      "/var/folders/ts/wpzrly5j2yxb42zf5v0w5rvh0000gs/T/ipykernel_56114/3145559249.py:33: UserWarning: This figure includes Axes that are not compatible with tight_layout, so results might be incorrect.\n",
      "  plt.tight_layout()\n",
      "The PostScript backend does not support transparency; partially transparent artists will be rendered opaque.\n"
     ]
    },
    {
     "name": "stdout",
     "output_type": "stream",
     "text": [
      "Saving diagnostic plots to bh_dir : /Volumes/UCDN/datasets/IDM/utility/23_IDM_0064/cdd/bh\n"
     ]
    },
    {
     "name": "stderr",
     "output_type": "stream",
     "text": [
      "/var/folders/ts/wpzrly5j2yxb42zf5v0w5rvh0000gs/T/ipykernel_56114/3145559249.py:33: UserWarning: This figure includes Axes that are not compatible with tight_layout, so results might be incorrect.\n",
      "  plt.tight_layout()\n",
      "The PostScript backend does not support transparency; partially transparent artists will be rendered opaque.\n"
     ]
    },
    {
     "name": "stdout",
     "output_type": "stream",
     "text": [
      "Saving diagnostic plots to bh_dir : /Volumes/UCDN/datasets/IDM/utility/23_IDM_0065/cdd/bh\n"
     ]
    },
    {
     "name": "stderr",
     "output_type": "stream",
     "text": [
      "/var/folders/ts/wpzrly5j2yxb42zf5v0w5rvh0000gs/T/ipykernel_56114/3145559249.py:33: UserWarning: This figure includes Axes that are not compatible with tight_layout, so results might be incorrect.\n",
      "  plt.tight_layout()\n",
      "The PostScript backend does not support transparency; partially transparent artists will be rendered opaque.\n"
     ]
    },
    {
     "name": "stdout",
     "output_type": "stream",
     "text": [
      "Saving diagnostic plots to bh_dir : /Volumes/UCDN/datasets/IDM/utility/23_IDM_0066/cdd/bh\n"
     ]
    },
    {
     "name": "stderr",
     "output_type": "stream",
     "text": [
      "/var/folders/ts/wpzrly5j2yxb42zf5v0w5rvh0000gs/T/ipykernel_56114/3145559249.py:33: UserWarning: This figure includes Axes that are not compatible with tight_layout, so results might be incorrect.\n",
      "  plt.tight_layout()\n",
      "The PostScript backend does not support transparency; partially transparent artists will be rendered opaque.\n"
     ]
    },
    {
     "name": "stdout",
     "output_type": "stream",
     "text": [
      "Saving diagnostic plots to bh_dir : /Volumes/UCDN/datasets/IDM/utility/23_IDM_0067/cdd/bh\n"
     ]
    },
    {
     "name": "stderr",
     "output_type": "stream",
     "text": [
      "/var/folders/ts/wpzrly5j2yxb42zf5v0w5rvh0000gs/T/ipykernel_56114/3145559249.py:33: UserWarning: This figure includes Axes that are not compatible with tight_layout, so results might be incorrect.\n",
      "  plt.tight_layout()\n",
      "The PostScript backend does not support transparency; partially transparent artists will be rendered opaque.\n"
     ]
    },
    {
     "name": "stdout",
     "output_type": "stream",
     "text": [
      "Saving diagnostic plots to bh_dir : /Volumes/UCDN/datasets/IDM/utility/23_IDM_0068/cdd/bh\n"
     ]
    },
    {
     "name": "stderr",
     "output_type": "stream",
     "text": [
      "/var/folders/ts/wpzrly5j2yxb42zf5v0w5rvh0000gs/T/ipykernel_56114/3145559249.py:33: UserWarning: This figure includes Axes that are not compatible with tight_layout, so results might be incorrect.\n",
      "  plt.tight_layout()\n",
      "The PostScript backend does not support transparency; partially transparent artists will be rendered opaque.\n"
     ]
    },
    {
     "name": "stdout",
     "output_type": "stream",
     "text": [
      "Saving diagnostic plots to bh_dir : /Volumes/UCDN/datasets/IDM/utility/23_IDM_0069/cdd/bh\n"
     ]
    },
    {
     "name": "stderr",
     "output_type": "stream",
     "text": [
      "/var/folders/ts/wpzrly5j2yxb42zf5v0w5rvh0000gs/T/ipykernel_56114/3145559249.py:33: UserWarning: This figure includes Axes that are not compatible with tight_layout, so results might be incorrect.\n",
      "  plt.tight_layout()\n",
      "The PostScript backend does not support transparency; partially transparent artists will be rendered opaque.\n"
     ]
    },
    {
     "name": "stdout",
     "output_type": "stream",
     "text": [
      "Saving diagnostic plots to bh_dir : /Volumes/UCDN/datasets/IDM/utility/23_IDM_0070/cdd/bh\n"
     ]
    },
    {
     "name": "stderr",
     "output_type": "stream",
     "text": [
      "/var/folders/ts/wpzrly5j2yxb42zf5v0w5rvh0000gs/T/ipykernel_56114/3145559249.py:33: UserWarning: This figure includes Axes that are not compatible with tight_layout, so results might be incorrect.\n",
      "  plt.tight_layout()\n",
      "The PostScript backend does not support transparency; partially transparent artists will be rendered opaque.\n"
     ]
    },
    {
     "name": "stdout",
     "output_type": "stream",
     "text": [
      "Saving diagnostic plots to bh_dir : /Volumes/UCDN/datasets/IDM/utility/23_IDM_0071/cdd/bh\n"
     ]
    },
    {
     "name": "stderr",
     "output_type": "stream",
     "text": [
      "/var/folders/ts/wpzrly5j2yxb42zf5v0w5rvh0000gs/T/ipykernel_56114/3145559249.py:33: UserWarning: This figure includes Axes that are not compatible with tight_layout, so results might be incorrect.\n",
      "  plt.tight_layout()\n",
      "The PostScript backend does not support transparency; partially transparent artists will be rendered opaque.\n"
     ]
    },
    {
     "name": "stdout",
     "output_type": "stream",
     "text": [
      "Saving diagnostic plots to bh_dir : /Volumes/UCDN/datasets/IDM/utility/23_IDM_0072/cdd/bh\n"
     ]
    },
    {
     "name": "stderr",
     "output_type": "stream",
     "text": [
      "/var/folders/ts/wpzrly5j2yxb42zf5v0w5rvh0000gs/T/ipykernel_56114/3145559249.py:33: UserWarning: This figure includes Axes that are not compatible with tight_layout, so results might be incorrect.\n",
      "  plt.tight_layout()\n",
      "The PostScript backend does not support transparency; partially transparent artists will be rendered opaque.\n"
     ]
    },
    {
     "name": "stdout",
     "output_type": "stream",
     "text": [
      "Saving diagnostic plots to bh_dir : /Volumes/UCDN/datasets/IDM/utility/23_IDM_0073/cdd/bh\n"
     ]
    },
    {
     "name": "stderr",
     "output_type": "stream",
     "text": [
      "/var/folders/ts/wpzrly5j2yxb42zf5v0w5rvh0000gs/T/ipykernel_56114/3145559249.py:33: UserWarning: This figure includes Axes that are not compatible with tight_layout, so results might be incorrect.\n",
      "  plt.tight_layout()\n",
      "The PostScript backend does not support transparency; partially transparent artists will be rendered opaque.\n"
     ]
    },
    {
     "name": "stdout",
     "output_type": "stream",
     "text": [
      "Saving diagnostic plots to bh_dir : /Volumes/UCDN/datasets/IDM/utility/23_IDM_0074/cdd/bh\n"
     ]
    },
    {
     "name": "stderr",
     "output_type": "stream",
     "text": [
      "/var/folders/ts/wpzrly5j2yxb42zf5v0w5rvh0000gs/T/ipykernel_56114/3145559249.py:33: UserWarning: This figure includes Axes that are not compatible with tight_layout, so results might be incorrect.\n",
      "  plt.tight_layout()\n",
      "The PostScript backend does not support transparency; partially transparent artists will be rendered opaque.\n"
     ]
    },
    {
     "name": "stdout",
     "output_type": "stream",
     "text": [
      "Saving diagnostic plots to bh_dir : /Volumes/UCDN/datasets/IDM/utility/23_IDM_0075/cdd/bh\n"
     ]
    },
    {
     "name": "stderr",
     "output_type": "stream",
     "text": [
      "/var/folders/ts/wpzrly5j2yxb42zf5v0w5rvh0000gs/T/ipykernel_56114/3145559249.py:33: UserWarning: This figure includes Axes that are not compatible with tight_layout, so results might be incorrect.\n",
      "  plt.tight_layout()\n",
      "The PostScript backend does not support transparency; partially transparent artists will be rendered opaque.\n"
     ]
    },
    {
     "name": "stdout",
     "output_type": "stream",
     "text": [
      "Saving diagnostic plots to bh_dir : /Volumes/UCDN/datasets/IDM/utility/23_IDM_0076/cdd/bh\n"
     ]
    },
    {
     "name": "stderr",
     "output_type": "stream",
     "text": [
      "/var/folders/ts/wpzrly5j2yxb42zf5v0w5rvh0000gs/T/ipykernel_56114/3145559249.py:33: UserWarning: This figure includes Axes that are not compatible with tight_layout, so results might be incorrect.\n",
      "  plt.tight_layout()\n",
      "The PostScript backend does not support transparency; partially transparent artists will be rendered opaque.\n"
     ]
    },
    {
     "name": "stdout",
     "output_type": "stream",
     "text": [
      "Saving diagnostic plots to bh_dir : /Volumes/UCDN/datasets/IDM/utility/23_IDM_0077/cdd/bh\n"
     ]
    },
    {
     "name": "stderr",
     "output_type": "stream",
     "text": [
      "/var/folders/ts/wpzrly5j2yxb42zf5v0w5rvh0000gs/T/ipykernel_56114/3145559249.py:33: UserWarning: This figure includes Axes that are not compatible with tight_layout, so results might be incorrect.\n",
      "  plt.tight_layout()\n",
      "The PostScript backend does not support transparency; partially transparent artists will be rendered opaque.\n"
     ]
    },
    {
     "name": "stdout",
     "output_type": "stream",
     "text": [
      "Saving diagnostic plots to bh_dir : /Volumes/UCDN/datasets/IDM/utility/23_IDM_0078/cdd/bh\n"
     ]
    },
    {
     "name": "stderr",
     "output_type": "stream",
     "text": [
      "/var/folders/ts/wpzrly5j2yxb42zf5v0w5rvh0000gs/T/ipykernel_56114/3145559249.py:33: UserWarning: This figure includes Axes that are not compatible with tight_layout, so results might be incorrect.\n",
      "  plt.tight_layout()\n",
      "The PostScript backend does not support transparency; partially transparent artists will be rendered opaque.\n"
     ]
    },
    {
     "name": "stdout",
     "output_type": "stream",
     "text": [
      "Saving diagnostic plots to bh_dir : /Volumes/UCDN/datasets/IDM/utility/23_IDM_0079/cdd/bh\n"
     ]
    },
    {
     "name": "stderr",
     "output_type": "stream",
     "text": [
      "/var/folders/ts/wpzrly5j2yxb42zf5v0w5rvh0000gs/T/ipykernel_56114/3145559249.py:33: UserWarning: This figure includes Axes that are not compatible with tight_layout, so results might be incorrect.\n",
      "  plt.tight_layout()\n",
      "The PostScript backend does not support transparency; partially transparent artists will be rendered opaque.\n"
     ]
    },
    {
     "name": "stdout",
     "output_type": "stream",
     "text": [
      "Saving diagnostic plots to bh_dir : /Volumes/UCDN/datasets/IDM/utility/23_IDM_0080/cdd/bh\n"
     ]
    },
    {
     "name": "stderr",
     "output_type": "stream",
     "text": [
      "/var/folders/ts/wpzrly5j2yxb42zf5v0w5rvh0000gs/T/ipykernel_56114/3145559249.py:33: UserWarning: This figure includes Axes that are not compatible with tight_layout, so results might be incorrect.\n",
      "  plt.tight_layout()\n",
      "The PostScript backend does not support transparency; partially transparent artists will be rendered opaque.\n"
     ]
    },
    {
     "name": "stdout",
     "output_type": "stream",
     "text": [
      "Saving diagnostic plots to bh_dir : /Volumes/UCDN/datasets/IDM/utility/23_IDM_0081/cdd/bh\n"
     ]
    },
    {
     "name": "stderr",
     "output_type": "stream",
     "text": [
      "/var/folders/ts/wpzrly5j2yxb42zf5v0w5rvh0000gs/T/ipykernel_56114/3145559249.py:33: UserWarning: This figure includes Axes that are not compatible with tight_layout, so results might be incorrect.\n",
      "  plt.tight_layout()\n",
      "The PostScript backend does not support transparency; partially transparent artists will be rendered opaque.\n"
     ]
    },
    {
     "name": "stdout",
     "output_type": "stream",
     "text": [
      "Saving diagnostic plots to bh_dir : /Volumes/UCDN/datasets/IDM/utility/23_IDM_0082/cdd/bh\n"
     ]
    },
    {
     "name": "stderr",
     "output_type": "stream",
     "text": [
      "/var/folders/ts/wpzrly5j2yxb42zf5v0w5rvh0000gs/T/ipykernel_56114/3145559249.py:33: UserWarning: This figure includes Axes that are not compatible with tight_layout, so results might be incorrect.\n",
      "  plt.tight_layout()\n",
      "The PostScript backend does not support transparency; partially transparent artists will be rendered opaque.\n"
     ]
    },
    {
     "name": "stdout",
     "output_type": "stream",
     "text": [
      "Saving diagnostic plots to bh_dir : /Volumes/UCDN/datasets/IDM/utility/23_IDM_0083/cdd/bh\n"
     ]
    },
    {
     "name": "stderr",
     "output_type": "stream",
     "text": [
      "/var/folders/ts/wpzrly5j2yxb42zf5v0w5rvh0000gs/T/ipykernel_56114/3145559249.py:33: UserWarning: This figure includes Axes that are not compatible with tight_layout, so results might be incorrect.\n",
      "  plt.tight_layout()\n",
      "The PostScript backend does not support transparency; partially transparent artists will be rendered opaque.\n"
     ]
    },
    {
     "name": "stdout",
     "output_type": "stream",
     "text": [
      "Saving diagnostic plots to bh_dir : /Volumes/UCDN/datasets/IDM/utility/23_IDM_0084/cdd/bh\n"
     ]
    },
    {
     "name": "stderr",
     "output_type": "stream",
     "text": [
      "/var/folders/ts/wpzrly5j2yxb42zf5v0w5rvh0000gs/T/ipykernel_56114/3145559249.py:33: UserWarning: This figure includes Axes that are not compatible with tight_layout, so results might be incorrect.\n",
      "  plt.tight_layout()\n",
      "The PostScript backend does not support transparency; partially transparent artists will be rendered opaque.\n"
     ]
    },
    {
     "name": "stdout",
     "output_type": "stream",
     "text": [
      "Saving diagnostic plots to bh_dir : /Volumes/UCDN/datasets/IDM/utility/23_IDM_0085/cdd/bh\n"
     ]
    },
    {
     "name": "stderr",
     "output_type": "stream",
     "text": [
      "/var/folders/ts/wpzrly5j2yxb42zf5v0w5rvh0000gs/T/ipykernel_56114/3145559249.py:33: UserWarning: This figure includes Axes that are not compatible with tight_layout, so results might be incorrect.\n",
      "  plt.tight_layout()\n",
      "The PostScript backend does not support transparency; partially transparent artists will be rendered opaque.\n"
     ]
    },
    {
     "name": "stdout",
     "output_type": "stream",
     "text": [
      "Saving diagnostic plots to bh_dir : /Volumes/UCDN/datasets/IDM/utility/23_IDM_0086/cdd/bh\n"
     ]
    },
    {
     "name": "stderr",
     "output_type": "stream",
     "text": [
      "/var/folders/ts/wpzrly5j2yxb42zf5v0w5rvh0000gs/T/ipykernel_56114/3145559249.py:33: UserWarning: This figure includes Axes that are not compatible with tight_layout, so results might be incorrect.\n",
      "  plt.tight_layout()\n",
      "The PostScript backend does not support transparency; partially transparent artists will be rendered opaque.\n"
     ]
    },
    {
     "name": "stdout",
     "output_type": "stream",
     "text": [
      "Saving diagnostic plots to bh_dir : /Volumes/UCDN/datasets/IDM/utility/23_IDM_0087/cdd/bh\n"
     ]
    },
    {
     "name": "stderr",
     "output_type": "stream",
     "text": [
      "/var/folders/ts/wpzrly5j2yxb42zf5v0w5rvh0000gs/T/ipykernel_56114/3145559249.py:33: UserWarning: This figure includes Axes that are not compatible with tight_layout, so results might be incorrect.\n",
      "  plt.tight_layout()\n",
      "The PostScript backend does not support transparency; partially transparent artists will be rendered opaque.\n"
     ]
    },
    {
     "name": "stdout",
     "output_type": "stream",
     "text": [
      "Saving diagnostic plots to bh_dir : /Volumes/UCDN/datasets/IDM/utility/23_IDM_0088/cdd/bh\n"
     ]
    },
    {
     "name": "stderr",
     "output_type": "stream",
     "text": [
      "/var/folders/ts/wpzrly5j2yxb42zf5v0w5rvh0000gs/T/ipykernel_56114/3145559249.py:33: UserWarning: This figure includes Axes that are not compatible with tight_layout, so results might be incorrect.\n",
      "  plt.tight_layout()\n",
      "The PostScript backend does not support transparency; partially transparent artists will be rendered opaque.\n"
     ]
    },
    {
     "name": "stdout",
     "output_type": "stream",
     "text": [
      "Saving diagnostic plots to bh_dir : /Volumes/UCDN/datasets/IDM/utility/23_IDM_0089/cdd/bh\n"
     ]
    },
    {
     "name": "stderr",
     "output_type": "stream",
     "text": [
      "/var/folders/ts/wpzrly5j2yxb42zf5v0w5rvh0000gs/T/ipykernel_56114/3145559249.py:33: UserWarning: This figure includes Axes that are not compatible with tight_layout, so results might be incorrect.\n",
      "  plt.tight_layout()\n",
      "The PostScript backend does not support transparency; partially transparent artists will be rendered opaque.\n"
     ]
    },
    {
     "name": "stdout",
     "output_type": "stream",
     "text": [
      "Saving diagnostic plots to bh_dir : /Volumes/UCDN/datasets/IDM/utility/23_IDM_0090/cdd/bh\n"
     ]
    },
    {
     "name": "stderr",
     "output_type": "stream",
     "text": [
      "/var/folders/ts/wpzrly5j2yxb42zf5v0w5rvh0000gs/T/ipykernel_56114/3145559249.py:33: UserWarning: This figure includes Axes that are not compatible with tight_layout, so results might be incorrect.\n",
      "  plt.tight_layout()\n",
      "The PostScript backend does not support transparency; partially transparent artists will be rendered opaque.\n"
     ]
    },
    {
     "name": "stdout",
     "output_type": "stream",
     "text": [
      "Saving diagnostic plots to bh_dir : /Volumes/UCDN/datasets/IDM/utility/23_IDM_0091/cdd/bh\n"
     ]
    },
    {
     "name": "stderr",
     "output_type": "stream",
     "text": [
      "/var/folders/ts/wpzrly5j2yxb42zf5v0w5rvh0000gs/T/ipykernel_56114/3145559249.py:33: UserWarning: This figure includes Axes that are not compatible with tight_layout, so results might be incorrect.\n",
      "  plt.tight_layout()\n",
      "The PostScript backend does not support transparency; partially transparent artists will be rendered opaque.\n"
     ]
    },
    {
     "name": "stdout",
     "output_type": "stream",
     "text": [
      "Saving diagnostic plots to bh_dir : /Volumes/UCDN/datasets/IDM/utility/23_IDM_0092/cdd/bh\n"
     ]
    },
    {
     "name": "stderr",
     "output_type": "stream",
     "text": [
      "/var/folders/ts/wpzrly5j2yxb42zf5v0w5rvh0000gs/T/ipykernel_56114/3145559249.py:33: UserWarning: This figure includes Axes that are not compatible with tight_layout, so results might be incorrect.\n",
      "  plt.tight_layout()\n",
      "The PostScript backend does not support transparency; partially transparent artists will be rendered opaque.\n"
     ]
    },
    {
     "name": "stdout",
     "output_type": "stream",
     "text": [
      "Saving diagnostic plots to bh_dir : /Volumes/UCDN/datasets/IDM/utility/23_IDM_0093/cdd/bh\n"
     ]
    },
    {
     "name": "stderr",
     "output_type": "stream",
     "text": [
      "/var/folders/ts/wpzrly5j2yxb42zf5v0w5rvh0000gs/T/ipykernel_56114/3145559249.py:33: UserWarning: This figure includes Axes that are not compatible with tight_layout, so results might be incorrect.\n",
      "  plt.tight_layout()\n",
      "The PostScript backend does not support transparency; partially transparent artists will be rendered opaque.\n"
     ]
    },
    {
     "name": "stdout",
     "output_type": "stream",
     "text": [
      "Saving diagnostic plots to bh_dir : /Volumes/UCDN/datasets/IDM/utility/23_IDM_0094/cdd/bh\n"
     ]
    },
    {
     "name": "stderr",
     "output_type": "stream",
     "text": [
      "/var/folders/ts/wpzrly5j2yxb42zf5v0w5rvh0000gs/T/ipykernel_56114/3145559249.py:33: UserWarning: This figure includes Axes that are not compatible with tight_layout, so results might be incorrect.\n",
      "  plt.tight_layout()\n",
      "The PostScript backend does not support transparency; partially transparent artists will be rendered opaque.\n"
     ]
    },
    {
     "name": "stdout",
     "output_type": "stream",
     "text": [
      "Saving diagnostic plots to bh_dir : /Volumes/UCDN/datasets/IDM/utility/23_IDM_0095/cdd/bh\n"
     ]
    },
    {
     "name": "stderr",
     "output_type": "stream",
     "text": [
      "/var/folders/ts/wpzrly5j2yxb42zf5v0w5rvh0000gs/T/ipykernel_56114/3145559249.py:33: UserWarning: This figure includes Axes that are not compatible with tight_layout, so results might be incorrect.\n",
      "  plt.tight_layout()\n",
      "The PostScript backend does not support transparency; partially transparent artists will be rendered opaque.\n"
     ]
    },
    {
     "name": "stdout",
     "output_type": "stream",
     "text": [
      "Saving diagnostic plots to bh_dir : /Volumes/UCDN/datasets/IDM/utility/23_IDM_0096/cdd/bh\n"
     ]
    },
    {
     "name": "stderr",
     "output_type": "stream",
     "text": [
      "/var/folders/ts/wpzrly5j2yxb42zf5v0w5rvh0000gs/T/ipykernel_56114/3145559249.py:33: UserWarning: This figure includes Axes that are not compatible with tight_layout, so results might be incorrect.\n",
      "  plt.tight_layout()\n",
      "The PostScript backend does not support transparency; partially transparent artists will be rendered opaque.\n"
     ]
    },
    {
     "name": "stdout",
     "output_type": "stream",
     "text": [
      "Saving diagnostic plots to bh_dir : /Volumes/UCDN/datasets/IDM/utility/23_IDM_0097/cdd/bh\n"
     ]
    },
    {
     "name": "stderr",
     "output_type": "stream",
     "text": [
      "/var/folders/ts/wpzrly5j2yxb42zf5v0w5rvh0000gs/T/ipykernel_56114/3145559249.py:33: UserWarning: This figure includes Axes that are not compatible with tight_layout, so results might be incorrect.\n",
      "  plt.tight_layout()\n",
      "The PostScript backend does not support transparency; partially transparent artists will be rendered opaque.\n"
     ]
    },
    {
     "name": "stdout",
     "output_type": "stream",
     "text": [
      "Saving diagnostic plots to bh_dir : /Volumes/UCDN/datasets/IDM/utility/23_IDM_0098/cdd/bh\n"
     ]
    },
    {
     "name": "stderr",
     "output_type": "stream",
     "text": [
      "/var/folders/ts/wpzrly5j2yxb42zf5v0w5rvh0000gs/T/ipykernel_56114/3145559249.py:33: UserWarning: This figure includes Axes that are not compatible with tight_layout, so results might be incorrect.\n",
      "  plt.tight_layout()\n",
      "The PostScript backend does not support transparency; partially transparent artists will be rendered opaque.\n"
     ]
    },
    {
     "name": "stdout",
     "output_type": "stream",
     "text": [
      "Saving diagnostic plots to bh_dir : /Volumes/UCDN/datasets/IDM/utility/23_IDM_0099/cdd/bh\n"
     ]
    },
    {
     "name": "stderr",
     "output_type": "stream",
     "text": [
      "/var/folders/ts/wpzrly5j2yxb42zf5v0w5rvh0000gs/T/ipykernel_56114/3145559249.py:33: UserWarning: This figure includes Axes that are not compatible with tight_layout, so results might be incorrect.\n",
      "  plt.tight_layout()\n",
      "The PostScript backend does not support transparency; partially transparent artists will be rendered opaque.\n"
     ]
    },
    {
     "name": "stdout",
     "output_type": "stream",
     "text": [
      "Saving diagnostic plots to bh_dir : /Volumes/UCDN/datasets/IDM/utility/23_IDM_0100/cdd/bh\n"
     ]
    },
    {
     "name": "stderr",
     "output_type": "stream",
     "text": [
      "/var/folders/ts/wpzrly5j2yxb42zf5v0w5rvh0000gs/T/ipykernel_56114/3145559249.py:33: UserWarning: This figure includes Axes that are not compatible with tight_layout, so results might be incorrect.\n",
      "  plt.tight_layout()\n",
      "The PostScript backend does not support transparency; partially transparent artists will be rendered opaque.\n"
     ]
    },
    {
     "name": "stdout",
     "output_type": "stream",
     "text": [
      "Saving diagnostic plots to bh_dir : /Volumes/UCDN/datasets/IDM/utility/23_IDM_0101/cdd/bh\n"
     ]
    },
    {
     "name": "stderr",
     "output_type": "stream",
     "text": [
      "/var/folders/ts/wpzrly5j2yxb42zf5v0w5rvh0000gs/T/ipykernel_56114/3145559249.py:33: UserWarning: This figure includes Axes that are not compatible with tight_layout, so results might be incorrect.\n",
      "  plt.tight_layout()\n",
      "The PostScript backend does not support transparency; partially transparent artists will be rendered opaque.\n"
     ]
    },
    {
     "name": "stdout",
     "output_type": "stream",
     "text": [
      "Saving diagnostic plots to bh_dir : /Volumes/UCDN/datasets/IDM/utility/23_IDM_0102/cdd/bh\n"
     ]
    },
    {
     "name": "stderr",
     "output_type": "stream",
     "text": [
      "/var/folders/ts/wpzrly5j2yxb42zf5v0w5rvh0000gs/T/ipykernel_56114/3145559249.py:33: UserWarning: This figure includes Axes that are not compatible with tight_layout, so results might be incorrect.\n",
      "  plt.tight_layout()\n",
      "The PostScript backend does not support transparency; partially transparent artists will be rendered opaque.\n"
     ]
    },
    {
     "name": "stdout",
     "output_type": "stream",
     "text": [
      "Saving diagnostic plots to bh_dir : /Volumes/UCDN/datasets/IDM/utility/23_IDM_0103/cdd/bh\n"
     ]
    },
    {
     "name": "stderr",
     "output_type": "stream",
     "text": [
      "/var/folders/ts/wpzrly5j2yxb42zf5v0w5rvh0000gs/T/ipykernel_56114/3145559249.py:33: UserWarning: This figure includes Axes that are not compatible with tight_layout, so results might be incorrect.\n",
      "  plt.tight_layout()\n",
      "The PostScript backend does not support transparency; partially transparent artists will be rendered opaque.\n"
     ]
    },
    {
     "name": "stdout",
     "output_type": "stream",
     "text": [
      "Saving diagnostic plots to bh_dir : /Volumes/UCDN/datasets/IDM/utility/23_IDM_0104/cdd/bh\n"
     ]
    },
    {
     "name": "stderr",
     "output_type": "stream",
     "text": [
      "/var/folders/ts/wpzrly5j2yxb42zf5v0w5rvh0000gs/T/ipykernel_56114/3145559249.py:33: UserWarning: This figure includes Axes that are not compatible with tight_layout, so results might be incorrect.\n",
      "  plt.tight_layout()\n",
      "The PostScript backend does not support transparency; partially transparent artists will be rendered opaque.\n"
     ]
    },
    {
     "name": "stdout",
     "output_type": "stream",
     "text": [
      "Saving diagnostic plots to bh_dir : /Volumes/UCDN/datasets/IDM/utility/23_IDM_0105/cdd/bh\n"
     ]
    },
    {
     "name": "stderr",
     "output_type": "stream",
     "text": [
      "/var/folders/ts/wpzrly5j2yxb42zf5v0w5rvh0000gs/T/ipykernel_56114/3145559249.py:33: UserWarning: This figure includes Axes that are not compatible with tight_layout, so results might be incorrect.\n",
      "  plt.tight_layout()\n",
      "The PostScript backend does not support transparency; partially transparent artists will be rendered opaque.\n"
     ]
    },
    {
     "name": "stdout",
     "output_type": "stream",
     "text": [
      "Saving diagnostic plots to bh_dir : /Volumes/UCDN/datasets/IDM/utility/23_IDM_0106/cdd/bh\n"
     ]
    },
    {
     "name": "stderr",
     "output_type": "stream",
     "text": [
      "/var/folders/ts/wpzrly5j2yxb42zf5v0w5rvh0000gs/T/ipykernel_56114/3145559249.py:33: UserWarning: This figure includes Axes that are not compatible with tight_layout, so results might be incorrect.\n",
      "  plt.tight_layout()\n",
      "The PostScript backend does not support transparency; partially transparent artists will be rendered opaque.\n"
     ]
    },
    {
     "name": "stdout",
     "output_type": "stream",
     "text": [
      "Saving diagnostic plots to bh_dir : /Volumes/UCDN/datasets/IDM/utility/23_IDM_0107/cdd/bh\n"
     ]
    },
    {
     "name": "stderr",
     "output_type": "stream",
     "text": [
      "/var/folders/ts/wpzrly5j2yxb42zf5v0w5rvh0000gs/T/ipykernel_56114/3145559249.py:33: UserWarning: This figure includes Axes that are not compatible with tight_layout, so results might be incorrect.\n",
      "  plt.tight_layout()\n",
      "The PostScript backend does not support transparency; partially transparent artists will be rendered opaque.\n"
     ]
    },
    {
     "name": "stdout",
     "output_type": "stream",
     "text": [
      "Saving diagnostic plots to bh_dir : /Volumes/UCDN/datasets/IDM/utility/23_IDM_0108/cdd/bh\n"
     ]
    },
    {
     "name": "stderr",
     "output_type": "stream",
     "text": [
      "/var/folders/ts/wpzrly5j2yxb42zf5v0w5rvh0000gs/T/ipykernel_56114/3145559249.py:33: UserWarning: This figure includes Axes that are not compatible with tight_layout, so results might be incorrect.\n",
      "  plt.tight_layout()\n",
      "The PostScript backend does not support transparency; partially transparent artists will be rendered opaque.\n"
     ]
    },
    {
     "name": "stdout",
     "output_type": "stream",
     "text": [
      "Saving diagnostic plots to bh_dir : /Volumes/UCDN/datasets/IDM/utility/23_IDM_0109/cdd/bh\n"
     ]
    },
    {
     "name": "stderr",
     "output_type": "stream",
     "text": [
      "/var/folders/ts/wpzrly5j2yxb42zf5v0w5rvh0000gs/T/ipykernel_56114/3145559249.py:33: UserWarning: This figure includes Axes that are not compatible with tight_layout, so results might be incorrect.\n",
      "  plt.tight_layout()\n",
      "The PostScript backend does not support transparency; partially transparent artists will be rendered opaque.\n"
     ]
    },
    {
     "name": "stdout",
     "output_type": "stream",
     "text": [
      "Saving diagnostic plots to bh_dir : /Volumes/UCDN/datasets/IDM/utility/23_IDM_0110/cdd/bh\n"
     ]
    },
    {
     "name": "stderr",
     "output_type": "stream",
     "text": [
      "/var/folders/ts/wpzrly5j2yxb42zf5v0w5rvh0000gs/T/ipykernel_56114/3145559249.py:33: UserWarning: This figure includes Axes that are not compatible with tight_layout, so results might be incorrect.\n",
      "  plt.tight_layout()\n",
      "The PostScript backend does not support transparency; partially transparent artists will be rendered opaque.\n"
     ]
    },
    {
     "name": "stdout",
     "output_type": "stream",
     "text": [
      "Saving diagnostic plots to bh_dir : /Volumes/UCDN/datasets/IDM/utility/23_IDM_0111/cdd/bh\n"
     ]
    },
    {
     "name": "stderr",
     "output_type": "stream",
     "text": [
      "/var/folders/ts/wpzrly5j2yxb42zf5v0w5rvh0000gs/T/ipykernel_56114/3145559249.py:33: UserWarning: This figure includes Axes that are not compatible with tight_layout, so results might be incorrect.\n",
      "  plt.tight_layout()\n",
      "The PostScript backend does not support transparency; partially transparent artists will be rendered opaque.\n"
     ]
    },
    {
     "name": "stdout",
     "output_type": "stream",
     "text": [
      "Saving diagnostic plots to bh_dir : /Volumes/UCDN/datasets/IDM/utility/23_IDM_0112/cdd/bh\n"
     ]
    },
    {
     "name": "stderr",
     "output_type": "stream",
     "text": [
      "/var/folders/ts/wpzrly5j2yxb42zf5v0w5rvh0000gs/T/ipykernel_56114/3145559249.py:33: UserWarning: This figure includes Axes that are not compatible with tight_layout, so results might be incorrect.\n",
      "  plt.tight_layout()\n",
      "The PostScript backend does not support transparency; partially transparent artists will be rendered opaque.\n"
     ]
    },
    {
     "name": "stdout",
     "output_type": "stream",
     "text": [
      "Saving diagnostic plots to bh_dir : /Volumes/UCDN/datasets/IDM/utility/23_IDM_0113/cdd/bh\n"
     ]
    },
    {
     "name": "stderr",
     "output_type": "stream",
     "text": [
      "/var/folders/ts/wpzrly5j2yxb42zf5v0w5rvh0000gs/T/ipykernel_56114/3145559249.py:33: UserWarning: This figure includes Axes that are not compatible with tight_layout, so results might be incorrect.\n",
      "  plt.tight_layout()\n",
      "The PostScript backend does not support transparency; partially transparent artists will be rendered opaque.\n"
     ]
    },
    {
     "name": "stdout",
     "output_type": "stream",
     "text": [
      "Saving diagnostic plots to bh_dir : /Volumes/UCDN/datasets/IDM/utility/23_IDM_0114/cdd/bh\n"
     ]
    },
    {
     "name": "stderr",
     "output_type": "stream",
     "text": [
      "/var/folders/ts/wpzrly5j2yxb42zf5v0w5rvh0000gs/T/ipykernel_56114/3145559249.py:33: UserWarning: This figure includes Axes that are not compatible with tight_layout, so results might be incorrect.\n",
      "  plt.tight_layout()\n",
      "The PostScript backend does not support transparency; partially transparent artists will be rendered opaque.\n"
     ]
    },
    {
     "name": "stdout",
     "output_type": "stream",
     "text": [
      "Saving diagnostic plots to bh_dir : /Volumes/UCDN/datasets/IDM/utility/23_IDM_0115/cdd/bh\n"
     ]
    },
    {
     "name": "stderr",
     "output_type": "stream",
     "text": [
      "/var/folders/ts/wpzrly5j2yxb42zf5v0w5rvh0000gs/T/ipykernel_56114/3145559249.py:33: UserWarning: This figure includes Axes that are not compatible with tight_layout, so results might be incorrect.\n",
      "  plt.tight_layout()\n",
      "The PostScript backend does not support transparency; partially transparent artists will be rendered opaque.\n"
     ]
    },
    {
     "name": "stdout",
     "output_type": "stream",
     "text": [
      "Saving diagnostic plots to bh_dir : /Volumes/UCDN/datasets/IDM/utility/23_IDM_0116/cdd/bh\n"
     ]
    },
    {
     "name": "stderr",
     "output_type": "stream",
     "text": [
      "/var/folders/ts/wpzrly5j2yxb42zf5v0w5rvh0000gs/T/ipykernel_56114/3145559249.py:33: UserWarning: This figure includes Axes that are not compatible with tight_layout, so results might be incorrect.\n",
      "  plt.tight_layout()\n",
      "The PostScript backend does not support transparency; partially transparent artists will be rendered opaque.\n"
     ]
    },
    {
     "name": "stdout",
     "output_type": "stream",
     "text": [
      "Saving diagnostic plots to bh_dir : /Volumes/UCDN/datasets/IDM/utility/23_IDM_0117/cdd/bh\n"
     ]
    },
    {
     "name": "stderr",
     "output_type": "stream",
     "text": [
      "/var/folders/ts/wpzrly5j2yxb42zf5v0w5rvh0000gs/T/ipykernel_56114/3145559249.py:33: UserWarning: This figure includes Axes that are not compatible with tight_layout, so results might be incorrect.\n",
      "  plt.tight_layout()\n",
      "The PostScript backend does not support transparency; partially transparent artists will be rendered opaque.\n"
     ]
    },
    {
     "name": "stdout",
     "output_type": "stream",
     "text": [
      "Saving diagnostic plots to bh_dir : /Volumes/UCDN/datasets/IDM/utility/23_IDM_0118/cdd/bh\n"
     ]
    },
    {
     "name": "stderr",
     "output_type": "stream",
     "text": [
      "/var/folders/ts/wpzrly5j2yxb42zf5v0w5rvh0000gs/T/ipykernel_56114/3145559249.py:33: UserWarning: This figure includes Axes that are not compatible with tight_layout, so results might be incorrect.\n",
      "  plt.tight_layout()\n",
      "The PostScript backend does not support transparency; partially transparent artists will be rendered opaque.\n"
     ]
    },
    {
     "name": "stdout",
     "output_type": "stream",
     "text": [
      "Saving diagnostic plots to bh_dir : /Volumes/UCDN/datasets/IDM/utility/23_IDM_0119/cdd/bh\n"
     ]
    },
    {
     "name": "stderr",
     "output_type": "stream",
     "text": [
      "/var/folders/ts/wpzrly5j2yxb42zf5v0w5rvh0000gs/T/ipykernel_56114/3145559249.py:33: UserWarning: This figure includes Axes that are not compatible with tight_layout, so results might be incorrect.\n",
      "  plt.tight_layout()\n",
      "The PostScript backend does not support transparency; partially transparent artists will be rendered opaque.\n"
     ]
    },
    {
     "name": "stdout",
     "output_type": "stream",
     "text": [
      "Saving diagnostic plots to bh_dir : /Volumes/UCDN/datasets/IDM/utility/23_IDM_0120/cdd/bh\n"
     ]
    },
    {
     "name": "stderr",
     "output_type": "stream",
     "text": [
      "/var/folders/ts/wpzrly5j2yxb42zf5v0w5rvh0000gs/T/ipykernel_56114/3145559249.py:33: UserWarning: This figure includes Axes that are not compatible with tight_layout, so results might be incorrect.\n",
      "  plt.tight_layout()\n",
      "The PostScript backend does not support transparency; partially transparent artists will be rendered opaque.\n"
     ]
    },
    {
     "name": "stdout",
     "output_type": "stream",
     "text": [
      "Saving diagnostic plots to bh_dir : /Volumes/UCDN/datasets/IDM/utility/23_IDM_0121/cdd/bh\n"
     ]
    },
    {
     "name": "stderr",
     "output_type": "stream",
     "text": [
      "/var/folders/ts/wpzrly5j2yxb42zf5v0w5rvh0000gs/T/ipykernel_56114/3145559249.py:33: UserWarning: This figure includes Axes that are not compatible with tight_layout, so results might be incorrect.\n",
      "  plt.tight_layout()\n",
      "The PostScript backend does not support transparency; partially transparent artists will be rendered opaque.\n"
     ]
    },
    {
     "name": "stdout",
     "output_type": "stream",
     "text": [
      "Saving diagnostic plots to bh_dir : /Volumes/UCDN/datasets/IDM/utility/23_IDM_0122/cdd/bh\n"
     ]
    },
    {
     "name": "stderr",
     "output_type": "stream",
     "text": [
      "/var/folders/ts/wpzrly5j2yxb42zf5v0w5rvh0000gs/T/ipykernel_56114/3145559249.py:33: UserWarning: This figure includes Axes that are not compatible with tight_layout, so results might be incorrect.\n",
      "  plt.tight_layout()\n",
      "The PostScript backend does not support transparency; partially transparent artists will be rendered opaque.\n"
     ]
    },
    {
     "name": "stdout",
     "output_type": "stream",
     "text": [
      "Saving diagnostic plots to bh_dir : /Volumes/UCDN/datasets/IDM/utility/23_IDM_0123/cdd/bh\n"
     ]
    },
    {
     "name": "stderr",
     "output_type": "stream",
     "text": [
      "/var/folders/ts/wpzrly5j2yxb42zf5v0w5rvh0000gs/T/ipykernel_56114/3145559249.py:33: UserWarning: This figure includes Axes that are not compatible with tight_layout, so results might be incorrect.\n",
      "  plt.tight_layout()\n",
      "The PostScript backend does not support transparency; partially transparent artists will be rendered opaque.\n"
     ]
    },
    {
     "name": "stdout",
     "output_type": "stream",
     "text": [
      "Saving diagnostic plots to bh_dir : /Volumes/UCDN/datasets/IDM/utility/23_IDM_0124/cdd/bh\n"
     ]
    },
    {
     "name": "stderr",
     "output_type": "stream",
     "text": [
      "/var/folders/ts/wpzrly5j2yxb42zf5v0w5rvh0000gs/T/ipykernel_56114/3145559249.py:33: UserWarning: This figure includes Axes that are not compatible with tight_layout, so results might be incorrect.\n",
      "  plt.tight_layout()\n",
      "The PostScript backend does not support transparency; partially transparent artists will be rendered opaque.\n"
     ]
    },
    {
     "name": "stdout",
     "output_type": "stream",
     "text": [
      "Saving diagnostic plots to bh_dir : /Volumes/UCDN/datasets/IDM/utility/23_IDM_0125/cdd/bh\n"
     ]
    },
    {
     "name": "stderr",
     "output_type": "stream",
     "text": [
      "/var/folders/ts/wpzrly5j2yxb42zf5v0w5rvh0000gs/T/ipykernel_56114/3145559249.py:33: UserWarning: This figure includes Axes that are not compatible with tight_layout, so results might be incorrect.\n",
      "  plt.tight_layout()\n",
      "The PostScript backend does not support transparency; partially transparent artists will be rendered opaque.\n"
     ]
    },
    {
     "name": "stdout",
     "output_type": "stream",
     "text": [
      "Saving diagnostic plots to bh_dir : /Volumes/UCDN/datasets/IDM/utility/23_IDM_0126/cdd/bh\n"
     ]
    },
    {
     "name": "stderr",
     "output_type": "stream",
     "text": [
      "/var/folders/ts/wpzrly5j2yxb42zf5v0w5rvh0000gs/T/ipykernel_56114/3145559249.py:33: UserWarning: This figure includes Axes that are not compatible with tight_layout, so results might be incorrect.\n",
      "  plt.tight_layout()\n",
      "The PostScript backend does not support transparency; partially transparent artists will be rendered opaque.\n"
     ]
    },
    {
     "name": "stdout",
     "output_type": "stream",
     "text": [
      "Saving diagnostic plots to bh_dir : /Volumes/UCDN/datasets/IDM/utility/23_IDM_0127/cdd/bh\n"
     ]
    },
    {
     "name": "stderr",
     "output_type": "stream",
     "text": [
      "/var/folders/ts/wpzrly5j2yxb42zf5v0w5rvh0000gs/T/ipykernel_56114/3145559249.py:33: UserWarning: This figure includes Axes that are not compatible with tight_layout, so results might be incorrect.\n",
      "  plt.tight_layout()\n",
      "The PostScript backend does not support transparency; partially transparent artists will be rendered opaque.\n"
     ]
    },
    {
     "name": "stdout",
     "output_type": "stream",
     "text": [
      "Saving diagnostic plots to bh_dir : /Volumes/UCDN/datasets/IDM/utility/23_IDM_0128/cdd/bh\n"
     ]
    },
    {
     "name": "stderr",
     "output_type": "stream",
     "text": [
      "/var/folders/ts/wpzrly5j2yxb42zf5v0w5rvh0000gs/T/ipykernel_56114/3145559249.py:33: UserWarning: This figure includes Axes that are not compatible with tight_layout, so results might be incorrect.\n",
      "  plt.tight_layout()\n",
      "The PostScript backend does not support transparency; partially transparent artists will be rendered opaque.\n"
     ]
    },
    {
     "name": "stdout",
     "output_type": "stream",
     "text": [
      "Saving diagnostic plots to bh_dir : /Volumes/UCDN/datasets/IDM/utility/23_IDM_0129/cdd/bh\n"
     ]
    },
    {
     "name": "stderr",
     "output_type": "stream",
     "text": [
      "/var/folders/ts/wpzrly5j2yxb42zf5v0w5rvh0000gs/T/ipykernel_56114/3145559249.py:33: UserWarning: This figure includes Axes that are not compatible with tight_layout, so results might be incorrect.\n",
      "  plt.tight_layout()\n",
      "The PostScript backend does not support transparency; partially transparent artists will be rendered opaque.\n"
     ]
    },
    {
     "name": "stdout",
     "output_type": "stream",
     "text": [
      "Saving diagnostic plots to bh_dir : /Volumes/UCDN/datasets/IDM/utility/23_IDM_0130/cdd/bh\n"
     ]
    },
    {
     "name": "stderr",
     "output_type": "stream",
     "text": [
      "/var/folders/ts/wpzrly5j2yxb42zf5v0w5rvh0000gs/T/ipykernel_56114/3145559249.py:33: UserWarning: This figure includes Axes that are not compatible with tight_layout, so results might be incorrect.\n",
      "  plt.tight_layout()\n",
      "The PostScript backend does not support transparency; partially transparent artists will be rendered opaque.\n"
     ]
    },
    {
     "name": "stdout",
     "output_type": "stream",
     "text": [
      "Saving diagnostic plots to bh_dir : /Volumes/UCDN/datasets/IDM/utility/23_IDM_0131/cdd/bh\n"
     ]
    },
    {
     "name": "stderr",
     "output_type": "stream",
     "text": [
      "/var/folders/ts/wpzrly5j2yxb42zf5v0w5rvh0000gs/T/ipykernel_56114/3145559249.py:33: UserWarning: This figure includes Axes that are not compatible with tight_layout, so results might be incorrect.\n",
      "  plt.tight_layout()\n",
      "The PostScript backend does not support transparency; partially transparent artists will be rendered opaque.\n"
     ]
    },
    {
     "name": "stdout",
     "output_type": "stream",
     "text": [
      "Saving diagnostic plots to bh_dir : /Volumes/UCDN/datasets/IDM/utility/23_IDM_0132/cdd/bh\n"
     ]
    },
    {
     "name": "stderr",
     "output_type": "stream",
     "text": [
      "/var/folders/ts/wpzrly5j2yxb42zf5v0w5rvh0000gs/T/ipykernel_56114/3145559249.py:33: UserWarning: This figure includes Axes that are not compatible with tight_layout, so results might be incorrect.\n",
      "  plt.tight_layout()\n",
      "The PostScript backend does not support transparency; partially transparent artists will be rendered opaque.\n"
     ]
    },
    {
     "name": "stdout",
     "output_type": "stream",
     "text": [
      "Saving diagnostic plots to bh_dir : /Volumes/UCDN/datasets/IDM/utility/23_IDM_0133/cdd/bh\n"
     ]
    },
    {
     "name": "stderr",
     "output_type": "stream",
     "text": [
      "/var/folders/ts/wpzrly5j2yxb42zf5v0w5rvh0000gs/T/ipykernel_56114/3145559249.py:33: UserWarning: This figure includes Axes that are not compatible with tight_layout, so results might be incorrect.\n",
      "  plt.tight_layout()\n",
      "The PostScript backend does not support transparency; partially transparent artists will be rendered opaque.\n"
     ]
    },
    {
     "name": "stdout",
     "output_type": "stream",
     "text": [
      "Saving diagnostic plots to bh_dir : /Volumes/UCDN/datasets/IDM/utility/23_IDM_0134/cdd/bh\n"
     ]
    },
    {
     "name": "stderr",
     "output_type": "stream",
     "text": [
      "/var/folders/ts/wpzrly5j2yxb42zf5v0w5rvh0000gs/T/ipykernel_56114/3145559249.py:33: UserWarning: This figure includes Axes that are not compatible with tight_layout, so results might be incorrect.\n",
      "  plt.tight_layout()\n",
      "The PostScript backend does not support transparency; partially transparent artists will be rendered opaque.\n"
     ]
    },
    {
     "name": "stdout",
     "output_type": "stream",
     "text": [
      "Saving diagnostic plots to bh_dir : /Volumes/UCDN/datasets/IDM/utility/23_IDM_0135/cdd/bh\n"
     ]
    },
    {
     "name": "stderr",
     "output_type": "stream",
     "text": [
      "/var/folders/ts/wpzrly5j2yxb42zf5v0w5rvh0000gs/T/ipykernel_56114/3145559249.py:33: UserWarning: This figure includes Axes that are not compatible with tight_layout, so results might be incorrect.\n",
      "  plt.tight_layout()\n",
      "The PostScript backend does not support transparency; partially transparent artists will be rendered opaque.\n"
     ]
    },
    {
     "name": "stdout",
     "output_type": "stream",
     "text": [
      "Saving diagnostic plots to bh_dir : /Volumes/UCDN/datasets/IDM/utility/23_IDM_0136/cdd/bh\n"
     ]
    },
    {
     "name": "stderr",
     "output_type": "stream",
     "text": [
      "/var/folders/ts/wpzrly5j2yxb42zf5v0w5rvh0000gs/T/ipykernel_56114/3145559249.py:33: UserWarning: This figure includes Axes that are not compatible with tight_layout, so results might be incorrect.\n",
      "  plt.tight_layout()\n",
      "The PostScript backend does not support transparency; partially transparent artists will be rendered opaque.\n"
     ]
    },
    {
     "name": "stdout",
     "output_type": "stream",
     "text": [
      "Saving diagnostic plots to bh_dir : /Volumes/UCDN/datasets/IDM/utility/23_IDM_0137/cdd/bh\n"
     ]
    },
    {
     "name": "stderr",
     "output_type": "stream",
     "text": [
      "/var/folders/ts/wpzrly5j2yxb42zf5v0w5rvh0000gs/T/ipykernel_56114/3145559249.py:33: UserWarning: This figure includes Axes that are not compatible with tight_layout, so results might be incorrect.\n",
      "  plt.tight_layout()\n",
      "The PostScript backend does not support transparency; partially transparent artists will be rendered opaque.\n"
     ]
    },
    {
     "name": "stdout",
     "output_type": "stream",
     "text": [
      "Saving diagnostic plots to bh_dir : /Volumes/UCDN/datasets/IDM/utility/23_IDM_0138/cdd/bh\n"
     ]
    },
    {
     "name": "stderr",
     "output_type": "stream",
     "text": [
      "/var/folders/ts/wpzrly5j2yxb42zf5v0w5rvh0000gs/T/ipykernel_56114/3145559249.py:33: UserWarning: This figure includes Axes that are not compatible with tight_layout, so results might be incorrect.\n",
      "  plt.tight_layout()\n",
      "The PostScript backend does not support transparency; partially transparent artists will be rendered opaque.\n"
     ]
    },
    {
     "name": "stdout",
     "output_type": "stream",
     "text": [
      "Saving diagnostic plots to bh_dir : /Volumes/UCDN/datasets/IDM/utility/23_IDM_0139/cdd/bh\n"
     ]
    },
    {
     "name": "stderr",
     "output_type": "stream",
     "text": [
      "/var/folders/ts/wpzrly5j2yxb42zf5v0w5rvh0000gs/T/ipykernel_56114/3145559249.py:33: UserWarning: This figure includes Axes that are not compatible with tight_layout, so results might be incorrect.\n",
      "  plt.tight_layout()\n",
      "The PostScript backend does not support transparency; partially transparent artists will be rendered opaque.\n"
     ]
    },
    {
     "name": "stdout",
     "output_type": "stream",
     "text": [
      "Saving diagnostic plots to bh_dir : /Volumes/UCDN/datasets/IDM/utility/23_IDM_0140/cdd/bh\n"
     ]
    },
    {
     "name": "stderr",
     "output_type": "stream",
     "text": [
      "/var/folders/ts/wpzrly5j2yxb42zf5v0w5rvh0000gs/T/ipykernel_56114/3145559249.py:33: UserWarning: This figure includes Axes that are not compatible with tight_layout, so results might be incorrect.\n",
      "  plt.tight_layout()\n",
      "The PostScript backend does not support transparency; partially transparent artists will be rendered opaque.\n"
     ]
    },
    {
     "name": "stdout",
     "output_type": "stream",
     "text": [
      "Saving diagnostic plots to bh_dir : /Volumes/UCDN/datasets/IDM/utility/23_IDM_0141/cdd/bh\n"
     ]
    },
    {
     "name": "stderr",
     "output_type": "stream",
     "text": [
      "/var/folders/ts/wpzrly5j2yxb42zf5v0w5rvh0000gs/T/ipykernel_56114/3145559249.py:33: UserWarning: This figure includes Axes that are not compatible with tight_layout, so results might be incorrect.\n",
      "  plt.tight_layout()\n",
      "The PostScript backend does not support transparency; partially transparent artists will be rendered opaque.\n"
     ]
    },
    {
     "name": "stdout",
     "output_type": "stream",
     "text": [
      "Saving diagnostic plots to bh_dir : /Volumes/UCDN/datasets/IDM/utility/23_IDM_0142/cdd/bh\n"
     ]
    },
    {
     "name": "stderr",
     "output_type": "stream",
     "text": [
      "/var/folders/ts/wpzrly5j2yxb42zf5v0w5rvh0000gs/T/ipykernel_56114/3145559249.py:33: UserWarning: This figure includes Axes that are not compatible with tight_layout, so results might be incorrect.\n",
      "  plt.tight_layout()\n"
     ]
    },
    {
     "name": "stdout",
     "output_type": "stream",
     "text": [
      "Saving diagnostic plots to bh_dir : /Volumes/UCDN/datasets/IDM/utility/23_IDM_0143/cdd/bh\n"
     ]
    },
    {
     "name": "stderr",
     "output_type": "stream",
     "text": [
      "The PostScript backend does not support transparency; partially transparent artists will be rendered opaque.\n",
      "/var/folders/ts/wpzrly5j2yxb42zf5v0w5rvh0000gs/T/ipykernel_56114/3145559249.py:33: UserWarning: This figure includes Axes that are not compatible with tight_layout, so results might be incorrect.\n",
      "  plt.tight_layout()\n",
      "The PostScript backend does not support transparency; partially transparent artists will be rendered opaque.\n"
     ]
    },
    {
     "name": "stdout",
     "output_type": "stream",
     "text": [
      "Saving diagnostic plots to bh_dir : /Volumes/UCDN/datasets/IDM/utility/23_IDM_0144/cdd/bh\n"
     ]
    },
    {
     "name": "stderr",
     "output_type": "stream",
     "text": [
      "/var/folders/ts/wpzrly5j2yxb42zf5v0w5rvh0000gs/T/ipykernel_56114/3145559249.py:33: UserWarning: This figure includes Axes that are not compatible with tight_layout, so results might be incorrect.\n",
      "  plt.tight_layout()\n",
      "The PostScript backend does not support transparency; partially transparent artists will be rendered opaque.\n"
     ]
    },
    {
     "name": "stdout",
     "output_type": "stream",
     "text": [
      "Saving diagnostic plots to bh_dir : /Volumes/UCDN/datasets/IDM/utility/23_IDM_0145/cdd/bh\n"
     ]
    },
    {
     "name": "stderr",
     "output_type": "stream",
     "text": [
      "/var/folders/ts/wpzrly5j2yxb42zf5v0w5rvh0000gs/T/ipykernel_56114/3145559249.py:33: UserWarning: This figure includes Axes that are not compatible with tight_layout, so results might be incorrect.\n",
      "  plt.tight_layout()\n",
      "The PostScript backend does not support transparency; partially transparent artists will be rendered opaque.\n"
     ]
    },
    {
     "name": "stdout",
     "output_type": "stream",
     "text": [
      "Saving diagnostic plots to bh_dir : /Volumes/UCDN/datasets/IDM/utility/23_IDM_0146/cdd/bh\n"
     ]
    },
    {
     "name": "stderr",
     "output_type": "stream",
     "text": [
      "/var/folders/ts/wpzrly5j2yxb42zf5v0w5rvh0000gs/T/ipykernel_56114/3145559249.py:33: UserWarning: This figure includes Axes that are not compatible with tight_layout, so results might be incorrect.\n",
      "  plt.tight_layout()\n",
      "The PostScript backend does not support transparency; partially transparent artists will be rendered opaque.\n"
     ]
    },
    {
     "name": "stdout",
     "output_type": "stream",
     "text": [
      "Saving diagnostic plots to bh_dir : /Volumes/UCDN/datasets/IDM/utility/23_IDM_0147/cdd/bh\n"
     ]
    },
    {
     "name": "stderr",
     "output_type": "stream",
     "text": [
      "/var/folders/ts/wpzrly5j2yxb42zf5v0w5rvh0000gs/T/ipykernel_56114/3145559249.py:33: UserWarning: This figure includes Axes that are not compatible with tight_layout, so results might be incorrect.\n",
      "  plt.tight_layout()\n",
      "The PostScript backend does not support transparency; partially transparent artists will be rendered opaque.\n"
     ]
    },
    {
     "name": "stdout",
     "output_type": "stream",
     "text": [
      "Saving diagnostic plots to bh_dir : /Volumes/UCDN/datasets/IDM/utility/23_IDM_0148/cdd/bh\n"
     ]
    },
    {
     "name": "stderr",
     "output_type": "stream",
     "text": [
      "/var/folders/ts/wpzrly5j2yxb42zf5v0w5rvh0000gs/T/ipykernel_56114/3145559249.py:33: UserWarning: This figure includes Axes that are not compatible with tight_layout, so results might be incorrect.\n",
      "  plt.tight_layout()\n",
      "The PostScript backend does not support transparency; partially transparent artists will be rendered opaque.\n"
     ]
    },
    {
     "name": "stdout",
     "output_type": "stream",
     "text": [
      "Saving diagnostic plots to bh_dir : /Volumes/UCDN/datasets/IDM/utility/23_IDM_0149/cdd/bh\n"
     ]
    },
    {
     "name": "stderr",
     "output_type": "stream",
     "text": [
      "/var/folders/ts/wpzrly5j2yxb42zf5v0w5rvh0000gs/T/ipykernel_56114/3145559249.py:33: UserWarning: This figure includes Axes that are not compatible with tight_layout, so results might be incorrect.\n",
      "  plt.tight_layout()\n"
     ]
    }
   ],
   "source": [
    "for s in set(subj_id):\n",
    "    coords={'kappa_dim_0': [s],'gamma_dim_0':[s]}\n",
    "    diganostic_plots(trace_prior,experiment=experiment,utility_dir=utility_dir,subject=subjects[s],coords=coords,var_names=['kappa','gamma'],figsize=(10,10))\n"
   ]
  }
 ],
 "metadata": {
  "kernelspec": {
   "display_name": "Python 3.9.12 ('base')",
   "language": "python",
   "name": "python3"
  },
  "language_info": {
   "codemirror_mode": {
    "name": "ipython",
    "version": 3
   },
   "file_extension": ".py",
   "mimetype": "text/x-python",
   "name": "python",
   "nbconvert_exporter": "python",
   "pygments_lexer": "ipython3",
   "version": "3.9.16"
  },
  "orig_nbformat": 4,
  "vscode": {
   "interpreter": {
    "hash": "09d5eda77765311109b2c027e144dcf58f89dd96008cdf29c2e6b03e99df71a0"
   }
  }
 },
 "nbformat": 4,
 "nbformat_minor": 2
}
