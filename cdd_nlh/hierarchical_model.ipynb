{
 "cells": [
  {
   "cell_type": "markdown",
   "metadata": {},
   "source": [
    "# Bayesian parameter estimation \n",
    "\n",
    "Written for CDD nonlinear hyperbolic (NLH, alpha estimated from CRDM) task as part of the IDM dataset collected online with Mturk\n",
    "\n",
    "Extended to work for all datasets"
   ]
  },
  {
   "cell_type": "markdown",
   "metadata": {},
   "source": [
    "### Import modules, libraries, etc"
   ]
  },
  {
   "cell_type": "code",
   "execution_count": 31,
   "metadata": {},
   "outputs": [],
   "source": [
    "# Built-in/Generic Imports\n",
    "import os,sys\n",
    "import glob\n",
    "import time\n",
    "\n",
    "# Libs\n",
    "import numpy as np\n",
    "import pandas as pd\n",
    "import pymc as pm\n",
    "import arviz as az\n",
    "import matplotlib.pyplot as plt\n",
    "import pickle\n",
    "pd.options.display.max_rows = 999\n",
    "pd.options.display.max_columns = 99\n",
    "\n",
    "import logging\n",
    "logger = logging.getLogger(\"pymc\")\n",
    "logger.setLevel(logging.ERROR)\n",
    "\n",
    "# explicitly use a path to let the script know where the IDM_model is located to import model_functions\n",
    "parent = '/Users/pizarror/IDM'\n",
    "# adding the parent directory to the sys.path.\n",
    "sys.path.append(parent)\n",
    "from IDM_model.src import model_functions as mf"
   ]
  },
  {
   "cell_type": "markdown",
   "metadata": {},
   "source": [
    "### Diagnostic plots\n",
    "\n",
    "Run `diagnistic_plots()` individually by subject :: trace, posterior, bivariate densities, rank plots"
   ]
  },
  {
   "cell_type": "code",
   "execution_count": 32,
   "metadata": {},
   "outputs": [],
   "source": [
    "def diganostic_plots(trace,experiment='experiment',utility_dir='/tmp/',subject='23_IDM_0001',task='cdd_nlh',coords={},var_names=['kappa','gamma'],figsize=(10,10)):\n",
    "\n",
    "    bh_dir = os.path.join(utility_dir,subject,task,'bh')\n",
    "    if not os.path.exists(bh_dir):\n",
    "        os.makedirs(bh_dir)\n",
    "    print('Saving diagnostic plots to bh_dir : {}'.format(bh_dir))\n",
    "\n",
    "    title_dict = {'fontsize':15}\n",
    "\n",
    "    # 2by2 : rows 2 varialbes, cols 2 for distribution and sampled values\n",
    "    axes = az.plot_trace(trace, var_names=var_names,coords=coords,compact=False)\n",
    "    for r in range(axes.shape[0]):\n",
    "        for c in range(axes.shape[1]):\n",
    "            axes[r,c].set_title('{}: {}'.format(subject,var_names[r]))\n",
    "    plt.tight_layout()\n",
    "    fig_fn = os.path.join(bh_dir,'{}_{}_trace_plot.{}.eps'.format(subject,task,experiment))\n",
    "    plt.savefig(fig_fn,format='eps')\n",
    "    plt.close()\n",
    "    \n",
    "    axes = az.plot_pair(trace,kind='kde', coords=coords,var_names=var_names,marginals=True)\n",
    "    axes[0,0].set_title(subject,fontdict=title_dict)\n",
    "    axes[1,0].set_ylabel(var_names[1])\n",
    "    axes[1,0].set_xlabel(var_names[0])\n",
    "    plt.tight_layout()\n",
    "    fig_fn = os.path.join(bh_dir,'{}_{}_bivariate_densities.{}.eps'.format(subject,task,experiment))\n",
    "    plt.savefig(fig_fn,format='eps')\n",
    "    plt.close()\n",
    "    \n",
    "    axes = az.plot_posterior(trace,var_names=var_names,coords=coords)\n",
    "    # print(axes.shape)\n",
    "    for c in range(axes.shape[0]):\n",
    "        axes[c].set_title('{}: {}'.format(subject,var_names[c]),fontdict=title_dict)\n",
    "    fig_fn = os.path.join(bh_dir,'{}_{}_posterior.{}.eps'.format(subject,task,experiment))\n",
    "    plt.savefig(fig_fn,format='eps')\n",
    "    plt.close()\n",
    "\n",
    "    fig, axes = plt.subplots(1,len(var_names), figsize=figsize)\n",
    "    az.plot_rank(trace,var_names=var_names,coords=coords,ax=axes)\n",
    "    for c in range(axes.shape[0]):\n",
    "        axes[c].set_title('{}: {}'.format(subject,var_names[c]),fontdict=title_dict)\n",
    "    fig.tight_layout()\n",
    "    fig_fn = os.path.join(bh_dir,'{}_{}_rank_plot_bars.{}.eps'.format(subject,task,experiment))\n",
    "    plt.savefig(fig_fn,format='eps')\n",
    "    plt.close()\n",
    "\n",
    "    fig, axes = plt.subplots(1,len(var_names), figsize=figsize)\n",
    "    axes = az.plot_rank(trace,var_names=var_names, coords=coords,kind=\"vlines\",vlines_kwargs={'lw':0}, marker_vlines_kwargs={'lw':3},ax=axes)\n",
    "    for c in range(axes.shape[0]):\n",
    "        axes[c].set_title('{}: {}'.format(subject,var_names[c]),fontdict=title_dict)\n",
    "    fig.tight_layout()\n",
    "    fig_fn = os.path.join(bh_dir,'{}_{}_rank_plot_lines.{}.eps'.format(subject,task,experiment))\n",
    "    plt.savefig(fig_fn,format='eps')\n",
    "    plt.close()\n",
    "\n",
    "\n"
   ]
  },
  {
   "cell_type": "markdown",
   "metadata": {},
   "source": [
    "### Load data\n",
    "\n",
    "We will load the data from all participants so we can run the modeling schema"
   ]
  },
  {
   "cell_type": "code",
   "execution_count": 33,
   "metadata": {},
   "outputs": [],
   "source": [
    "def read_load_data(subject='23_IDM_0144',fn='/tmp',alpha0=1.0,cols=[]):\n",
    "    cdd_df = pd.read_csv(fn)\n",
    "    task='cdd'\n",
    "    cdd_df,response_rate = mf.drop_non_responses(cdd_df,task=task,verbose=False) \n",
    "    cdd_df = mf.drop_pract(cdd_df,task=task)\n",
    "    data = mf.get_data(cdd_df,cols,alpha_hat=alpha0)[0]\n",
    "    data['subject'] = subject\n",
    "    return data \n",
    "\n",
    "def get_alpha(utility_dir,subject=''):\n",
    "    split_crdm_bhm_fn = os.path.join(utility_dir,'BHM/split_CRDM_BHM_gain.csv')\n",
    "    crdm_bhm_df = pd.read_csv(split_crdm_bhm_fn)\n",
    "    if subject in crdm_bhm_df['subject'].values:\n",
    "        try:\n",
    "            display()\n",
    "            alpha = crdm_bhm_df.loc[crdm_bhm_df['subject']==subject,'alpha'].iloc[0]\n",
    "        except ValueError:\n",
    "            print('ValueError: likely subject not found under CRDM, will use alpha = 1.0')\n",
    "            alpha = 1.0\n",
    "    else:\n",
    "        print('Could not find alpha for subject : {}'.format(subject))\n",
    "        alpha = 1.0\n",
    "    return alpha\n",
    "\n",
    "def dirs_and_data(root_dir='/tmp',dataset='IDM'):\n",
    "\n",
    "    dataset_dir = os.path.join(root_dir,dataset)\n",
    "    split_dir = os.path.join(dataset_dir,'split')\n",
    "    utility_dir = os.path.join(dataset_dir,'utility')\n",
    "    save_dir = os.path.join(utility_dir,'BHM/cdd_nlh')\n",
    "    if not os.path.exists(save_dir):\n",
    "        os.makedirs(save_dir)\n",
    "\n",
    "    # Takes about 10 seconds for 149 subjects form Mturk data\n",
    "    task = 'cdd'\n",
    "    subjs = sorted(glob.glob(os.path.join(split_dir,'*')))\n",
    "    cols = ['cdd_choice','cdd_immed_amt','cdd_delay_amt','cdd_immed_wait','cdd_delay_wait','alpha']\n",
    "    data = pd.DataFrame(columns=['subject']+cols)\n",
    "    subj_id = 0\n",
    "    for s in subjs:\n",
    "        subject = os.path.basename(s)\n",
    "        fn  = os.path.join(s,task,'{}_{}.csv'.format(os.path.basename(s),task))\n",
    "        if os.path.exists(fn):\n",
    "            alpha = get_alpha(utility_dir,subject=subject)\n",
    "            subj_data = read_load_data(subject=subject,fn=fn,alpha0=alpha,cols=cols)\n",
    "            if subj_data.empty:\n",
    "                continue\n",
    "            for c in cols:\n",
    "                subj_data[c] = subj_data[c].astype(float)        \n",
    "            subj_data['subject_id'] = int(subj_id)\n",
    "            subj_id = subj_id+1\n",
    "            data = pd.concat([data,subj_data],ignore_index=True)\n",
    "\n",
    "    return utility_dir,save_dir,data\n",
    "\n",
    "def extract_cols(data):\n",
    "    subjects = data['subject'].unique()\n",
    "    # nb_subj = subjects.shape[0]\n",
    "    # nb_trials = data.shape[0]//nb_subj\n",
    "    subj_id_list = data['subject_id'].to_list()\n",
    "    subj_id = [int(s) for s in subj_id_list]\n",
    "    # old_id = np.array([ [s]*nb_trials for s in range(nb_subj) ]).flatten()\n",
    "\n",
    "    delay_amt = data['cdd_delay_amt'].values\n",
    "    delay_wait = data['cdd_delay_wait'].values\n",
    "    immed_amt = data['cdd_immed_amt'].values\n",
    "    immed_wait = data['cdd_immed_wait'].values\n",
    "    alpha = data['alpha'].values\n",
    "    choices = data['cdd_choice'].values\n",
    "\n",
    "    return subjects,subj_id,delay_amt,delay_wait,immed_amt,immed_wait,alpha,choices"
   ]
  },
  {
   "cell_type": "code",
   "execution_count": 34,
   "metadata": {},
   "outputs": [],
   "source": [
    "# Takes about 10 seconds\n",
    "\n",
    "# we will change this when we change utility to 1st level analysis (or split)\n",
    "# split_dir = '/Volumes/UCDN/datasets/IDM/split/'\n",
    "# utility_dir = '/Volumes/UCDN/datasets/IDM/utility/'\n",
    "# save_dir = '/Volumes/UCDN/datasets/IDM/utility/BHM/cdd_nlh/'\n",
    "# subjs = sorted(glob.glob(os.path.join(split_dir,'23_IDM_*')))\n",
    "# task = 'cdd'\n",
    "# cols = ['cdd_choice','cdd_immed_amt','cdd_delay_amt','cdd_immed_wait','cdd_delay_wait','alpha']\n",
    "# data = pd.DataFrame(columns=['subject']+cols)\n",
    "\n",
    "# for subj_id,s in enumerate(subjs):\n",
    "#     subject = os.path.basename(s)\n",
    "#     fn  = os.path.join(s,task,'{}_{}.csv'.format(os.path.basename(s),task))\n",
    "#     if os.path.exists(fn):\n",
    "#         alpha = get_alpha(utility_dir,subject=subject)\n",
    "#         subj_data = read_load_data(subject=subject,fn=fn,alpha0=alpha,cols=cols)\n",
    "#         for c in cols:\n",
    "#             subj_data[c] = subj_data[c].astype(float)        \n",
    "#         subj_data['subject_id'] = int(subj_id)\n",
    "#         data = pd.concat([data,subj_data],ignore_index=True)\n",
    "\n",
    "# data.head(10)\n",
    "\n",
    "\n",
    "# subjects = data['subject'].unique()\n",
    "# nb_subj = subjects.shape[0]\n",
    "# nb_trials = data.shape[0]//nb_subj\n",
    "# subj_id_list = data['subject_id'].to_list()\n",
    "# subj_id = [int(s) for s in subj_id_list]\n",
    "\n",
    "# # subj_id = data['subject'].to_list()\n",
    "\n",
    "# old_id = np.array([ [s]*nb_trials for s in range(nb_subj) ]).flatten()\n",
    "\n",
    "# delay_amt = data['cdd_delay_amt'].values\n",
    "# delay_wait = data['cdd_delay_wait'].values\n",
    "# immed_amt = data['cdd_immed_amt'].values\n",
    "# immed_wait = data['cdd_immed_wait'].values\n",
    "# alpha = data['alpha'].values\n",
    "# choices = data['cdd_choice'].values\n"
   ]
  },
  {
   "cell_type": "markdown",
   "metadata": {},
   "source": [
    "### Bayesian Hierarchical Model\n",
    "\n",
    "Choice of prior distribution and parameters used to define were developed under cdd :: `parameter_receovery.ipynb`\n"
   ]
  },
  {
   "cell_type": "code",
   "execution_count": 35,
   "metadata": {},
   "outputs": [],
   "source": [
    "# This is the meat of the script that is used to estimate the parameters of the BHM \n",
    "\n",
    "def run_BHM(save_dir,experiment,data):\n",
    "\n",
    "    subjects,subj_id,delay_amt,delay_wait,immed_amt,immed_wait,alpha,choices =  extract_cols(data)\n",
    "\n",
    "    tStep1 = time.time()\n",
    "\n",
    "    # We will fit a model for each subject\n",
    "    with pm.Model() as model_simple:\n",
    "\n",
    "        # Hyperparameters for kappa and gamma\n",
    "        # estimated from MLE approximations : np.exp(-3.60) = 0.0273, np.sqrt(1.71)=1.308\n",
    "        mu_kappa_hyper = pm.Beta('mu_kappa_hyper',mu=np.exp(-3.60),sigma=0.01)\n",
    "        sd_kappa_hyper = pm.Normal('sd_kappa_hyper',mu=np.sqrt(1.71),sigma=0.1)\n",
    "        # estimated from MLE approximations : np.sqrt(2.30) = 1.517\n",
    "        sd_gamma_hyper = pm.Normal('sd_hyper',mu=np.sqrt(2.30),sigma=0.1)\n",
    "\n",
    "        kappa = pm.LogNormal('kappa',mu=mu_kappa_hyper,sigma=sd_kappa_hyper,shape=np.size(np.unique(subj_id)))\n",
    "        gamma = pm.HalfNormal('gamma',sigma=sd_gamma_hyper,shape=np.size(np.unique(subj_id)))\n",
    "        \n",
    "        prob = pm.Deterministic('prob', 1 / (1 + pm.math.exp(-gamma[subj_id] * ( (delay_amt**alpha[subj_id])/(1+(kappa[subj_id]*delay_wait)) \n",
    "                                                                                - (immed_amt**alpha[subj_id])/(1+(kappa[subj_id]*immed_wait)) ))))\n",
    "\n",
    "        y_1 = pm.Bernoulli('y_1',p=prob,observed=choices)\n",
    "\n",
    "        trace_prior = pm.sample(10000, tune=1000, cores=5,target_accept=0.99,progressbar=True)\n",
    "\n",
    "\n",
    "    # This is how you get a nice array. Note that this returns a pandas DataFrame, not a numpy array. Indexing is totally different.\n",
    "    summary= az.summary(trace_prior,round_to=10)\n",
    "    fn = os.path.join(save_dir,'BHM_model_summary_{}.csv'.format(experiment))\n",
    "    print('Saving to : {}'.format(fn))\n",
    "    summary.to_csv(fn)\n",
    "\n",
    "    fn = os.path.join(save_dir,'BHM_model_trace_{}.pkl'.format(experiment))\n",
    "    print('Saving to : {}'.format(fn))\n",
    "    with open(fn,'wb') as buff:\n",
    "        pickle.dump({'trace':trace_prior},buff)\n",
    "        # pm.save_trace(trace_prior,fn)\n",
    "\n",
    "    print('Time to complete {} aggregate BHM : {} minutes'.format(len(subjects),(time.time() - tStep1)/60.0))\n",
    "    return trace_prior,subjects,subj_id\n",
    "\n",
    "# Extract parameter estimates and save\n",
    "def extract_mean(save_dir,var_names=['kappa','gamma'],subjects=[],experiment='v004'):\n",
    "    fn = os.path.join(save_dir,'BHM_model_summary_{}.csv'.format(experiment))\n",
    "    nb_subjects = len(subjects)\n",
    "    df = pd.read_csv(fn,index_col=0)\n",
    "    df_bhm = pd.DataFrame([],columns=var_names)\n",
    "    df_bhm['subject'] = subjects\n",
    "    for var in var_names:\n",
    "        ind_list = ['{}[{}]'.format(var,sub_id) for sub_id in range(nb_subjects)]\n",
    "        df_bhm[var] = df.loc[df.index.isin(ind_list)]['mean'].reset_index(drop=True)\n",
    "\n",
    "    split_CDD_fn = os.path.join(os.path.dirname(save_dir),'split_CDD_nlh_BHM.csv')\n",
    "    print('Saving split BHM : {}'.format(split_CDD_fn))\n",
    "    df_bhm.to_csv(split_CDD_fn)\n",
    "    display(df_bhm)\n",
    "    \n",
    "    return df_bhm\n"
   ]
  },
  {
   "cell_type": "code",
   "execution_count": 36,
   "metadata": {},
   "outputs": [
    {
     "name": "stdout",
     "output_type": "stream",
     "text": [
      "Could not find alpha for subject : 23_SDM_0006_E\n",
      "Could not find alpha for subject : 23_SDM_0012_N\n",
      "Could not find alpha for subject : 23_SDM_0014_E\n"
     ]
    },
    {
     "data": {
      "text/html": [
       "\n",
       "<style>\n",
       "    /* Turns off some styling */\n",
       "    progress {\n",
       "        /* gets rid of default border in Firefox and Opera. */\n",
       "        border: none;\n",
       "        /* Needs to be in here for Safari polyfill so background images work as expected. */\n",
       "        background-size: auto;\n",
       "    }\n",
       "    progress:not([value]), progress:not([value])::-webkit-progress-bar {\n",
       "        background: repeating-linear-gradient(45deg, #7e7e7e, #7e7e7e 10px, #5c5c5c 10px, #5c5c5c 20px);\n",
       "    }\n",
       "    .progress-bar-interrupted, .progress-bar-interrupted::-webkit-progress-bar {\n",
       "        background: #F44336;\n",
       "    }\n",
       "</style>\n"
      ],
      "text/plain": [
       "<IPython.core.display.HTML object>"
      ]
     },
     "metadata": {},
     "output_type": "display_data"
    },
    {
     "data": {
      "text/html": [
       "\n",
       "    <div>\n",
       "      <progress value='55000' class='' max='55000' style='width:300px; height:20px; vertical-align: middle;'></progress>\n",
       "      100.00% [55000/55000 00:53&lt;00:00 Sampling 5 chains, 0 divergences]\n",
       "    </div>\n",
       "    "
      ],
      "text/plain": [
       "<IPython.core.display.HTML object>"
      ]
     },
     "metadata": {},
     "output_type": "display_data"
    },
    {
     "name": "stdout",
     "output_type": "stream",
     "text": [
      "Saving to : /Volumes/UCDN/datasets/SDM/utility/BHM/cdd_nlh/BHM_model_summary_v004.csv\n",
      "Saving to : /Volumes/UCDN/datasets/SDM/utility/BHM/cdd_nlh/BHM_model_trace_v004.pkl\n",
      "Time to complete 16 aggregate BHM : 2.109278452396393 minutes\n",
      "Saving split BHM : /Volumes/UCDN/datasets/SDM/utility/BHM/split_CDD_nlh_BHM.csv\n"
     ]
    },
    {
     "data": {
      "text/html": [
       "<div>\n",
       "<style scoped>\n",
       "    .dataframe tbody tr th:only-of-type {\n",
       "        vertical-align: middle;\n",
       "    }\n",
       "\n",
       "    .dataframe tbody tr th {\n",
       "        vertical-align: top;\n",
       "    }\n",
       "\n",
       "    .dataframe thead th {\n",
       "        text-align: right;\n",
       "    }\n",
       "</style>\n",
       "<table border=\"1\" class=\"dataframe\">\n",
       "  <thead>\n",
       "    <tr style=\"text-align: right;\">\n",
       "      <th></th>\n",
       "      <th>kappa</th>\n",
       "      <th>gamma</th>\n",
       "      <th>subject</th>\n",
       "    </tr>\n",
       "  </thead>\n",
       "  <tbody>\n",
       "    <tr>\n",
       "      <th>0</th>\n",
       "      <td>0.004878</td>\n",
       "      <td>0.614883</td>\n",
       "      <td>23_SDM_0001_N</td>\n",
       "    </tr>\n",
       "    <tr>\n",
       "      <th>1</th>\n",
       "      <td>0.002902</td>\n",
       "      <td>0.211473</td>\n",
       "      <td>23_SDM_0002_E</td>\n",
       "    </tr>\n",
       "    <tr>\n",
       "      <th>2</th>\n",
       "      <td>0.005634</td>\n",
       "      <td>0.244770</td>\n",
       "      <td>23_SDM_0002_N</td>\n",
       "    </tr>\n",
       "    <tr>\n",
       "      <th>3</th>\n",
       "      <td>0.016741</td>\n",
       "      <td>0.383130</td>\n",
       "      <td>23_SDM_0004_E</td>\n",
       "    </tr>\n",
       "    <tr>\n",
       "      <th>4</th>\n",
       "      <td>0.012072</td>\n",
       "      <td>0.526142</td>\n",
       "      <td>23_SDM_0004_N</td>\n",
       "    </tr>\n",
       "    <tr>\n",
       "      <th>5</th>\n",
       "      <td>0.016348</td>\n",
       "      <td>0.481437</td>\n",
       "      <td>23_SDM_0005_E</td>\n",
       "    </tr>\n",
       "    <tr>\n",
       "      <th>6</th>\n",
       "      <td>0.015996</td>\n",
       "      <td>0.348708</td>\n",
       "      <td>23_SDM_0005_N</td>\n",
       "    </tr>\n",
       "    <tr>\n",
       "      <th>7</th>\n",
       "      <td>0.024382</td>\n",
       "      <td>0.406561</td>\n",
       "      <td>23_SDM_0006_E</td>\n",
       "    </tr>\n",
       "    <tr>\n",
       "      <th>8</th>\n",
       "      <td>0.026856</td>\n",
       "      <td>0.353819</td>\n",
       "      <td>23_SDM_0006_N</td>\n",
       "    </tr>\n",
       "    <tr>\n",
       "      <th>9</th>\n",
       "      <td>0.001025</td>\n",
       "      <td>2.025326</td>\n",
       "      <td>23_SDM_0009_E</td>\n",
       "    </tr>\n",
       "    <tr>\n",
       "      <th>10</th>\n",
       "      <td>0.001023</td>\n",
       "      <td>2.025137</td>\n",
       "      <td>23_SDM_0009_N</td>\n",
       "    </tr>\n",
       "    <tr>\n",
       "      <th>11</th>\n",
       "      <td>0.001025</td>\n",
       "      <td>2.019513</td>\n",
       "      <td>23_SDM_0011_E</td>\n",
       "    </tr>\n",
       "    <tr>\n",
       "      <th>12</th>\n",
       "      <td>0.002174</td>\n",
       "      <td>0.360511</td>\n",
       "      <td>23_SDM_0011_N</td>\n",
       "    </tr>\n",
       "    <tr>\n",
       "      <th>13</th>\n",
       "      <td>0.001023</td>\n",
       "      <td>2.021985</td>\n",
       "      <td>23_SDM_0012_E</td>\n",
       "    </tr>\n",
       "    <tr>\n",
       "      <th>14</th>\n",
       "      <td>0.001026</td>\n",
       "      <td>2.024669</td>\n",
       "      <td>23_SDM_0012_N</td>\n",
       "    </tr>\n",
       "    <tr>\n",
       "      <th>15</th>\n",
       "      <td>0.007493</td>\n",
       "      <td>0.349730</td>\n",
       "      <td>23_SDM_0014_E</td>\n",
       "    </tr>\n",
       "  </tbody>\n",
       "</table>\n",
       "</div>"
      ],
      "text/plain": [
       "       kappa     gamma        subject\n",
       "0   0.004878  0.614883  23_SDM_0001_N\n",
       "1   0.002902  0.211473  23_SDM_0002_E\n",
       "2   0.005634  0.244770  23_SDM_0002_N\n",
       "3   0.016741  0.383130  23_SDM_0004_E\n",
       "4   0.012072  0.526142  23_SDM_0004_N\n",
       "5   0.016348  0.481437  23_SDM_0005_E\n",
       "6   0.015996  0.348708  23_SDM_0005_N\n",
       "7   0.024382  0.406561  23_SDM_0006_E\n",
       "8   0.026856  0.353819  23_SDM_0006_N\n",
       "9   0.001025  2.025326  23_SDM_0009_E\n",
       "10  0.001023  2.025137  23_SDM_0009_N\n",
       "11  0.001025  2.019513  23_SDM_0011_E\n",
       "12  0.002174  0.360511  23_SDM_0011_N\n",
       "13  0.001023  2.021985  23_SDM_0012_E\n",
       "14  0.001026  2.024669  23_SDM_0012_N\n",
       "15  0.007493  0.349730  23_SDM_0014_E"
      ]
     },
     "metadata": {},
     "output_type": "display_data"
    },
    {
     "name": "stdout",
     "output_type": "stream",
     "text": [
      "Saving diagnostic plots to bh_dir : /Volumes/UCDN/datasets/SDM/utility/23_SDM_0001_N/cdd_nlh/bh\n"
     ]
    },
    {
     "name": "stderr",
     "output_type": "stream",
     "text": [
      "The PostScript backend does not support transparency; partially transparent artists will be rendered opaque.\n",
      "/var/folders/ts/wpzrly5j2yxb42zf5v0w5rvh0000gs/T/ipykernel_45056/3555995754.py:24: UserWarning: This figure includes Axes that are not compatible with tight_layout, so results might be incorrect.\n",
      "  plt.tight_layout()\n",
      "The PostScript backend does not support transparency; partially transparent artists will be rendered opaque.\n"
     ]
    },
    {
     "name": "stdout",
     "output_type": "stream",
     "text": [
      "Saving diagnostic plots to bh_dir : /Volumes/UCDN/datasets/SDM/utility/23_SDM_0002_E/cdd_nlh/bh\n"
     ]
    },
    {
     "name": "stderr",
     "output_type": "stream",
     "text": [
      "/var/folders/ts/wpzrly5j2yxb42zf5v0w5rvh0000gs/T/ipykernel_45056/3555995754.py:24: UserWarning: This figure includes Axes that are not compatible with tight_layout, so results might be incorrect.\n",
      "  plt.tight_layout()\n",
      "The PostScript backend does not support transparency; partially transparent artists will be rendered opaque.\n"
     ]
    },
    {
     "name": "stdout",
     "output_type": "stream",
     "text": [
      "Saving diagnostic plots to bh_dir : /Volumes/UCDN/datasets/SDM/utility/23_SDM_0002_N/cdd_nlh/bh\n"
     ]
    },
    {
     "name": "stderr",
     "output_type": "stream",
     "text": [
      "/var/folders/ts/wpzrly5j2yxb42zf5v0w5rvh0000gs/T/ipykernel_45056/3555995754.py:24: UserWarning: This figure includes Axes that are not compatible with tight_layout, so results might be incorrect.\n",
      "  plt.tight_layout()\n",
      "The PostScript backend does not support transparency; partially transparent artists will be rendered opaque.\n"
     ]
    },
    {
     "name": "stdout",
     "output_type": "stream",
     "text": [
      "Saving diagnostic plots to bh_dir : /Volumes/UCDN/datasets/SDM/utility/23_SDM_0004_E/cdd_nlh/bh\n"
     ]
    },
    {
     "name": "stderr",
     "output_type": "stream",
     "text": [
      "/var/folders/ts/wpzrly5j2yxb42zf5v0w5rvh0000gs/T/ipykernel_45056/3555995754.py:24: UserWarning: This figure includes Axes that are not compatible with tight_layout, so results might be incorrect.\n",
      "  plt.tight_layout()\n",
      "The PostScript backend does not support transparency; partially transparent artists will be rendered opaque.\n"
     ]
    },
    {
     "name": "stdout",
     "output_type": "stream",
     "text": [
      "Saving diagnostic plots to bh_dir : /Volumes/UCDN/datasets/SDM/utility/23_SDM_0004_N/cdd_nlh/bh\n"
     ]
    },
    {
     "name": "stderr",
     "output_type": "stream",
     "text": [
      "/var/folders/ts/wpzrly5j2yxb42zf5v0w5rvh0000gs/T/ipykernel_45056/3555995754.py:24: UserWarning: This figure includes Axes that are not compatible with tight_layout, so results might be incorrect.\n",
      "  plt.tight_layout()\n",
      "The PostScript backend does not support transparency; partially transparent artists will be rendered opaque.\n"
     ]
    },
    {
     "name": "stdout",
     "output_type": "stream",
     "text": [
      "Saving diagnostic plots to bh_dir : /Volumes/UCDN/datasets/SDM/utility/23_SDM_0005_E/cdd_nlh/bh\n"
     ]
    },
    {
     "name": "stderr",
     "output_type": "stream",
     "text": [
      "/var/folders/ts/wpzrly5j2yxb42zf5v0w5rvh0000gs/T/ipykernel_45056/3555995754.py:24: UserWarning: This figure includes Axes that are not compatible with tight_layout, so results might be incorrect.\n",
      "  plt.tight_layout()\n",
      "The PostScript backend does not support transparency; partially transparent artists will be rendered opaque.\n"
     ]
    },
    {
     "name": "stdout",
     "output_type": "stream",
     "text": [
      "Saving diagnostic plots to bh_dir : /Volumes/UCDN/datasets/SDM/utility/23_SDM_0005_N/cdd_nlh/bh\n"
     ]
    },
    {
     "name": "stderr",
     "output_type": "stream",
     "text": [
      "/var/folders/ts/wpzrly5j2yxb42zf5v0w5rvh0000gs/T/ipykernel_45056/3555995754.py:24: UserWarning: This figure includes Axes that are not compatible with tight_layout, so results might be incorrect.\n",
      "  plt.tight_layout()\n",
      "The PostScript backend does not support transparency; partially transparent artists will be rendered opaque.\n"
     ]
    },
    {
     "name": "stdout",
     "output_type": "stream",
     "text": [
      "Saving diagnostic plots to bh_dir : /Volumes/UCDN/datasets/SDM/utility/23_SDM_0006_E/cdd_nlh/bh\n"
     ]
    },
    {
     "name": "stderr",
     "output_type": "stream",
     "text": [
      "/var/folders/ts/wpzrly5j2yxb42zf5v0w5rvh0000gs/T/ipykernel_45056/3555995754.py:24: UserWarning: This figure includes Axes that are not compatible with tight_layout, so results might be incorrect.\n",
      "  plt.tight_layout()\n",
      "The PostScript backend does not support transparency; partially transparent artists will be rendered opaque.\n"
     ]
    },
    {
     "name": "stdout",
     "output_type": "stream",
     "text": [
      "Saving diagnostic plots to bh_dir : /Volumes/UCDN/datasets/SDM/utility/23_SDM_0006_N/cdd_nlh/bh\n"
     ]
    },
    {
     "name": "stderr",
     "output_type": "stream",
     "text": [
      "/var/folders/ts/wpzrly5j2yxb42zf5v0w5rvh0000gs/T/ipykernel_45056/3555995754.py:24: UserWarning: This figure includes Axes that are not compatible with tight_layout, so results might be incorrect.\n",
      "  plt.tight_layout()\n",
      "The PostScript backend does not support transparency; partially transparent artists will be rendered opaque.\n"
     ]
    },
    {
     "name": "stdout",
     "output_type": "stream",
     "text": [
      "Saving diagnostic plots to bh_dir : /Volumes/UCDN/datasets/SDM/utility/23_SDM_0009_E/cdd_nlh/bh\n"
     ]
    },
    {
     "name": "stderr",
     "output_type": "stream",
     "text": [
      "/var/folders/ts/wpzrly5j2yxb42zf5v0w5rvh0000gs/T/ipykernel_45056/3555995754.py:24: UserWarning: This figure includes Axes that are not compatible with tight_layout, so results might be incorrect.\n",
      "  plt.tight_layout()\n",
      "The PostScript backend does not support transparency; partially transparent artists will be rendered opaque.\n"
     ]
    },
    {
     "name": "stdout",
     "output_type": "stream",
     "text": [
      "Saving diagnostic plots to bh_dir : /Volumes/UCDN/datasets/SDM/utility/23_SDM_0009_N/cdd_nlh/bh\n"
     ]
    },
    {
     "name": "stderr",
     "output_type": "stream",
     "text": [
      "/var/folders/ts/wpzrly5j2yxb42zf5v0w5rvh0000gs/T/ipykernel_45056/3555995754.py:24: UserWarning: This figure includes Axes that are not compatible with tight_layout, so results might be incorrect.\n",
      "  plt.tight_layout()\n",
      "The PostScript backend does not support transparency; partially transparent artists will be rendered opaque.\n"
     ]
    },
    {
     "name": "stdout",
     "output_type": "stream",
     "text": [
      "Saving diagnostic plots to bh_dir : /Volumes/UCDN/datasets/SDM/utility/23_SDM_0011_E/cdd_nlh/bh\n"
     ]
    },
    {
     "name": "stderr",
     "output_type": "stream",
     "text": [
      "/var/folders/ts/wpzrly5j2yxb42zf5v0w5rvh0000gs/T/ipykernel_45056/3555995754.py:24: UserWarning: This figure includes Axes that are not compatible with tight_layout, so results might be incorrect.\n",
      "  plt.tight_layout()\n",
      "The PostScript backend does not support transparency; partially transparent artists will be rendered opaque.\n"
     ]
    },
    {
     "name": "stdout",
     "output_type": "stream",
     "text": [
      "Saving diagnostic plots to bh_dir : /Volumes/UCDN/datasets/SDM/utility/23_SDM_0011_N/cdd_nlh/bh\n"
     ]
    },
    {
     "name": "stderr",
     "output_type": "stream",
     "text": [
      "/var/folders/ts/wpzrly5j2yxb42zf5v0w5rvh0000gs/T/ipykernel_45056/3555995754.py:24: UserWarning: This figure includes Axes that are not compatible with tight_layout, so results might be incorrect.\n",
      "  plt.tight_layout()\n",
      "The PostScript backend does not support transparency; partially transparent artists will be rendered opaque.\n"
     ]
    },
    {
     "name": "stdout",
     "output_type": "stream",
     "text": [
      "Saving diagnostic plots to bh_dir : /Volumes/UCDN/datasets/SDM/utility/23_SDM_0012_E/cdd_nlh/bh\n"
     ]
    },
    {
     "name": "stderr",
     "output_type": "stream",
     "text": [
      "/var/folders/ts/wpzrly5j2yxb42zf5v0w5rvh0000gs/T/ipykernel_45056/3555995754.py:24: UserWarning: This figure includes Axes that are not compatible with tight_layout, so results might be incorrect.\n",
      "  plt.tight_layout()\n",
      "The PostScript backend does not support transparency; partially transparent artists will be rendered opaque.\n"
     ]
    },
    {
     "name": "stdout",
     "output_type": "stream",
     "text": [
      "Saving diagnostic plots to bh_dir : /Volumes/UCDN/datasets/SDM/utility/23_SDM_0012_N/cdd_nlh/bh\n"
     ]
    },
    {
     "name": "stderr",
     "output_type": "stream",
     "text": [
      "/var/folders/ts/wpzrly5j2yxb42zf5v0w5rvh0000gs/T/ipykernel_45056/3555995754.py:24: UserWarning: This figure includes Axes that are not compatible with tight_layout, so results might be incorrect.\n",
      "  plt.tight_layout()\n",
      "The PostScript backend does not support transparency; partially transparent artists will be rendered opaque.\n"
     ]
    },
    {
     "name": "stdout",
     "output_type": "stream",
     "text": [
      "Saving diagnostic plots to bh_dir : /Volumes/UCDN/datasets/SDM/utility/23_SDM_0014_E/cdd_nlh/bh\n"
     ]
    },
    {
     "name": "stderr",
     "output_type": "stream",
     "text": [
      "/var/folders/ts/wpzrly5j2yxb42zf5v0w5rvh0000gs/T/ipykernel_45056/3555995754.py:24: UserWarning: This figure includes Axes that are not compatible with tight_layout, so results might be incorrect.\n",
      "  plt.tight_layout()\n"
     ]
    }
   ],
   "source": [
    "# Set the paths needed to find the data and load\n",
    "\n",
    "# The user of the script can edit root_dir and dataset variables to get it to work for their dataset.\n",
    "# This script will work given the data is stored in the appropriate BIDS format in the split directory\n",
    "root_dir = '/Volumes/UCDN/datasets/'\n",
    "dataset = 'SDM'\n",
    "\n",
    "# log the BHM experiment version, in case we cahnge it in the future\n",
    "experiment='v004'\n",
    "\n",
    "utility_dir,save_dir,data = dirs_and_data(root_dir=root_dir,dataset=dataset)\n",
    "trace_prior,subjects,subj_id = run_BHM(save_dir,experiment,data)\n",
    "df_bhm = extract_mean(save_dir=save_dir,var_names=['kappa','gamma'],\n",
    "                        subjects=subjects,experiment=experiment)\n",
    "for s in set(subj_id):\n",
    "    coords={'kappa_dim_0': [s],'gamma_dim_0':[s]}\n",
    "    diganostic_plots(trace_prior,experiment=experiment,utility_dir=utility_dir,subject=subjects[s], \n",
    "                        task='cdd_nlh',coords=coords,var_names=['kappa','gamma'],figsize=(10,10))\n",
    "\n"
   ]
  }
 ],
 "metadata": {
  "kernelspec": {
   "display_name": "Python 3.9.12 ('base')",
   "language": "python",
   "name": "python3"
  },
  "language_info": {
   "codemirror_mode": {
    "name": "ipython",
    "version": 3
   },
   "file_extension": ".py",
   "mimetype": "text/x-python",
   "name": "python",
   "nbconvert_exporter": "python",
   "pygments_lexer": "ipython3",
   "version": "3.9.16"
  },
  "orig_nbformat": 4,
  "vscode": {
   "interpreter": {
    "hash": "09d5eda77765311109b2c027e144dcf58f89dd96008cdf29c2e6b03e99df71a0"
   }
  }
 },
 "nbformat": 4,
 "nbformat_minor": 2
}
